{
 "cells": [
  {
   "cell_type": "markdown",
   "id": "c52a1a6e",
   "metadata": {
    "papermill": {
     "duration": 0.009255,
     "end_time": "2024-09-25T16:41:43.211439",
     "exception": false,
     "start_time": "2024-09-25T16:41:43.202184",
     "status": "completed"
    },
    "tags": []
   },
   "source": [
    "# Import Libraries"
   ]
  },
  {
   "cell_type": "code",
   "execution_count": 1,
   "id": "7f9049cb",
   "metadata": {
    "execution": {
     "iopub.execute_input": "2024-09-25T16:41:43.229277Z",
     "iopub.status.busy": "2024-09-25T16:41:43.228976Z",
     "iopub.status.idle": "2024-09-25T16:41:57.222784Z",
     "shell.execute_reply": "2024-09-25T16:41:57.221960Z"
    },
    "papermill": {
     "duration": 14.00514,
     "end_time": "2024-09-25T16:41:57.225043",
     "exception": false,
     "start_time": "2024-09-25T16:41:43.219903",
     "status": "completed"
    },
    "tags": []
   },
   "outputs": [],
   "source": [
    "import pandas as pd\n",
    "import numpy as np\n",
    "import seaborn as sns\n",
    "import matplotlib.pyplot as plt\n",
    "%matplotlib inline\n",
    "sns.set_style('whitegrid')\n",
    "plt.style.use(\"fivethirtyeight\")\n",
    "\n",
    "from sklearn.preprocessing import MinMaxScaler\n",
    "\n",
    "from keras.models import Sequential\n",
    "from keras.layers import Dense, LSTM, Dropout\n",
    "from keras.callbacks import EarlyStopping\n",
    "\n",
    "import warnings\n",
    "warnings.filterwarnings('ignore')"
   ]
  },
  {
   "cell_type": "markdown",
   "id": "48c6691e",
   "metadata": {
    "papermill": {
     "duration": 0.008281,
     "end_time": "2024-09-25T16:41:57.242211",
     "exception": false,
     "start_time": "2024-09-25T16:41:57.233930",
     "status": "completed"
    },
    "tags": []
   },
   "source": [
    "# Explore Data"
   ]
  },
  {
   "cell_type": "code",
   "execution_count": 2,
   "id": "afe9d84f",
   "metadata": {
    "execution": {
     "iopub.execute_input": "2024-09-25T16:41:57.261646Z",
     "iopub.status.busy": "2024-09-25T16:41:57.261067Z",
     "iopub.status.idle": "2024-09-25T16:41:57.285159Z",
     "shell.execute_reply": "2024-09-25T16:41:57.284417Z"
    },
    "papermill": {
     "duration": 0.035472,
     "end_time": "2024-09-25T16:41:57.287110",
     "exception": false,
     "start_time": "2024-09-25T16:41:57.251638",
     "status": "completed"
    },
    "tags": []
   },
   "outputs": [],
   "source": [
    "data = pd.read_csv('/kaggle/input/bitcoin-prediction-dataset-bullrun/BTC_USD_Price_Prediction_Data.csv')"
   ]
  },
  {
   "cell_type": "code",
   "execution_count": 3,
   "id": "0baa94a3",
   "metadata": {
    "execution": {
     "iopub.execute_input": "2024-09-25T16:41:57.305152Z",
     "iopub.status.busy": "2024-09-25T16:41:57.304831Z",
     "iopub.status.idle": "2024-09-25T16:41:57.325876Z",
     "shell.execute_reply": "2024-09-25T16:41:57.325050Z"
    },
    "papermill": {
     "duration": 0.032277,
     "end_time": "2024-09-25T16:41:57.327763",
     "exception": false,
     "start_time": "2024-09-25T16:41:57.295486",
     "status": "completed"
    },
    "tags": []
   },
   "outputs": [
    {
     "data": {
      "text/html": [
       "<div>\n",
       "<style scoped>\n",
       "    .dataframe tbody tr th:only-of-type {\n",
       "        vertical-align: middle;\n",
       "    }\n",
       "\n",
       "    .dataframe tbody tr th {\n",
       "        vertical-align: top;\n",
       "    }\n",
       "\n",
       "    .dataframe thead th {\n",
       "        text-align: right;\n",
       "    }\n",
       "</style>\n",
       "<table border=\"1\" class=\"dataframe\">\n",
       "  <thead>\n",
       "    <tr style=\"text-align: right;\">\n",
       "      <th></th>\n",
       "      <th>Unnamed: 0</th>\n",
       "      <th>Currency</th>\n",
       "      <th>Date</th>\n",
       "      <th>Closing Price (USD)</th>\n",
       "      <th>24h Open (USD)</th>\n",
       "      <th>24h High (USD)</th>\n",
       "      <th>24h Low (USD)</th>\n",
       "    </tr>\n",
       "  </thead>\n",
       "  <tbody>\n",
       "    <tr>\n",
       "      <th>0</th>\n",
       "      <td>0</td>\n",
       "      <td>BTC</td>\n",
       "      <td>2014-03-14</td>\n",
       "      <td>124.65499</td>\n",
       "      <td>125.30466</td>\n",
       "      <td>125.75166</td>\n",
       "      <td>123.56349</td>\n",
       "    </tr>\n",
       "    <tr>\n",
       "      <th>1</th>\n",
       "      <td>1</td>\n",
       "      <td>BTC</td>\n",
       "      <td>2014-03-15</td>\n",
       "      <td>126.45500</td>\n",
       "      <td>124.65499</td>\n",
       "      <td>126.75850</td>\n",
       "      <td>124.63383</td>\n",
       "    </tr>\n",
       "    <tr>\n",
       "      <th>2</th>\n",
       "      <td>2</td>\n",
       "      <td>BTC</td>\n",
       "      <td>2014-03-16</td>\n",
       "      <td>109.58483</td>\n",
       "      <td>126.45500</td>\n",
       "      <td>126.66566</td>\n",
       "      <td>84.32833</td>\n",
       "    </tr>\n",
       "    <tr>\n",
       "      <th>3</th>\n",
       "      <td>3</td>\n",
       "      <td>BTC</td>\n",
       "      <td>2014-03-17</td>\n",
       "      <td>119.67466</td>\n",
       "      <td>109.58483</td>\n",
       "      <td>119.67500</td>\n",
       "      <td>108.05816</td>\n",
       "    </tr>\n",
       "    <tr>\n",
       "      <th>4</th>\n",
       "      <td>4</td>\n",
       "      <td>BTC</td>\n",
       "      <td>2014-03-18</td>\n",
       "      <td>122.33866</td>\n",
       "      <td>119.67466</td>\n",
       "      <td>122.93633</td>\n",
       "      <td>119.00566</td>\n",
       "    </tr>\n",
       "  </tbody>\n",
       "</table>\n",
       "</div>"
      ],
      "text/plain": [
       "   Unnamed: 0 Currency        Date  Closing Price (USD)  24h Open (USD)  \\\n",
       "0           0      BTC  2014-03-14            124.65499       125.30466   \n",
       "1           1      BTC  2014-03-15            126.45500       124.65499   \n",
       "2           2      BTC  2014-03-16            109.58483       126.45500   \n",
       "3           3      BTC  2014-03-17            119.67466       109.58483   \n",
       "4           4      BTC  2014-03-18            122.33866       119.67466   \n",
       "\n",
       "   24h High (USD)  24h Low (USD)  \n",
       "0       125.75166      123.56349  \n",
       "1       126.75850      124.63383  \n",
       "2       126.66566       84.32833  \n",
       "3       119.67500      108.05816  \n",
       "4       122.93633      119.00566  "
      ]
     },
     "execution_count": 3,
     "metadata": {},
     "output_type": "execute_result"
    }
   ],
   "source": [
    "data.head()"
   ]
  },
  {
   "cell_type": "code",
   "execution_count": 4,
   "id": "29fce104",
   "metadata": {
    "execution": {
     "iopub.execute_input": "2024-09-25T16:41:57.346316Z",
     "iopub.status.busy": "2024-09-25T16:41:57.346023Z",
     "iopub.status.idle": "2024-09-25T16:41:57.357223Z",
     "shell.execute_reply": "2024-09-25T16:41:57.356446Z"
    },
    "papermill": {
     "duration": 0.022543,
     "end_time": "2024-09-25T16:41:57.359154",
     "exception": false,
     "start_time": "2024-09-25T16:41:57.336611",
     "status": "completed"
    },
    "tags": []
   },
   "outputs": [
    {
     "data": {
      "text/html": [
       "<div>\n",
       "<style scoped>\n",
       "    .dataframe tbody tr th:only-of-type {\n",
       "        vertical-align: middle;\n",
       "    }\n",
       "\n",
       "    .dataframe tbody tr th {\n",
       "        vertical-align: top;\n",
       "    }\n",
       "\n",
       "    .dataframe thead th {\n",
       "        text-align: right;\n",
       "    }\n",
       "</style>\n",
       "<table border=\"1\" class=\"dataframe\">\n",
       "  <thead>\n",
       "    <tr style=\"text-align: right;\">\n",
       "      <th></th>\n",
       "      <th>Unnamed: 0</th>\n",
       "      <th>Currency</th>\n",
       "      <th>Date</th>\n",
       "      <th>Closing Price (USD)</th>\n",
       "      <th>24h Open (USD)</th>\n",
       "      <th>24h High (USD)</th>\n",
       "      <th>24h Low (USD)</th>\n",
       "    </tr>\n",
       "  </thead>\n",
       "  <tbody>\n",
       "    <tr>\n",
       "      <th>2782</th>\n",
       "      <td>2782</td>\n",
       "      <td>BTC</td>\n",
       "      <td>2021-10-25</td>\n",
       "      <td>49765.132082</td>\n",
       "      <td>49597.778891</td>\n",
       "      <td>51449.798576</td>\n",
       "      <td>46295.720180</td>\n",
       "    </tr>\n",
       "    <tr>\n",
       "      <th>2783</th>\n",
       "      <td>2783</td>\n",
       "      <td>BTC</td>\n",
       "      <td>2021-10-26</td>\n",
       "      <td>50033.693137</td>\n",
       "      <td>49718.354353</td>\n",
       "      <td>51579.312545</td>\n",
       "      <td>48945.346536</td>\n",
       "    </tr>\n",
       "    <tr>\n",
       "      <th>2784</th>\n",
       "      <td>2784</td>\n",
       "      <td>BTC</td>\n",
       "      <td>2021-10-27</td>\n",
       "      <td>47886.625255</td>\n",
       "      <td>49927.035067</td>\n",
       "      <td>50691.802950</td>\n",
       "      <td>47006.102292</td>\n",
       "    </tr>\n",
       "    <tr>\n",
       "      <th>2785</th>\n",
       "      <td>2785</td>\n",
       "      <td>BTC</td>\n",
       "      <td>2021-10-28</td>\n",
       "      <td>45605.615754</td>\n",
       "      <td>46806.537852</td>\n",
       "      <td>49671.414174</td>\n",
       "      <td>43869.638969</td>\n",
       "    </tr>\n",
       "    <tr>\n",
       "      <th>2786</th>\n",
       "      <td>2786</td>\n",
       "      <td>BTC</td>\n",
       "      <td>2021-10-29</td>\n",
       "      <td>43145.471291</td>\n",
       "      <td>46440.336570</td>\n",
       "      <td>46623.853437</td>\n",
       "      <td>42103.346430</td>\n",
       "    </tr>\n",
       "  </tbody>\n",
       "</table>\n",
       "</div>"
      ],
      "text/plain": [
       "      Unnamed: 0 Currency        Date  Closing Price (USD)  24h Open (USD)  \\\n",
       "2782        2782      BTC  2021-10-25         49765.132082    49597.778891   \n",
       "2783        2783      BTC  2021-10-26         50033.693137    49718.354353   \n",
       "2784        2784      BTC  2021-10-27         47886.625255    49927.035067   \n",
       "2785        2785      BTC  2021-10-28         45605.615754    46806.537852   \n",
       "2786        2786      BTC  2021-10-29         43145.471291    46440.336570   \n",
       "\n",
       "      24h High (USD)  24h Low (USD)  \n",
       "2782    51449.798576   46295.720180  \n",
       "2783    51579.312545   48945.346536  \n",
       "2784    50691.802950   47006.102292  \n",
       "2785    49671.414174   43869.638969  \n",
       "2786    46623.853437   42103.346430  "
      ]
     },
     "execution_count": 4,
     "metadata": {},
     "output_type": "execute_result"
    }
   ],
   "source": [
    "data.tail()"
   ]
  },
  {
   "cell_type": "code",
   "execution_count": 5,
   "id": "8f01399e",
   "metadata": {
    "execution": {
     "iopub.execute_input": "2024-09-25T16:41:57.377813Z",
     "iopub.status.busy": "2024-09-25T16:41:57.377530Z",
     "iopub.status.idle": "2024-09-25T16:41:57.398042Z",
     "shell.execute_reply": "2024-09-25T16:41:57.396987Z"
    },
    "papermill": {
     "duration": 0.032085,
     "end_time": "2024-09-25T16:41:57.400034",
     "exception": false,
     "start_time": "2024-09-25T16:41:57.367949",
     "status": "completed"
    },
    "tags": []
   },
   "outputs": [
    {
     "name": "stdout",
     "output_type": "stream",
     "text": [
      "<class 'pandas.core.frame.DataFrame'>\n",
      "RangeIndex: 2787 entries, 0 to 2786\n",
      "Data columns (total 7 columns):\n",
      " #   Column               Non-Null Count  Dtype  \n",
      "---  ------               --------------  -----  \n",
      " 0   Unnamed: 0           2787 non-null   int64  \n",
      " 1   Currency             2787 non-null   object \n",
      " 2   Date                 2787 non-null   object \n",
      " 3   Closing Price (USD)  2787 non-null   float64\n",
      " 4   24h Open (USD)       2787 non-null   float64\n",
      " 5   24h High (USD)       2787 non-null   float64\n",
      " 6   24h Low (USD)        2787 non-null   float64\n",
      "dtypes: float64(4), int64(1), object(2)\n",
      "memory usage: 152.5+ KB\n"
     ]
    }
   ],
   "source": [
    "data.info()"
   ]
  },
  {
   "cell_type": "code",
   "execution_count": 6,
   "id": "19ccb409",
   "metadata": {
    "execution": {
     "iopub.execute_input": "2024-09-25T16:41:57.419060Z",
     "iopub.status.busy": "2024-09-25T16:41:57.418775Z",
     "iopub.status.idle": "2024-09-25T16:41:57.440395Z",
     "shell.execute_reply": "2024-09-25T16:41:57.439503Z"
    },
    "papermill": {
     "duration": 0.033091,
     "end_time": "2024-09-25T16:41:57.442205",
     "exception": false,
     "start_time": "2024-09-25T16:41:57.409114",
     "status": "completed"
    },
    "tags": []
   },
   "outputs": [
    {
     "data": {
      "text/html": [
       "<div>\n",
       "<style scoped>\n",
       "    .dataframe tbody tr th:only-of-type {\n",
       "        vertical-align: middle;\n",
       "    }\n",
       "\n",
       "    .dataframe tbody tr th {\n",
       "        vertical-align: top;\n",
       "    }\n",
       "\n",
       "    .dataframe thead th {\n",
       "        text-align: right;\n",
       "    }\n",
       "</style>\n",
       "<table border=\"1\" class=\"dataframe\">\n",
       "  <thead>\n",
       "    <tr style=\"text-align: right;\">\n",
       "      <th></th>\n",
       "      <th>Unnamed: 0</th>\n",
       "      <th>Closing Price (USD)</th>\n",
       "      <th>24h Open (USD)</th>\n",
       "      <th>24h High (USD)</th>\n",
       "      <th>24h Low (USD)</th>\n",
       "    </tr>\n",
       "  </thead>\n",
       "  <tbody>\n",
       "    <tr>\n",
       "      <th>count</th>\n",
       "      <td>2787.000000</td>\n",
       "      <td>2787.000000</td>\n",
       "      <td>2787.000000</td>\n",
       "      <td>2787.000000</td>\n",
       "      <td>2787.000000</td>\n",
       "    </tr>\n",
       "    <tr>\n",
       "      <th>mean</th>\n",
       "      <td>1393.000000</td>\n",
       "      <td>6530.845141</td>\n",
       "      <td>6514.579485</td>\n",
       "      <td>6711.061683</td>\n",
       "      <td>6303.417386</td>\n",
       "    </tr>\n",
       "    <tr>\n",
       "      <th>std</th>\n",
       "      <td>804.681925</td>\n",
       "      <td>10887.847444</td>\n",
       "      <td>10863.800772</td>\n",
       "      <td>11206.779756</td>\n",
       "      <td>10475.811252</td>\n",
       "    </tr>\n",
       "    <tr>\n",
       "      <th>min</th>\n",
       "      <td>0.000000</td>\n",
       "      <td>109.584830</td>\n",
       "      <td>109.584830</td>\n",
       "      <td>119.675000</td>\n",
       "      <td>84.328330</td>\n",
       "    </tr>\n",
       "    <tr>\n",
       "      <th>25%</th>\n",
       "      <td>696.500000</td>\n",
       "      <td>461.087500</td>\n",
       "      <td>460.400500</td>\n",
       "      <td>470.720995</td>\n",
       "      <td>451.818830</td>\n",
       "    </tr>\n",
       "    <tr>\n",
       "      <th>50%</th>\n",
       "      <td>1393.000000</td>\n",
       "      <td>2781.182500</td>\n",
       "      <td>2773.367500</td>\n",
       "      <td>2875.696250</td>\n",
       "      <td>2697.457500</td>\n",
       "    </tr>\n",
       "    <tr>\n",
       "      <th>75%</th>\n",
       "      <td>2089.500000</td>\n",
       "      <td>8507.923720</td>\n",
       "      <td>8497.887593</td>\n",
       "      <td>8764.291985</td>\n",
       "      <td>8222.060570</td>\n",
       "    </tr>\n",
       "    <tr>\n",
       "      <th>max</th>\n",
       "      <td>2786.000000</td>\n",
       "      <td>63347.789035</td>\n",
       "      <td>63563.673545</td>\n",
       "      <td>64802.787870</td>\n",
       "      <td>62095.632914</td>\n",
       "    </tr>\n",
       "  </tbody>\n",
       "</table>\n",
       "</div>"
      ],
      "text/plain": [
       "        Unnamed: 0  Closing Price (USD)  24h Open (USD)  24h High (USD)  \\\n",
       "count  2787.000000          2787.000000     2787.000000     2787.000000   \n",
       "mean   1393.000000          6530.845141     6514.579485     6711.061683   \n",
       "std     804.681925         10887.847444    10863.800772    11206.779756   \n",
       "min       0.000000           109.584830      109.584830      119.675000   \n",
       "25%     696.500000           461.087500      460.400500      470.720995   \n",
       "50%    1393.000000          2781.182500     2773.367500     2875.696250   \n",
       "75%    2089.500000          8507.923720     8497.887593     8764.291985   \n",
       "max    2786.000000         63347.789035    63563.673545    64802.787870   \n",
       "\n",
       "       24h Low (USD)  \n",
       "count    2787.000000  \n",
       "mean     6303.417386  \n",
       "std     10475.811252  \n",
       "min        84.328330  \n",
       "25%       451.818830  \n",
       "50%      2697.457500  \n",
       "75%      8222.060570  \n",
       "max     62095.632914  "
      ]
     },
     "execution_count": 6,
     "metadata": {},
     "output_type": "execute_result"
    }
   ],
   "source": [
    "data.describe()"
   ]
  },
  {
   "cell_type": "code",
   "execution_count": 7,
   "id": "fede5a03",
   "metadata": {
    "execution": {
     "iopub.execute_input": "2024-09-25T16:41:57.463838Z",
     "iopub.status.busy": "2024-09-25T16:41:57.462515Z",
     "iopub.status.idle": "2024-09-25T16:41:57.470649Z",
     "shell.execute_reply": "2024-09-25T16:41:57.469270Z"
    },
    "papermill": {
     "duration": 0.021977,
     "end_time": "2024-09-25T16:41:57.473345",
     "exception": false,
     "start_time": "2024-09-25T16:41:57.451368",
     "status": "completed"
    },
    "tags": []
   },
   "outputs": [
    {
     "data": {
      "text/plain": [
       "(2787, 7)"
      ]
     },
     "execution_count": 7,
     "metadata": {},
     "output_type": "execute_result"
    }
   ],
   "source": [
    "data.shape"
   ]
  },
  {
   "cell_type": "markdown",
   "id": "fd898899",
   "metadata": {
    "papermill": {
     "duration": 0.013188,
     "end_time": "2024-09-25T16:41:57.501446",
     "exception": false,
     "start_time": "2024-09-25T16:41:57.488258",
     "status": "completed"
    },
    "tags": []
   },
   "source": [
    "# Preprocessing Data"
   ]
  },
  {
   "cell_type": "code",
   "execution_count": 8,
   "id": "d7259d9d",
   "metadata": {
    "execution": {
     "iopub.execute_input": "2024-09-25T16:41:57.529091Z",
     "iopub.status.busy": "2024-09-25T16:41:57.528117Z",
     "iopub.status.idle": "2024-09-25T16:41:57.543618Z",
     "shell.execute_reply": "2024-09-25T16:41:57.542431Z"
    },
    "papermill": {
     "duration": 0.0314,
     "end_time": "2024-09-25T16:41:57.545757",
     "exception": false,
     "start_time": "2024-09-25T16:41:57.514357",
     "status": "completed"
    },
    "tags": []
   },
   "outputs": [],
   "source": [
    "data['Date'] = pd.to_datetime(data['Date'])\n",
    "data.set_index('Date', inplace= True)"
   ]
  },
  {
   "cell_type": "code",
   "execution_count": 9,
   "id": "2b6c8073",
   "metadata": {
    "execution": {
     "iopub.execute_input": "2024-09-25T16:41:57.567609Z",
     "iopub.status.busy": "2024-09-25T16:41:57.567280Z",
     "iopub.status.idle": "2024-09-25T16:41:57.572771Z",
     "shell.execute_reply": "2024-09-25T16:41:57.571912Z"
    },
    "papermill": {
     "duration": 0.01771,
     "end_time": "2024-09-25T16:41:57.574578",
     "exception": false,
     "start_time": "2024-09-25T16:41:57.556868",
     "status": "completed"
    },
    "tags": []
   },
   "outputs": [
    {
     "data": {
      "text/plain": [
       "(2787, 6)"
      ]
     },
     "execution_count": 9,
     "metadata": {},
     "output_type": "execute_result"
    }
   ],
   "source": [
    "data.shape"
   ]
  },
  {
   "cell_type": "code",
   "execution_count": 10,
   "id": "700706e9",
   "metadata": {
    "execution": {
     "iopub.execute_input": "2024-09-25T16:41:57.594130Z",
     "iopub.status.busy": "2024-09-25T16:41:57.593845Z",
     "iopub.status.idle": "2024-09-25T16:41:57.598315Z",
     "shell.execute_reply": "2024-09-25T16:41:57.597504Z"
    },
    "papermill": {
     "duration": 0.016506,
     "end_time": "2024-09-25T16:41:57.600241",
     "exception": false,
     "start_time": "2024-09-25T16:41:57.583735",
     "status": "completed"
    },
    "tags": []
   },
   "outputs": [],
   "source": [
    "num_cols = 1\n",
    "dataset = data[r\"Closing Price (USD)\"]\n",
    "dataset = pd.DataFrame(dataset)\n",
    "df = dataset.values"
   ]
  },
  {
   "cell_type": "code",
   "execution_count": 11,
   "id": "38f4f41c",
   "metadata": {
    "execution": {
     "iopub.execute_input": "2024-09-25T16:41:57.622225Z",
     "iopub.status.busy": "2024-09-25T16:41:57.621946Z",
     "iopub.status.idle": "2024-09-25T16:41:57.627106Z",
     "shell.execute_reply": "2024-09-25T16:41:57.626419Z"
    },
    "papermill": {
     "duration": 0.018153,
     "end_time": "2024-09-25T16:41:57.628909",
     "exception": false,
     "start_time": "2024-09-25T16:41:57.610756",
     "status": "completed"
    },
    "tags": []
   },
   "outputs": [],
   "source": [
    "scaler = MinMaxScaler(feature_range= (0, 1))\n",
    "scaled_data = scaler.fit_transform(np.array(df))"
   ]
  },
  {
   "cell_type": "code",
   "execution_count": 12,
   "id": "38edde7e",
   "metadata": {
    "execution": {
     "iopub.execute_input": "2024-09-25T16:41:57.648554Z",
     "iopub.status.busy": "2024-09-25T16:41:57.648258Z",
     "iopub.status.idle": "2024-09-25T16:41:57.653061Z",
     "shell.execute_reply": "2024-09-25T16:41:57.652234Z"
    },
    "papermill": {
     "duration": 0.016931,
     "end_time": "2024-09-25T16:41:57.655114",
     "exception": false,
     "start_time": "2024-09-25T16:41:57.638183",
     "status": "completed"
    },
    "tags": []
   },
   "outputs": [
    {
     "name": "stdout",
     "output_type": "stream",
     "text": [
      "Train Size : 2090 Test Size : 697\n"
     ]
    }
   ],
   "source": [
    "train_size = int(len(df) * 0.75)\n",
    "test_size = len(df) - train_size\n",
    "print(\"Train Size :\",train_size,\"Test Size :\",test_size)"
   ]
  },
  {
   "cell_type": "code",
   "execution_count": 13,
   "id": "63d65caa",
   "metadata": {
    "execution": {
     "iopub.execute_input": "2024-09-25T16:41:57.676397Z",
     "iopub.status.busy": "2024-09-25T16:41:57.675943Z",
     "iopub.status.idle": "2024-09-25T16:41:57.681361Z",
     "shell.execute_reply": "2024-09-25T16:41:57.680545Z"
    },
    "papermill": {
     "duration": 0.018637,
     "end_time": "2024-09-25T16:41:57.683172",
     "exception": false,
     "start_time": "2024-09-25T16:41:57.664535",
     "status": "completed"
    },
    "tags": []
   },
   "outputs": [
    {
     "data": {
      "text/plain": [
       "(2090, 1)"
      ]
     },
     "execution_count": 13,
     "metadata": {},
     "output_type": "execute_result"
    }
   ],
   "source": [
    "train_data = scaled_data[0:train_size, :]\n",
    "train_data.shape"
   ]
  },
  {
   "cell_type": "code",
   "execution_count": 14,
   "id": "cb46c660",
   "metadata": {
    "execution": {
     "iopub.execute_input": "2024-09-25T16:41:57.703193Z",
     "iopub.status.busy": "2024-09-25T16:41:57.702913Z",
     "iopub.status.idle": "2024-09-25T16:41:57.712941Z",
     "shell.execute_reply": "2024-09-25T16:41:57.711944Z"
    },
    "papermill": {
     "duration": 0.022206,
     "end_time": "2024-09-25T16:41:57.714920",
     "exception": false,
     "start_time": "2024-09-25T16:41:57.692714",
     "status": "completed"
    },
    "tags": []
   },
   "outputs": [
    {
     "name": "stdout",
     "output_type": "stream",
     "text": [
      "X_train:  [array([[0.00023831],\n",
      "       [0.00026677],\n",
      "       [0.        ],\n",
      "       [0.00015955],\n",
      "       [0.00020168],\n",
      "       [0.00019087],\n",
      "       [0.0002089 ],\n",
      "       [0.00022847],\n",
      "       [0.00024454],\n",
      "       [0.00027478],\n",
      "       [0.000264  ],\n",
      "       [0.00027424],\n",
      "       [0.00028145],\n",
      "       [0.00042154],\n",
      "       [0.0003893 ],\n",
      "       [0.00054047],\n",
      "       [0.00046394],\n",
      "       [0.00054345],\n",
      "       [0.00069526],\n",
      "       [0.0008184 ],\n",
      "       [0.00088127],\n",
      "       [0.00109188],\n",
      "       [0.00126051],\n",
      "       [0.00145666],\n",
      "       [0.00113492],\n",
      "       [0.00105074],\n",
      "       [0.00109288],\n",
      "       [0.00124252],\n",
      "       [0.00133103],\n",
      "       [0.00140445],\n",
      "       [0.00138271],\n",
      "       [0.00141471],\n",
      "       [0.00142869],\n",
      "       [0.00145416],\n",
      "       [0.00160856],\n",
      "       [0.00184122],\n",
      "       [0.00220861],\n",
      "       [0.00243115],\n",
      "       [0.00293971],\n",
      "       [0.00351873],\n",
      "       [0.00280373],\n",
      "       [0.00310564],\n",
      "       [0.00362996],\n",
      "       [0.00393584],\n",
      "       [0.00465493],\n",
      "       [0.00475217],\n",
      "       [0.0049279 ],\n",
      "       [0.005198  ],\n",
      "       [0.0063572 ],\n",
      "       [0.00925177],\n",
      "       [0.00668832],\n",
      "       [0.00737104],\n",
      "       [0.00905695],\n",
      "       [0.01052521],\n",
      "       [0.01008265],\n",
      "       [0.01044088],\n",
      "       [0.01076533],\n",
      "       [0.012407  ],\n",
      "       [0.01305809],\n",
      "       [0.01517719]])]\n",
      "y_train: [array([0.01654603])]\n"
     ]
    }
   ],
   "source": [
    "x_train = []\n",
    "y_train = []\n",
    "time_steps = 60\n",
    "num_cols = 1\n",
    "\n",
    "for i in range(time_steps, len(train_data)):\n",
    "    x_train.append(train_data[i-time_steps:i, :num_cols])\n",
    "    y_train.append(train_data[i, :num_cols])\n",
    "    if i<=time_steps:\n",
    "        print('X_train: ', x_train)\n",
    "        print('y_train:' , y_train)"
   ]
  },
  {
   "cell_type": "code",
   "execution_count": 15,
   "id": "5ff715ec",
   "metadata": {
    "execution": {
     "iopub.execute_input": "2024-09-25T16:41:57.735633Z",
     "iopub.status.busy": "2024-09-25T16:41:57.735329Z",
     "iopub.status.idle": "2024-09-25T16:41:57.742333Z",
     "shell.execute_reply": "2024-09-25T16:41:57.741524Z"
    },
    "papermill": {
     "duration": 0.019408,
     "end_time": "2024-09-25T16:41:57.744349",
     "exception": false,
     "start_time": "2024-09-25T16:41:57.724941",
     "status": "completed"
    },
    "tags": []
   },
   "outputs": [],
   "source": [
    "x_train, y_train = np.array(x_train), np.array(y_train)"
   ]
  },
  {
   "cell_type": "code",
   "execution_count": 16,
   "id": "f0b87bbc",
   "metadata": {
    "execution": {
     "iopub.execute_input": "2024-09-25T16:41:57.769770Z",
     "iopub.status.busy": "2024-09-25T16:41:57.768922Z",
     "iopub.status.idle": "2024-09-25T16:41:57.773774Z",
     "shell.execute_reply": "2024-09-25T16:41:57.773112Z"
    },
    "papermill": {
     "duration": 0.0217,
     "end_time": "2024-09-25T16:41:57.777420",
     "exception": false,
     "start_time": "2024-09-25T16:41:57.755720",
     "status": "completed"
    },
    "tags": []
   },
   "outputs": [],
   "source": [
    "x_train = np.reshape(x_train, (x_train.shape[0], x_train.shape[1], num_cols))"
   ]
  },
  {
   "cell_type": "code",
   "execution_count": 17,
   "id": "928c7aab",
   "metadata": {
    "execution": {
     "iopub.execute_input": "2024-09-25T16:41:57.804023Z",
     "iopub.status.busy": "2024-09-25T16:41:57.803170Z",
     "iopub.status.idle": "2024-09-25T16:41:57.809777Z",
     "shell.execute_reply": "2024-09-25T16:41:57.808977Z"
    },
    "papermill": {
     "duration": 0.021783,
     "end_time": "2024-09-25T16:41:57.811893",
     "exception": false,
     "start_time": "2024-09-25T16:41:57.790110",
     "status": "completed"
    },
    "tags": []
   },
   "outputs": [
    {
     "data": {
      "text/plain": [
       "((2030, 60, 1), (2030, 1))"
      ]
     },
     "execution_count": 17,
     "metadata": {},
     "output_type": "execute_result"
    }
   ],
   "source": [
    "x_train.shape , y_train.shape"
   ]
  },
  {
   "cell_type": "code",
   "execution_count": 18,
   "id": "7d5d9f94",
   "metadata": {
    "execution": {
     "iopub.execute_input": "2024-09-25T16:41:57.834862Z",
     "iopub.status.busy": "2024-09-25T16:41:57.834597Z",
     "iopub.status.idle": "2024-09-25T16:41:59.068909Z",
     "shell.execute_reply": "2024-09-25T16:41:59.067902Z"
    },
    "papermill": {
     "duration": 1.247516,
     "end_time": "2024-09-25T16:41:59.071195",
     "exception": false,
     "start_time": "2024-09-25T16:41:57.823679",
     "status": "completed"
    },
    "tags": []
   },
   "outputs": [],
   "source": [
    "model = Sequential([\n",
    "    LSTM(50, return_sequences= True, input_shape= (x_train.shape[1], num_cols)),\n",
    "    LSTM(64, return_sequences= False),\n",
    "    Dense(32),\n",
    "    Dense(16),\n",
    "    Dense(num_cols)\n",
    "])\n",
    "\n",
    "model.compile(optimizer= 'adam', loss= 'mse')"
   ]
  },
  {
   "cell_type": "code",
   "execution_count": 19,
   "id": "efbea7a9",
   "metadata": {
    "execution": {
     "iopub.execute_input": "2024-09-25T16:41:59.092187Z",
     "iopub.status.busy": "2024-09-25T16:41:59.091876Z",
     "iopub.status.idle": "2024-09-25T16:41:59.111181Z",
     "shell.execute_reply": "2024-09-25T16:41:59.110286Z"
    },
    "papermill": {
     "duration": 0.031824,
     "end_time": "2024-09-25T16:41:59.112988",
     "exception": false,
     "start_time": "2024-09-25T16:41:59.081164",
     "status": "completed"
    },
    "tags": []
   },
   "outputs": [
    {
     "data": {
      "text/html": [
       "<pre style=\"white-space:pre;overflow-x:auto;line-height:normal;font-family:Menlo,'DejaVu Sans Mono',consolas,'Courier New',monospace\"><span style=\"font-weight: bold\">Model: \"sequential\"</span>\n",
       "</pre>\n"
      ],
      "text/plain": [
       "\u001b[1mModel: \"sequential\"\u001b[0m\n"
      ]
     },
     "metadata": {},
     "output_type": "display_data"
    },
    {
     "data": {
      "text/html": [
       "<pre style=\"white-space:pre;overflow-x:auto;line-height:normal;font-family:Menlo,'DejaVu Sans Mono',consolas,'Courier New',monospace\">┏━━━━━━━━━━━━━━━━━━━━━━━━━━━━━━━━━┳━━━━━━━━━━━━━━━━━━━━━━━━┳━━━━━━━━━━━━━━━┓\n",
       "┃<span style=\"font-weight: bold\"> Layer (type)                    </span>┃<span style=\"font-weight: bold\"> Output Shape           </span>┃<span style=\"font-weight: bold\">       Param # </span>┃\n",
       "┡━━━━━━━━━━━━━━━━━━━━━━━━━━━━━━━━━╇━━━━━━━━━━━━━━━━━━━━━━━━╇━━━━━━━━━━━━━━━┩\n",
       "│ lstm (<span style=\"color: #0087ff; text-decoration-color: #0087ff\">LSTM</span>)                     │ (<span style=\"color: #00d7ff; text-decoration-color: #00d7ff\">None</span>, <span style=\"color: #00af00; text-decoration-color: #00af00\">60</span>, <span style=\"color: #00af00; text-decoration-color: #00af00\">50</span>)         │        <span style=\"color: #00af00; text-decoration-color: #00af00\">10,400</span> │\n",
       "├─────────────────────────────────┼────────────────────────┼───────────────┤\n",
       "│ lstm_1 (<span style=\"color: #0087ff; text-decoration-color: #0087ff\">LSTM</span>)                   │ (<span style=\"color: #00d7ff; text-decoration-color: #00d7ff\">None</span>, <span style=\"color: #00af00; text-decoration-color: #00af00\">64</span>)             │        <span style=\"color: #00af00; text-decoration-color: #00af00\">29,440</span> │\n",
       "├─────────────────────────────────┼────────────────────────┼───────────────┤\n",
       "│ dense (<span style=\"color: #0087ff; text-decoration-color: #0087ff\">Dense</span>)                   │ (<span style=\"color: #00d7ff; text-decoration-color: #00d7ff\">None</span>, <span style=\"color: #00af00; text-decoration-color: #00af00\">32</span>)             │         <span style=\"color: #00af00; text-decoration-color: #00af00\">2,080</span> │\n",
       "├─────────────────────────────────┼────────────────────────┼───────────────┤\n",
       "│ dense_1 (<span style=\"color: #0087ff; text-decoration-color: #0087ff\">Dense</span>)                 │ (<span style=\"color: #00d7ff; text-decoration-color: #00d7ff\">None</span>, <span style=\"color: #00af00; text-decoration-color: #00af00\">16</span>)             │           <span style=\"color: #00af00; text-decoration-color: #00af00\">528</span> │\n",
       "├─────────────────────────────────┼────────────────────────┼───────────────┤\n",
       "│ dense_2 (<span style=\"color: #0087ff; text-decoration-color: #0087ff\">Dense</span>)                 │ (<span style=\"color: #00d7ff; text-decoration-color: #00d7ff\">None</span>, <span style=\"color: #00af00; text-decoration-color: #00af00\">1</span>)              │            <span style=\"color: #00af00; text-decoration-color: #00af00\">17</span> │\n",
       "└─────────────────────────────────┴────────────────────────┴───────────────┘\n",
       "</pre>\n"
      ],
      "text/plain": [
       "┏━━━━━━━━━━━━━━━━━━━━━━━━━━━━━━━━━┳━━━━━━━━━━━━━━━━━━━━━━━━┳━━━━━━━━━━━━━━━┓\n",
       "┃\u001b[1m \u001b[0m\u001b[1mLayer (type)                   \u001b[0m\u001b[1m \u001b[0m┃\u001b[1m \u001b[0m\u001b[1mOutput Shape          \u001b[0m\u001b[1m \u001b[0m┃\u001b[1m \u001b[0m\u001b[1m      Param #\u001b[0m\u001b[1m \u001b[0m┃\n",
       "┡━━━━━━━━━━━━━━━━━━━━━━━━━━━━━━━━━╇━━━━━━━━━━━━━━━━━━━━━━━━╇━━━━━━━━━━━━━━━┩\n",
       "│ lstm (\u001b[38;5;33mLSTM\u001b[0m)                     │ (\u001b[38;5;45mNone\u001b[0m, \u001b[38;5;34m60\u001b[0m, \u001b[38;5;34m50\u001b[0m)         │        \u001b[38;5;34m10,400\u001b[0m │\n",
       "├─────────────────────────────────┼────────────────────────┼───────────────┤\n",
       "│ lstm_1 (\u001b[38;5;33mLSTM\u001b[0m)                   │ (\u001b[38;5;45mNone\u001b[0m, \u001b[38;5;34m64\u001b[0m)             │        \u001b[38;5;34m29,440\u001b[0m │\n",
       "├─────────────────────────────────┼────────────────────────┼───────────────┤\n",
       "│ dense (\u001b[38;5;33mDense\u001b[0m)                   │ (\u001b[38;5;45mNone\u001b[0m, \u001b[38;5;34m32\u001b[0m)             │         \u001b[38;5;34m2,080\u001b[0m │\n",
       "├─────────────────────────────────┼────────────────────────┼───────────────┤\n",
       "│ dense_1 (\u001b[38;5;33mDense\u001b[0m)                 │ (\u001b[38;5;45mNone\u001b[0m, \u001b[38;5;34m16\u001b[0m)             │           \u001b[38;5;34m528\u001b[0m │\n",
       "├─────────────────────────────────┼────────────────────────┼───────────────┤\n",
       "│ dense_2 (\u001b[38;5;33mDense\u001b[0m)                 │ (\u001b[38;5;45mNone\u001b[0m, \u001b[38;5;34m1\u001b[0m)              │            \u001b[38;5;34m17\u001b[0m │\n",
       "└─────────────────────────────────┴────────────────────────┴───────────────┘\n"
      ]
     },
     "metadata": {},
     "output_type": "display_data"
    },
    {
     "data": {
      "text/html": [
       "<pre style=\"white-space:pre;overflow-x:auto;line-height:normal;font-family:Menlo,'DejaVu Sans Mono',consolas,'Courier New',monospace\"><span style=\"font-weight: bold\"> Total params: </span><span style=\"color: #00af00; text-decoration-color: #00af00\">42,465</span> (165.88 KB)\n",
       "</pre>\n"
      ],
      "text/plain": [
       "\u001b[1m Total params: \u001b[0m\u001b[38;5;34m42,465\u001b[0m (165.88 KB)\n"
      ]
     },
     "metadata": {},
     "output_type": "display_data"
    },
    {
     "data": {
      "text/html": [
       "<pre style=\"white-space:pre;overflow-x:auto;line-height:normal;font-family:Menlo,'DejaVu Sans Mono',consolas,'Courier New',monospace\"><span style=\"font-weight: bold\"> Trainable params: </span><span style=\"color: #00af00; text-decoration-color: #00af00\">42,465</span> (165.88 KB)\n",
       "</pre>\n"
      ],
      "text/plain": [
       "\u001b[1m Trainable params: \u001b[0m\u001b[38;5;34m42,465\u001b[0m (165.88 KB)\n"
      ]
     },
     "metadata": {},
     "output_type": "display_data"
    },
    {
     "data": {
      "text/html": [
       "<pre style=\"white-space:pre;overflow-x:auto;line-height:normal;font-family:Menlo,'DejaVu Sans Mono',consolas,'Courier New',monospace\"><span style=\"font-weight: bold\"> Non-trainable params: </span><span style=\"color: #00af00; text-decoration-color: #00af00\">0</span> (0.00 B)\n",
       "</pre>\n"
      ],
      "text/plain": [
       "\u001b[1m Non-trainable params: \u001b[0m\u001b[38;5;34m0\u001b[0m (0.00 B)\n"
      ]
     },
     "metadata": {},
     "output_type": "display_data"
    }
   ],
   "source": [
    "model.summary()"
   ]
  },
  {
   "cell_type": "code",
   "execution_count": 20,
   "id": "a5e9da01",
   "metadata": {
    "execution": {
     "iopub.execute_input": "2024-09-25T16:41:59.135244Z",
     "iopub.status.busy": "2024-09-25T16:41:59.134929Z",
     "iopub.status.idle": "2024-09-25T16:42:28.843540Z",
     "shell.execute_reply": "2024-09-25T16:42:28.842704Z"
    },
    "papermill": {
     "duration": 29.722139,
     "end_time": "2024-09-25T16:42:28.845714",
     "exception": false,
     "start_time": "2024-09-25T16:41:59.123575",
     "status": "completed"
    },
    "tags": []
   },
   "outputs": [
    {
     "name": "stdout",
     "output_type": "stream",
     "text": [
      "Epoch 1/50\n",
      "\u001b[1m64/64\u001b[0m \u001b[32m━━━━━━━━━━━━━━━━━━━━\u001b[0m\u001b[37m\u001b[0m \u001b[1m4s\u001b[0m 8ms/step - loss: 5.0935e-04\n",
      "Epoch 2/50\n",
      "\u001b[1m64/64\u001b[0m \u001b[32m━━━━━━━━━━━━━━━━━━━━\u001b[0m\u001b[37m\u001b[0m \u001b[1m1s\u001b[0m 8ms/step - loss: 8.7088e-05\n",
      "Epoch 3/50\n",
      "\u001b[1m64/64\u001b[0m \u001b[32m━━━━━━━━━━━━━━━━━━━━\u001b[0m\u001b[37m\u001b[0m \u001b[1m1s\u001b[0m 8ms/step - loss: 1.0262e-04\n",
      "Epoch 4/50\n",
      "\u001b[1m64/64\u001b[0m \u001b[32m━━━━━━━━━━━━━━━━━━━━\u001b[0m\u001b[37m\u001b[0m \u001b[1m1s\u001b[0m 8ms/step - loss: 5.8461e-05\n",
      "Epoch 5/50\n",
      "\u001b[1m64/64\u001b[0m \u001b[32m━━━━━━━━━━━━━━━━━━━━\u001b[0m\u001b[37m\u001b[0m \u001b[1m1s\u001b[0m 8ms/step - loss: 5.4844e-05\n",
      "Epoch 6/50\n",
      "\u001b[1m64/64\u001b[0m \u001b[32m━━━━━━━━━━━━━━━━━━━━\u001b[0m\u001b[37m\u001b[0m \u001b[1m1s\u001b[0m 8ms/step - loss: 5.7821e-05\n",
      "Epoch 7/50\n",
      "\u001b[1m64/64\u001b[0m \u001b[32m━━━━━━━━━━━━━━━━━━━━\u001b[0m\u001b[37m\u001b[0m \u001b[1m1s\u001b[0m 8ms/step - loss: 4.1031e-05\n",
      "Epoch 8/50\n",
      "\u001b[1m64/64\u001b[0m \u001b[32m━━━━━━━━━━━━━━━━━━━━\u001b[0m\u001b[37m\u001b[0m \u001b[1m1s\u001b[0m 8ms/step - loss: 4.5295e-05\n",
      "Epoch 9/50\n",
      "\u001b[1m64/64\u001b[0m \u001b[32m━━━━━━━━━━━━━━━━━━━━\u001b[0m\u001b[37m\u001b[0m \u001b[1m1s\u001b[0m 8ms/step - loss: 5.1867e-05\n",
      "Epoch 10/50\n",
      "\u001b[1m64/64\u001b[0m \u001b[32m━━━━━━━━━━━━━━━━━━━━\u001b[0m\u001b[37m\u001b[0m \u001b[1m1s\u001b[0m 9ms/step - loss: 6.7431e-05\n",
      "Epoch 11/50\n",
      "\u001b[1m64/64\u001b[0m \u001b[32m━━━━━━━━━━━━━━━━━━━━\u001b[0m\u001b[37m\u001b[0m \u001b[1m1s\u001b[0m 8ms/step - loss: 4.1784e-05\n",
      "Epoch 12/50\n",
      "\u001b[1m64/64\u001b[0m \u001b[32m━━━━━━━━━━━━━━━━━━━━\u001b[0m\u001b[37m\u001b[0m \u001b[1m1s\u001b[0m 12ms/step - loss: 3.5350e-05\n",
      "Epoch 13/50\n",
      "\u001b[1m64/64\u001b[0m \u001b[32m━━━━━━━━━━━━━━━━━━━━\u001b[0m\u001b[37m\u001b[0m \u001b[1m1s\u001b[0m 8ms/step - loss: 3.7535e-05\n",
      "Epoch 14/50\n",
      "\u001b[1m64/64\u001b[0m \u001b[32m━━━━━━━━━━━━━━━━━━━━\u001b[0m\u001b[37m\u001b[0m \u001b[1m1s\u001b[0m 8ms/step - loss: 3.2719e-05\n",
      "Epoch 15/50\n",
      "\u001b[1m64/64\u001b[0m \u001b[32m━━━━━━━━━━━━━━━━━━━━\u001b[0m\u001b[37m\u001b[0m \u001b[1m1s\u001b[0m 8ms/step - loss: 4.6166e-05\n",
      "Epoch 16/50\n",
      "\u001b[1m64/64\u001b[0m \u001b[32m━━━━━━━━━━━━━━━━━━━━\u001b[0m\u001b[37m\u001b[0m \u001b[1m1s\u001b[0m 8ms/step - loss: 2.5510e-05\n",
      "Epoch 17/50\n",
      "\u001b[1m64/64\u001b[0m \u001b[32m━━━━━━━━━━━━━━━━━━━━\u001b[0m\u001b[37m\u001b[0m \u001b[1m1s\u001b[0m 8ms/step - loss: 3.2971e-05\n",
      "Epoch 18/50\n",
      "\u001b[1m64/64\u001b[0m \u001b[32m━━━━━━━━━━━━━━━━━━━━\u001b[0m\u001b[37m\u001b[0m \u001b[1m1s\u001b[0m 8ms/step - loss: 3.9050e-05\n",
      "Epoch 19/50\n",
      "\u001b[1m64/64\u001b[0m \u001b[32m━━━━━━━━━━━━━━━━━━━━\u001b[0m\u001b[37m\u001b[0m \u001b[1m1s\u001b[0m 8ms/step - loss: 2.8465e-05\n",
      "Epoch 20/50\n",
      "\u001b[1m64/64\u001b[0m \u001b[32m━━━━━━━━━━━━━━━━━━━━\u001b[0m\u001b[37m\u001b[0m \u001b[1m1s\u001b[0m 8ms/step - loss: 2.6571e-05\n",
      "Epoch 21/50\n",
      "\u001b[1m64/64\u001b[0m \u001b[32m━━━━━━━━━━━━━━━━━━━━\u001b[0m\u001b[37m\u001b[0m \u001b[1m1s\u001b[0m 8ms/step - loss: 2.4376e-05\n",
      "Epoch 22/50\n",
      "\u001b[1m64/64\u001b[0m \u001b[32m━━━━━━━━━━━━━━━━━━━━\u001b[0m\u001b[37m\u001b[0m \u001b[1m1s\u001b[0m 8ms/step - loss: 4.2730e-05\n",
      "Epoch 23/50\n",
      "\u001b[1m64/64\u001b[0m \u001b[32m━━━━━━━━━━━━━━━━━━━━\u001b[0m\u001b[37m\u001b[0m \u001b[1m1s\u001b[0m 8ms/step - loss: 2.7897e-05\n",
      "Epoch 24/50\n",
      "\u001b[1m64/64\u001b[0m \u001b[32m━━━━━━━━━━━━━━━━━━━━\u001b[0m\u001b[37m\u001b[0m \u001b[1m1s\u001b[0m 8ms/step - loss: 2.7214e-05\n",
      "Epoch 25/50\n",
      "\u001b[1m64/64\u001b[0m \u001b[32m━━━━━━━━━━━━━━━━━━━━\u001b[0m\u001b[37m\u001b[0m \u001b[1m1s\u001b[0m 8ms/step - loss: 2.4868e-05\n",
      "Epoch 26/50\n",
      "\u001b[1m64/64\u001b[0m \u001b[32m━━━━━━━━━━━━━━━━━━━━\u001b[0m\u001b[37m\u001b[0m \u001b[1m1s\u001b[0m 8ms/step - loss: 3.2632e-05\n",
      "Epoch 27/50\n",
      "\u001b[1m64/64\u001b[0m \u001b[32m━━━━━━━━━━━━━━━━━━━━\u001b[0m\u001b[37m\u001b[0m \u001b[1m1s\u001b[0m 8ms/step - loss: 2.7161e-05\n",
      "Epoch 28/50\n",
      "\u001b[1m64/64\u001b[0m \u001b[32m━━━━━━━━━━━━━━━━━━━━\u001b[0m\u001b[37m\u001b[0m \u001b[1m1s\u001b[0m 8ms/step - loss: 3.3833e-05\n",
      "Epoch 29/50\n",
      "\u001b[1m64/64\u001b[0m \u001b[32m━━━━━━━━━━━━━━━━━━━━\u001b[0m\u001b[37m\u001b[0m \u001b[1m1s\u001b[0m 8ms/step - loss: 1.9727e-05\n",
      "Epoch 30/50\n",
      "\u001b[1m64/64\u001b[0m \u001b[32m━━━━━━━━━━━━━━━━━━━━\u001b[0m\u001b[37m\u001b[0m \u001b[1m1s\u001b[0m 8ms/step - loss: 2.2841e-05\n",
      "Epoch 31/50\n",
      "\u001b[1m64/64\u001b[0m \u001b[32m━━━━━━━━━━━━━━━━━━━━\u001b[0m\u001b[37m\u001b[0m \u001b[1m1s\u001b[0m 8ms/step - loss: 2.5721e-05\n",
      "Epoch 32/50\n",
      "\u001b[1m64/64\u001b[0m \u001b[32m━━━━━━━━━━━━━━━━━━━━\u001b[0m\u001b[37m\u001b[0m \u001b[1m1s\u001b[0m 8ms/step - loss: 2.1304e-05\n",
      "Epoch 33/50\n",
      "\u001b[1m64/64\u001b[0m \u001b[32m━━━━━━━━━━━━━━━━━━━━\u001b[0m\u001b[37m\u001b[0m \u001b[1m1s\u001b[0m 8ms/step - loss: 2.2005e-05\n",
      "Epoch 34/50\n",
      "\u001b[1m64/64\u001b[0m \u001b[32m━━━━━━━━━━━━━━━━━━━━\u001b[0m\u001b[37m\u001b[0m \u001b[1m1s\u001b[0m 8ms/step - loss: 2.3409e-05\n",
      "Epoch 35/50\n",
      "\u001b[1m64/64\u001b[0m \u001b[32m━━━━━━━━━━━━━━━━━━━━\u001b[0m\u001b[37m\u001b[0m \u001b[1m1s\u001b[0m 8ms/step - loss: 2.3127e-05\n",
      "Epoch 36/50\n",
      "\u001b[1m64/64\u001b[0m \u001b[32m━━━━━━━━━━━━━━━━━━━━\u001b[0m\u001b[37m\u001b[0m \u001b[1m1s\u001b[0m 8ms/step - loss: 2.3902e-05\n",
      "Epoch 37/50\n",
      "\u001b[1m64/64\u001b[0m \u001b[32m━━━━━━━━━━━━━━━━━━━━\u001b[0m\u001b[37m\u001b[0m \u001b[1m1s\u001b[0m 8ms/step - loss: 2.5453e-05\n",
      "Epoch 38/50\n",
      "\u001b[1m64/64\u001b[0m \u001b[32m━━━━━━━━━━━━━━━━━━━━\u001b[0m\u001b[37m\u001b[0m \u001b[1m1s\u001b[0m 9ms/step - loss: 2.8020e-05\n",
      "Epoch 39/50\n",
      "\u001b[1m64/64\u001b[0m \u001b[32m━━━━━━━━━━━━━━━━━━━━\u001b[0m\u001b[37m\u001b[0m \u001b[1m1s\u001b[0m 9ms/step - loss: 2.3047e-05\n",
      "Epoch 40/50\n",
      "\u001b[1m64/64\u001b[0m \u001b[32m━━━━━━━━━━━━━━━━━━━━\u001b[0m\u001b[37m\u001b[0m \u001b[1m1s\u001b[0m 9ms/step - loss: 1.9860e-05\n",
      "Epoch 41/50\n",
      "\u001b[1m64/64\u001b[0m \u001b[32m━━━━━━━━━━━━━━━━━━━━\u001b[0m\u001b[37m\u001b[0m \u001b[1m1s\u001b[0m 8ms/step - loss: 3.1121e-05\n",
      "Epoch 42/50\n",
      "\u001b[1m64/64\u001b[0m \u001b[32m━━━━━━━━━━━━━━━━━━━━\u001b[0m\u001b[37m\u001b[0m \u001b[1m1s\u001b[0m 8ms/step - loss: 1.9668e-05\n",
      "Epoch 43/50\n",
      "\u001b[1m64/64\u001b[0m \u001b[32m━━━━━━━━━━━━━━━━━━━━\u001b[0m\u001b[37m\u001b[0m \u001b[1m1s\u001b[0m 8ms/step - loss: 1.8634e-05\n",
      "Epoch 44/50\n",
      "\u001b[1m64/64\u001b[0m \u001b[32m━━━━━━━━━━━━━━━━━━━━\u001b[0m\u001b[37m\u001b[0m \u001b[1m1s\u001b[0m 8ms/step - loss: 2.5500e-05\n",
      "Epoch 45/50\n",
      "\u001b[1m64/64\u001b[0m \u001b[32m━━━━━━━━━━━━━━━━━━━━\u001b[0m\u001b[37m\u001b[0m \u001b[1m1s\u001b[0m 8ms/step - loss: 2.1858e-05\n",
      "Epoch 46/50\n",
      "\u001b[1m64/64\u001b[0m \u001b[32m━━━━━━━━━━━━━━━━━━━━\u001b[0m\u001b[37m\u001b[0m \u001b[1m1s\u001b[0m 8ms/step - loss: 2.5542e-05\n",
      "Epoch 47/50\n",
      "\u001b[1m64/64\u001b[0m \u001b[32m━━━━━━━━━━━━━━━━━━━━\u001b[0m\u001b[37m\u001b[0m \u001b[1m1s\u001b[0m 8ms/step - loss: 2.5710e-05\n",
      "Epoch 48/50\n",
      "\u001b[1m64/64\u001b[0m \u001b[32m━━━━━━━━━━━━━━━━━━━━\u001b[0m\u001b[37m\u001b[0m \u001b[1m1s\u001b[0m 8ms/step - loss: 2.6710e-05\n",
      "Epoch 49/50\n",
      "\u001b[1m64/64\u001b[0m \u001b[32m━━━━━━━━━━━━━━━━━━━━\u001b[0m\u001b[37m\u001b[0m \u001b[1m1s\u001b[0m 8ms/step - loss: 2.0020e-05\n",
      "Epoch 50/50\n",
      "\u001b[1m64/64\u001b[0m \u001b[32m━━━━━━━━━━━━━━━━━━━━\u001b[0m\u001b[37m\u001b[0m \u001b[1m1s\u001b[0m 8ms/step - loss: 1.8446e-05\n"
     ]
    }
   ],
   "source": [
    "history = model.fit(x_train, y_train, epochs= 50, batch_size= 32)"
   ]
  },
  {
   "cell_type": "markdown",
   "id": "bea3f5f7",
   "metadata": {
    "papermill": {
     "duration": 0.056257,
     "end_time": "2024-09-25T16:42:28.960847",
     "exception": false,
     "start_time": "2024-09-25T16:42:28.904590",
     "status": "completed"
    },
    "tags": []
   },
   "source": [
    "# Model Evaluation"
   ]
  },
  {
   "cell_type": "code",
   "execution_count": 21,
   "id": "1aa85198",
   "metadata": {
    "execution": {
     "iopub.execute_input": "2024-09-25T16:42:29.075216Z",
     "iopub.status.busy": "2024-09-25T16:42:29.074409Z",
     "iopub.status.idle": "2024-09-25T16:42:29.438127Z",
     "shell.execute_reply": "2024-09-25T16:42:29.437254Z"
    },
    "papermill": {
     "duration": 0.423651,
     "end_time": "2024-09-25T16:42:29.440783",
     "exception": false,
     "start_time": "2024-09-25T16:42:29.017132",
     "status": "completed"
    },
    "tags": []
   },
   "outputs": [
    {
     "data": {
      "image/png": "[encoded data removed]",
      "text/plain": [
       "<Figure size 1200x800 with 1 Axes>"
      ]
     },
     "metadata": {},
     "output_type": "display_data"
    }
   ],
   "source": [
    "plt.figure(figsize=(12, 8))\n",
    "plt.plot(history.history[\"loss\"])\n",
    "plt.legend(['Mean Squared Error','Mean Absolute Error'])\n",
    "plt.title(\"Losses\")\n",
    "plt.xlabel(\"epochs\")\n",
    "plt.ylabel(\"loss\")\n",
    "plt.show()"
   ]
  },
  {
   "cell_type": "markdown",
   "id": "d981a80e",
   "metadata": {
    "papermill": {
     "duration": 0.057248,
     "end_time": "2024-09-25T16:42:29.556123",
     "exception": false,
     "start_time": "2024-09-25T16:42:29.498875",
     "status": "completed"
    },
    "tags": []
   },
   "source": [
    "# Predection"
   ]
  },
  {
   "cell_type": "code",
   "execution_count": 22,
   "id": "816d92bf",
   "metadata": {
    "execution": {
     "iopub.execute_input": "2024-09-25T16:42:29.672628Z",
     "iopub.status.busy": "2024-09-25T16:42:29.671971Z",
     "iopub.status.idle": "2024-09-25T16:42:29.681065Z",
     "shell.execute_reply": "2024-09-25T16:42:29.680308Z"
    },
    "papermill": {
     "duration": 0.070335,
     "end_time": "2024-09-25T16:42:29.683159",
     "exception": false,
     "start_time": "2024-09-25T16:42:29.612824",
     "status": "completed"
    },
    "tags": []
   },
   "outputs": [],
   "source": [
    "time_steps = 60\n",
    "test_data = scaled_data[train_size - time_steps:, :]\n",
    "\n",
    "x_test = []\n",
    "y_test = []\n",
    "num_cols = 1\n",
    "\n",
    "for i in range(time_steps, len(test_data)):\n",
    "    x_test.append(test_data[i-time_steps:i, 0:num_cols])\n",
    "    y_test.append(test_data[i, 0:num_cols])\n",
    "x_test, y_test = np.array(x_test), np.array(y_test)\n",
    "x_test = np.reshape(x_test, (x_test.shape[0], x_test.shape[1], num_cols))"
   ]
  },
  {
   "cell_type": "code",
   "execution_count": 23,
   "id": "9ba1715f",
   "metadata": {
    "execution": {
     "iopub.execute_input": "2024-09-25T16:42:29.800680Z",
     "iopub.status.busy": "2024-09-25T16:42:29.800098Z",
     "iopub.status.idle": "2024-09-25T16:42:29.806036Z",
     "shell.execute_reply": "2024-09-25T16:42:29.805218Z"
    },
    "papermill": {
     "duration": 0.067216,
     "end_time": "2024-09-25T16:42:29.807937",
     "exception": false,
     "start_time": "2024-09-25T16:42:29.740721",
     "status": "completed"
    },
    "tags": []
   },
   "outputs": [
    {
     "data": {
      "text/plain": [
       "((697, 60, 1), (697, 1))"
      ]
     },
     "execution_count": 23,
     "metadata": {},
     "output_type": "execute_result"
    }
   ],
   "source": [
    "x_test.shape , y_test.shape"
   ]
  },
  {
   "cell_type": "code",
   "execution_count": 24,
   "id": "f320aa2b",
   "metadata": {
    "execution": {
     "iopub.execute_input": "2024-09-25T16:42:29.923761Z",
     "iopub.status.busy": "2024-09-25T16:42:29.923437Z",
     "iopub.status.idle": "2024-09-25T16:42:30.383353Z",
     "shell.execute_reply": "2024-09-25T16:42:30.382478Z"
    },
    "papermill": {
     "duration": 0.52031,
     "end_time": "2024-09-25T16:42:30.385431",
     "exception": false,
     "start_time": "2024-09-25T16:42:29.865121",
     "status": "completed"
    },
    "tags": []
   },
   "outputs": [
    {
     "name": "stdout",
     "output_type": "stream",
     "text": [
      "\u001b[1m22/22\u001b[0m \u001b[32m━━━━━━━━━━━━━━━━━━━━\u001b[0m\u001b[37m\u001b[0m \u001b[1m0s\u001b[0m 11ms/step\n"
     ]
    }
   ],
   "source": [
    "predictions = model.predict(x_test)"
   ]
  },
  {
   "cell_type": "code",
   "execution_count": 25,
   "id": "bbf9abdc",
   "metadata": {
    "execution": {
     "iopub.execute_input": "2024-09-25T16:42:30.502388Z",
     "iopub.status.busy": "2024-09-25T16:42:30.502050Z",
     "iopub.status.idle": "2024-09-25T16:42:30.508079Z",
     "shell.execute_reply": "2024-09-25T16:42:30.507263Z"
    },
    "papermill": {
     "duration": 0.066401,
     "end_time": "2024-09-25T16:42:30.509992",
     "exception": false,
     "start_time": "2024-09-25T16:42:30.443591",
     "status": "completed"
    },
    "tags": []
   },
   "outputs": [
    {
     "data": {
      "text/plain": [
       "(697, 1)"
      ]
     },
     "execution_count": 25,
     "metadata": {},
     "output_type": "execute_result"
    }
   ],
   "source": [
    "predictions = scaler.inverse_transform(predictions)\n",
    "predictions.shape"
   ]
  },
  {
   "cell_type": "code",
   "execution_count": 26,
   "id": "7f9c4479",
   "metadata": {
    "execution": {
     "iopub.execute_input": "2024-09-25T16:42:30.626570Z",
     "iopub.status.busy": "2024-09-25T16:42:30.626264Z",
     "iopub.status.idle": "2024-09-25T16:42:30.632867Z",
     "shell.execute_reply": "2024-09-25T16:42:30.631984Z"
    },
    "papermill": {
     "duration": 0.06702,
     "end_time": "2024-09-25T16:42:30.634662",
     "exception": false,
     "start_time": "2024-09-25T16:42:30.567642",
     "status": "completed"
    },
    "tags": []
   },
   "outputs": [
    {
     "data": {
      "text/plain": [
       "491.95"
      ]
     },
     "execution_count": 26,
     "metadata": {},
     "output_type": "execute_result"
    }
   ],
   "source": [
    "y_test = scaler.inverse_transform(y_test)\n",
    "\n",
    "RMSE = np.sqrt(np.mean( y_test - predictions )**2).round(2)\n",
    "RMSE"
   ]
  },
  {
   "cell_type": "code",
   "execution_count": 27,
   "id": "5f60ed3b",
   "metadata": {
    "execution": {
     "iopub.execute_input": "2024-09-25T16:42:30.751666Z",
     "iopub.status.busy": "2024-09-25T16:42:30.751370Z",
     "iopub.status.idle": "2024-09-25T16:42:30.764060Z",
     "shell.execute_reply": "2024-09-25T16:42:30.763140Z"
    },
    "papermill": {
     "duration": 0.073648,
     "end_time": "2024-09-25T16:42:30.765984",
     "exception": false,
     "start_time": "2024-09-25T16:42:30.692336",
     "status": "completed"
    },
    "tags": []
   },
   "outputs": [
    {
     "data": {
      "text/html": [
       "<div>\n",
       "<style scoped>\n",
       "    .dataframe tbody tr th:only-of-type {\n",
       "        vertical-align: middle;\n",
       "    }\n",
       "\n",
       "    .dataframe tbody tr th {\n",
       "        vertical-align: top;\n",
       "    }\n",
       "\n",
       "    .dataframe thead th {\n",
       "        text-align: right;\n",
       "    }\n",
       "</style>\n",
       "<table border=\"1\" class=\"dataframe\">\n",
       "  <thead>\n",
       "    <tr style=\"text-align: right;\">\n",
       "      <th></th>\n",
       "      <th>Predictions</th>\n",
       "      <th>Actuals</th>\n",
       "    </tr>\n",
       "  </thead>\n",
       "  <tbody>\n",
       "    <tr>\n",
       "      <th>0</th>\n",
       "      <td>10087.436523</td>\n",
       "      <td>9907.407965</td>\n",
       "    </tr>\n",
       "    <tr>\n",
       "      <th>1</th>\n",
       "      <td>10454.896484</td>\n",
       "      <td>10462.412169</td>\n",
       "    </tr>\n",
       "    <tr>\n",
       "      <th>2</th>\n",
       "      <td>11001.828125</td>\n",
       "      <td>10844.570975</td>\n",
       "    </tr>\n",
       "    <tr>\n",
       "      <th>3</th>\n",
       "      <td>11432.762695</td>\n",
       "      <td>10997.459750</td>\n",
       "    </tr>\n",
       "    <tr>\n",
       "      <th>4</th>\n",
       "      <td>11625.045898</td>\n",
       "      <td>11666.409684</td>\n",
       "    </tr>\n",
       "    <tr>\n",
       "      <th>...</th>\n",
       "      <td>...</td>\n",
       "      <td>...</td>\n",
       "    </tr>\n",
       "    <tr>\n",
       "      <th>692</th>\n",
       "      <td>51530.828125</td>\n",
       "      <td>49765.132082</td>\n",
       "    </tr>\n",
       "    <tr>\n",
       "      <th>693</th>\n",
       "      <td>49027.542969</td>\n",
       "      <td>50033.693137</td>\n",
       "    </tr>\n",
       "    <tr>\n",
       "      <th>694</th>\n",
       "      <td>49785.250000</td>\n",
       "      <td>47886.625255</td>\n",
       "    </tr>\n",
       "    <tr>\n",
       "      <th>695</th>\n",
       "      <td>47832.792969</td>\n",
       "      <td>45605.615754</td>\n",
       "    </tr>\n",
       "    <tr>\n",
       "      <th>696</th>\n",
       "      <td>45450.628906</td>\n",
       "      <td>43145.471291</td>\n",
       "    </tr>\n",
       "  </tbody>\n",
       "</table>\n",
       "<p>697 rows × 2 columns</p>\n",
       "</div>"
      ],
      "text/plain": [
       "      Predictions       Actuals\n",
       "0    10087.436523   9907.407965\n",
       "1    10454.896484  10462.412169\n",
       "2    11001.828125  10844.570975\n",
       "3    11432.762695  10997.459750\n",
       "4    11625.045898  11666.409684\n",
       "..            ...           ...\n",
       "692  51530.828125  49765.132082\n",
       "693  49027.542969  50033.693137\n",
       "694  49785.250000  47886.625255\n",
       "695  47832.792969  45605.615754\n",
       "696  45450.628906  43145.471291\n",
       "\n",
       "[697 rows x 2 columns]"
      ]
     },
     "execution_count": 27,
     "metadata": {},
     "output_type": "execute_result"
    }
   ],
   "source": [
    "preds_acts = pd.DataFrame(data={'Predictions':predictions.flatten(), 'Actuals':y_test.flatten()})\n",
    "preds_acts"
   ]
  },
  {
   "cell_type": "code",
   "execution_count": 28,
   "id": "1f078616",
   "metadata": {
    "execution": {
     "iopub.execute_input": "2024-09-25T16:42:30.884774Z",
     "iopub.status.busy": "2024-09-25T16:42:30.884078Z",
     "iopub.status.idle": "2024-09-25T16:42:31.282014Z",
     "shell.execute_reply": "2024-09-25T16:42:31.280847Z"
    },
    "papermill": {
     "duration": 0.458871,
     "end_time": "2024-09-25T16:42:31.284243",
     "exception": false,
     "start_time": "2024-09-25T16:42:30.825372",
     "status": "completed"
    },
    "tags": []
   },
   "outputs": [
    {
     "data": {
      "image/png": "[encoded data removed]",
      "text/plain": [
       "<Figure size 1600x600 with 1 Axes>"
      ]
     },
     "metadata": {},
     "output_type": "display_data"
    }
   ],
   "source": [
    "plt.figure(figsize = (16, 6))\n",
    "plt.plot(preds_acts['Predictions'])\n",
    "plt.plot(preds_acts['Actuals'])\n",
    "plt.legend(['Predictions', 'Actuals'])\n",
    "plt.show()"
   ]
  },
  {
   "cell_type": "code",
   "execution_count": null,
   "id": "4075fd7f",
   "metadata": {
    "papermill": {
     "duration": 0.064337,
     "end_time": "2024-09-25T16:42:31.413978",
     "exception": false,
     "start_time": "2024-09-25T16:42:31.349641",
     "status": "completed"
    },
    "tags": []
   },
   "outputs": [],
   "source": []
  }
 ],
 "metadata": {
  "kaggle": {
   "accelerator": "gpu",
   "dataSources": [
    {
     "datasetId": 2609514,
     "sourceId": 4458516,
     "sourceType": "datasetVersion"
    }
   ],
   "dockerImageVersionId": 30776,
   "isGpuEnabled": true,
   "isInternetEnabled": true,
   "language": "python",
   "sourceType": "notebook"
  },
  "kernelspec": {
   "display_name": "Python 3",
   "language": "python",
   "name": "python3"
  },
  "language_info": {
   "codemirror_mode": {
    "name": "ipython",
    "version": 3
   },
   "file_extension": ".py",
   "mimetype": "text/x-python",
   "name": "python",
   "nbconvert_exporter": "python",
   "pygments_lexer": "ipython3",
   "version": "3.10.14"
  },
  "papermill": {
   "default_parameters": {},
   "duration": 53.723499,
   "end_time": "2024-09-25T16:42:34.230068",
   "environment_variables": {},
   "exception": null,
   "input_path": "__notebook__.ipynb",
   "output_path": "__notebook__.ipynb",
   "parameters": {},
   "start_time": "2024-09-25T16:41:40.506569",
   "version": "2.6.0"
  }
 },
 "nbformat": 4,
 "nbformat_minor": 5
}
