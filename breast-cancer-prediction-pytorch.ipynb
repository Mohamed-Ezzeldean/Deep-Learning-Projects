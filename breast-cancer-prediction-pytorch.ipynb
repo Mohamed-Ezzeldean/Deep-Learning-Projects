{
 "cells": [
  {
   "cell_type": "markdown",
   "id": "e9f53ead",
   "metadata": {
    "papermill": {
     "duration": 0.005827,
     "end_time": "2024-09-24T10:26:34.229702",
     "exception": false,
     "start_time": "2024-09-24T10:26:34.223875",
     "status": "completed"
    },
    "tags": []
   },
   "source": [
    "# Import Libraries"
   ]
  },
  {
   "cell_type": "code",
   "execution_count": 1,
   "id": "5bb10ea5",
   "metadata": {
    "execution": {
     "iopub.execute_input": "2024-09-24T10:26:34.241195Z",
     "iopub.status.busy": "2024-09-24T10:26:34.240836Z",
     "iopub.status.idle": "2024-09-24T10:26:38.532547Z",
     "shell.execute_reply": "2024-09-24T10:26:38.531730Z"
    },
    "papermill": {
     "duration": 4.300146,
     "end_time": "2024-09-24T10:26:38.534942",
     "exception": false,
     "start_time": "2024-09-24T10:26:34.234796",
     "status": "completed"
    },
    "tags": []
   },
   "outputs": [],
   "source": [
    "import torch\n",
    "import torch.nn as nn\n",
    "import torch.optim as optim\n",
    "from sklearn.datasets import load_breast_cancer\n",
    "from sklearn.model_selection import train_test_split\n",
    "from sklearn.preprocessing import StandardScaler"
   ]
  },
  {
   "cell_type": "markdown",
   "id": "a120ca50",
   "metadata": {
    "papermill": {
     "duration": 0.004729,
     "end_time": "2024-09-24T10:26:38.545271",
     "exception": false,
     "start_time": "2024-09-24T10:26:38.540542",
     "status": "completed"
    },
    "tags": []
   },
   "source": [
    "# Explore Data"
   ]
  },
  {
   "cell_type": "code",
   "execution_count": 2,
   "id": "57660e64",
   "metadata": {
    "execution": {
     "iopub.execute_input": "2024-09-24T10:26:38.556682Z",
     "iopub.status.busy": "2024-09-24T10:26:38.556239Z",
     "iopub.status.idle": "2024-09-24T10:26:38.622243Z",
     "shell.execute_reply": "2024-09-24T10:26:38.621389Z"
    },
    "papermill": {
     "duration": 0.074037,
     "end_time": "2024-09-24T10:26:38.624403",
     "exception": false,
     "start_time": "2024-09-24T10:26:38.550366",
     "status": "completed"
    },
    "tags": []
   },
   "outputs": [
    {
     "name": "stdout",
     "output_type": "stream",
     "text": [
      "Using device: cuda\n"
     ]
    }
   ],
   "source": [
    "device = torch.device(\"cuda\" if torch.cuda.is_available() else \"cpu\")\n",
    "print(f\"Using device: {device}\")"
   ]
  },
  {
   "cell_type": "code",
   "execution_count": 3,
   "id": "a6afa432",
   "metadata": {
    "execution": {
     "iopub.execute_input": "2024-09-24T10:26:38.636012Z",
     "iopub.status.busy": "2024-09-24T10:26:38.635712Z",
     "iopub.status.idle": "2024-09-24T10:26:38.652628Z",
     "shell.execute_reply": "2024-09-24T10:26:38.651939Z"
    },
    "papermill": {
     "duration": 0.024687,
     "end_time": "2024-09-24T10:26:38.654453",
     "exception": false,
     "start_time": "2024-09-24T10:26:38.629766",
     "status": "completed"
    },
    "tags": []
   },
   "outputs": [],
   "source": [
    "data = load_breast_cancer()\n",
    "X = data.data\n",
    "y = data.target"
   ]
  },
  {
   "cell_type": "code",
   "execution_count": 4,
   "id": "ccaeb2b3",
   "metadata": {
    "execution": {
     "iopub.execute_input": "2024-09-24T10:26:38.665395Z",
     "iopub.status.busy": "2024-09-24T10:26:38.665073Z",
     "iopub.status.idle": "2024-09-24T10:26:38.670063Z",
     "shell.execute_reply": "2024-09-24T10:26:38.669216Z"
    },
    "papermill": {
     "duration": 0.012899,
     "end_time": "2024-09-24T10:26:38.672370",
     "exception": false,
     "start_time": "2024-09-24T10:26:38.659471",
     "status": "completed"
    },
    "tags": []
   },
   "outputs": [
    {
     "name": "stdout",
     "output_type": "stream",
     "text": [
      "[[1.799e+01 1.038e+01 1.228e+02 ... 2.654e-01 4.601e-01 1.189e-01]\n",
      " [2.057e+01 1.777e+01 1.329e+02 ... 1.860e-01 2.750e-01 8.902e-02]\n",
      " [1.969e+01 2.125e+01 1.300e+02 ... 2.430e-01 3.613e-01 8.758e-02]\n",
      " ...\n",
      " [1.660e+01 2.808e+01 1.083e+02 ... 1.418e-01 2.218e-01 7.820e-02]\n",
      " [2.060e+01 2.933e+01 1.401e+02 ... 2.650e-01 4.087e-01 1.240e-01]\n",
      " [7.760e+00 2.454e+01 4.792e+01 ... 0.000e+00 2.871e-01 7.039e-02]]\n"
     ]
    }
   ],
   "source": [
    "print(X)"
   ]
  },
  {
   "cell_type": "code",
   "execution_count": 5,
   "id": "36af3ea0",
   "metadata": {
    "execution": {
     "iopub.execute_input": "2024-09-24T10:26:38.684658Z",
     "iopub.status.busy": "2024-09-24T10:26:38.684371Z",
     "iopub.status.idle": "2024-09-24T10:26:38.690486Z",
     "shell.execute_reply": "2024-09-24T10:26:38.689823Z"
    },
    "papermill": {
     "duration": 0.013767,
     "end_time": "2024-09-24T10:26:38.692266",
     "exception": false,
     "start_time": "2024-09-24T10:26:38.678499",
     "status": "completed"
    },
    "tags": []
   },
   "outputs": [],
   "source": [
    "X_train, X_test, y_train, y_test = train_test_split(X, y, test_size=0.2, random_state=42)"
   ]
  },
  {
   "cell_type": "code",
   "execution_count": 6,
   "id": "427f5865",
   "metadata": {
    "execution": {
     "iopub.execute_input": "2024-09-24T10:26:38.703266Z",
     "iopub.status.busy": "2024-09-24T10:26:38.702988Z",
     "iopub.status.idle": "2024-09-24T10:26:38.709747Z",
     "shell.execute_reply": "2024-09-24T10:26:38.709086Z"
    },
    "papermill": {
     "duration": 0.014395,
     "end_time": "2024-09-24T10:26:38.711642",
     "exception": false,
     "start_time": "2024-09-24T10:26:38.697247",
     "status": "completed"
    },
    "tags": []
   },
   "outputs": [],
   "source": [
    "scaler = StandardScaler()\n",
    "\n",
    "X_train = scaler.fit_transform(X_train)\n",
    "X_test = scaler.transform(X_test)"
   ]
  },
  {
   "cell_type": "code",
   "execution_count": 7,
   "id": "4838841f",
   "metadata": {
    "execution": {
     "iopub.execute_input": "2024-09-24T10:26:38.722785Z",
     "iopub.status.busy": "2024-09-24T10:26:38.722498Z",
     "iopub.status.idle": "2024-09-24T10:26:38.891277Z",
     "shell.execute_reply": "2024-09-24T10:26:38.890296Z"
    },
    "papermill": {
     "duration": 0.177008,
     "end_time": "2024-09-24T10:26:38.893756",
     "exception": false,
     "start_time": "2024-09-24T10:26:38.716748",
     "status": "completed"
    },
    "tags": []
   },
   "outputs": [],
   "source": [
    "X_train = torch.tensor(X_train, dtype=torch.float32).to(device)\n",
    "y_train = torch.tensor(y_train, dtype=torch.float32).to(device)\n",
    "X_test = torch.tensor(X_test, dtype=torch.float32).to(device)\n",
    "y_test = torch.tensor(y_test, dtype=torch.float32).to(device)"
   ]
  },
  {
   "cell_type": "markdown",
   "id": "b4340645",
   "metadata": {
    "papermill": {
     "duration": 0.005097,
     "end_time": "2024-09-24T10:26:38.904244",
     "exception": false,
     "start_time": "2024-09-24T10:26:38.899147",
     "status": "completed"
    },
    "tags": []
   },
   "source": [
    "# Modeling"
   ]
  },
  {
   "cell_type": "code",
   "execution_count": 8,
   "id": "627ef1ca",
   "metadata": {
    "execution": {
     "iopub.execute_input": "2024-09-24T10:26:38.916061Z",
     "iopub.status.busy": "2024-09-24T10:26:38.915764Z",
     "iopub.status.idle": "2024-09-24T10:26:38.922176Z",
     "shell.execute_reply": "2024-09-24T10:26:38.921290Z"
    },
    "papermill": {
     "duration": 0.014674,
     "end_time": "2024-09-24T10:26:38.924451",
     "exception": false,
     "start_time": "2024-09-24T10:26:38.909777",
     "status": "completed"
    },
    "tags": []
   },
   "outputs": [],
   "source": [
    "class NeuralNet(nn.Module):\n",
    "\n",
    "  def __init__(self, input_size, hidden_size, output_size):\n",
    "    super(NeuralNet, self).__init__()\n",
    "    self.fc1 = nn.Linear(input_size, hidden_size)\n",
    "    self.relu = nn.ReLU()\n",
    "    self.fc2 = nn.Linear(hidden_size, output_size)\n",
    "    self.sigmoid = nn.Sigmoid()\n",
    "\n",
    "  def forward(self, x):\n",
    "    out = self.fc1(x)\n",
    "    out = self.relu(out)\n",
    "    out = self.fc2(out)\n",
    "    out = self.sigmoid(out)\n",
    "    return out"
   ]
  },
  {
   "cell_type": "code",
   "execution_count": 9,
   "id": "73ae9c08",
   "metadata": {
    "execution": {
     "iopub.execute_input": "2024-09-24T10:26:38.937276Z",
     "iopub.status.busy": "2024-09-24T10:26:38.936943Z",
     "iopub.status.idle": "2024-09-24T10:26:38.941890Z",
     "shell.execute_reply": "2024-09-24T10:26:38.940965Z"
    },
    "papermill": {
     "duration": 0.014386,
     "end_time": "2024-09-24T10:26:38.944321",
     "exception": false,
     "start_time": "2024-09-24T10:26:38.929935",
     "status": "completed"
    },
    "tags": []
   },
   "outputs": [],
   "source": [
    "input_size = X_train.shape[1]\n",
    "hidden_size = 64\n",
    "output_size = 1\n",
    "learning_rate = 0.001\n",
    "num_epochs = 100"
   ]
  },
  {
   "cell_type": "code",
   "execution_count": 10,
   "id": "df2df62c",
   "metadata": {
    "execution": {
     "iopub.execute_input": "2024-09-24T10:26:38.957475Z",
     "iopub.status.busy": "2024-09-24T10:26:38.957112Z",
     "iopub.status.idle": "2024-09-24T10:26:38.974948Z",
     "shell.execute_reply": "2024-09-24T10:26:38.974293Z"
    },
    "papermill": {
     "duration": 0.026518,
     "end_time": "2024-09-24T10:26:38.976825",
     "exception": false,
     "start_time": "2024-09-24T10:26:38.950307",
     "status": "completed"
    },
    "tags": []
   },
   "outputs": [],
   "source": [
    "model = NeuralNet(input_size, hidden_size, output_size).to(device)"
   ]
  },
  {
   "cell_type": "code",
   "execution_count": 11,
   "id": "4f900c24",
   "metadata": {
    "execution": {
     "iopub.execute_input": "2024-09-24T10:26:38.987898Z",
     "iopub.status.busy": "2024-09-24T10:26:38.987593Z",
     "iopub.status.idle": "2024-09-24T10:26:40.263103Z",
     "shell.execute_reply": "2024-09-24T10:26:40.262323Z"
    },
    "papermill": {
     "duration": 1.283531,
     "end_time": "2024-09-24T10:26:40.265335",
     "exception": false,
     "start_time": "2024-09-24T10:26:38.981804",
     "status": "completed"
    },
    "tags": []
   },
   "outputs": [],
   "source": [
    "criterion = nn.BCELoss()\n",
    "optimizer = optim.Adam(model.parameters(), lr=learning_rate)"
   ]
  },
  {
   "cell_type": "code",
   "execution_count": 12,
   "id": "b4a8d07c",
   "metadata": {
    "execution": {
     "iopub.execute_input": "2024-09-24T10:26:40.277193Z",
     "iopub.status.busy": "2024-09-24T10:26:40.276771Z",
     "iopub.status.idle": "2024-09-24T10:26:40.880830Z",
     "shell.execute_reply": "2024-09-24T10:26:40.879572Z"
    },
    "papermill": {
     "duration": 0.612246,
     "end_time": "2024-09-24T10:26:40.882950",
     "exception": false,
     "start_time": "2024-09-24T10:26:40.270704",
     "status": "completed"
    },
    "tags": []
   },
   "outputs": [
    {
     "name": "stdout",
     "output_type": "stream",
     "text": [
      "Epoch [10/100], Loss : 0.5718, Accuracy: 89.01%\n",
      "Epoch [20/100], Loss : 0.4501, Accuracy: 94.07%\n",
      "Epoch [30/100], Loss : 0.3591, Accuracy: 94.07%\n",
      "Epoch [40/100], Loss : 0.2896, Accuracy: 94.95%\n",
      "Epoch [50/100], Loss : 0.2375, Accuracy: 95.60%\n",
      "Epoch [60/100], Loss : 0.1994, Accuracy: 95.82%\n",
      "Epoch [70/100], Loss : 0.1714, Accuracy: 96.04%\n",
      "Epoch [80/100], Loss : 0.1506, Accuracy: 96.48%\n",
      "Epoch [90/100], Loss : 0.1345, Accuracy: 97.36%\n",
      "Epoch [100/100], Loss : 0.1218, Accuracy: 97.36%\n"
     ]
    }
   ],
   "source": [
    "for epoch in range(num_epochs):\n",
    "  model.train()\n",
    "  optimizer.zero_grad()\n",
    "  outputs = model(X_train)\n",
    "  loss = criterion(outputs, y_train.view(-1,1))\n",
    "  loss.backward()\n",
    "  optimizer.step()\n",
    "\n",
    "  # claculate accuracy\n",
    "  with torch.no_grad():\n",
    "    predicted = outputs.round()\n",
    "    correct = (predicted == y_train.view(-1,1)).float().sum()\n",
    "    accuracy = correct/y_train.size(0)\n",
    "\n",
    "  if (epoch+1) % 10 == 0:\n",
    "    print(f\"Epoch [{epoch+1}/{num_epochs}], Loss : {loss.item():.4f}, Accuracy: {accuracy.item() * 100:.2f}%\")"
   ]
  },
  {
   "cell_type": "code",
   "execution_count": 13,
   "id": "92aba64b",
   "metadata": {
    "execution": {
     "iopub.execute_input": "2024-09-24T10:26:40.894773Z",
     "iopub.status.busy": "2024-09-24T10:26:40.894467Z",
     "iopub.status.idle": "2024-09-24T10:26:40.900747Z",
     "shell.execute_reply": "2024-09-24T10:26:40.899840Z"
    },
    "papermill": {
     "duration": 0.014351,
     "end_time": "2024-09-24T10:26:40.902763",
     "exception": false,
     "start_time": "2024-09-24T10:26:40.888412",
     "status": "completed"
    },
    "tags": []
   },
   "outputs": [
    {
     "name": "stdout",
     "output_type": "stream",
     "text": [
      "Accuracy on training data: 97.36%\n"
     ]
    }
   ],
   "source": [
    "model.eval()\n",
    "with torch.no_grad():\n",
    "  outputs = model(X_train)\n",
    "  predicted = outputs.round()\n",
    "  correct = (predicted == y_train.view(-1,1)).float().sum()\n",
    "  accuracy = correct/y_train.size(0)\n",
    "  print(f\"Accuracy on training data: {accuracy.item() * 100:.2f}%\")"
   ]
  },
  {
   "cell_type": "code",
   "execution_count": 14,
   "id": "0d0e3043",
   "metadata": {
    "execution": {
     "iopub.execute_input": "2024-09-24T10:26:40.914241Z",
     "iopub.status.busy": "2024-09-24T10:26:40.913940Z",
     "iopub.status.idle": "2024-09-24T10:26:40.920435Z",
     "shell.execute_reply": "2024-09-24T10:26:40.919500Z"
    },
    "papermill": {
     "duration": 0.014312,
     "end_time": "2024-09-24T10:26:40.922259",
     "exception": false,
     "start_time": "2024-09-24T10:26:40.907947",
     "status": "completed"
    },
    "tags": []
   },
   "outputs": [
    {
     "name": "stdout",
     "output_type": "stream",
     "text": [
      "Accuracy on test data: 98.25%\n"
     ]
    }
   ],
   "source": [
    "# evaluation on test set\n",
    "model.eval()\n",
    "with torch.no_grad():\n",
    "  outputs = model(X_test)\n",
    "  predicted = outputs.round()\n",
    "  correct = (predicted == y_test.view(-1,1)).float().sum()\n",
    "  accuracy = correct/y_test.size(0)\n",
    "  print(f\"Accuracy on test data: {accuracy.item() * 100:.2f}%\")"
   ]
  },
  {
   "cell_type": "code",
   "execution_count": null,
   "id": "c3f749e7",
   "metadata": {
    "papermill": {
     "duration": 0.005008,
     "end_time": "2024-09-24T10:26:40.932549",
     "exception": false,
     "start_time": "2024-09-24T10:26:40.927541",
     "status": "completed"
    },
    "tags": []
   },
   "outputs": [],
   "source": []
  }
 ],
 "metadata": {
  "kaggle": {
   "accelerator": "gpu",
   "dataSources": [],
   "dockerImageVersionId": 30776,
   "isGpuEnabled": true,
   "isInternetEnabled": true,
   "language": "python",
   "sourceType": "notebook"
  },
  "kernelspec": {
   "display_name": "Python 3",
   "language": "python",
   "name": "python3"
  },
  "language_info": {
   "codemirror_mode": {
    "name": "ipython",
    "version": 3
   },
   "file_extension": ".py",
   "mimetype": "text/x-python",
   "name": "python",
   "nbconvert_exporter": "python",
   "pygments_lexer": "ipython3",
   "version": "3.10.14"
  },
  "papermill": {
   "default_parameters": {},
   "duration": 10.660609,
   "end_time": "2024-09-24T10:26:42.159881",
   "environment_variables": {},
   "exception": null,
   "input_path": "__notebook__.ipynb",
   "output_path": "__notebook__.ipynb",
   "parameters": {},
   "start_time": "2024-09-24T10:26:31.499272",
   "version": "2.6.0"
  }
 },
 "nbformat": 4,
 "nbformat_minor": 5
}
