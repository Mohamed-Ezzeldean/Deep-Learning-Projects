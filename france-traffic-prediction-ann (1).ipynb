{
 "cells": [
  {
   "cell_type": "markdown",
   "id": "f532f17f",
   "metadata": {
    "papermill": {
     "duration": 0.014357,
     "end_time": "2024-09-23T12:58:32.818932",
     "exception": false,
     "start_time": "2024-09-23T12:58:32.804575",
     "status": "completed"
    },
    "tags": []
   },
   "source": [
    "# Import Libraries"
   ]
  },
  {
   "cell_type": "code",
   "execution_count": 1,
   "id": "7a0fa3c3",
   "metadata": {
    "execution": {
     "iopub.execute_input": "2024-09-23T12:58:32.845753Z",
     "iopub.status.busy": "2024-09-23T12:58:32.845186Z",
     "iopub.status.idle": "2024-09-23T12:58:50.492933Z",
     "shell.execute_reply": "2024-09-23T12:58:50.490724Z"
    },
    "papermill": {
     "duration": 17.665939,
     "end_time": "2024-09-23T12:58:50.497208",
     "exception": false,
     "start_time": "2024-09-23T12:58:32.831269",
     "status": "completed"
    },
    "tags": []
   },
   "outputs": [],
   "source": [
    "import numpy as np \n",
    "import pandas as pd\n",
    "import seaborn as sns\n",
    "import matplotlib.pyplot as plt\n",
    "%matplotlib inline\n",
    "import matplotlib.colors as mcolors\n",
    "\n",
    "from sklearn.preprocessing import StandardScaler\n",
    "from sklearn.model_selection import train_test_split\n",
    "\n",
    "from tensorflow.keras import Sequential\n",
    "from tensorflow.keras.layers import Dense, BatchNormalization,Dropout\n",
    "import tensorflow.keras as tf\n",
    "\n",
    "\n",
    "import warnings\n",
    "warnings.filterwarnings('ignore')"
   ]
  },
  {
   "cell_type": "markdown",
   "id": "d63cb590",
   "metadata": {
    "papermill": {
     "duration": 0.012038,
     "end_time": "2024-09-23T12:58:50.523093",
     "exception": false,
     "start_time": "2024-09-23T12:58:50.511055",
     "status": "completed"
    },
    "tags": []
   },
   "source": [
    "# Explore Data"
   ]
  },
  {
   "cell_type": "code",
   "execution_count": 2,
   "id": "c7e661c9",
   "metadata": {
    "execution": {
     "iopub.execute_input": "2024-09-23T12:58:50.550994Z",
     "iopub.status.busy": "2024-09-23T12:58:50.550008Z",
     "iopub.status.idle": "2024-09-23T12:58:52.051871Z",
     "shell.execute_reply": "2024-09-23T12:58:52.050548Z"
    },
    "papermill": {
     "duration": 1.518963,
     "end_time": "2024-09-23T12:58:52.054832",
     "exception": false,
     "start_time": "2024-09-23T12:58:50.535869",
     "status": "completed"
    },
    "tags": []
   },
   "outputs": [],
   "source": [
    "data=pd.read_csv('../input/public-transport-traffic-data-in-france/Travel_titles_validations_in_Paris_and_suburbs.csv')"
   ]
  },
  {
   "cell_type": "code",
   "execution_count": 3,
   "id": "cca90d3a",
   "metadata": {
    "execution": {
     "iopub.execute_input": "2024-09-23T12:58:52.083057Z",
     "iopub.status.busy": "2024-09-23T12:58:52.082183Z",
     "iopub.status.idle": "2024-09-23T12:58:52.109884Z",
     "shell.execute_reply": "2024-09-23T12:58:52.108524Z"
    },
    "papermill": {
     "duration": 0.044846,
     "end_time": "2024-09-23T12:58:52.112608",
     "exception": false,
     "start_time": "2024-09-23T12:58:52.067762",
     "status": "completed"
    },
    "tags": []
   },
   "outputs": [
    {
     "data": {
      "text/html": [
       "<div>\n",
       "<style scoped>\n",
       "    .dataframe tbody tr th:only-of-type {\n",
       "        vertical-align: middle;\n",
       "    }\n",
       "\n",
       "    .dataframe tbody tr th {\n",
       "        vertical-align: top;\n",
       "    }\n",
       "\n",
       "    .dataframe thead th {\n",
       "        text-align: right;\n",
       "    }\n",
       "</style>\n",
       "<table border=\"1\" class=\"dataframe\">\n",
       "  <thead>\n",
       "    <tr style=\"text-align: right;\">\n",
       "      <th></th>\n",
       "      <th>DATE</th>\n",
       "      <th>STATION_NAME</th>\n",
       "      <th>ID_REFA_LDA</th>\n",
       "      <th>TITLE_CATEGORY</th>\n",
       "      <th>NB_VALID</th>\n",
       "    </tr>\n",
       "  </thead>\n",
       "  <tbody>\n",
       "    <tr>\n",
       "      <th>0</th>\n",
       "      <td>21/07/2019</td>\n",
       "      <td>LA TOUR MAUBOURG</td>\n",
       "      <td>71242.0</td>\n",
       "      <td>NAVIGO</td>\n",
       "      <td>1141</td>\n",
       "    </tr>\n",
       "    <tr>\n",
       "      <th>1</th>\n",
       "      <td>21/07/2019</td>\n",
       "      <td>PARMENTIER</td>\n",
       "      <td>71801.0</td>\n",
       "      <td>NOT DEFINED</td>\n",
       "      <td>Less than 5</td>\n",
       "    </tr>\n",
       "    <tr>\n",
       "      <th>2</th>\n",
       "      <td>21/07/2019</td>\n",
       "      <td>PARMENTIER</td>\n",
       "      <td>71801.0</td>\n",
       "      <td>TST</td>\n",
       "      <td>97</td>\n",
       "    </tr>\n",
       "    <tr>\n",
       "      <th>3</th>\n",
       "      <td>21/07/2019</td>\n",
       "      <td>PEREIRE-LEVALLOIS</td>\n",
       "      <td>71453.0</td>\n",
       "      <td>FGT</td>\n",
       "      <td>53</td>\n",
       "    </tr>\n",
       "    <tr>\n",
       "      <th>4</th>\n",
       "      <td>21/07/2019</td>\n",
       "      <td>PERNETY</td>\n",
       "      <td>412687.0</td>\n",
       "      <td>OTHER</td>\n",
       "      <td>36</td>\n",
       "    </tr>\n",
       "  </tbody>\n",
       "</table>\n",
       "</div>"
      ],
      "text/plain": [
       "         DATE       STATION_NAME  ID_REFA_LDA TITLE_CATEGORY     NB_VALID\n",
       "0  21/07/2019   LA TOUR MAUBOURG      71242.0         NAVIGO         1141\n",
       "1  21/07/2019         PARMENTIER      71801.0    NOT DEFINED  Less than 5\n",
       "2  21/07/2019         PARMENTIER      71801.0            TST           97\n",
       "3  21/07/2019  PEREIRE-LEVALLOIS      71453.0            FGT           53\n",
       "4  21/07/2019            PERNETY     412687.0          OTHER           36"
      ]
     },
     "execution_count": 3,
     "metadata": {},
     "output_type": "execute_result"
    }
   ],
   "source": [
    "data.head()"
   ]
  },
  {
   "cell_type": "code",
   "execution_count": 4,
   "id": "0e76751d",
   "metadata": {
    "execution": {
     "iopub.execute_input": "2024-09-23T12:58:52.142403Z",
     "iopub.status.busy": "2024-09-23T12:58:52.141396Z",
     "iopub.status.idle": "2024-09-23T12:58:52.155633Z",
     "shell.execute_reply": "2024-09-23T12:58:52.154310Z"
    },
    "papermill": {
     "duration": 0.031906,
     "end_time": "2024-09-23T12:58:52.158179",
     "exception": false,
     "start_time": "2024-09-23T12:58:52.126273",
     "status": "completed"
    },
    "tags": []
   },
   "outputs": [
    {
     "data": {
      "text/html": [
       "<div>\n",
       "<style scoped>\n",
       "    .dataframe tbody tr th:only-of-type {\n",
       "        vertical-align: middle;\n",
       "    }\n",
       "\n",
       "    .dataframe tbody tr th {\n",
       "        vertical-align: top;\n",
       "    }\n",
       "\n",
       "    .dataframe thead th {\n",
       "        text-align: right;\n",
       "    }\n",
       "</style>\n",
       "<table border=\"1\" class=\"dataframe\">\n",
       "  <thead>\n",
       "    <tr style=\"text-align: right;\">\n",
       "      <th></th>\n",
       "      <th>DATE</th>\n",
       "      <th>STATION_NAME</th>\n",
       "      <th>ID_REFA_LDA</th>\n",
       "      <th>TITLE_CATEGORY</th>\n",
       "      <th>NB_VALID</th>\n",
       "    </tr>\n",
       "  </thead>\n",
       "  <tbody>\n",
       "    <tr>\n",
       "      <th>883953</th>\n",
       "      <td>04/09/2019</td>\n",
       "      <td>MONTPARNASSE</td>\n",
       "      <td>74040.0</td>\n",
       "      <td>NOT DEFINED</td>\n",
       "      <td>282</td>\n",
       "    </tr>\n",
       "    <tr>\n",
       "      <th>883954</th>\n",
       "      <td>04/09/2019</td>\n",
       "      <td>MOUTON-DUVERNET</td>\n",
       "      <td>73653.0</td>\n",
       "      <td>NAVIGO</td>\n",
       "      <td>2805</td>\n",
       "    </tr>\n",
       "    <tr>\n",
       "      <th>883955</th>\n",
       "      <td>04/09/2019</td>\n",
       "      <td>NATION</td>\n",
       "      <td>71673.0</td>\n",
       "      <td>NAVIGO</td>\n",
       "      <td>14377</td>\n",
       "    </tr>\n",
       "    <tr>\n",
       "      <th>883956</th>\n",
       "      <td>04/09/2019</td>\n",
       "      <td>NATIONALE</td>\n",
       "      <td>71043.0</td>\n",
       "      <td>NAVIGO</td>\n",
       "      <td>4613</td>\n",
       "    </tr>\n",
       "    <tr>\n",
       "      <th>883957</th>\n",
       "      <td>04/09/2019</td>\n",
       "      <td>BEL-AIR</td>\n",
       "      <td>73650.0</td>\n",
       "      <td>IMAGINE R</td>\n",
       "      <td>1019</td>\n",
       "    </tr>\n",
       "  </tbody>\n",
       "</table>\n",
       "</div>"
      ],
      "text/plain": [
       "              DATE     STATION_NAME  ID_REFA_LDA TITLE_CATEGORY NB_VALID\n",
       "883953  04/09/2019     MONTPARNASSE      74040.0    NOT DEFINED      282\n",
       "883954  04/09/2019  MOUTON-DUVERNET      73653.0         NAVIGO     2805\n",
       "883955  04/09/2019           NATION      71673.0         NAVIGO    14377\n",
       "883956  04/09/2019        NATIONALE      71043.0         NAVIGO     4613\n",
       "883957  04/09/2019          BEL-AIR      73650.0      IMAGINE R     1019"
      ]
     },
     "execution_count": 4,
     "metadata": {},
     "output_type": "execute_result"
    }
   ],
   "source": [
    "data.tail()"
   ]
  },
  {
   "cell_type": "code",
   "execution_count": 5,
   "id": "20221052",
   "metadata": {
    "execution": {
     "iopub.execute_input": "2024-09-23T12:58:52.187170Z",
     "iopub.status.busy": "2024-09-23T12:58:52.186430Z",
     "iopub.status.idle": "2024-09-23T12:58:52.594808Z",
     "shell.execute_reply": "2024-09-23T12:58:52.593542Z"
    },
    "papermill": {
     "duration": 0.425885,
     "end_time": "2024-09-23T12:58:52.597720",
     "exception": false,
     "start_time": "2024-09-23T12:58:52.171835",
     "status": "completed"
    },
    "tags": []
   },
   "outputs": [
    {
     "name": "stdout",
     "output_type": "stream",
     "text": [
      "<class 'pandas.core.frame.DataFrame'>\n",
      "RangeIndex: 883958 entries, 0 to 883957\n",
      "Data columns (total 5 columns):\n",
      " #   Column          Non-Null Count   Dtype  \n",
      "---  ------          --------------   -----  \n",
      " 0   DATE            883958 non-null  object \n",
      " 1   STATION_NAME    883958 non-null  object \n",
      " 2   ID_REFA_LDA     882459 non-null  float64\n",
      " 3   TITLE_CATEGORY  883958 non-null  object \n",
      " 4   NB_VALID        883958 non-null  object \n",
      "dtypes: float64(1), object(4)\n",
      "memory usage: 33.7+ MB\n"
     ]
    }
   ],
   "source": [
    "data.info()"
   ]
  },
  {
   "cell_type": "code",
   "execution_count": 6,
   "id": "17d49a41",
   "metadata": {
    "execution": {
     "iopub.execute_input": "2024-09-23T12:58:52.626857Z",
     "iopub.status.busy": "2024-09-23T12:58:52.626396Z",
     "iopub.status.idle": "2024-09-23T12:58:52.634893Z",
     "shell.execute_reply": "2024-09-23T12:58:52.633678Z"
    },
    "papermill": {
     "duration": 0.025993,
     "end_time": "2024-09-23T12:58:52.637672",
     "exception": false,
     "start_time": "2024-09-23T12:58:52.611679",
     "status": "completed"
    },
    "tags": []
   },
   "outputs": [
    {
     "data": {
      "text/plain": [
       "(883958, 5)"
      ]
     },
     "execution_count": 6,
     "metadata": {},
     "output_type": "execute_result"
    }
   ],
   "source": [
    "data.shape"
   ]
  },
  {
   "cell_type": "code",
   "execution_count": 7,
   "id": "230ee7df",
   "metadata": {
    "execution": {
     "iopub.execute_input": "2024-09-23T12:58:52.667862Z",
     "iopub.status.busy": "2024-09-23T12:58:52.667289Z",
     "iopub.status.idle": "2024-09-23T12:58:53.055017Z",
     "shell.execute_reply": "2024-09-23T12:58:53.053541Z"
    },
    "papermill": {
     "duration": 0.405957,
     "end_time": "2024-09-23T12:58:53.057635",
     "exception": false,
     "start_time": "2024-09-23T12:58:52.651678",
     "status": "completed"
    },
    "tags": []
   },
   "outputs": [
    {
     "data": {
      "text/plain": [
       "DATE                 0\n",
       "STATION_NAME         0\n",
       "ID_REFA_LDA       1499\n",
       "TITLE_CATEGORY       0\n",
       "NB_VALID             0\n",
       "dtype: int64"
      ]
     },
     "execution_count": 7,
     "metadata": {},
     "output_type": "execute_result"
    }
   ],
   "source": [
    "data.isna().sum()"
   ]
  },
  {
   "cell_type": "code",
   "execution_count": 8,
   "id": "15772405",
   "metadata": {
    "execution": {
     "iopub.execute_input": "2024-09-23T12:58:53.087773Z",
     "iopub.status.busy": "2024-09-23T12:58:53.087317Z",
     "iopub.status.idle": "2024-09-23T12:58:53.573568Z",
     "shell.execute_reply": "2024-09-23T12:58:53.572074Z"
    },
    "papermill": {
     "duration": 0.504089,
     "end_time": "2024-09-23T12:58:53.576200",
     "exception": false,
     "start_time": "2024-09-23T12:58:53.072111",
     "status": "completed"
    },
    "tags": []
   },
   "outputs": [
    {
     "data": {
      "text/plain": [
       "1241"
      ]
     },
     "execution_count": 8,
     "metadata": {},
     "output_type": "execute_result"
    }
   ],
   "source": [
    "data.duplicated().sum()"
   ]
  },
  {
   "cell_type": "markdown",
   "id": "35c5a6e3",
   "metadata": {
    "papermill": {
     "duration": 0.018438,
     "end_time": "2024-09-23T12:58:53.613422",
     "exception": false,
     "start_time": "2024-09-23T12:58:53.594984",
     "status": "completed"
    },
    "tags": []
   },
   "source": [
    "# Data Cleaning"
   ]
  },
  {
   "cell_type": "code",
   "execution_count": 9,
   "id": "b75e6c3a",
   "metadata": {
    "execution": {
     "iopub.execute_input": "2024-09-23T12:58:53.645483Z",
     "iopub.status.busy": "2024-09-23T12:58:53.645027Z",
     "iopub.status.idle": "2024-09-23T12:58:54.094182Z",
     "shell.execute_reply": "2024-09-23T12:58:54.093001Z"
    },
    "papermill": {
     "duration": 0.468263,
     "end_time": "2024-09-23T12:58:54.096948",
     "exception": false,
     "start_time": "2024-09-23T12:58:53.628685",
     "status": "completed"
    },
    "tags": []
   },
   "outputs": [],
   "source": [
    "data.dropna(inplace=True)"
   ]
  },
  {
   "cell_type": "code",
   "execution_count": 10,
   "id": "13bf6ca1",
   "metadata": {
    "execution": {
     "iopub.execute_input": "2024-09-23T12:58:54.128841Z",
     "iopub.status.busy": "2024-09-23T12:58:54.128315Z",
     "iopub.status.idle": "2024-09-23T12:58:54.515689Z",
     "shell.execute_reply": "2024-09-23T12:58:54.514435Z"
    },
    "papermill": {
     "duration": 0.406596,
     "end_time": "2024-09-23T12:58:54.518401",
     "exception": false,
     "start_time": "2024-09-23T12:58:54.111805",
     "status": "completed"
    },
    "tags": []
   },
   "outputs": [
    {
     "data": {
      "text/plain": [
       "DATE              0\n",
       "STATION_NAME      0\n",
       "ID_REFA_LDA       0\n",
       "TITLE_CATEGORY    0\n",
       "NB_VALID          0\n",
       "dtype: int64"
      ]
     },
     "execution_count": 10,
     "metadata": {},
     "output_type": "execute_result"
    }
   ],
   "source": [
    "data.isna().sum()"
   ]
  },
  {
   "cell_type": "code",
   "execution_count": 11,
   "id": "588b4c46",
   "metadata": {
    "execution": {
     "iopub.execute_input": "2024-09-23T12:58:54.548726Z",
     "iopub.status.busy": "2024-09-23T12:58:54.548258Z",
     "iopub.status.idle": "2024-09-23T12:58:55.121052Z",
     "shell.execute_reply": "2024-09-23T12:58:55.119802Z"
    },
    "papermill": {
     "duration": 0.591245,
     "end_time": "2024-09-23T12:58:55.123911",
     "exception": false,
     "start_time": "2024-09-23T12:58:54.532666",
     "status": "completed"
    },
    "tags": []
   },
   "outputs": [],
   "source": [
    "data.drop_duplicates(keep='first',inplace=True)"
   ]
  },
  {
   "cell_type": "code",
   "execution_count": 12,
   "id": "c3c033cc",
   "metadata": {
    "execution": {
     "iopub.execute_input": "2024-09-23T12:58:55.154270Z",
     "iopub.status.busy": "2024-09-23T12:58:55.153858Z",
     "iopub.status.idle": "2024-09-23T12:58:55.623599Z",
     "shell.execute_reply": "2024-09-23T12:58:55.622379Z"
    },
    "papermill": {
     "duration": 0.488181,
     "end_time": "2024-09-23T12:58:55.626369",
     "exception": false,
     "start_time": "2024-09-23T12:58:55.138188",
     "status": "completed"
    },
    "tags": []
   },
   "outputs": [
    {
     "data": {
      "text/plain": [
       "0"
      ]
     },
     "execution_count": 12,
     "metadata": {},
     "output_type": "execute_result"
    }
   ],
   "source": [
    "data.duplicated().sum()"
   ]
  },
  {
   "cell_type": "code",
   "execution_count": 13,
   "id": "ad62aeb4",
   "metadata": {
    "execution": {
     "iopub.execute_input": "2024-09-23T12:58:55.657814Z",
     "iopub.status.busy": "2024-09-23T12:58:55.657340Z",
     "iopub.status.idle": "2024-09-23T12:58:55.664811Z",
     "shell.execute_reply": "2024-09-23T12:58:55.663596Z"
    },
    "papermill": {
     "duration": 0.026154,
     "end_time": "2024-09-23T12:58:55.667233",
     "exception": false,
     "start_time": "2024-09-23T12:58:55.641079",
     "status": "completed"
    },
    "tags": []
   },
   "outputs": [
    {
     "data": {
      "text/plain": [
       "(881218, 5)"
      ]
     },
     "execution_count": 13,
     "metadata": {},
     "output_type": "execute_result"
    }
   ],
   "source": [
    "data.shape"
   ]
  },
  {
   "cell_type": "code",
   "execution_count": 14,
   "id": "08dcc7ba",
   "metadata": {
    "execution": {
     "iopub.execute_input": "2024-09-23T12:58:55.699067Z",
     "iopub.status.busy": "2024-09-23T12:58:55.698617Z",
     "iopub.status.idle": "2024-09-23T12:58:55.728373Z",
     "shell.execute_reply": "2024-09-23T12:58:55.727229Z"
    },
    "papermill": {
     "duration": 0.04918,
     "end_time": "2024-09-23T12:58:55.731214",
     "exception": false,
     "start_time": "2024-09-23T12:58:55.682034",
     "status": "completed"
    },
    "tags": []
   },
   "outputs": [
    {
     "data": {
      "text/html": [
       "<div>\n",
       "<style scoped>\n",
       "    .dataframe tbody tr th:only-of-type {\n",
       "        vertical-align: middle;\n",
       "    }\n",
       "\n",
       "    .dataframe tbody tr th {\n",
       "        vertical-align: top;\n",
       "    }\n",
       "\n",
       "    .dataframe thead th {\n",
       "        text-align: right;\n",
       "    }\n",
       "</style>\n",
       "<table border=\"1\" class=\"dataframe\">\n",
       "  <thead>\n",
       "    <tr style=\"text-align: right;\">\n",
       "      <th></th>\n",
       "      <th>DATE</th>\n",
       "      <th>STATION_NAME</th>\n",
       "      <th>ID_REFA_LDA</th>\n",
       "      <th>TITLE_CATEGORY</th>\n",
       "      <th>NB_VALID</th>\n",
       "    </tr>\n",
       "  </thead>\n",
       "  <tbody>\n",
       "    <tr>\n",
       "      <th>98</th>\n",
       "      <td>21/07/2019</td>\n",
       "      <td>VILLETANEUSE U</td>\n",
       "      <td>-1.0</td>\n",
       "      <td>IMAGINE R</td>\n",
       "      <td>130</td>\n",
       "    </tr>\n",
       "    <tr>\n",
       "      <th>99</th>\n",
       "      <td>21/07/2019</td>\n",
       "      <td>PIERREFITTE T11</td>\n",
       "      <td>-1.0</td>\n",
       "      <td>?</td>\n",
       "      <td>Less than 5</td>\n",
       "    </tr>\n",
       "    <tr>\n",
       "      <th>100</th>\n",
       "      <td>21/07/2019</td>\n",
       "      <td>DUGNY COURNEUVE</td>\n",
       "      <td>-1.0</td>\n",
       "      <td>AMETHYSTE</td>\n",
       "      <td>11</td>\n",
       "    </tr>\n",
       "    <tr>\n",
       "      <th>274</th>\n",
       "      <td>21/07/2019</td>\n",
       "      <td>ROSA PARKS</td>\n",
       "      <td>-1.0</td>\n",
       "      <td>TST</td>\n",
       "      <td>633</td>\n",
       "    </tr>\n",
       "    <tr>\n",
       "      <th>1038</th>\n",
       "      <td>19/08/2019</td>\n",
       "      <td>Inconnu</td>\n",
       "      <td>-1.0</td>\n",
       "      <td>OTHER</td>\n",
       "      <td>43</td>\n",
       "    </tr>\n",
       "    <tr>\n",
       "      <th>...</th>\n",
       "      <td>...</td>\n",
       "      <td>...</td>\n",
       "      <td>...</td>\n",
       "      <td>...</td>\n",
       "      <td>...</td>\n",
       "    </tr>\n",
       "    <tr>\n",
       "      <th>883338</th>\n",
       "      <td>29/08/2019</td>\n",
       "      <td>STAINS CERISAIE</td>\n",
       "      <td>-1.0</td>\n",
       "      <td>FGT</td>\n",
       "      <td>176</td>\n",
       "    </tr>\n",
       "    <tr>\n",
       "      <th>883339</th>\n",
       "      <td>29/08/2019</td>\n",
       "      <td>BOURGET T11</td>\n",
       "      <td>-1.0</td>\n",
       "      <td>NAVIGO</td>\n",
       "      <td>1528</td>\n",
       "    </tr>\n",
       "    <tr>\n",
       "      <th>883488</th>\n",
       "      <td>29/08/2019</td>\n",
       "      <td>ROSA PARKS</td>\n",
       "      <td>-1.0</td>\n",
       "      <td>AMETHYSTE</td>\n",
       "      <td>142</td>\n",
       "    </tr>\n",
       "    <tr>\n",
       "      <th>883489</th>\n",
       "      <td>29/08/2019</td>\n",
       "      <td>ROSA PARKS</td>\n",
       "      <td>-1.0</td>\n",
       "      <td>FGT</td>\n",
       "      <td>441</td>\n",
       "    </tr>\n",
       "    <tr>\n",
       "      <th>883490</th>\n",
       "      <td>29/08/2019</td>\n",
       "      <td>ROSA PARKS</td>\n",
       "      <td>-1.0</td>\n",
       "      <td>IMAGINE R</td>\n",
       "      <td>799</td>\n",
       "    </tr>\n",
       "  </tbody>\n",
       "</table>\n",
       "<p>24210 rows × 5 columns</p>\n",
       "</div>"
      ],
      "text/plain": [
       "              DATE     STATION_NAME  ID_REFA_LDA TITLE_CATEGORY     NB_VALID\n",
       "98      21/07/2019   VILLETANEUSE U         -1.0      IMAGINE R          130\n",
       "99      21/07/2019  PIERREFITTE T11         -1.0              ?  Less than 5\n",
       "100     21/07/2019  DUGNY COURNEUVE         -1.0      AMETHYSTE           11\n",
       "274     21/07/2019       ROSA PARKS         -1.0            TST          633\n",
       "1038    19/08/2019          Inconnu         -1.0          OTHER           43\n",
       "...            ...              ...          ...            ...          ...\n",
       "883338  29/08/2019  STAINS CERISAIE         -1.0            FGT          176\n",
       "883339  29/08/2019      BOURGET T11         -1.0         NAVIGO         1528\n",
       "883488  29/08/2019       ROSA PARKS         -1.0      AMETHYSTE          142\n",
       "883489  29/08/2019       ROSA PARKS         -1.0            FGT          441\n",
       "883490  29/08/2019       ROSA PARKS         -1.0      IMAGINE R          799\n",
       "\n",
       "[24210 rows x 5 columns]"
      ]
     },
     "execution_count": 14,
     "metadata": {},
     "output_type": "execute_result"
    }
   ],
   "source": [
    "data.query('ID_REFA_LDA == -1')"
   ]
  },
  {
   "cell_type": "code",
   "execution_count": 15,
   "id": "12174b66",
   "metadata": {
    "execution": {
     "iopub.execute_input": "2024-09-23T12:58:55.764888Z",
     "iopub.status.busy": "2024-09-23T12:58:55.764433Z",
     "iopub.status.idle": "2024-09-23T12:58:55.885730Z",
     "shell.execute_reply": "2024-09-23T12:58:55.884593Z"
    },
    "papermill": {
     "duration": 0.14212,
     "end_time": "2024-09-23T12:58:55.888724",
     "exception": false,
     "start_time": "2024-09-23T12:58:55.746604",
     "status": "completed"
    },
    "tags": []
   },
   "outputs": [],
   "source": [
    "data.drop(data[data.ID_REFA_LDA == -1].index, inplace=True)"
   ]
  },
  {
   "cell_type": "code",
   "execution_count": 16,
   "id": "412537cd",
   "metadata": {
    "execution": {
     "iopub.execute_input": "2024-09-23T12:58:55.922650Z",
     "iopub.status.busy": "2024-09-23T12:58:55.921236Z",
     "iopub.status.idle": "2024-09-23T12:58:55.929837Z",
     "shell.execute_reply": "2024-09-23T12:58:55.928296Z"
    },
    "papermill": {
     "duration": 0.028052,
     "end_time": "2024-09-23T12:58:55.932431",
     "exception": false,
     "start_time": "2024-09-23T12:58:55.904379",
     "status": "completed"
    },
    "tags": []
   },
   "outputs": [
    {
     "data": {
      "text/plain": [
       "(857008, 5)"
      ]
     },
     "execution_count": 16,
     "metadata": {},
     "output_type": "execute_result"
    }
   ],
   "source": [
    "data.shape"
   ]
  },
  {
   "cell_type": "code",
   "execution_count": 17,
   "id": "48c9def5",
   "metadata": {
    "execution": {
     "iopub.execute_input": "2024-09-23T12:58:55.965903Z",
     "iopub.status.busy": "2024-09-23T12:58:55.965451Z",
     "iopub.status.idle": "2024-09-23T12:58:56.042832Z",
     "shell.execute_reply": "2024-09-23T12:58:56.041353Z"
    },
    "papermill": {
     "duration": 0.097229,
     "end_time": "2024-09-23T12:58:56.045599",
     "exception": false,
     "start_time": "2024-09-23T12:58:55.948370",
     "status": "completed"
    },
    "tags": []
   },
   "outputs": [
    {
     "data": {
      "text/html": [
       "<div>\n",
       "<style scoped>\n",
       "    .dataframe tbody tr th:only-of-type {\n",
       "        vertical-align: middle;\n",
       "    }\n",
       "\n",
       "    .dataframe tbody tr th {\n",
       "        vertical-align: top;\n",
       "    }\n",
       "\n",
       "    .dataframe thead th {\n",
       "        text-align: right;\n",
       "    }\n",
       "</style>\n",
       "<table border=\"1\" class=\"dataframe\">\n",
       "  <thead>\n",
       "    <tr style=\"text-align: right;\">\n",
       "      <th></th>\n",
       "      <th>DATE</th>\n",
       "      <th>STATION_NAME</th>\n",
       "      <th>ID_REFA_LDA</th>\n",
       "      <th>TITLE_CATEGORY</th>\n",
       "      <th>NB_VALID</th>\n",
       "    </tr>\n",
       "  </thead>\n",
       "  <tbody>\n",
       "    <tr>\n",
       "      <th>1</th>\n",
       "      <td>21/07/2019</td>\n",
       "      <td>PARMENTIER</td>\n",
       "      <td>71801.0</td>\n",
       "      <td>NOT DEFINED</td>\n",
       "      <td>Less than 5</td>\n",
       "    </tr>\n",
       "    <tr>\n",
       "      <th>15</th>\n",
       "      <td>21/07/2019</td>\n",
       "      <td>PONT-MARIE (CITE DES ARTS)</td>\n",
       "      <td>71217.0</td>\n",
       "      <td>DAILY NAVIGO</td>\n",
       "      <td>Less than 5</td>\n",
       "    </tr>\n",
       "    <tr>\n",
       "      <th>20</th>\n",
       "      <td>21/07/2019</td>\n",
       "      <td>PORTE DE CLIGNANCOURT</td>\n",
       "      <td>72059.0</td>\n",
       "      <td>NOT DEFINED</td>\n",
       "      <td>Less than 5</td>\n",
       "    </tr>\n",
       "    <tr>\n",
       "      <th>24</th>\n",
       "      <td>21/07/2019</td>\n",
       "      <td>PORTE DE SAINT-CLOUD</td>\n",
       "      <td>71084.0</td>\n",
       "      <td>NOT DEFINED</td>\n",
       "      <td>Less than 5</td>\n",
       "    </tr>\n",
       "    <tr>\n",
       "      <th>26</th>\n",
       "      <td>21/07/2019</td>\n",
       "      <td>RICHARD LENOIR</td>\n",
       "      <td>73648.0</td>\n",
       "      <td>NOT DEFINED</td>\n",
       "      <td>Less than 5</td>\n",
       "    </tr>\n",
       "    <tr>\n",
       "      <th>...</th>\n",
       "      <td>...</td>\n",
       "      <td>...</td>\n",
       "      <td>...</td>\n",
       "      <td>...</td>\n",
       "      <td>...</td>\n",
       "    </tr>\n",
       "    <tr>\n",
       "      <th>883870</th>\n",
       "      <td>02/09/2019</td>\n",
       "      <td>VAL-D'ARGENTEUIL</td>\n",
       "      <td>65110.0</td>\n",
       "      <td>DAILY NAVIGO</td>\n",
       "      <td>Less than 5</td>\n",
       "    </tr>\n",
       "    <tr>\n",
       "      <th>883876</th>\n",
       "      <td>02/09/2019</td>\n",
       "      <td>VILLENNES-SUR-SEINE</td>\n",
       "      <td>64949.0</td>\n",
       "      <td>?</td>\n",
       "      <td>Less than 5</td>\n",
       "    </tr>\n",
       "    <tr>\n",
       "      <th>883888</th>\n",
       "      <td>02/09/2019</td>\n",
       "      <td>CERGY-SAINT-CHRISTOPHE</td>\n",
       "      <td>66858.0</td>\n",
       "      <td>OTHER</td>\n",
       "      <td>Less than 5</td>\n",
       "    </tr>\n",
       "    <tr>\n",
       "      <th>883905</th>\n",
       "      <td>02/09/2019</td>\n",
       "      <td>NATION</td>\n",
       "      <td>71673.0</td>\n",
       "      <td>DAILY NAVIGO</td>\n",
       "      <td>Less than 5</td>\n",
       "    </tr>\n",
       "    <tr>\n",
       "      <th>883908</th>\n",
       "      <td>02/09/2019</td>\n",
       "      <td>NEUVILLE UNIVERSITE</td>\n",
       "      <td>66436.0</td>\n",
       "      <td>DAILY NAVIGO</td>\n",
       "      <td>Less than 5</td>\n",
       "    </tr>\n",
       "  </tbody>\n",
       "</table>\n",
       "<p>122895 rows × 5 columns</p>\n",
       "</div>"
      ],
      "text/plain": [
       "              DATE                STATION_NAME  ID_REFA_LDA TITLE_CATEGORY  \\\n",
       "1       21/07/2019                  PARMENTIER      71801.0    NOT DEFINED   \n",
       "15      21/07/2019  PONT-MARIE (CITE DES ARTS)      71217.0   DAILY NAVIGO   \n",
       "20      21/07/2019       PORTE DE CLIGNANCOURT      72059.0    NOT DEFINED   \n",
       "24      21/07/2019        PORTE DE SAINT-CLOUD      71084.0    NOT DEFINED   \n",
       "26      21/07/2019              RICHARD LENOIR      73648.0    NOT DEFINED   \n",
       "...            ...                         ...          ...            ...   \n",
       "883870  02/09/2019            VAL-D'ARGENTEUIL      65110.0   DAILY NAVIGO   \n",
       "883876  02/09/2019         VILLENNES-SUR-SEINE      64949.0              ?   \n",
       "883888  02/09/2019      CERGY-SAINT-CHRISTOPHE      66858.0          OTHER   \n",
       "883905  02/09/2019                      NATION      71673.0   DAILY NAVIGO   \n",
       "883908  02/09/2019         NEUVILLE UNIVERSITE      66436.0   DAILY NAVIGO   \n",
       "\n",
       "           NB_VALID  \n",
       "1       Less than 5  \n",
       "15      Less than 5  \n",
       "20      Less than 5  \n",
       "24      Less than 5  \n",
       "26      Less than 5  \n",
       "...             ...  \n",
       "883870  Less than 5  \n",
       "883876  Less than 5  \n",
       "883888  Less than 5  \n",
       "883905  Less than 5  \n",
       "883908  Less than 5  \n",
       "\n",
       "[122895 rows x 5 columns]"
      ]
     },
     "execution_count": 17,
     "metadata": {},
     "output_type": "execute_result"
    }
   ],
   "source": [
    "data.query('NB_VALID == \"Less than 5\"')"
   ]
  },
  {
   "cell_type": "code",
   "execution_count": 18,
   "id": "770ad4df",
   "metadata": {
    "execution": {
     "iopub.execute_input": "2024-09-23T12:58:56.080300Z",
     "iopub.status.busy": "2024-09-23T12:58:56.079357Z",
     "iopub.status.idle": "2024-09-23T12:58:56.261420Z",
     "shell.execute_reply": "2024-09-23T12:58:56.259848Z"
    },
    "papermill": {
     "duration": 0.202742,
     "end_time": "2024-09-23T12:58:56.264340",
     "exception": false,
     "start_time": "2024-09-23T12:58:56.061598",
     "status": "completed"
    },
    "tags": []
   },
   "outputs": [],
   "source": [
    "data['NB_VALID'] = data['NB_VALID'].replace({'Less than 5' : 5})"
   ]
  },
  {
   "cell_type": "code",
   "execution_count": 19,
   "id": "c0576412",
   "metadata": {
    "execution": {
     "iopub.execute_input": "2024-09-23T12:58:56.300206Z",
     "iopub.status.busy": "2024-09-23T12:58:56.299778Z",
     "iopub.status.idle": "2024-09-23T12:58:57.182515Z",
     "shell.execute_reply": "2024-09-23T12:58:57.181345Z"
    },
    "papermill": {
     "duration": 0.904314,
     "end_time": "2024-09-23T12:58:57.185303",
     "exception": false,
     "start_time": "2024-09-23T12:58:56.280989",
     "status": "completed"
    },
    "tags": []
   },
   "outputs": [],
   "source": [
    "data['NB_VALID'] = pd.to_numeric(data.NB_VALID)"
   ]
  },
  {
   "cell_type": "markdown",
   "id": "b3388941",
   "metadata": {
    "papermill": {
     "duration": 0.015868,
     "end_time": "2024-09-23T12:58:57.217470",
     "exception": false,
     "start_time": "2024-09-23T12:58:57.201602",
     "status": "completed"
    },
    "tags": []
   },
   "source": [
    "# Outliers"
   ]
  },
  {
   "cell_type": "code",
   "execution_count": 20,
   "id": "5e932129",
   "metadata": {
    "execution": {
     "iopub.execute_input": "2024-09-23T12:58:57.251921Z",
     "iopub.status.busy": "2024-09-23T12:58:57.251432Z",
     "iopub.status.idle": "2024-09-23T12:58:57.343756Z",
     "shell.execute_reply": "2024-09-23T12:58:57.342548Z"
    },
    "papermill": {
     "duration": 0.113046,
     "end_time": "2024-09-23T12:58:57.346427",
     "exception": false,
     "start_time": "2024-09-23T12:58:57.233381",
     "status": "completed"
    },
    "tags": []
   },
   "outputs": [],
   "source": [
    "q_loww = data[\"ID_REFA_LDA\"].quantile(0.00001)\n",
    "q_high  = data[\"ID_REFA_LDA\"].quantile(0.99)\n",
    "\n",
    "data = data[(data[\"ID_REFA_LDA\"] < q_high) & (data[\"ID_REFA_LDA\"] > q_loww)]"
   ]
  },
  {
   "cell_type": "code",
   "execution_count": 21,
   "id": "75a661f7",
   "metadata": {
    "execution": {
     "iopub.execute_input": "2024-09-23T12:58:57.380220Z",
     "iopub.status.busy": "2024-09-23T12:58:57.379773Z",
     "iopub.status.idle": "2024-09-23T12:58:58.279391Z",
     "shell.execute_reply": "2024-09-23T12:58:58.278236Z"
    },
    "papermill": {
     "duration": 0.91974,
     "end_time": "2024-09-23T12:58:58.282301",
     "exception": false,
     "start_time": "2024-09-23T12:58:57.362561",
     "status": "completed"
    },
    "tags": []
   },
   "outputs": [
    {
     "data": {
      "image/png": "[encoded data removed]",
      "text/plain": [
       "<Figure size 640x480 with 1 Axes>"
      ]
     },
     "metadata": {},
     "output_type": "display_data"
    }
   ],
   "source": [
    "sns.set()\n",
    "sns.boxplot(data = data , x = data.ID_REFA_LDA);"
   ]
  },
  {
   "cell_type": "code",
   "execution_count": 22,
   "id": "2ff6f31a",
   "metadata": {
    "execution": {
     "iopub.execute_input": "2024-09-23T12:58:58.319640Z",
     "iopub.status.busy": "2024-09-23T12:58:58.319117Z",
     "iopub.status.idle": "2024-09-23T12:58:58.584073Z",
     "shell.execute_reply": "2024-09-23T12:58:58.582652Z"
    },
    "papermill": {
     "duration": 0.28831,
     "end_time": "2024-09-23T12:58:58.587517",
     "exception": false,
     "start_time": "2024-09-23T12:58:58.299207",
     "status": "completed"
    },
    "tags": []
   },
   "outputs": [],
   "source": [
    "data['DATE'] = pd.to_datetime(data.DATE)\n",
    "data['month'] = data['DATE'].dt.month\n",
    "data['Day'] = data['DATE'].dt.day"
   ]
  },
  {
   "cell_type": "code",
   "execution_count": 23,
   "id": "c9205b03",
   "metadata": {
    "execution": {
     "iopub.execute_input": "2024-09-23T12:58:58.624891Z",
     "iopub.status.busy": "2024-09-23T12:58:58.623845Z",
     "iopub.status.idle": "2024-09-23T12:58:58.822764Z",
     "shell.execute_reply": "2024-09-23T12:58:58.821548Z"
    },
    "papermill": {
     "duration": 0.221771,
     "end_time": "2024-09-23T12:58:58.826413",
     "exception": false,
     "start_time": "2024-09-23T12:58:58.604642",
     "status": "completed"
    },
    "tags": []
   },
   "outputs": [
    {
     "name": "stdout",
     "output_type": "stream",
     "text": [
      "<class 'pandas.core.frame.DataFrame'>\n",
      "Index: 847660 entries, 0 to 883957\n",
      "Data columns (total 7 columns):\n",
      " #   Column          Non-Null Count   Dtype         \n",
      "---  ------          --------------   -----         \n",
      " 0   DATE            847660 non-null  datetime64[ns]\n",
      " 1   STATION_NAME    847660 non-null  object        \n",
      " 2   ID_REFA_LDA     847660 non-null  float64       \n",
      " 3   TITLE_CATEGORY  847660 non-null  object        \n",
      " 4   NB_VALID        847660 non-null  int64         \n",
      " 5   month           847660 non-null  int32         \n",
      " 6   Day             847660 non-null  int32         \n",
      "dtypes: datetime64[ns](1), float64(1), int32(2), int64(1), object(2)\n",
      "memory usage: 45.3+ MB\n"
     ]
    }
   ],
   "source": [
    "data.info()"
   ]
  },
  {
   "cell_type": "code",
   "execution_count": 24,
   "id": "14a8c28c",
   "metadata": {
    "execution": {
     "iopub.execute_input": "2024-09-23T12:58:58.864077Z",
     "iopub.status.busy": "2024-09-23T12:58:58.863641Z",
     "iopub.status.idle": "2024-09-23T12:58:59.035292Z",
     "shell.execute_reply": "2024-09-23T12:58:59.033857Z"
    },
    "papermill": {
     "duration": 0.193342,
     "end_time": "2024-09-23T12:58:59.038088",
     "exception": false,
     "start_time": "2024-09-23T12:58:58.844746",
     "status": "completed"
    },
    "tags": []
   },
   "outputs": [
    {
     "data": {
      "text/html": [
       "<div>\n",
       "<style scoped>\n",
       "    .dataframe tbody tr th:only-of-type {\n",
       "        vertical-align: middle;\n",
       "    }\n",
       "\n",
       "    .dataframe tbody tr th {\n",
       "        vertical-align: top;\n",
       "    }\n",
       "\n",
       "    .dataframe thead th {\n",
       "        text-align: right;\n",
       "    }\n",
       "</style>\n",
       "<table border=\"1\" class=\"dataframe\">\n",
       "  <thead>\n",
       "    <tr style=\"text-align: right;\">\n",
       "      <th></th>\n",
       "      <th>DATE</th>\n",
       "      <th>ID_REFA_LDA</th>\n",
       "      <th>NB_VALID</th>\n",
       "      <th>month</th>\n",
       "      <th>Day</th>\n",
       "    </tr>\n",
       "  </thead>\n",
       "  <tbody>\n",
       "    <tr>\n",
       "      <th>count</th>\n",
       "      <td>847660</td>\n",
       "      <td>847660.000000</td>\n",
       "      <td>847660.000000</td>\n",
       "      <td>847660.000000</td>\n",
       "      <td>847660.000000</td>\n",
       "    </tr>\n",
       "    <tr>\n",
       "      <th>mean</th>\n",
       "      <td>2019-09-25 23:55:53.131207424</td>\n",
       "      <td>69347.075890</td>\n",
       "      <td>771.126769</td>\n",
       "      <td>9.349686</td>\n",
       "      <td>15.739669</td>\n",
       "    </tr>\n",
       "    <tr>\n",
       "      <th>min</th>\n",
       "      <td>2019-07-01 00:00:00</td>\n",
       "      <td>59420.000000</td>\n",
       "      <td>5.000000</td>\n",
       "      <td>7.000000</td>\n",
       "      <td>1.000000</td>\n",
       "    </tr>\n",
       "    <tr>\n",
       "      <th>25%</th>\n",
       "      <td>2019-08-14 00:00:00</td>\n",
       "      <td>66731.000000</td>\n",
       "      <td>14.000000</td>\n",
       "      <td>8.000000</td>\n",
       "      <td>8.000000</td>\n",
       "    </tr>\n",
       "    <tr>\n",
       "      <th>50%</th>\n",
       "      <td>2019-09-27 00:00:00</td>\n",
       "      <td>71184.000000</td>\n",
       "      <td>87.000000</td>\n",
       "      <td>9.000000</td>\n",
       "      <td>16.000000</td>\n",
       "    </tr>\n",
       "    <tr>\n",
       "      <th>75%</th>\n",
       "      <td>2019-11-07 00:00:00</td>\n",
       "      <td>71756.000000</td>\n",
       "      <td>379.000000</td>\n",
       "      <td>11.000000</td>\n",
       "      <td>24.000000</td>\n",
       "    </tr>\n",
       "    <tr>\n",
       "      <th>max</th>\n",
       "      <td>2019-12-31 00:00:00</td>\n",
       "      <td>74002.000000</td>\n",
       "      <td>125007.000000</td>\n",
       "      <td>12.000000</td>\n",
       "      <td>31.000000</td>\n",
       "    </tr>\n",
       "    <tr>\n",
       "      <th>std</th>\n",
       "      <td>NaN</td>\n",
       "      <td>3874.674618</td>\n",
       "      <td>2789.785948</td>\n",
       "      <td>1.622434</td>\n",
       "      <td>8.955057</td>\n",
       "    </tr>\n",
       "  </tbody>\n",
       "</table>\n",
       "</div>"
      ],
      "text/plain": [
       "                                DATE    ID_REFA_LDA       NB_VALID  \\\n",
       "count                         847660  847660.000000  847660.000000   \n",
       "mean   2019-09-25 23:55:53.131207424   69347.075890     771.126769   \n",
       "min              2019-07-01 00:00:00   59420.000000       5.000000   \n",
       "25%              2019-08-14 00:00:00   66731.000000      14.000000   \n",
       "50%              2019-09-27 00:00:00   71184.000000      87.000000   \n",
       "75%              2019-11-07 00:00:00   71756.000000     379.000000   \n",
       "max              2019-12-31 00:00:00   74002.000000  125007.000000   \n",
       "std                              NaN    3874.674618    2789.785948   \n",
       "\n",
       "               month            Day  \n",
       "count  847660.000000  847660.000000  \n",
       "mean        9.349686      15.739669  \n",
       "min         7.000000       1.000000  \n",
       "25%         8.000000       8.000000  \n",
       "50%         9.000000      16.000000  \n",
       "75%        11.000000      24.000000  \n",
       "max        12.000000      31.000000  \n",
       "std         1.622434       8.955057  "
      ]
     },
     "execution_count": 24,
     "metadata": {},
     "output_type": "execute_result"
    }
   ],
   "source": [
    "data.describe()"
   ]
  },
  {
   "cell_type": "markdown",
   "id": "447aed0f",
   "metadata": {
    "papermill": {
     "duration": 0.016634,
     "end_time": "2024-09-23T12:58:59.071993",
     "exception": false,
     "start_time": "2024-09-23T12:58:59.055359",
     "status": "completed"
    },
    "tags": []
   },
   "source": [
    "# Data Analysis"
   ]
  },
  {
   "cell_type": "code",
   "execution_count": 25,
   "id": "1ea13370",
   "metadata": {
    "execution": {
     "iopub.execute_input": "2024-09-23T12:58:59.109873Z",
     "iopub.status.busy": "2024-09-23T12:58:59.109405Z",
     "iopub.status.idle": "2024-09-23T12:59:01.616982Z",
     "shell.execute_reply": "2024-09-23T12:59:01.615778Z"
    },
    "papermill": {
     "duration": 2.530208,
     "end_time": "2024-09-23T12:59:01.620220",
     "exception": false,
     "start_time": "2024-09-23T12:58:59.090012",
     "status": "completed"
    },
    "tags": []
   },
   "outputs": [
    {
     "data": {
      "image/png": "[encoded data removed]",
      "text/plain": [
       "<Figure size 2000x1400 with 6 Axes>"
      ]
     },
     "metadata": {},
     "output_type": "display_data"
    }
   ],
   "source": [
    "data.hist(figsize=(20,14));"
   ]
  },
  {
   "cell_type": "code",
   "execution_count": 26,
   "id": "fc1c374c",
   "metadata": {
    "execution": {
     "iopub.execute_input": "2024-09-23T12:59:01.660187Z",
     "iopub.status.busy": "2024-09-23T12:59:01.659329Z",
     "iopub.status.idle": "2024-09-23T12:59:01.703279Z",
     "shell.execute_reply": "2024-09-23T12:59:01.701944Z"
    },
    "papermill": {
     "duration": 0.067602,
     "end_time": "2024-09-23T12:59:01.706786",
     "exception": false,
     "start_time": "2024-09-23T12:59:01.639184",
     "status": "completed"
    },
    "tags": []
   },
   "outputs": [
    {
     "data": {
      "text/html": [
       "<div>\n",
       "<style scoped>\n",
       "    .dataframe tbody tr th:only-of-type {\n",
       "        vertical-align: middle;\n",
       "    }\n",
       "\n",
       "    .dataframe tbody tr th {\n",
       "        vertical-align: top;\n",
       "    }\n",
       "\n",
       "    .dataframe thead th {\n",
       "        text-align: right;\n",
       "    }\n",
       "</style>\n",
       "<table border=\"1\" class=\"dataframe\">\n",
       "  <thead>\n",
       "    <tr style=\"text-align: right;\">\n",
       "      <th></th>\n",
       "      <th>NB_VALID</th>\n",
       "      <th>ID_REFA_LDA</th>\n",
       "    </tr>\n",
       "    <tr>\n",
       "      <th>month</th>\n",
       "      <th></th>\n",
       "      <th></th>\n",
       "    </tr>\n",
       "  </thead>\n",
       "  <tbody>\n",
       "    <tr>\n",
       "      <th>7</th>\n",
       "      <td>119062443</td>\n",
       "      <td>1.033026e+10</td>\n",
       "    </tr>\n",
       "    <tr>\n",
       "      <th>8</th>\n",
       "      <td>90006039</td>\n",
       "      <td>1.018767e+10</td>\n",
       "    </tr>\n",
       "    <tr>\n",
       "      <th>9</th>\n",
       "      <td>125184301</td>\n",
       "      <td>1.025427e+10</td>\n",
       "    </tr>\n",
       "    <tr>\n",
       "      <th>10</th>\n",
       "      <td>140334259</td>\n",
       "      <td>1.093568e+10</td>\n",
       "    </tr>\n",
       "    <tr>\n",
       "      <th>11</th>\n",
       "      <td>133983102</td>\n",
       "      <td>1.088800e+10</td>\n",
       "    </tr>\n",
       "    <tr>\n",
       "      <th>12</th>\n",
       "      <td>45083173</td>\n",
       "      <td>6.186872e+09</td>\n",
       "    </tr>\n",
       "  </tbody>\n",
       "</table>\n",
       "</div>"
      ],
      "text/plain": [
       "        NB_VALID   ID_REFA_LDA\n",
       "month                         \n",
       "7      119062443  1.033026e+10\n",
       "8       90006039  1.018767e+10\n",
       "9      125184301  1.025427e+10\n",
       "10     140334259  1.093568e+10\n",
       "11     133983102  1.088800e+10\n",
       "12      45083173  6.186872e+09"
      ]
     },
     "execution_count": 26,
     "metadata": {},
     "output_type": "execute_result"
    }
   ],
   "source": [
    "data.groupby(data.month)[['NB_VALID','ID_REFA_LDA']].sum()"
   ]
  },
  {
   "cell_type": "code",
   "execution_count": 27,
   "id": "3e716a89",
   "metadata": {
    "execution": {
     "iopub.execute_input": "2024-09-23T12:59:01.747758Z",
     "iopub.status.busy": "2024-09-23T12:59:01.746629Z",
     "iopub.status.idle": "2024-09-23T12:59:10.286955Z",
     "shell.execute_reply": "2024-09-23T12:59:10.285547Z"
    },
    "papermill": {
     "duration": 8.563684,
     "end_time": "2024-09-23T12:59:10.290039",
     "exception": false,
     "start_time": "2024-09-23T12:59:01.726355",
     "status": "completed"
    },
    "tags": []
   },
   "outputs": [
    {
     "data": {
      "text/plain": [
       "<Axes: xlabel='TITLE_CATEGORY', ylabel='NB_VALID'>"
      ]
     },
     "execution_count": 27,
     "metadata": {},
     "output_type": "execute_result"
    },
    {
     "data": {
      "image/png": "[encoded data removed]",
      "text/plain": [
       "<Figure size 2500x1500 with 1 Axes>"
      ]
     },
     "metadata": {},
     "output_type": "display_data"
    }
   ],
   "source": [
    "plt.figure(figsize=(25,15))\n",
    "sns.barplot(data=data, x = data.TITLE_CATEGORY, y = data.NB_VALID)"
   ]
  },
  {
   "cell_type": "code",
   "execution_count": 28,
   "id": "aa1759e5",
   "metadata": {
    "execution": {
     "iopub.execute_input": "2024-09-23T12:59:10.339098Z",
     "iopub.status.busy": "2024-09-23T12:59:10.338631Z",
     "iopub.status.idle": "2024-09-23T12:59:10.539517Z",
     "shell.execute_reply": "2024-09-23T12:59:10.537454Z"
    },
    "papermill": {
     "duration": 0.227994,
     "end_time": "2024-09-23T12:59:10.542433",
     "exception": false,
     "start_time": "2024-09-23T12:59:10.314439",
     "status": "completed"
    },
    "tags": []
   },
   "outputs": [
    {
     "name": "stdout",
     "output_type": "stream",
     "text": [
      "<class 'pandas.core.frame.DataFrame'>\n",
      "Index: 847660 entries, 0 to 883957\n",
      "Data columns (total 7 columns):\n",
      " #   Column          Non-Null Count   Dtype         \n",
      "---  ------          --------------   -----         \n",
      " 0   DATE            847660 non-null  datetime64[ns]\n",
      " 1   STATION_NAME    847660 non-null  object        \n",
      " 2   ID_REFA_LDA     847660 non-null  float64       \n",
      " 3   TITLE_CATEGORY  847660 non-null  object        \n",
      " 4   NB_VALID        847660 non-null  int64         \n",
      " 5   month           847660 non-null  int32         \n",
      " 6   Day             847660 non-null  int32         \n",
      "dtypes: datetime64[ns](1), float64(1), int32(2), int64(1), object(2)\n",
      "memory usage: 45.3+ MB\n"
     ]
    }
   ],
   "source": [
    "data.info()"
   ]
  },
  {
   "cell_type": "code",
   "execution_count": 29,
   "id": "d53b91e3",
   "metadata": {
    "execution": {
     "iopub.execute_input": "2024-09-23T12:59:10.588453Z",
     "iopub.status.busy": "2024-09-23T12:59:10.586944Z",
     "iopub.status.idle": "2024-09-23T12:59:10.594605Z",
     "shell.execute_reply": "2024-09-23T12:59:10.593280Z"
    },
    "papermill": {
     "duration": 0.034221,
     "end_time": "2024-09-23T12:59:10.598093",
     "exception": false,
     "start_time": "2024-09-23T12:59:10.563872",
     "status": "completed"
    },
    "tags": []
   },
   "outputs": [
    {
     "name": "stdout",
     "output_type": "stream",
     "text": [
      "0 DATE\n",
      "1 STATION_NAME\n",
      "2 ID_REFA_LDA\n",
      "3 TITLE_CATEGORY\n",
      "4 NB_VALID\n",
      "5 month\n",
      "6 Day\n"
     ]
    }
   ],
   "source": [
    "for x, y in enumerate(data.columns):\n",
    "    print(x, y)"
   ]
  },
  {
   "cell_type": "code",
   "execution_count": 30,
   "id": "aff05453",
   "metadata": {
    "execution": {
     "iopub.execute_input": "2024-09-23T12:59:10.643305Z",
     "iopub.status.busy": "2024-09-23T12:59:10.642838Z",
     "iopub.status.idle": "2024-09-23T12:59:10.731195Z",
     "shell.execute_reply": "2024-09-23T12:59:10.729946Z"
    },
    "papermill": {
     "duration": 0.114407,
     "end_time": "2024-09-23T12:59:10.735182",
     "exception": false,
     "start_time": "2024-09-23T12:59:10.620775",
     "status": "completed"
    },
    "tags": []
   },
   "outputs": [],
   "source": [
    "l = data.NB_VALID.min() - 1\n",
    "me = data.NB_VALID.quantile(0.25)\n",
    "mh = data.NB_VALID.quantile(0.5)\n",
    "h = data.NB_VALID.quantile(0.75)\n",
    "maxx = data.NB_VALID.max()\n",
    "\n",
    "binss = (l,me,mh,h,maxx)\n",
    "\n",
    "data['NB_Category'] = pd.cut(data.NB_VALID, bins=binss, labels=[1,2,3,4])"
   ]
  },
  {
   "cell_type": "code",
   "execution_count": 31,
   "id": "009107e8",
   "metadata": {
    "execution": {
     "iopub.execute_input": "2024-09-23T12:59:10.779285Z",
     "iopub.status.busy": "2024-09-23T12:59:10.778824Z",
     "iopub.status.idle": "2024-09-23T12:59:10.941648Z",
     "shell.execute_reply": "2024-09-23T12:59:10.940079Z"
    },
    "papermill": {
     "duration": 0.187435,
     "end_time": "2024-09-23T12:59:10.944363",
     "exception": false,
     "start_time": "2024-09-23T12:59:10.756928",
     "status": "completed"
    },
    "tags": []
   },
   "outputs": [
    {
     "data": {
      "text/plain": [
       "TITLE_CATEGORY\n",
       "NAVIGO          112889\n",
       "IMAGINE R       111258\n",
       "TST             107852\n",
       "FGT             107705\n",
       "AMETHYSTE       105191\n",
       "?               100001\n",
       "DAILY NAVIGO     78011\n",
       "NOT DEFINED      64837\n",
       "OTHER            59916\n",
       "Name: count, dtype: int64"
      ]
     },
     "execution_count": 31,
     "metadata": {},
     "output_type": "execute_result"
    }
   ],
   "source": [
    "data['TITLE_CATEGORY'].value_counts()"
   ]
  },
  {
   "cell_type": "code",
   "execution_count": 32,
   "id": "3d2ca250",
   "metadata": {
    "execution": {
     "iopub.execute_input": "2024-09-23T12:59:10.988816Z",
     "iopub.status.busy": "2024-09-23T12:59:10.988307Z",
     "iopub.status.idle": "2024-09-23T12:59:10.997979Z",
     "shell.execute_reply": "2024-09-23T12:59:10.996483Z"
    },
    "papermill": {
     "duration": 0.035172,
     "end_time": "2024-09-23T12:59:11.000591",
     "exception": false,
     "start_time": "2024-09-23T12:59:10.965419",
     "status": "completed"
    },
    "tags": []
   },
   "outputs": [
    {
     "name": "stdout",
     "output_type": "stream",
     "text": [
      "Before Encoding the Data:\n",
      "\n",
      "  TITLE_CATEGORY\n",
      "0         NAVIGO\n",
      "1      IMAGINE R\n",
      "2            TST\n",
      "3            FGT\n",
      "4      AMETHYSTE\n",
      "5              ?\n",
      "6   DAILY NAVIGO\n",
      "7    NOT DEFINED\n",
      "8          OTHER\n",
      "\n"
     ]
    }
   ],
   "source": [
    "from sklearn.preprocessing import LabelEncoder\n",
    "\n",
    "# Create a sample dataframe with categorical data\n",
    "TITLE_CATEGORYy = pd.DataFrame({'TITLE_CATEGORY': ['NAVIGO', 'IMAGINE R','TST','FGT','AMETHYSTE','?','DAILY NAVIGO','NOT DEFINED','OTHER']})\n",
    "\n",
    "print(f\"Before Encoding the Data:\\n\\n{TITLE_CATEGORYy}\\n\")"
   ]
  },
  {
   "cell_type": "code",
   "execution_count": 33,
   "id": "0e67bd14",
   "metadata": {
    "execution": {
     "iopub.execute_input": "2024-09-23T12:59:11.111215Z",
     "iopub.status.busy": "2024-09-23T12:59:11.110774Z",
     "iopub.status.idle": "2024-09-23T12:59:11.373923Z",
     "shell.execute_reply": "2024-09-23T12:59:11.372730Z"
    },
    "papermill": {
     "duration": 0.354301,
     "end_time": "2024-09-23T12:59:11.376914",
     "exception": false,
     "start_time": "2024-09-23T12:59:11.022613",
     "status": "completed"
    },
    "tags": []
   },
   "outputs": [],
   "source": [
    "le = LabelEncoder()\n",
    "\n",
    "# Fit and transform the categorical data\n",
    "data['TITLE_CATEGORY'] = le.fit_transform(data['TITLE_CATEGORY'])"
   ]
  },
  {
   "cell_type": "code",
   "execution_count": 34,
   "id": "34446270",
   "metadata": {
    "execution": {
     "iopub.execute_input": "2024-09-23T12:59:11.420880Z",
     "iopub.status.busy": "2024-09-23T12:59:11.420437Z",
     "iopub.status.idle": "2024-09-23T12:59:11.431679Z",
     "shell.execute_reply": "2024-09-23T12:59:11.430122Z"
    },
    "papermill": {
     "duration": 0.036093,
     "end_time": "2024-09-23T12:59:11.434126",
     "exception": false,
     "start_time": "2024-09-23T12:59:11.398033",
     "status": "completed"
    },
    "tags": []
   },
   "outputs": [
    {
     "data": {
      "text/html": [
       "<div>\n",
       "<style scoped>\n",
       "    .dataframe tbody tr th:only-of-type {\n",
       "        vertical-align: middle;\n",
       "    }\n",
       "\n",
       "    .dataframe tbody tr th {\n",
       "        vertical-align: top;\n",
       "    }\n",
       "\n",
       "    .dataframe thead th {\n",
       "        text-align: right;\n",
       "    }\n",
       "</style>\n",
       "<table border=\"1\" class=\"dataframe\">\n",
       "  <thead>\n",
       "    <tr style=\"text-align: right;\">\n",
       "      <th></th>\n",
       "      <th>TITLE_CATEGORY</th>\n",
       "    </tr>\n",
       "  </thead>\n",
       "  <tbody>\n",
       "    <tr>\n",
       "      <th>0</th>\n",
       "      <td>NAVIGO</td>\n",
       "    </tr>\n",
       "    <tr>\n",
       "      <th>1</th>\n",
       "      <td>IMAGINE R</td>\n",
       "    </tr>\n",
       "    <tr>\n",
       "      <th>2</th>\n",
       "      <td>TST</td>\n",
       "    </tr>\n",
       "    <tr>\n",
       "      <th>3</th>\n",
       "      <td>FGT</td>\n",
       "    </tr>\n",
       "    <tr>\n",
       "      <th>4</th>\n",
       "      <td>AMETHYSTE</td>\n",
       "    </tr>\n",
       "    <tr>\n",
       "      <th>5</th>\n",
       "      <td>?</td>\n",
       "    </tr>\n",
       "    <tr>\n",
       "      <th>6</th>\n",
       "      <td>DAILY NAVIGO</td>\n",
       "    </tr>\n",
       "    <tr>\n",
       "      <th>7</th>\n",
       "      <td>NOT DEFINED</td>\n",
       "    </tr>\n",
       "    <tr>\n",
       "      <th>8</th>\n",
       "      <td>OTHER</td>\n",
       "    </tr>\n",
       "  </tbody>\n",
       "</table>\n",
       "</div>"
      ],
      "text/plain": [
       "  TITLE_CATEGORY\n",
       "0         NAVIGO\n",
       "1      IMAGINE R\n",
       "2            TST\n",
       "3            FGT\n",
       "4      AMETHYSTE\n",
       "5              ?\n",
       "6   DAILY NAVIGO\n",
       "7    NOT DEFINED\n",
       "8          OTHER"
      ]
     },
     "execution_count": 34,
     "metadata": {},
     "output_type": "execute_result"
    }
   ],
   "source": [
    "TITLE_CATEGORYy"
   ]
  },
  {
   "cell_type": "code",
   "execution_count": 35,
   "id": "e5d008c8",
   "metadata": {
    "execution": {
     "iopub.execute_input": "2024-09-23T12:59:11.479545Z",
     "iopub.status.busy": "2024-09-23T12:59:11.479087Z",
     "iopub.status.idle": "2024-09-23T12:59:11.591945Z",
     "shell.execute_reply": "2024-09-23T12:59:11.590464Z"
    },
    "papermill": {
     "duration": 0.138156,
     "end_time": "2024-09-23T12:59:11.594677",
     "exception": false,
     "start_time": "2024-09-23T12:59:11.456521",
     "status": "completed"
    },
    "tags": []
   },
   "outputs": [
    {
     "name": "stdout",
     "output_type": "stream",
     "text": [
      "<class 'pandas.core.frame.DataFrame'>\n",
      "Index: 847660 entries, 0 to 883957\n",
      "Data columns (total 8 columns):\n",
      " #   Column          Non-Null Count   Dtype         \n",
      "---  ------          --------------   -----         \n",
      " 0   DATE            847660 non-null  datetime64[ns]\n",
      " 1   STATION_NAME    847660 non-null  object        \n",
      " 2   ID_REFA_LDA     847660 non-null  float64       \n",
      " 3   TITLE_CATEGORY  847660 non-null  int64         \n",
      " 4   NB_VALID        847660 non-null  int64         \n",
      " 5   month           847660 non-null  int32         \n",
      " 6   Day             847660 non-null  int32         \n",
      " 7   NB_Category     847660 non-null  category      \n",
      "dtypes: category(1), datetime64[ns](1), float64(1), int32(2), int64(2), object(1)\n",
      "memory usage: 46.1+ MB\n"
     ]
    }
   ],
   "source": [
    "data.info()"
   ]
  },
  {
   "cell_type": "code",
   "execution_count": 36,
   "id": "e4715928",
   "metadata": {
    "execution": {
     "iopub.execute_input": "2024-09-23T12:59:11.644118Z",
     "iopub.status.busy": "2024-09-23T12:59:11.643678Z",
     "iopub.status.idle": "2024-09-23T12:59:11.664547Z",
     "shell.execute_reply": "2024-09-23T12:59:11.663196Z"
    },
    "papermill": {
     "duration": 0.051122,
     "end_time": "2024-09-23T12:59:11.667241",
     "exception": false,
     "start_time": "2024-09-23T12:59:11.616119",
     "status": "completed"
    },
    "tags": []
   },
   "outputs": [
    {
     "data": {
      "text/html": [
       "<div>\n",
       "<style scoped>\n",
       "    .dataframe tbody tr th:only-of-type {\n",
       "        vertical-align: middle;\n",
       "    }\n",
       "\n",
       "    .dataframe tbody tr th {\n",
       "        vertical-align: top;\n",
       "    }\n",
       "\n",
       "    .dataframe thead th {\n",
       "        text-align: right;\n",
       "    }\n",
       "</style>\n",
       "<table border=\"1\" class=\"dataframe\">\n",
       "  <thead>\n",
       "    <tr style=\"text-align: right;\">\n",
       "      <th></th>\n",
       "      <th>DATE</th>\n",
       "      <th>STATION_NAME</th>\n",
       "      <th>ID_REFA_LDA</th>\n",
       "      <th>TITLE_CATEGORY</th>\n",
       "      <th>NB_VALID</th>\n",
       "      <th>month</th>\n",
       "      <th>Day</th>\n",
       "      <th>NB_Category</th>\n",
       "    </tr>\n",
       "  </thead>\n",
       "  <tbody>\n",
       "    <tr>\n",
       "      <th>0</th>\n",
       "      <td>2019-07-21</td>\n",
       "      <td>LA TOUR MAUBOURG</td>\n",
       "      <td>71242.0</td>\n",
       "      <td>5</td>\n",
       "      <td>1141</td>\n",
       "      <td>7</td>\n",
       "      <td>21</td>\n",
       "      <td>4</td>\n",
       "    </tr>\n",
       "    <tr>\n",
       "      <th>1</th>\n",
       "      <td>2019-07-21</td>\n",
       "      <td>PARMENTIER</td>\n",
       "      <td>71801.0</td>\n",
       "      <td>6</td>\n",
       "      <td>5</td>\n",
       "      <td>7</td>\n",
       "      <td>21</td>\n",
       "      <td>1</td>\n",
       "    </tr>\n",
       "    <tr>\n",
       "      <th>2</th>\n",
       "      <td>2019-07-21</td>\n",
       "      <td>PARMENTIER</td>\n",
       "      <td>71801.0</td>\n",
       "      <td>8</td>\n",
       "      <td>97</td>\n",
       "      <td>7</td>\n",
       "      <td>21</td>\n",
       "      <td>3</td>\n",
       "    </tr>\n",
       "    <tr>\n",
       "      <th>3</th>\n",
       "      <td>2019-07-21</td>\n",
       "      <td>PEREIRE-LEVALLOIS</td>\n",
       "      <td>71453.0</td>\n",
       "      <td>3</td>\n",
       "      <td>53</td>\n",
       "      <td>7</td>\n",
       "      <td>21</td>\n",
       "      <td>2</td>\n",
       "    </tr>\n",
       "    <tr>\n",
       "      <th>5</th>\n",
       "      <td>2019-07-21</td>\n",
       "      <td>PICPUS</td>\n",
       "      <td>71639.0</td>\n",
       "      <td>3</td>\n",
       "      <td>25</td>\n",
       "      <td>7</td>\n",
       "      <td>21</td>\n",
       "      <td>2</td>\n",
       "    </tr>\n",
       "  </tbody>\n",
       "</table>\n",
       "</div>"
      ],
      "text/plain": [
       "        DATE       STATION_NAME  ID_REFA_LDA  TITLE_CATEGORY  NB_VALID  month  \\\n",
       "0 2019-07-21   LA TOUR MAUBOURG      71242.0               5      1141      7   \n",
       "1 2019-07-21         PARMENTIER      71801.0               6         5      7   \n",
       "2 2019-07-21         PARMENTIER      71801.0               8        97      7   \n",
       "3 2019-07-21  PEREIRE-LEVALLOIS      71453.0               3        53      7   \n",
       "5 2019-07-21             PICPUS      71639.0               3        25      7   \n",
       "\n",
       "   Day NB_Category  \n",
       "0   21           4  \n",
       "1   21           1  \n",
       "2   21           3  \n",
       "3   21           2  \n",
       "5   21           2  "
      ]
     },
     "execution_count": 36,
     "metadata": {},
     "output_type": "execute_result"
    }
   ],
   "source": [
    "data.head()"
   ]
  },
  {
   "cell_type": "code",
   "execution_count": 37,
   "id": "97052f3e",
   "metadata": {
    "execution": {
     "iopub.execute_input": "2024-09-23T12:59:11.717691Z",
     "iopub.status.busy": "2024-09-23T12:59:11.717224Z",
     "iopub.status.idle": "2024-09-23T12:59:11.868946Z",
     "shell.execute_reply": "2024-09-23T12:59:11.867390Z"
    },
    "papermill": {
     "duration": 0.17885,
     "end_time": "2024-09-23T12:59:11.872001",
     "exception": false,
     "start_time": "2024-09-23T12:59:11.693151",
     "status": "completed"
    },
    "tags": []
   },
   "outputs": [],
   "source": [
    "data['NB_Category'] = pd.to_numeric(data.NB_Category)"
   ]
  },
  {
   "cell_type": "code",
   "execution_count": 38,
   "id": "3cd6d244",
   "metadata": {
    "execution": {
     "iopub.execute_input": "2024-09-23T12:59:11.920019Z",
     "iopub.status.busy": "2024-09-23T12:59:11.919584Z",
     "iopub.status.idle": "2024-09-23T12:59:12.035736Z",
     "shell.execute_reply": "2024-09-23T12:59:12.034151Z"
    },
    "papermill": {
     "duration": 0.143665,
     "end_time": "2024-09-23T12:59:12.039075",
     "exception": false,
     "start_time": "2024-09-23T12:59:11.895410",
     "status": "completed"
    },
    "tags": []
   },
   "outputs": [
    {
     "name": "stdout",
     "output_type": "stream",
     "text": [
      "<class 'pandas.core.frame.DataFrame'>\n",
      "Index: 847660 entries, 0 to 883957\n",
      "Data columns (total 8 columns):\n",
      " #   Column          Non-Null Count   Dtype         \n",
      "---  ------          --------------   -----         \n",
      " 0   DATE            847660 non-null  datetime64[ns]\n",
      " 1   STATION_NAME    847660 non-null  object        \n",
      " 2   ID_REFA_LDA     847660 non-null  float64       \n",
      " 3   TITLE_CATEGORY  847660 non-null  int64         \n",
      " 4   NB_VALID        847660 non-null  int64         \n",
      " 5   month           847660 non-null  int32         \n",
      " 6   Day             847660 non-null  int32         \n",
      " 7   NB_Category     847660 non-null  int64         \n",
      "dtypes: datetime64[ns](1), float64(1), int32(2), int64(3), object(1)\n",
      "memory usage: 51.7+ MB\n"
     ]
    }
   ],
   "source": [
    "data.info()"
   ]
  },
  {
   "cell_type": "markdown",
   "id": "3ae5c1b9",
   "metadata": {
    "papermill": {
     "duration": 0.031664,
     "end_time": "2024-09-23T12:59:12.102622",
     "exception": false,
     "start_time": "2024-09-23T12:59:12.070958",
     "status": "completed"
    },
    "tags": []
   },
   "source": [
    "# Modeling"
   ]
  },
  {
   "cell_type": "code",
   "execution_count": 39,
   "id": "241495a2",
   "metadata": {
    "execution": {
     "iopub.execute_input": "2024-09-23T12:59:12.157345Z",
     "iopub.status.busy": "2024-09-23T12:59:12.156793Z",
     "iopub.status.idle": "2024-09-23T12:59:12.186363Z",
     "shell.execute_reply": "2024-09-23T12:59:12.184781Z"
    },
    "papermill": {
     "duration": 0.059549,
     "end_time": "2024-09-23T12:59:12.192418",
     "exception": false,
     "start_time": "2024-09-23T12:59:12.132869",
     "status": "completed"
    },
    "tags": []
   },
   "outputs": [],
   "source": [
    "x = data.drop(labels=['DATE','STATION_NAME','NB_Category'], axis=1)\n",
    "y = data.NB_Category"
   ]
  },
  {
   "cell_type": "code",
   "execution_count": 40,
   "id": "3378f11d",
   "metadata": {
    "execution": {
     "iopub.execute_input": "2024-09-23T12:59:12.240035Z",
     "iopub.status.busy": "2024-09-23T12:59:12.239470Z",
     "iopub.status.idle": "2024-09-23T12:59:12.338172Z",
     "shell.execute_reply": "2024-09-23T12:59:12.336908Z"
    },
    "papermill": {
     "duration": 0.126278,
     "end_time": "2024-09-23T12:59:12.341154",
     "exception": false,
     "start_time": "2024-09-23T12:59:12.214876",
     "status": "completed"
    },
    "tags": []
   },
   "outputs": [],
   "source": [
    "scaler = StandardScaler()\n",
    "\n",
    "x = scaler.fit_transform(x)"
   ]
  },
  {
   "cell_type": "code",
   "execution_count": 41,
   "id": "ebc8f533",
   "metadata": {
    "execution": {
     "iopub.execute_input": "2024-09-23T12:59:12.387897Z",
     "iopub.status.busy": "2024-09-23T12:59:12.387434Z",
     "iopub.status.idle": "2024-09-23T12:59:12.530358Z",
     "shell.execute_reply": "2024-09-23T12:59:12.529138Z"
    },
    "papermill": {
     "duration": 0.16962,
     "end_time": "2024-09-23T12:59:12.533276",
     "exception": false,
     "start_time": "2024-09-23T12:59:12.363656",
     "status": "completed"
    },
    "tags": []
   },
   "outputs": [],
   "source": [
    "x_train, x_test, y_train, y_test = train_test_split(x, y, test_size=0.1, random_state=40,shuffle=True)"
   ]
  },
  {
   "cell_type": "code",
   "execution_count": 42,
   "id": "ea811fd7",
   "metadata": {
    "execution": {
     "iopub.execute_input": "2024-09-23T12:59:12.583457Z",
     "iopub.status.busy": "2024-09-23T12:59:12.582910Z",
     "iopub.status.idle": "2024-09-23T12:59:12.592303Z",
     "shell.execute_reply": "2024-09-23T12:59:12.590898Z"
    },
    "papermill": {
     "duration": 0.037451,
     "end_time": "2024-09-23T12:59:12.595287",
     "exception": false,
     "start_time": "2024-09-23T12:59:12.557836",
     "status": "completed"
    },
    "tags": []
   },
   "outputs": [
    {
     "name": "stdout",
     "output_type": "stream",
     "text": [
      "Shape of the x_train data :  (762894, 5)\n",
      "Shape of the y_train data :  (762894,)\n",
      "Shape of the x_test data :  (84766, 5)\n",
      "Shape of the y_test data :  (84766,)\n"
     ]
    }
   ],
   "source": [
    "print('Shape of the x_train data : ', x_train.shape)\n",
    "print('Shape of the y_train data : ', y_train.shape)\n",
    "print('Shape of the x_test data : ', x_test.shape)\n",
    "print('Shape of the y_test data : ', y_test.shape)"
   ]
  },
  {
   "cell_type": "code",
   "execution_count": 43,
   "id": "d787e2b6",
   "metadata": {
    "execution": {
     "iopub.execute_input": "2024-09-23T12:59:12.644635Z",
     "iopub.status.busy": "2024-09-23T12:59:12.644161Z",
     "iopub.status.idle": "2024-09-23T12:59:12.666745Z",
     "shell.execute_reply": "2024-09-23T12:59:12.665536Z"
    },
    "papermill": {
     "duration": 0.050141,
     "end_time": "2024-09-23T12:59:12.669558",
     "exception": false,
     "start_time": "2024-09-23T12:59:12.619417",
     "status": "completed"
    },
    "tags": []
   },
   "outputs": [],
   "source": [
    "model = Sequential([\n",
    "    \n",
    "Dense(1024, activation='relu'), \n",
    "BatchNormalization(),\n",
    "Dense(512, activation='relu'), \n",
    "Dense(256, activation='relu'), \n",
    "Dense(256, activation='relu'), \n",
    "Dense(128, activation='relu'), \n",
    "Dense(64, activation='relu'),\n",
    "Dense(32, activation='relu'),\n",
    "Dense(5, activation = 'softmax')    \n",
    "])"
   ]
  },
  {
   "cell_type": "code",
   "execution_count": 44,
   "id": "e7614662",
   "metadata": {
    "execution": {
     "iopub.execute_input": "2024-09-23T12:59:12.717478Z",
     "iopub.status.busy": "2024-09-23T12:59:12.717046Z",
     "iopub.status.idle": "2024-09-23T12:59:12.779083Z",
     "shell.execute_reply": "2024-09-23T12:59:12.777900Z"
    },
    "papermill": {
     "duration": 0.089322,
     "end_time": "2024-09-23T12:59:12.781919",
     "exception": false,
     "start_time": "2024-09-23T12:59:12.692597",
     "status": "completed"
    },
    "tags": []
   },
   "outputs": [],
   "source": [
    "model.compile(optimizer=tf.optimizers.Adam(),\n",
    "                loss=tf.losses.SparseCategoricalCrossentropy(),\n",
    "                metrics=['accuracy'])"
   ]
  },
  {
   "cell_type": "code",
   "execution_count": 45,
   "id": "66a61bb8",
   "metadata": {
    "execution": {
     "iopub.execute_input": "2024-09-23T12:59:12.830570Z",
     "iopub.status.busy": "2024-09-23T12:59:12.829396Z",
     "iopub.status.idle": "2024-09-23T13:21:04.175671Z",
     "shell.execute_reply": "2024-09-23T13:21:04.174325Z"
    },
    "papermill": {
     "duration": 1313.594992,
     "end_time": "2024-09-23T13:21:06.399818",
     "exception": false,
     "start_time": "2024-09-23T12:59:12.804826",
     "status": "completed"
    },
    "tags": []
   },
   "outputs": [
    {
     "name": "stdout",
     "output_type": "stream",
     "text": [
      "Epoch 1/10\n",
      "\u001b[1m10133/10133\u001b[0m \u001b[32m━━━━━━━━━━━━━━━━━━━━\u001b[0m\u001b[37m\u001b[0m \u001b[1m134s\u001b[0m 13ms/step - accuracy: 0.8453 - loss: 0.3468 - val_accuracy: 0.9473 - val_loss: 0.1198\n",
      "Epoch 2/10\n",
      "\u001b[1m10133/10133\u001b[0m \u001b[32m━━━━━━━━━━━━━━━━━━━━\u001b[0m\u001b[37m\u001b[0m \u001b[1m129s\u001b[0m 13ms/step - accuracy: 0.9324 - loss: 0.1657 - val_accuracy: 0.9459 - val_loss: 0.1304\n",
      "Epoch 3/10\n",
      "\u001b[1m10133/10133\u001b[0m \u001b[32m━━━━━━━━━━━━━━━━━━━━\u001b[0m\u001b[37m\u001b[0m \u001b[1m128s\u001b[0m 13ms/step - accuracy: 0.9401 - loss: 0.1504 - val_accuracy: 0.9608 - val_loss: 0.1067\n",
      "Epoch 4/10\n",
      "\u001b[1m10133/10133\u001b[0m \u001b[32m━━━━━━━━━━━━━━━━━━━━\u001b[0m\u001b[37m\u001b[0m \u001b[1m128s\u001b[0m 13ms/step - accuracy: 0.9407 - loss: 0.1500 - val_accuracy: 0.9525 - val_loss: 0.1193\n",
      "Epoch 5/10\n",
      "\u001b[1m10133/10133\u001b[0m \u001b[32m━━━━━━━━━━━━━━━━━━━━\u001b[0m\u001b[37m\u001b[0m \u001b[1m130s\u001b[0m 13ms/step - accuracy: 0.9461 - loss: 0.1384 - val_accuracy: 0.9588 - val_loss: 0.0886\n",
      "Epoch 6/10\n",
      "\u001b[1m10133/10133\u001b[0m \u001b[32m━━━━━━━━━━━━━━━━━━━━\u001b[0m\u001b[37m\u001b[0m \u001b[1m128s\u001b[0m 13ms/step - accuracy: 0.9498 - loss: 0.1265 - val_accuracy: 0.9308 - val_loss: 0.1668\n",
      "Epoch 7/10\n",
      "\u001b[1m10133/10133\u001b[0m \u001b[32m━━━━━━━━━━━━━━━━━━━━\u001b[0m\u001b[37m\u001b[0m \u001b[1m131s\u001b[0m 13ms/step - accuracy: 0.9587 - loss: 0.1055 - val_accuracy: 0.9589 - val_loss: 0.1036\n",
      "Epoch 8/10\n",
      "\u001b[1m10133/10133\u001b[0m \u001b[32m━━━━━━━━━━━━━━━━━━━━\u001b[0m\u001b[37m\u001b[0m \u001b[1m131s\u001b[0m 13ms/step - accuracy: 0.9589 - loss: 0.1040 - val_accuracy: 0.9617 - val_loss: 0.0815\n",
      "Epoch 9/10\n",
      "\u001b[1m10133/10133\u001b[0m \u001b[32m━━━━━━━━━━━━━━━━━━━━\u001b[0m\u001b[37m\u001b[0m \u001b[1m133s\u001b[0m 13ms/step - accuracy: 0.9556 - loss: 0.1169 - val_accuracy: 0.9770 - val_loss: 0.0583\n",
      "Epoch 10/10\n",
      "\u001b[1m10133/10133\u001b[0m \u001b[32m━━━━━━━━━━━━━━━━━━━━\u001b[0m\u001b[37m\u001b[0m \u001b[1m138s\u001b[0m 13ms/step - accuracy: 0.9606 - loss: 0.0999 - val_accuracy: 0.9683 - val_loss: 0.0751\n"
     ]
    }
   ],
   "source": [
    "history = model.fit(x = x_train, y = y_train, epochs = 10 , validation_split=0.15, batch_size = 64)"
   ]
  },
  {
   "cell_type": "code",
   "execution_count": 46,
   "id": "d0747d27",
   "metadata": {
    "execution": {
     "iopub.execute_input": "2024-09-23T13:21:10.871159Z",
     "iopub.status.busy": "2024-09-23T13:21:10.870689Z",
     "iopub.status.idle": "2024-09-23T13:21:20.351078Z",
     "shell.execute_reply": "2024-09-23T13:21:20.349638Z"
    },
    "papermill": {
     "duration": 11.71684,
     "end_time": "2024-09-23T13:21:20.353671",
     "exception": false,
     "start_time": "2024-09-23T13:21:08.636831",
     "status": "completed"
    },
    "tags": []
   },
   "outputs": [
    {
     "name": "stdout",
     "output_type": "stream",
     "text": [
      "\u001b[1m2649/2649\u001b[0m \u001b[32m━━━━━━━━━━━━━━━━━━━━\u001b[0m\u001b[37m\u001b[0m \u001b[1m9s\u001b[0m 4ms/step - accuracy: 0.9701 - loss: 0.0722\n"
     ]
    },
    {
     "data": {
      "text/plain": [
       "[0.07307197153568268, 0.9698935747146606]"
      ]
     },
     "execution_count": 46,
     "metadata": {},
     "output_type": "execute_result"
    }
   ],
   "source": [
    "model.evaluate(x_test,y_test)"
   ]
  }
 ],
 "metadata": {
  "kaggle": {
   "accelerator": "none",
   "dataSources": [
    {
     "datasetId": 1075705,
     "sourceId": 1810722,
     "sourceType": "datasetVersion"
    }
   ],
   "dockerImageVersionId": 30762,
   "isGpuEnabled": false,
   "isInternetEnabled": true,
   "language": "python",
   "sourceType": "notebook"
  },
  "kernelspec": {
   "display_name": "Python 3",
   "language": "python",
   "name": "python3"
  },
  "language_info": {
   "codemirror_mode": {
    "name": "ipython",
    "version": 3
   },
   "file_extension": ".py",
   "mimetype": "text/x-python",
   "name": "python",
   "nbconvert_exporter": "python",
   "pygments_lexer": "ipython3",
   "version": "3.10.14"
  },
  "papermill": {
   "default_parameters": {},
   "duration": 1375.216406,
   "end_time": "2024-09-23T13:21:24.951988",
   "environment_variables": {},
   "exception": null,
   "input_path": "__notebook__.ipynb",
   "output_path": "__notebook__.ipynb",
   "parameters": {},
   "start_time": "2024-09-23T12:58:29.735582",
   "version": "2.6.0"
  }
 },
 "nbformat": 4,
 "nbformat_minor": 5
}
