{
 "cells": [
  {
   "cell_type": "code",
   "execution_count": 1,
   "id": "9869c7af",
   "metadata": {
    "execution": {
     "iopub.execute_input": "2024-09-22T16:27:00.694537Z",
     "iopub.status.busy": "2024-09-22T16:27:00.694176Z",
     "iopub.status.idle": "2024-09-22T16:27:15.880987Z",
     "shell.execute_reply": "2024-09-22T16:27:15.879897Z"
    },
    "papermill": {
     "duration": 15.194769,
     "end_time": "2024-09-22T16:27:15.883415",
     "exception": false,
     "start_time": "2024-09-22T16:27:00.688646",
     "status": "completed"
    },
    "tags": []
   },
   "outputs": [
    {
     "name": "stdout",
     "output_type": "stream",
     "text": [
      "Collecting ultralytics\r\n",
      "  Downloading ultralytics-8.2.98-py3-none-any.whl.metadata (39 kB)\r\n",
      "Requirement already satisfied: numpy<2.0.0,>=1.23.0 in /opt/conda/lib/python3.10/site-packages (from ultralytics) (1.26.4)\r\n",
      "Requirement already satisfied: matplotlib>=3.3.0 in /opt/conda/lib/python3.10/site-packages (from ultralytics) (3.7.5)\r\n",
      "Requirement already satisfied: opencv-python>=4.6.0 in /opt/conda/lib/python3.10/site-packages (from ultralytics) (4.10.0.84)\r\n",
      "Requirement already satisfied: pillow>=7.1.2 in /opt/conda/lib/python3.10/site-packages (from ultralytics) (9.5.0)\r\n",
      "Requirement already satisfied: pyyaml>=5.3.1 in /opt/conda/lib/python3.10/site-packages (from ultralytics) (6.0.2)\r\n",
      "Requirement already satisfied: requests>=2.23.0 in /opt/conda/lib/python3.10/site-packages (from ultralytics) (2.32.3)\r\n",
      "Requirement already satisfied: scipy>=1.4.1 in /opt/conda/lib/python3.10/site-packages (from ultralytics) (1.14.0)\r\n",
      "Requirement already satisfied: torch>=1.8.0 in /opt/conda/lib/python3.10/site-packages (from ultralytics) (2.4.0)\r\n",
      "Requirement already satisfied: torchvision>=0.9.0 in /opt/conda/lib/python3.10/site-packages (from ultralytics) (0.19.0)\r\n",
      "Requirement already satisfied: tqdm>=4.64.0 in /opt/conda/lib/python3.10/site-packages (from ultralytics) (4.66.4)\r\n",
      "Requirement already satisfied: psutil in /opt/conda/lib/python3.10/site-packages (from ultralytics) (5.9.3)\r\n",
      "Requirement already satisfied: py-cpuinfo in /opt/conda/lib/python3.10/site-packages (from ultralytics) (9.0.0)\r\n",
      "Requirement already satisfied: pandas>=1.1.4 in /opt/conda/lib/python3.10/site-packages (from ultralytics) (2.2.2)\r\n",
      "Requirement already satisfied: seaborn>=0.11.0 in /opt/conda/lib/python3.10/site-packages (from ultralytics) (0.12.2)\r\n",
      "Collecting ultralytics-thop>=2.0.0 (from ultralytics)\r\n",
      "  Downloading ultralytics_thop-2.0.8-py3-none-any.whl.metadata (9.3 kB)\r\n",
      "Requirement already satisfied: contourpy>=1.0.1 in /opt/conda/lib/python3.10/site-packages (from matplotlib>=3.3.0->ultralytics) (1.2.1)\r\n",
      "Requirement already satisfied: cycler>=0.10 in /opt/conda/lib/python3.10/site-packages (from matplotlib>=3.3.0->ultralytics) (0.12.1)\r\n",
      "Requirement already satisfied: fonttools>=4.22.0 in /opt/conda/lib/python3.10/site-packages (from matplotlib>=3.3.0->ultralytics) (4.53.0)\r\n",
      "Requirement already satisfied: kiwisolver>=1.0.1 in /opt/conda/lib/python3.10/site-packages (from matplotlib>=3.3.0->ultralytics) (1.4.5)\r\n",
      "Requirement already satisfied: packaging>=20.0 in /opt/conda/lib/python3.10/site-packages (from matplotlib>=3.3.0->ultralytics) (21.3)\r\n",
      "Requirement already satisfied: pyparsing>=2.3.1 in /opt/conda/lib/python3.10/site-packages (from matplotlib>=3.3.0->ultralytics) (3.1.2)\r\n",
      "Requirement already satisfied: python-dateutil>=2.7 in /opt/conda/lib/python3.10/site-packages (from matplotlib>=3.3.0->ultralytics) (2.9.0.post0)\r\n",
      "Requirement already satisfied: pytz>=2020.1 in /opt/conda/lib/python3.10/site-packages (from pandas>=1.1.4->ultralytics) (2024.1)\r\n",
      "Requirement already satisfied: tzdata>=2022.7 in /opt/conda/lib/python3.10/site-packages (from pandas>=1.1.4->ultralytics) (2024.1)\r\n",
      "Requirement already satisfied: charset-normalizer<4,>=2 in /opt/conda/lib/python3.10/site-packages (from requests>=2.23.0->ultralytics) (3.3.2)\r\n",
      "Requirement already satisfied: idna<4,>=2.5 in /opt/conda/lib/python3.10/site-packages (from requests>=2.23.0->ultralytics) (3.7)\r\n",
      "Requirement already satisfied: urllib3<3,>=1.21.1 in /opt/conda/lib/python3.10/site-packages (from requests>=2.23.0->ultralytics) (1.26.18)\r\n",
      "Requirement already satisfied: certifi>=2017.4.17 in /opt/conda/lib/python3.10/site-packages (from requests>=2.23.0->ultralytics) (2024.7.4)\r\n",
      "Requirement already satisfied: filelock in /opt/conda/lib/python3.10/site-packages (from torch>=1.8.0->ultralytics) (3.15.1)\r\n",
      "Requirement already satisfied: typing-extensions>=4.8.0 in /opt/conda/lib/python3.10/site-packages (from torch>=1.8.0->ultralytics) (4.12.2)\r\n",
      "Requirement already satisfied: sympy in /opt/conda/lib/python3.10/site-packages (from torch>=1.8.0->ultralytics) (1.13.2)\r\n",
      "Requirement already satisfied: networkx in /opt/conda/lib/python3.10/site-packages (from torch>=1.8.0->ultralytics) (3.3)\r\n",
      "Requirement already satisfied: jinja2 in /opt/conda/lib/python3.10/site-packages (from torch>=1.8.0->ultralytics) (3.1.4)\r\n",
      "Requirement already satisfied: fsspec in /opt/conda/lib/python3.10/site-packages (from torch>=1.8.0->ultralytics) (2024.6.1)\r\n",
      "Requirement already satisfied: six>=1.5 in /opt/conda/lib/python3.10/site-packages (from python-dateutil>=2.7->matplotlib>=3.3.0->ultralytics) (1.16.0)\r\n",
      "Requirement already satisfied: MarkupSafe>=2.0 in /opt/conda/lib/python3.10/site-packages (from jinja2->torch>=1.8.0->ultralytics) (2.1.5)\r\n",
      "Requirement already satisfied: mpmath<1.4,>=1.1.0 in /opt/conda/lib/python3.10/site-packages (from sympy->torch>=1.8.0->ultralytics) (1.3.0)\r\n",
      "Downloading ultralytics-8.2.98-py3-none-any.whl (873 kB)\r\n",
      "\u001b[2K   \u001b[90m━━━━━━━━━━━━━━━━━━━━━━━━━━━━━━━━━━━━━━━━\u001b[0m \u001b[32m873.6/873.6 kB\u001b[0m \u001b[31m24.2 MB/s\u001b[0m eta \u001b[36m0:00:00\u001b[0m\r\n",
      "\u001b[?25hDownloading ultralytics_thop-2.0.8-py3-none-any.whl (26 kB)\r\n",
      "Installing collected packages: ultralytics-thop, ultralytics\r\n",
      "Successfully installed ultralytics-8.2.98 ultralytics-thop-2.0.8\r\n"
     ]
    }
   ],
   "source": [
    "! pip install ultralytics"
   ]
  },
  {
   "cell_type": "code",
   "execution_count": 2,
   "id": "670f7268",
   "metadata": {
    "execution": {
     "iopub.execute_input": "2024-09-22T16:27:15.894755Z",
     "iopub.status.busy": "2024-09-22T16:27:15.894430Z",
     "iopub.status.idle": "2024-09-22T16:27:21.107724Z",
     "shell.execute_reply": "2024-09-22T16:27:21.106712Z"
    },
    "papermill": {
     "duration": 5.221453,
     "end_time": "2024-09-22T16:27:21.110051",
     "exception": false,
     "start_time": "2024-09-22T16:27:15.888598",
     "status": "completed"
    },
    "tags": []
   },
   "outputs": [
    {
     "name": "stdout",
     "output_type": "stream",
     "text": [
      "Downloading https://github.com/ultralytics/assets/releases/download/v8.2.0/yolov8n.pt to 'yolov8n.pt'...\n"
     ]
    },
    {
     "name": "stderr",
     "output_type": "stream",
     "text": [
      "100%|██████████| 6.25M/6.25M [00:00<00:00, 106MB/s]\n"
     ]
    }
   ],
   "source": [
    "from ultralytics import YOLO\n",
    "model = YOLO('yolov8n.pt')"
   ]
  },
  {
   "cell_type": "code",
   "execution_count": 3,
   "id": "d6971ad8",
   "metadata": {
    "execution": {
     "iopub.execute_input": "2024-09-22T16:27:21.121374Z",
     "iopub.status.busy": "2024-09-22T16:27:21.120962Z",
     "iopub.status.idle": "2024-09-22T16:27:21.125117Z",
     "shell.execute_reply": "2024-09-22T16:27:21.124219Z"
    },
    "papermill": {
     "duration": 0.011862,
     "end_time": "2024-09-22T16:27:21.126929",
     "exception": false,
     "start_time": "2024-09-22T16:27:21.115067",
     "status": "completed"
    },
    "tags": []
   },
   "outputs": [],
   "source": [
    "source = \"https://t4.ftcdn.net/jpg/04/15/79/09/360_F_415790935_7va5lMHOmyhvAcdskXbSx7lDJUp0cfja.jpg\""
   ]
  },
  {
   "cell_type": "code",
   "execution_count": 4,
   "id": "b4bb2436",
   "metadata": {
    "execution": {
     "iopub.execute_input": "2024-09-22T16:27:21.137600Z",
     "iopub.status.busy": "2024-09-22T16:27:21.137300Z",
     "iopub.status.idle": "2024-09-22T16:27:23.684624Z",
     "shell.execute_reply": "2024-09-22T16:27:23.683748Z"
    },
    "papermill": {
     "duration": 2.554922,
     "end_time": "2024-09-22T16:27:23.686634",
     "exception": false,
     "start_time": "2024-09-22T16:27:21.131712",
     "status": "completed"
    },
    "tags": []
   },
   "outputs": [
    {
     "name": "stdout",
     "output_type": "stream",
     "text": [
      "\n",
      "Downloading https://t4.ftcdn.net/jpg/04/15/79/09/360_F_415790935_7va5lMHOmyhvAcdskXbSx7lDJUp0cfja.jpg to '360_F_415790935_7va5lMHOmyhvAcdskXbSx7lDJUp0cfja.jpg'...\n"
     ]
    },
    {
     "name": "stderr",
     "output_type": "stream",
     "text": [
      "100%|██████████| 71.5k/71.5k [00:00<00:00, 5.79MB/s]\n"
     ]
    },
    {
     "name": "stdout",
     "output_type": "stream",
     "text": [
      "image 1/1 /kaggle/working/360_F_415790935_7va5lMHOmyhvAcdskXbSx7lDJUp0cfja.jpg: 352x640 2 birds, 1 sheep, 1 cow, 1 elephant, 1 zebra, 84.7ms\n",
      "Speed: 9.5ms preprocess, 84.7ms inference, 257.7ms postprocess per image at shape (1, 3, 352, 640)\n",
      "Results saved to \u001b[1mruns/detect/predict\u001b[0m\n"
     ]
    }
   ],
   "source": [
    "results = model.predict(source, save = True )"
   ]
  },
  {
   "cell_type": "code",
   "execution_count": 5,
   "id": "d7ddfee0",
   "metadata": {
    "execution": {
     "iopub.execute_input": "2024-09-22T16:27:23.699284Z",
     "iopub.status.busy": "2024-09-22T16:27:23.698855Z",
     "iopub.status.idle": "2024-09-22T16:27:23.704771Z",
     "shell.execute_reply": "2024-09-22T16:27:23.703918Z"
    },
    "papermill": {
     "duration": 0.014793,
     "end_time": "2024-09-22T16:27:23.707074",
     "exception": false,
     "start_time": "2024-09-22T16:27:23.692281",
     "status": "completed"
    },
    "tags": []
   },
   "outputs": [
    {
     "name": "stdout",
     "output_type": "stream",
     "text": [
      "[ultralytics.engine.results.Results object with attributes:\n",
      "\n",
      "boxes: ultralytics.engine.results.Boxes object\n",
      "keypoints: None\n",
      "masks: None\n",
      "names: {0: 'person', 1: 'bicycle', 2: 'car', 3: 'motorcycle', 4: 'airplane', 5: 'bus', 6: 'train', 7: 'truck', 8: 'boat', 9: 'traffic light', 10: 'fire hydrant', 11: 'stop sign', 12: 'parking meter', 13: 'bench', 14: 'bird', 15: 'cat', 16: 'dog', 17: 'horse', 18: 'sheep', 19: 'cow', 20: 'elephant', 21: 'bear', 22: 'zebra', 23: 'giraffe', 24: 'backpack', 25: 'umbrella', 26: 'handbag', 27: 'tie', 28: 'suitcase', 29: 'frisbee', 30: 'skis', 31: 'snowboard', 32: 'sports ball', 33: 'kite', 34: 'baseball bat', 35: 'baseball glove', 36: 'skateboard', 37: 'surfboard', 38: 'tennis racket', 39: 'bottle', 40: 'wine glass', 41: 'cup', 42: 'fork', 43: 'knife', 44: 'spoon', 45: 'bowl', 46: 'banana', 47: 'apple', 48: 'sandwich', 49: 'orange', 50: 'broccoli', 51: 'carrot', 52: 'hot dog', 53: 'pizza', 54: 'donut', 55: 'cake', 56: 'chair', 57: 'couch', 58: 'potted plant', 59: 'bed', 60: 'dining table', 61: 'toilet', 62: 'tv', 63: 'laptop', 64: 'mouse', 65: 'remote', 66: 'keyboard', 67: 'cell phone', 68: 'microwave', 69: 'oven', 70: 'toaster', 71: 'sink', 72: 'refrigerator', 73: 'book', 74: 'clock', 75: 'vase', 76: 'scissors', 77: 'teddy bear', 78: 'hair drier', 79: 'toothbrush'}\n",
      "obb: None\n",
      "orig_img: array([[[207, 166, 117],\n",
      "        [207, 166, 117],\n",
      "        [207, 166, 117],\n",
      "        ...,\n",
      "        [213, 174, 135],\n",
      "        [213, 174, 135],\n",
      "        [213, 174, 135]],\n",
      "\n",
      "       [[208, 167, 118],\n",
      "        [208, 167, 118],\n",
      "        [208, 167, 118],\n",
      "        ...,\n",
      "        [213, 174, 135],\n",
      "        [213, 174, 135],\n",
      "        [213, 174, 135]],\n",
      "\n",
      "       [[209, 168, 119],\n",
      "        [209, 168, 119],\n",
      "        [209, 168, 119],\n",
      "        ...,\n",
      "        [213, 175, 133],\n",
      "        [213, 175, 133],\n",
      "        [213, 175, 133]],\n",
      "\n",
      "       ...,\n",
      "\n",
      "       [[100, 159, 209],\n",
      "        [ 89, 149, 201],\n",
      "        [ 88, 153, 204],\n",
      "        ...,\n",
      "        [110, 167, 206],\n",
      "        [132, 188, 229],\n",
      "        [ 94, 149, 192]],\n",
      "\n",
      "       [[114, 171, 227],\n",
      "        [ 91, 150, 206],\n",
      "        [ 88, 150, 204],\n",
      "        ...,\n",
      "        [106, 168, 208],\n",
      "        [132, 195, 239],\n",
      "        [ 99, 161, 209]],\n",
      "\n",
      "       [[109, 164, 225],\n",
      "        [ 87, 145, 204],\n",
      "        [ 64, 125, 181],\n",
      "        ...,\n",
      "        [ 81, 148, 193],\n",
      "        [107, 175, 222],\n",
      "        [ 68, 136, 189]]], dtype=uint8)\n",
      "orig_shape: (360, 691)\n",
      "path: '/kaggle/working/360_F_415790935_7va5lMHOmyhvAcdskXbSx7lDJUp0cfja.jpg'\n",
      "probs: None\n",
      "save_dir: 'runs/detect/predict'\n",
      "speed: {'preprocess': 9.49549674987793, 'inference': 84.65409278869629, 'postprocess': 257.68232345581055}]\n"
     ]
    }
   ],
   "source": [
    "print(results)"
   ]
  },
  {
   "cell_type": "code",
   "execution_count": 6,
   "id": "395525c5",
   "metadata": {
    "execution": {
     "iopub.execute_input": "2024-09-22T16:27:23.719476Z",
     "iopub.status.busy": "2024-09-22T16:27:23.719184Z",
     "iopub.status.idle": "2024-09-22T16:27:24.807494Z",
     "shell.execute_reply": "2024-09-22T16:27:24.806654Z"
    },
    "papermill": {
     "duration": 1.096752,
     "end_time": "2024-09-22T16:27:24.809498",
     "exception": false,
     "start_time": "2024-09-22T16:27:23.712746",
     "status": "completed"
    },
    "tags": []
   },
   "outputs": [
    {
     "name": "stdout",
     "output_type": "stream",
     "text": [
      "\n",
      "Downloading https://img.indianauto.com/2021/01/08/JLzfMntl/161-7010-08b3.jpg to '161-7010-08b3.jpg'...\n"
     ]
    },
    {
     "name": "stderr",
     "output_type": "stream",
     "text": [
      "100%|██████████| 213k/213k [00:00<00:00, 1.17MB/s]\n"
     ]
    },
    {
     "name": "stdout",
     "output_type": "stream",
     "text": [
      "image 1/1 /kaggle/working/161-7010-08b3.jpg: 480x640 17 cars, 41.3ms\n",
      "Speed: 3.8ms preprocess, 41.3ms inference, 1.4ms postprocess per image at shape (1, 3, 480, 640)\n",
      "Results saved to \u001b[1mruns/detect/predict\u001b[0m\n"
     ]
    }
   ],
   "source": [
    "s=model.predict('https://img.indianauto.com/2021/01/08/JLzfMntl/161-7010-08b3.jpg', save = True )"
   ]
  },
  {
   "cell_type": "code",
   "execution_count": 7,
   "id": "e71f3cb8",
   "metadata": {
    "execution": {
     "iopub.execute_input": "2024-09-22T16:27:24.823622Z",
     "iopub.status.busy": "2024-09-22T16:27:24.823304Z",
     "iopub.status.idle": "2024-09-22T16:27:24.828704Z",
     "shell.execute_reply": "2024-09-22T16:27:24.827815Z"
    },
    "papermill": {
     "duration": 0.015641,
     "end_time": "2024-09-22T16:27:24.831552",
     "exception": false,
     "start_time": "2024-09-22T16:27:24.815911",
     "status": "completed"
    },
    "tags": []
   },
   "outputs": [
    {
     "name": "stdout",
     "output_type": "stream",
     "text": [
      "[ultralytics.engine.results.Results object with attributes:\n",
      "\n",
      "boxes: ultralytics.engine.results.Boxes object\n",
      "keypoints: None\n",
      "masks: None\n",
      "names: {0: 'person', 1: 'bicycle', 2: 'car', 3: 'motorcycle', 4: 'airplane', 5: 'bus', 6: 'train', 7: 'truck', 8: 'boat', 9: 'traffic light', 10: 'fire hydrant', 11: 'stop sign', 12: 'parking meter', 13: 'bench', 14: 'bird', 15: 'cat', 16: 'dog', 17: 'horse', 18: 'sheep', 19: 'cow', 20: 'elephant', 21: 'bear', 22: 'zebra', 23: 'giraffe', 24: 'backpack', 25: 'umbrella', 26: 'handbag', 27: 'tie', 28: 'suitcase', 29: 'frisbee', 30: 'skis', 31: 'snowboard', 32: 'sports ball', 33: 'kite', 34: 'baseball bat', 35: 'baseball glove', 36: 'skateboard', 37: 'surfboard', 38: 'tennis racket', 39: 'bottle', 40: 'wine glass', 41: 'cup', 42: 'fork', 43: 'knife', 44: 'spoon', 45: 'bowl', 46: 'banana', 47: 'apple', 48: 'sandwich', 49: 'orange', 50: 'broccoli', 51: 'carrot', 52: 'hot dog', 53: 'pizza', 54: 'donut', 55: 'cake', 56: 'chair', 57: 'couch', 58: 'potted plant', 59: 'bed', 60: 'dining table', 61: 'toilet', 62: 'tv', 63: 'laptop', 64: 'mouse', 65: 'remote', 66: 'keyboard', 67: 'cell phone', 68: 'microwave', 69: 'oven', 70: 'toaster', 71: 'sink', 72: 'refrigerator', 73: 'book', 74: 'clock', 75: 'vase', 76: 'scissors', 77: 'teddy bear', 78: 'hair drier', 79: 'toothbrush'}\n",
      "obb: None\n",
      "orig_img: array([[[ 39,  37,  27],\n",
      "        [ 36,  34,  24],\n",
      "        [ 32,  30,  20],\n",
      "        ...,\n",
      "        [  1,   0,   8],\n",
      "        [  6,   2,  13],\n",
      "        [  5,   1,  12]],\n",
      "\n",
      "       [[ 38,  36,  26],\n",
      "        [ 33,  31,  21],\n",
      "        [ 28,  26,  16],\n",
      "        ...,\n",
      "        [ 38,  35,  44],\n",
      "        [ 32,  29,  38],\n",
      "        [ 22,  19,  28]],\n",
      "\n",
      "       [[ 36,  34,  24],\n",
      "        [ 29,  27,  17],\n",
      "        [ 23,  20,  12],\n",
      "        ...,\n",
      "        [124, 124, 130],\n",
      "        [107, 107, 113],\n",
      "        [ 88,  88,  94]],\n",
      "\n",
      "       ...,\n",
      "\n",
      "       [[123, 121, 113],\n",
      "        [123, 121, 113],\n",
      "        [122, 120, 112],\n",
      "        ...,\n",
      "        [ 89,  78,  74],\n",
      "        [ 90,  79,  75],\n",
      "        [ 89,  78,  74]],\n",
      "\n",
      "       [[118, 116, 108],\n",
      "        [117, 115, 107],\n",
      "        [115, 113, 105],\n",
      "        ...,\n",
      "        [ 84,  73,  69],\n",
      "        [ 84,  73,  69],\n",
      "        [ 83,  72,  68]],\n",
      "\n",
      "       [[114, 112, 104],\n",
      "        [110, 108, 100],\n",
      "        [106, 104,  96],\n",
      "        ...,\n",
      "        [ 80,  69,  65],\n",
      "        [ 79,  68,  64],\n",
      "        [ 78,  67,  63]]], dtype=uint8)\n",
      "orig_shape: (872, 1200)\n",
      "path: '/kaggle/working/161-7010-08b3.jpg'\n",
      "probs: None\n",
      "save_dir: 'runs/detect/predict'\n",
      "speed: {'preprocess': 3.7546157836914062, 'inference': 41.26095771789551, 'postprocess': 1.4123916625976562}]\n"
     ]
    }
   ],
   "source": [
    "print(s)"
   ]
  },
  {
   "cell_type": "code",
   "execution_count": 8,
   "id": "2cffa0e1",
   "metadata": {
    "execution": {
     "iopub.execute_input": "2024-09-22T16:27:24.846523Z",
     "iopub.status.busy": "2024-09-22T16:27:24.846241Z",
     "iopub.status.idle": "2024-09-22T16:27:26.246215Z",
     "shell.execute_reply": "2024-09-22T16:27:26.245153Z"
    },
    "papermill": {
     "duration": 1.410632,
     "end_time": "2024-09-22T16:27:26.249293",
     "exception": false,
     "start_time": "2024-09-22T16:27:24.838661",
     "status": "completed"
    },
    "tags": []
   },
   "outputs": [
    {
     "name": "stdout",
     "output_type": "stream",
     "text": [
      "\n",
      "Downloading https://www.sportszion.com/wp-content/uploads/2022/12/20221219_005410-1536x1024.jpg to '20221219_005410-1536x1024.jpg'...\n"
     ]
    },
    {
     "name": "stderr",
     "output_type": "stream",
     "text": [
      "248kB [00:00, 13.1MB/s]"
     ]
    },
    {
     "name": "stdout",
     "output_type": "stream",
     "text": [
      "image 1/1 /kaggle/working/20221219_005410-1536x1024.jpg: 448x640 9 persons, 38.7ms\n",
      "Speed: 2.3ms preprocess, 38.7ms inference, 1.3ms postprocess per image at shape (1, 3, 448, 640)\n"
     ]
    },
    {
     "name": "stderr",
     "output_type": "stream",
     "text": [
      "\n"
     ]
    }
   ],
   "source": [
    "from PIL import Image\n",
    "from ultralytics import YOLO\n",
    "\n",
    "model = YOLO('yolov8n.pt')\n",
    "\n",
    "results = model(\"https://www.sportszion.com/wp-content/uploads/2022/12/20221219_005410-1536x1024.jpg\") \n",
    "\n",
    "for r in results:\n",
    "    im_array = r.plot() \n",
    "    im = Image.fromarray(im_array[..., ::-1])  \n",
    "    im.save('results.jpg')\n",
    "    im.show()  "
   ]
  },
  {
   "cell_type": "code",
   "execution_count": 9,
   "id": "ac7a8d69",
   "metadata": {
    "execution": {
     "iopub.execute_input": "2024-09-22T16:27:26.267821Z",
     "iopub.status.busy": "2024-09-22T16:27:26.267427Z",
     "iopub.status.idle": "2024-09-22T16:27:26.275739Z",
     "shell.execute_reply": "2024-09-22T16:27:26.274877Z"
    },
    "papermill": {
     "duration": 0.020497,
     "end_time": "2024-09-22T16:27:26.278665",
     "exception": false,
     "start_time": "2024-09-22T16:27:26.258168",
     "status": "completed"
    },
    "tags": []
   },
   "outputs": [],
   "source": [
    "def print_detected_objects(imagepathslist):\n",
    "  ! pip install ultralytics\n",
    "  from PIL import Image\n",
    "  from ultralytics import YOLO\n",
    "  model = YOLO('yolov8n.pt')\n",
    "  results = model(imagepathslist)\n",
    "  counter = 1\n",
    "  for r in results:\n",
    "    im_array = r.plot()  \n",
    "    im = Image.fromarray(im_array[..., ::-1])  \n",
    "    im.show()  # show image\n",
    "    im.save(f'image{counter}.jpg') \n",
    "    counter+= 1"
   ]
  },
  {
   "cell_type": "code",
   "execution_count": null,
   "id": "fa18eb56",
   "metadata": {
    "papermill": {
     "duration": 0.007378,
     "end_time": "2024-09-22T16:27:26.294108",
     "exception": false,
     "start_time": "2024-09-22T16:27:26.286730",
     "status": "completed"
    },
    "tags": []
   },
   "outputs": [],
   "source": []
  }
 ],
 "metadata": {
  "kaggle": {
   "accelerator": "gpu",
   "dataSources": [],
   "dockerImageVersionId": 30762,
   "isGpuEnabled": true,
   "isInternetEnabled": true,
   "language": "python",
   "sourceType": "notebook"
  },
  "kernelspec": {
   "display_name": "Python 3",
   "language": "python",
   "name": "python3"
  },
  "language_info": {
   "codemirror_mode": {
    "name": "ipython",
    "version": 3
   },
   "file_extension": ".py",
   "mimetype": "text/x-python",
   "name": "python",
   "nbconvert_exporter": "python",
   "pygments_lexer": "ipython3",
   "version": "3.10.14"
  },
  "papermill": {
   "default_parameters": {},
   "duration": 30.944433,
   "end_time": "2024-09-22T16:27:28.924103",
   "environment_variables": {},
   "exception": null,
   "input_path": "__notebook__.ipynb",
   "output_path": "__notebook__.ipynb",
   "parameters": {},
   "start_time": "2024-09-22T16:26:57.979670",
   "version": "2.6.0"
  }
 },
 "nbformat": 4,
 "nbformat_minor": 5
}
