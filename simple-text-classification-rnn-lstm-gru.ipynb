{
 "cells": [
  {
   "cell_type": "markdown",
   "id": "2d781dcd",
   "metadata": {
    "papermill": {
     "duration": 0.007182,
     "end_time": "2024-09-25T17:04:09.492478",
     "exception": false,
     "start_time": "2024-09-25T17:04:09.485296",
     "status": "completed"
    },
    "tags": []
   },
   "source": [
    "# Import Libraries"
   ]
  },
  {
   "cell_type": "code",
   "execution_count": 1,
   "id": "139bd4b1",
   "metadata": {
    "execution": {
     "iopub.execute_input": "2024-09-25T17:04:09.507786Z",
     "iopub.status.busy": "2024-09-25T17:04:09.507149Z",
     "iopub.status.idle": "2024-09-25T17:04:23.513535Z",
     "shell.execute_reply": "2024-09-25T17:04:23.512649Z"
    },
    "papermill": {
     "duration": 14.016484,
     "end_time": "2024-09-25T17:04:23.515950",
     "exception": false,
     "start_time": "2024-09-25T17:04:09.499466",
     "status": "completed"
    },
    "tags": []
   },
   "outputs": [],
   "source": [
    "import pandas as pd\n",
    "import numpy as np\n",
    "\n",
    "from tensorflow.keras.models import Sequential\n",
    "from tensorflow.keras.layers import Embedding, SimpleRNN, LSTM, GRU, Dense\n",
    "\n",
    "from sklearn.model_selection import train_test_split\n",
    "from sklearn.preprocessing import LabelEncoder\n",
    "from tensorflow.keras.preprocessing.text import Tokenizer\n",
    "from tensorflow.keras.preprocessing.sequence import pad_sequences\n",
    "\n",
    "import warnings\n",
    "warnings.filterwarnings('ignore')"
   ]
  },
  {
   "cell_type": "markdown",
   "id": "2d4258ae",
   "metadata": {
    "papermill": {
     "duration": 0.006404,
     "end_time": "2024-09-25T17:04:23.529141",
     "exception": false,
     "start_time": "2024-09-25T17:04:23.522737",
     "status": "completed"
    },
    "tags": []
   },
   "source": [
    "# Explore Data"
   ]
  },
  {
   "cell_type": "code",
   "execution_count": 2,
   "id": "cc712b7b",
   "metadata": {
    "execution": {
     "iopub.execute_input": "2024-09-25T17:04:23.544502Z",
     "iopub.status.busy": "2024-09-25T17:04:23.543974Z",
     "iopub.status.idle": "2024-09-25T17:04:23.576591Z",
     "shell.execute_reply": "2024-09-25T17:04:23.575919Z"
    },
    "papermill": {
     "duration": 0.041965,
     "end_time": "2024-09-25T17:04:23.578577",
     "exception": false,
     "start_time": "2024-09-25T17:04:23.536612",
     "status": "completed"
    },
    "tags": []
   },
   "outputs": [],
   "source": [
    "df = pd.read_csv('/kaggle/input/spam-emails/spam.csv')"
   ]
  },
  {
   "cell_type": "code",
   "execution_count": 3,
   "id": "b32cae2d",
   "metadata": {
    "execution": {
     "iopub.execute_input": "2024-09-25T17:04:23.592863Z",
     "iopub.status.busy": "2024-09-25T17:04:23.592536Z",
     "iopub.status.idle": "2024-09-25T17:04:23.608237Z",
     "shell.execute_reply": "2024-09-25T17:04:23.607391Z"
    },
    "papermill": {
     "duration": 0.024893,
     "end_time": "2024-09-25T17:04:23.610187",
     "exception": false,
     "start_time": "2024-09-25T17:04:23.585294",
     "status": "completed"
    },
    "tags": []
   },
   "outputs": [
    {
     "data": {
      "text/html": [
       "<div>\n",
       "<style scoped>\n",
       "    .dataframe tbody tr th:only-of-type {\n",
       "        vertical-align: middle;\n",
       "    }\n",
       "\n",
       "    .dataframe tbody tr th {\n",
       "        vertical-align: top;\n",
       "    }\n",
       "\n",
       "    .dataframe thead th {\n",
       "        text-align: right;\n",
       "    }\n",
       "</style>\n",
       "<table border=\"1\" class=\"dataframe\">\n",
       "  <thead>\n",
       "    <tr style=\"text-align: right;\">\n",
       "      <th></th>\n",
       "      <th>Category</th>\n",
       "      <th>Message</th>\n",
       "    </tr>\n",
       "  </thead>\n",
       "  <tbody>\n",
       "    <tr>\n",
       "      <th>0</th>\n",
       "      <td>ham</td>\n",
       "      <td>Go until jurong point, crazy.. Available only ...</td>\n",
       "    </tr>\n",
       "    <tr>\n",
       "      <th>1</th>\n",
       "      <td>ham</td>\n",
       "      <td>Ok lar... Joking wif u oni...</td>\n",
       "    </tr>\n",
       "    <tr>\n",
       "      <th>2</th>\n",
       "      <td>spam</td>\n",
       "      <td>Free entry in 2 a wkly comp to win FA Cup fina...</td>\n",
       "    </tr>\n",
       "    <tr>\n",
       "      <th>3</th>\n",
       "      <td>ham</td>\n",
       "      <td>U dun say so early hor... U c already then say...</td>\n",
       "    </tr>\n",
       "    <tr>\n",
       "      <th>4</th>\n",
       "      <td>ham</td>\n",
       "      <td>Nah I don't think he goes to usf, he lives aro...</td>\n",
       "    </tr>\n",
       "  </tbody>\n",
       "</table>\n",
       "</div>"
      ],
      "text/plain": [
       "  Category                                            Message\n",
       "0      ham  Go until jurong point, crazy.. Available only ...\n",
       "1      ham                      Ok lar... Joking wif u oni...\n",
       "2     spam  Free entry in 2 a wkly comp to win FA Cup fina...\n",
       "3      ham  U dun say so early hor... U c already then say...\n",
       "4      ham  Nah I don't think he goes to usf, he lives aro..."
      ]
     },
     "execution_count": 3,
     "metadata": {},
     "output_type": "execute_result"
    }
   ],
   "source": [
    "df.head()"
   ]
  },
  {
   "cell_type": "code",
   "execution_count": 4,
   "id": "dfe41e9c",
   "metadata": {
    "execution": {
     "iopub.execute_input": "2024-09-25T17:04:23.625581Z",
     "iopub.status.busy": "2024-09-25T17:04:23.625254Z",
     "iopub.status.idle": "2024-09-25T17:04:23.633890Z",
     "shell.execute_reply": "2024-09-25T17:04:23.632908Z"
    },
    "papermill": {
     "duration": 0.018376,
     "end_time": "2024-09-25T17:04:23.635975",
     "exception": false,
     "start_time": "2024-09-25T17:04:23.617599",
     "status": "completed"
    },
    "tags": []
   },
   "outputs": [
    {
     "data": {
      "text/html": [
       "<div>\n",
       "<style scoped>\n",
       "    .dataframe tbody tr th:only-of-type {\n",
       "        vertical-align: middle;\n",
       "    }\n",
       "\n",
       "    .dataframe tbody tr th {\n",
       "        vertical-align: top;\n",
       "    }\n",
       "\n",
       "    .dataframe thead th {\n",
       "        text-align: right;\n",
       "    }\n",
       "</style>\n",
       "<table border=\"1\" class=\"dataframe\">\n",
       "  <thead>\n",
       "    <tr style=\"text-align: right;\">\n",
       "      <th></th>\n",
       "      <th>Category</th>\n",
       "      <th>Message</th>\n",
       "    </tr>\n",
       "  </thead>\n",
       "  <tbody>\n",
       "    <tr>\n",
       "      <th>5567</th>\n",
       "      <td>spam</td>\n",
       "      <td>This is the 2nd time we have tried 2 contact u...</td>\n",
       "    </tr>\n",
       "    <tr>\n",
       "      <th>5568</th>\n",
       "      <td>ham</td>\n",
       "      <td>Will ü b going to esplanade fr home?</td>\n",
       "    </tr>\n",
       "    <tr>\n",
       "      <th>5569</th>\n",
       "      <td>ham</td>\n",
       "      <td>Pity, * was in mood for that. So...any other s...</td>\n",
       "    </tr>\n",
       "    <tr>\n",
       "      <th>5570</th>\n",
       "      <td>ham</td>\n",
       "      <td>The guy did some bitching but I acted like i'd...</td>\n",
       "    </tr>\n",
       "    <tr>\n",
       "      <th>5571</th>\n",
       "      <td>ham</td>\n",
       "      <td>Rofl. Its true to its name</td>\n",
       "    </tr>\n",
       "  </tbody>\n",
       "</table>\n",
       "</div>"
      ],
      "text/plain": [
       "     Category                                            Message\n",
       "5567     spam  This is the 2nd time we have tried 2 contact u...\n",
       "5568      ham               Will ü b going to esplanade fr home?\n",
       "5569      ham  Pity, * was in mood for that. So...any other s...\n",
       "5570      ham  The guy did some bitching but I acted like i'd...\n",
       "5571      ham                         Rofl. Its true to its name"
      ]
     },
     "execution_count": 4,
     "metadata": {},
     "output_type": "execute_result"
    }
   ],
   "source": [
    "df.tail()"
   ]
  },
  {
   "cell_type": "code",
   "execution_count": 5,
   "id": "8949e7b6",
   "metadata": {
    "execution": {
     "iopub.execute_input": "2024-09-25T17:04:23.652095Z",
     "iopub.status.busy": "2024-09-25T17:04:23.651092Z",
     "iopub.status.idle": "2024-09-25T17:04:23.674275Z",
     "shell.execute_reply": "2024-09-25T17:04:23.673301Z"
    },
    "papermill": {
     "duration": 0.033326,
     "end_time": "2024-09-25T17:04:23.676152",
     "exception": false,
     "start_time": "2024-09-25T17:04:23.642826",
     "status": "completed"
    },
    "tags": []
   },
   "outputs": [
    {
     "name": "stdout",
     "output_type": "stream",
     "text": [
      "<class 'pandas.core.frame.DataFrame'>\n",
      "RangeIndex: 5572 entries, 0 to 5571\n",
      "Data columns (total 2 columns):\n",
      " #   Column    Non-Null Count  Dtype \n",
      "---  ------    --------------  ----- \n",
      " 0   Category  5572 non-null   object\n",
      " 1   Message   5572 non-null   object\n",
      "dtypes: object(2)\n",
      "memory usage: 87.2+ KB\n"
     ]
    }
   ],
   "source": [
    "df.info()"
   ]
  },
  {
   "cell_type": "markdown",
   "id": "3017e224",
   "metadata": {
    "papermill": {
     "duration": 0.006724,
     "end_time": "2024-09-25T17:04:23.689881",
     "exception": false,
     "start_time": "2024-09-25T17:04:23.683157",
     "status": "completed"
    },
    "tags": []
   },
   "source": [
    "# Preprocessing"
   ]
  },
  {
   "cell_type": "code",
   "execution_count": 6,
   "id": "6aef68f9",
   "metadata": {
    "execution": {
     "iopub.execute_input": "2024-09-25T17:04:23.707668Z",
     "iopub.status.busy": "2024-09-25T17:04:23.707393Z",
     "iopub.status.idle": "2024-09-25T17:04:23.715797Z",
     "shell.execute_reply": "2024-09-25T17:04:23.714716Z"
    },
    "papermill": {
     "duration": 0.02168,
     "end_time": "2024-09-25T17:04:23.718625",
     "exception": false,
     "start_time": "2024-09-25T17:04:23.696945",
     "status": "completed"
    },
    "tags": []
   },
   "outputs": [],
   "source": [
    "label_encoder = LabelEncoder()\n",
    "df['Label'] = label_encoder.fit_transform(df['Category'])"
   ]
  },
  {
   "cell_type": "code",
   "execution_count": 7,
   "id": "3c12b177",
   "metadata": {
    "execution": {
     "iopub.execute_input": "2024-09-25T17:04:23.741244Z",
     "iopub.status.busy": "2024-09-25T17:04:23.740703Z",
     "iopub.status.idle": "2024-09-25T17:04:23.908099Z",
     "shell.execute_reply": "2024-09-25T17:04:23.907152Z"
    },
    "papermill": {
     "duration": 0.180724,
     "end_time": "2024-09-25T17:04:23.910461",
     "exception": false,
     "start_time": "2024-09-25T17:04:23.729737",
     "status": "completed"
    },
    "tags": []
   },
   "outputs": [],
   "source": [
    "tokenizer = Tokenizer()\n",
    "tokenizer.fit_on_texts(df['Message'])"
   ]
  },
  {
   "cell_type": "code",
   "execution_count": 8,
   "id": "c26547d8",
   "metadata": {
    "execution": {
     "iopub.execute_input": "2024-09-25T17:04:23.926304Z",
     "iopub.status.busy": "2024-09-25T17:04:23.925986Z",
     "iopub.status.idle": "2024-09-25T17:04:24.077666Z",
     "shell.execute_reply": "2024-09-25T17:04:24.076686Z"
    },
    "papermill": {
     "duration": 0.162385,
     "end_time": "2024-09-25T17:04:24.080114",
     "exception": false,
     "start_time": "2024-09-25T17:04:23.917729",
     "status": "completed"
    },
    "tags": []
   },
   "outputs": [],
   "source": [
    "sequences = tokenizer.texts_to_sequences(df['Message'])\n",
    "max_sequence_length = max(len(x) for x in sequences)\n",
    "X = pad_sequences(sequences, maxlen=max_sequence_length)\n",
    "y = df['Label'].values"
   ]
  },
  {
   "cell_type": "markdown",
   "id": "d06b4498",
   "metadata": {
    "execution": {
     "iopub.execute_input": "2024-09-25T17:00:17.983816Z",
     "iopub.status.busy": "2024-09-25T17:00:17.982934Z",
     "iopub.status.idle": "2024-09-25T17:00:17.987679Z",
     "shell.execute_reply": "2024-09-25T17:00:17.986711Z",
     "shell.execute_reply.started": "2024-09-25T17:00:17.983775Z"
    },
    "papermill": {
     "duration": 0.006843,
     "end_time": "2024-09-25T17:04:24.094127",
     "exception": false,
     "start_time": "2024-09-25T17:04:24.087284",
     "status": "completed"
    },
    "tags": []
   },
   "source": [
    "# Modeling"
   ]
  },
  {
   "cell_type": "code",
   "execution_count": 9,
   "id": "bea2227e",
   "metadata": {
    "execution": {
     "iopub.execute_input": "2024-09-25T17:04:24.109347Z",
     "iopub.status.busy": "2024-09-25T17:04:24.109029Z",
     "iopub.status.idle": "2024-09-25T17:04:24.119884Z",
     "shell.execute_reply": "2024-09-25T17:04:24.118997Z"
    },
    "papermill": {
     "duration": 0.0209,
     "end_time": "2024-09-25T17:04:24.121936",
     "exception": false,
     "start_time": "2024-09-25T17:04:24.101036",
     "status": "completed"
    },
    "tags": []
   },
   "outputs": [],
   "source": [
    "X_train, X_test, y_train, y_test = train_test_split(X, y, test_size=0.2, random_state=42)\n",
    "vocab_size = len(tokenizer.word_index) + 1"
   ]
  },
  {
   "cell_type": "markdown",
   "id": "788dcf55",
   "metadata": {
    "papermill": {
     "duration": 0.006703,
     "end_time": "2024-09-25T17:04:24.135740",
     "exception": false,
     "start_time": "2024-09-25T17:04:24.129037",
     "status": "completed"
    },
    "tags": []
   },
   "source": [
    "### RNN"
   ]
  },
  {
   "cell_type": "code",
   "execution_count": 10,
   "id": "18603f3c",
   "metadata": {
    "execution": {
     "iopub.execute_input": "2024-09-25T17:04:24.150981Z",
     "iopub.status.busy": "2024-09-25T17:04:24.150651Z",
     "iopub.status.idle": "2024-09-25T17:04:24.855083Z",
     "shell.execute_reply": "2024-09-25T17:04:24.854205Z"
    },
    "papermill": {
     "duration": 0.714904,
     "end_time": "2024-09-25T17:04:24.857467",
     "exception": false,
     "start_time": "2024-09-25T17:04:24.142563",
     "status": "completed"
    },
    "tags": []
   },
   "outputs": [],
   "source": [
    "embedding_dim = 100\n",
    "\n",
    "# Simple RNN model\n",
    "rnn_model = Sequential([\n",
    "    Embedding(vocab_size, embedding_dim, input_length=max_sequence_length),\n",
    "    SimpleRNN(128),\n",
    "    Dense(1, activation='sigmoid')\n",
    "])\n",
    "rnn_model.compile(optimizer='adam', loss='binary_crossentropy', metrics=['accuracy'])"
   ]
  },
  {
   "cell_type": "code",
   "execution_count": 11,
   "id": "96efb185",
   "metadata": {
    "execution": {
     "iopub.execute_input": "2024-09-25T17:04:24.876105Z",
     "iopub.status.busy": "2024-09-25T17:04:24.875190Z",
     "iopub.status.idle": "2024-09-25T17:04:42.833502Z",
     "shell.execute_reply": "2024-09-25T17:04:42.832644Z"
    },
    "papermill": {
     "duration": 17.96954,
     "end_time": "2024-09-25T17:04:42.835484",
     "exception": false,
     "start_time": "2024-09-25T17:04:24.865944",
     "status": "completed"
    },
    "tags": []
   },
   "outputs": [
    {
     "name": "stdout",
     "output_type": "stream",
     "text": [
      "Epoch 1/10\n"
     ]
    },
    {
     "name": "stderr",
     "output_type": "stream",
     "text": [
      "WARNING: All log messages before absl::InitializeLog() is called are written to STDERR\n",
      "I0000 00:00:1727283866.613875      65 service.cc:145] XLA service 0x78d800003360 initialized for platform CUDA (this does not guarantee that XLA will be used). Devices:\n",
      "I0000 00:00:1727283866.613961      65 service.cc:153]   StreamExecutor device (0): Tesla P100-PCIE-16GB, Compute Capability 6.0\n"
     ]
    },
    {
     "name": "stdout",
     "output_type": "stream",
     "text": [
      "\u001b[1m10/70\u001b[0m \u001b[32m━━\u001b[0m\u001b[37m━━━━━━━━━━━━━━━━━━\u001b[0m \u001b[1m1s\u001b[0m 19ms/step - accuracy: 0.6498 - loss: 0.5638"
     ]
    },
    {
     "name": "stderr",
     "output_type": "stream",
     "text": [
      "I0000 00:00:1727283867.811715      65 device_compiler.h:188] Compiled cluster using XLA!  This line is logged at most once for the lifetime of the process.\n"
     ]
    },
    {
     "name": "stdout",
     "output_type": "stream",
     "text": [
      "\u001b[1m70/70\u001b[0m \u001b[32m━━━━━━━━━━━━━━━━━━━━\u001b[0m\u001b[37m\u001b[0m \u001b[1m6s\u001b[0m 38ms/step - accuracy: 0.8422 - loss: 0.3405 - val_accuracy: 0.9785 - val_loss: 0.0737\n",
      "Epoch 2/10\n",
      "\u001b[1m70/70\u001b[0m \u001b[32m━━━━━━━━━━━━━━━━━━━━\u001b[0m\u001b[37m\u001b[0m \u001b[1m1s\u001b[0m 19ms/step - accuracy: 0.9808 - loss: 0.0647 - val_accuracy: 0.9892 - val_loss: 0.0559\n",
      "Epoch 3/10\n",
      "\u001b[1m70/70\u001b[0m \u001b[32m━━━━━━━━━━━━━━━━━━━━\u001b[0m\u001b[37m\u001b[0m \u001b[1m1s\u001b[0m 19ms/step - accuracy: 0.9944 - loss: 0.0240 - val_accuracy: 0.9794 - val_loss: 0.0693\n",
      "Epoch 4/10\n",
      "\u001b[1m70/70\u001b[0m \u001b[32m━━━━━━━━━━━━━━━━━━━━\u001b[0m\u001b[37m\u001b[0m \u001b[1m1s\u001b[0m 19ms/step - accuracy: 0.9975 - loss: 0.0121 - val_accuracy: 0.9901 - val_loss: 0.0444\n",
      "Epoch 5/10\n",
      "\u001b[1m70/70\u001b[0m \u001b[32m━━━━━━━━━━━━━━━━━━━━\u001b[0m\u001b[37m\u001b[0m \u001b[1m1s\u001b[0m 19ms/step - accuracy: 0.9977 - loss: 0.0113 - val_accuracy: 0.9874 - val_loss: 0.0500\n",
      "Epoch 6/10\n",
      "\u001b[1m70/70\u001b[0m \u001b[32m━━━━━━━━━━━━━━━━━━━━\u001b[0m\u001b[37m\u001b[0m \u001b[1m1s\u001b[0m 19ms/step - accuracy: 0.9988 - loss: 0.0047 - val_accuracy: 0.9749 - val_loss: 0.1079\n",
      "Epoch 7/10\n",
      "\u001b[1m70/70\u001b[0m \u001b[32m━━━━━━━━━━━━━━━━━━━━\u001b[0m\u001b[37m\u001b[0m \u001b[1m1s\u001b[0m 20ms/step - accuracy: 0.9959 - loss: 0.0244 - val_accuracy: 0.9892 - val_loss: 0.0485\n",
      "Epoch 8/10\n",
      "\u001b[1m70/70\u001b[0m \u001b[32m━━━━━━━━━━━━━━━━━━━━\u001b[0m\u001b[37m\u001b[0m \u001b[1m1s\u001b[0m 19ms/step - accuracy: 0.9991 - loss: 0.0064 - val_accuracy: 0.9910 - val_loss: 0.0435\n",
      "Epoch 9/10\n",
      "\u001b[1m70/70\u001b[0m \u001b[32m━━━━━━━━━━━━━━━━━━━━\u001b[0m\u001b[37m\u001b[0m \u001b[1m1s\u001b[0m 19ms/step - accuracy: 0.9993 - loss: 0.0032 - val_accuracy: 0.9874 - val_loss: 0.0493\n",
      "Epoch 10/10\n",
      "\u001b[1m70/70\u001b[0m \u001b[32m━━━━━━━━━━━━━━━━━━━━\u001b[0m\u001b[37m\u001b[0m \u001b[1m1s\u001b[0m 19ms/step - accuracy: 0.9996 - loss: 0.0013 - val_accuracy: 0.9901 - val_loss: 0.0436\n"
     ]
    },
    {
     "data": {
      "text/plain": [
       "<keras.src.callbacks.history.History at 0x78d88d7034f0>"
      ]
     },
     "execution_count": 11,
     "metadata": {},
     "output_type": "execute_result"
    }
   ],
   "source": [
    "rnn_model.fit(X_train, y_train, epochs=10, batch_size=64, validation_data=(X_test, y_test))"
   ]
  },
  {
   "cell_type": "code",
   "execution_count": 12,
   "id": "aa4d59ea",
   "metadata": {
    "execution": {
     "iopub.execute_input": "2024-09-25T17:04:42.893036Z",
     "iopub.status.busy": "2024-09-25T17:04:42.892681Z",
     "iopub.status.idle": "2024-09-25T17:04:43.332917Z",
     "shell.execute_reply": "2024-09-25T17:04:43.331992Z"
    },
    "papermill": {
     "duration": 0.470671,
     "end_time": "2024-09-25T17:04:43.334935",
     "exception": false,
     "start_time": "2024-09-25T17:04:42.864264",
     "status": "completed"
    },
    "tags": []
   },
   "outputs": [
    {
     "name": "stdout",
     "output_type": "stream",
     "text": [
      "\u001b[1m35/35\u001b[0m \u001b[32m━━━━━━━━━━━━━━━━━━━━\u001b[0m\u001b[37m\u001b[0m \u001b[1m0s\u001b[0m 5ms/step - accuracy: 0.9912 - loss: 0.0464\n"
     ]
    },
    {
     "data": {
      "text/plain": [
       "[0.04357703775167465, 0.9901345372200012]"
      ]
     },
     "execution_count": 12,
     "metadata": {},
     "output_type": "execute_result"
    }
   ],
   "source": [
    "rnn_model.evaluate(X_test, y_test)"
   ]
  },
  {
   "cell_type": "markdown",
   "id": "581063d3",
   "metadata": {
    "papermill": {
     "duration": 0.027852,
     "end_time": "2024-09-25T17:04:43.391146",
     "exception": false,
     "start_time": "2024-09-25T17:04:43.363294",
     "status": "completed"
    },
    "tags": []
   },
   "source": [
    "### LSTM"
   ]
  },
  {
   "cell_type": "code",
   "execution_count": 13,
   "id": "e06b093f",
   "metadata": {
    "execution": {
     "iopub.execute_input": "2024-09-25T17:04:43.448334Z",
     "iopub.status.busy": "2024-09-25T17:04:43.447989Z",
     "iopub.status.idle": "2024-09-25T17:04:43.463805Z",
     "shell.execute_reply": "2024-09-25T17:04:43.463094Z"
    },
    "papermill": {
     "duration": 0.046804,
     "end_time": "2024-09-25T17:04:43.465778",
     "exception": false,
     "start_time": "2024-09-25T17:04:43.418974",
     "status": "completed"
    },
    "tags": []
   },
   "outputs": [],
   "source": [
    "lstm_model = Sequential([\n",
    "    Embedding(vocab_size, embedding_dim, input_length=max_sequence_length),\n",
    "    LSTM(128),\n",
    "    Dense(1, activation='sigmoid')\n",
    "])\n",
    "lstm_model.compile(optimizer='adam', loss='binary_crossentropy', metrics=['accuracy'])"
   ]
  },
  {
   "cell_type": "code",
   "execution_count": 14,
   "id": "623b07d4",
   "metadata": {
    "execution": {
     "iopub.execute_input": "2024-09-25T17:04:43.522656Z",
     "iopub.status.busy": "2024-09-25T17:04:43.522149Z",
     "iopub.status.idle": "2024-09-25T17:04:57.790683Z",
     "shell.execute_reply": "2024-09-25T17:04:57.789752Z"
    },
    "papermill": {
     "duration": 14.299338,
     "end_time": "2024-09-25T17:04:57.792810",
     "exception": false,
     "start_time": "2024-09-25T17:04:43.493472",
     "status": "completed"
    },
    "tags": []
   },
   "outputs": [
    {
     "name": "stdout",
     "output_type": "stream",
     "text": [
      "Epoch 1/10\n",
      "\u001b[1m70/70\u001b[0m \u001b[32m━━━━━━━━━━━━━━━━━━━━\u001b[0m\u001b[37m\u001b[0m \u001b[1m5s\u001b[0m 19ms/step - accuracy: 0.8576 - loss: 0.3451 - val_accuracy: 0.9857 - val_loss: 0.0644\n",
      "Epoch 2/10\n",
      "\u001b[1m70/70\u001b[0m \u001b[32m━━━━━━━━━━━━━━━━━━━━\u001b[0m\u001b[37m\u001b[0m \u001b[1m1s\u001b[0m 15ms/step - accuracy: 0.9884 - loss: 0.0468 - val_accuracy: 0.9857 - val_loss: 0.0651\n",
      "Epoch 3/10\n",
      "\u001b[1m70/70\u001b[0m \u001b[32m━━━━━━━━━━━━━━━━━━━━\u001b[0m\u001b[37m\u001b[0m \u001b[1m1s\u001b[0m 15ms/step - accuracy: 0.9939 - loss: 0.0258 - val_accuracy: 0.9919 - val_loss: 0.0432\n",
      "Epoch 4/10\n",
      "\u001b[1m70/70\u001b[0m \u001b[32m━━━━━━━━━━━━━━━━━━━━\u001b[0m\u001b[37m\u001b[0m \u001b[1m1s\u001b[0m 15ms/step - accuracy: 0.9978 - loss: 0.0080 - val_accuracy: 0.9910 - val_loss: 0.0416\n",
      "Epoch 5/10\n",
      "\u001b[1m70/70\u001b[0m \u001b[32m━━━━━━━━━━━━━━━━━━━━\u001b[0m\u001b[37m\u001b[0m \u001b[1m1s\u001b[0m 15ms/step - accuracy: 0.9990 - loss: 0.0042 - val_accuracy: 0.9865 - val_loss: 0.0453\n",
      "Epoch 6/10\n",
      "\u001b[1m70/70\u001b[0m \u001b[32m━━━━━━━━━━━━━━━━━━━━\u001b[0m\u001b[37m\u001b[0m \u001b[1m1s\u001b[0m 15ms/step - accuracy: 0.9997 - loss: 0.0042 - val_accuracy: 0.9901 - val_loss: 0.0445\n",
      "Epoch 7/10\n",
      "\u001b[1m70/70\u001b[0m \u001b[32m━━━━━━━━━━━━━━━━━━━━\u001b[0m\u001b[37m\u001b[0m \u001b[1m1s\u001b[0m 15ms/step - accuracy: 0.9997 - loss: 0.0017 - val_accuracy: 0.9901 - val_loss: 0.0465\n",
      "Epoch 8/10\n",
      "\u001b[1m70/70\u001b[0m \u001b[32m━━━━━━━━━━━━━━━━━━━━\u001b[0m\u001b[37m\u001b[0m \u001b[1m1s\u001b[0m 15ms/step - accuracy: 0.9998 - loss: 8.1207e-04 - val_accuracy: 0.9901 - val_loss: 0.0474\n",
      "Epoch 9/10\n",
      "\u001b[1m70/70\u001b[0m \u001b[32m━━━━━━━━━━━━━━━━━━━━\u001b[0m\u001b[37m\u001b[0m \u001b[1m1s\u001b[0m 15ms/step - accuracy: 0.9999 - loss: 4.0475e-04 - val_accuracy: 0.9928 - val_loss: 0.0504\n",
      "Epoch 10/10\n",
      "\u001b[1m70/70\u001b[0m \u001b[32m━━━━━━━━━━━━━━━━━━━━\u001b[0m\u001b[37m\u001b[0m \u001b[1m1s\u001b[0m 15ms/step - accuracy: 1.0000 - loss: 9.3022e-04 - val_accuracy: 0.9892 - val_loss: 0.0503\n"
     ]
    },
    {
     "data": {
      "text/plain": [
       "<keras.src.callbacks.history.History at 0x78d865175b10>"
      ]
     },
     "execution_count": 14,
     "metadata": {},
     "output_type": "execute_result"
    }
   ],
   "source": [
    "lstm_model.fit(X_train, y_train, epochs=10, batch_size=64, validation_data=(X_test, y_test))"
   ]
  },
  {
   "cell_type": "code",
   "execution_count": 15,
   "id": "3aa8861a",
   "metadata": {
    "execution": {
     "iopub.execute_input": "2024-09-25T17:04:57.881981Z",
     "iopub.status.busy": "2024-09-25T17:04:57.881608Z",
     "iopub.status.idle": "2024-09-25T17:04:58.146402Z",
     "shell.execute_reply": "2024-09-25T17:04:58.145363Z"
    },
    "papermill": {
     "duration": 0.310969,
     "end_time": "2024-09-25T17:04:58.148393",
     "exception": false,
     "start_time": "2024-09-25T17:04:57.837424",
     "status": "completed"
    },
    "tags": []
   },
   "outputs": [
    {
     "name": "stdout",
     "output_type": "stream",
     "text": [
      "\u001b[1m35/35\u001b[0m \u001b[32m━━━━━━━━━━━━━━━━━━━━\u001b[0m\u001b[37m\u001b[0m \u001b[1m0s\u001b[0m 6ms/step - accuracy: 0.9886 - loss: 0.0584\n"
     ]
    },
    {
     "data": {
      "text/plain": [
       "[0.05033513531088829, 0.9892376661300659]"
      ]
     },
     "execution_count": 15,
     "metadata": {},
     "output_type": "execute_result"
    }
   ],
   "source": [
    "lstm_model.evaluate(X_test, y_test)"
   ]
  },
  {
   "cell_type": "markdown",
   "id": "38958c26",
   "metadata": {
    "papermill": {
     "duration": 0.043735,
     "end_time": "2024-09-25T17:04:58.236685",
     "exception": false,
     "start_time": "2024-09-25T17:04:58.192950",
     "status": "completed"
    },
    "tags": []
   },
   "source": [
    "### GRU"
   ]
  },
  {
   "cell_type": "code",
   "execution_count": 16,
   "id": "d98840a4",
   "metadata": {
    "execution": {
     "iopub.execute_input": "2024-09-25T17:04:58.325960Z",
     "iopub.status.busy": "2024-09-25T17:04:58.325589Z",
     "iopub.status.idle": "2024-09-25T17:04:58.342135Z",
     "shell.execute_reply": "2024-09-25T17:04:58.341271Z"
    },
    "papermill": {
     "duration": 0.063204,
     "end_time": "2024-09-25T17:04:58.344007",
     "exception": false,
     "start_time": "2024-09-25T17:04:58.280803",
     "status": "completed"
    },
    "tags": []
   },
   "outputs": [],
   "source": [
    "gru_model = Sequential([\n",
    "    Embedding(vocab_size, embedding_dim, input_length=max_sequence_length),\n",
    "    GRU(128),\n",
    "    Dense(1, activation='sigmoid')\n",
    "])\n",
    "gru_model.compile(optimizer='adam', loss='binary_crossentropy', metrics=['accuracy'])"
   ]
  },
  {
   "cell_type": "code",
   "execution_count": 17,
   "id": "5e5070e9",
   "metadata": {
    "execution": {
     "iopub.execute_input": "2024-09-25T17:04:58.432964Z",
     "iopub.status.busy": "2024-09-25T17:04:58.432548Z",
     "iopub.status.idle": "2024-09-25T17:05:10.680843Z",
     "shell.execute_reply": "2024-09-25T17:05:10.679854Z"
    },
    "papermill": {
     "duration": 12.295125,
     "end_time": "2024-09-25T17:05:10.683040",
     "exception": false,
     "start_time": "2024-09-25T17:04:58.387915",
     "status": "completed"
    },
    "tags": []
   },
   "outputs": [
    {
     "name": "stdout",
     "output_type": "stream",
     "text": [
      "Epoch 1/10\n",
      "\u001b[1m70/70\u001b[0m \u001b[32m━━━━━━━━━━━━━━━━━━━━\u001b[0m\u001b[37m\u001b[0m \u001b[1m3s\u001b[0m 18ms/step - accuracy: 0.8453 - loss: 0.4194 - val_accuracy: 0.9848 - val_loss: 0.0674\n",
      "Epoch 2/10\n",
      "\u001b[1m70/70\u001b[0m \u001b[32m━━━━━━━━━━━━━━━━━━━━\u001b[0m\u001b[37m\u001b[0m \u001b[1m1s\u001b[0m 15ms/step - accuracy: 0.9859 - loss: 0.0496 - val_accuracy: 0.9901 - val_loss: 0.0505\n",
      "Epoch 3/10\n",
      "\u001b[1m70/70\u001b[0m \u001b[32m━━━━━━━━━━━━━━━━━━━━\u001b[0m\u001b[37m\u001b[0m \u001b[1m1s\u001b[0m 15ms/step - accuracy: 0.9951 - loss: 0.0189 - val_accuracy: 0.9892 - val_loss: 0.0475\n",
      "Epoch 4/10\n",
      "\u001b[1m70/70\u001b[0m \u001b[32m━━━━━━━━━━━━━━━━━━━━\u001b[0m\u001b[37m\u001b[0m \u001b[1m1s\u001b[0m 15ms/step - accuracy: 0.9995 - loss: 0.0054 - val_accuracy: 0.9910 - val_loss: 0.0424\n",
      "Epoch 5/10\n",
      "\u001b[1m70/70\u001b[0m \u001b[32m━━━━━━━━━━━━━━━━━━━━\u001b[0m\u001b[37m\u001b[0m \u001b[1m1s\u001b[0m 15ms/step - accuracy: 0.9996 - loss: 0.0027 - val_accuracy: 0.9910 - val_loss: 0.0438\n",
      "Epoch 6/10\n",
      "\u001b[1m70/70\u001b[0m \u001b[32m━━━━━━━━━━━━━━━━━━━━\u001b[0m\u001b[37m\u001b[0m \u001b[1m1s\u001b[0m 15ms/step - accuracy: 0.9993 - loss: 0.0040 - val_accuracy: 0.9910 - val_loss: 0.0373\n",
      "Epoch 7/10\n",
      "\u001b[1m70/70\u001b[0m \u001b[32m━━━━━━━━━━━━━━━━━━━━\u001b[0m\u001b[37m\u001b[0m \u001b[1m1s\u001b[0m 15ms/step - accuracy: 0.9995 - loss: 8.2555e-04 - val_accuracy: 0.9937 - val_loss: 0.0387\n",
      "Epoch 8/10\n",
      "\u001b[1m70/70\u001b[0m \u001b[32m━━━━━━━━━━━━━━━━━━━━\u001b[0m\u001b[37m\u001b[0m \u001b[1m1s\u001b[0m 15ms/step - accuracy: 0.9999 - loss: 4.9400e-04 - val_accuracy: 0.9919 - val_loss: 0.0412\n",
      "Epoch 9/10\n",
      "\u001b[1m70/70\u001b[0m \u001b[32m━━━━━━━━━━━━━━━━━━━━\u001b[0m\u001b[37m\u001b[0m \u001b[1m1s\u001b[0m 15ms/step - accuracy: 1.0000 - loss: 2.3024e-04 - val_accuracy: 0.9919 - val_loss: 0.0450\n",
      "Epoch 10/10\n",
      "\u001b[1m70/70\u001b[0m \u001b[32m━━━━━━━━━━━━━━━━━━━━\u001b[0m\u001b[37m\u001b[0m \u001b[1m1s\u001b[0m 15ms/step - accuracy: 1.0000 - loss: 1.3078e-04 - val_accuracy: 0.9919 - val_loss: 0.0492\n"
     ]
    },
    {
     "data": {
      "text/plain": [
       "<keras.src.callbacks.history.History at 0x78d880275600>"
      ]
     },
     "execution_count": 17,
     "metadata": {},
     "output_type": "execute_result"
    }
   ],
   "source": [
    "gru_model.fit(X_train, y_train, epochs=10, batch_size=64, validation_data=(X_test, y_test))"
   ]
  },
  {
   "cell_type": "code",
   "execution_count": 18,
   "id": "bac8e8d6",
   "metadata": {
    "execution": {
     "iopub.execute_input": "2024-09-25T17:05:10.806552Z",
     "iopub.status.busy": "2024-09-25T17:05:10.805642Z",
     "iopub.status.idle": "2024-09-25T17:05:11.174858Z",
     "shell.execute_reply": "2024-09-25T17:05:11.173931Z"
    },
    "papermill": {
     "duration": 0.432363,
     "end_time": "2024-09-25T17:05:11.176886",
     "exception": false,
     "start_time": "2024-09-25T17:05:10.744523",
     "status": "completed"
    },
    "tags": []
   },
   "outputs": [
    {
     "name": "stdout",
     "output_type": "stream",
     "text": [
      "\u001b[1m35/35\u001b[0m \u001b[32m━━━━━━━━━━━━━━━━━━━━\u001b[0m\u001b[37m\u001b[0m \u001b[1m0s\u001b[0m 6ms/step - accuracy: 0.9922 - loss: 0.0514\n"
     ]
    },
    {
     "data": {
      "text/plain": [
       "[0.049177464097738266, 0.9919282793998718]"
      ]
     },
     "execution_count": 18,
     "metadata": {},
     "output_type": "execute_result"
    }
   ],
   "source": [
    "gru_model.evaluate(X_test, y_test)"
   ]
  },
  {
   "cell_type": "code",
   "execution_count": null,
   "id": "cfb259b7",
   "metadata": {
    "papermill": {
     "duration": 0.06005,
     "end_time": "2024-09-25T17:05:11.297543",
     "exception": false,
     "start_time": "2024-09-25T17:05:11.237493",
     "status": "completed"
    },
    "tags": []
   },
   "outputs": [],
   "source": []
  }
 ],
 "metadata": {
  "kaggle": {
   "accelerator": "gpu",
   "dataSources": [
    {
     "datasetId": 3839058,
     "sourceId": 6651650,
     "sourceType": "datasetVersion"
    }
   ],
   "dockerImageVersionId": 30776,
   "isGpuEnabled": true,
   "isInternetEnabled": true,
   "language": "python",
   "sourceType": "notebook"
  },
  "kernelspec": {
   "display_name": "Python 3",
   "language": "python",
   "name": "python3"
  },
  "language_info": {
   "codemirror_mode": {
    "name": "ipython",
    "version": 3
   },
   "file_extension": ".py",
   "mimetype": "text/x-python",
   "name": "python",
   "nbconvert_exporter": "python",
   "pygments_lexer": "ipython3",
   "version": "3.10.14"
  },
  "papermill": {
   "default_parameters": {},
   "duration": 66.581268,
   "end_time": "2024-09-25T17:05:13.282818",
   "environment_variables": {},
   "exception": null,
   "input_path": "__notebook__.ipynb",
   "output_path": "__notebook__.ipynb",
   "parameters": {},
   "start_time": "2024-09-25T17:04:06.701550",
   "version": "2.6.0"
  }
 },
 "nbformat": 4,
 "nbformat_minor": 5
}
