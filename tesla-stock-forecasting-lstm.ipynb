{
 "cells": [
  {
   "cell_type": "markdown",
   "id": "1554ba76",
   "metadata": {
    "papermill": {
     "duration": 0.012525,
     "end_time": "2024-09-19T10:02:09.616586",
     "exception": false,
     "start_time": "2024-09-19T10:02:09.604061",
     "status": "completed"
    },
    "tags": []
   },
   "source": [
    "# Import Libraries"
   ]
  },
  {
   "cell_type": "code",
   "execution_count": 1,
   "id": "ca50a5cc",
   "metadata": {
    "execution": {
     "iopub.execute_input": "2024-09-19T10:02:09.641214Z",
     "iopub.status.busy": "2024-09-19T10:02:09.640803Z",
     "iopub.status.idle": "2024-09-19T10:02:23.016433Z",
     "shell.execute_reply": "2024-09-19T10:02:23.015354Z"
    },
    "papermill": {
     "duration": 13.390626,
     "end_time": "2024-09-19T10:02:23.018957",
     "exception": false,
     "start_time": "2024-09-19T10:02:09.628331",
     "status": "completed"
    },
    "tags": []
   },
   "outputs": [],
   "source": [
    "import math\n",
    "import pandas as pd\n",
    "import numpy as np\n",
    "import matplotlib.pyplot as plt\n",
    "%matplotlib inline\n",
    "import seaborn as sns\n",
    "sns.set_style('whitegrid')\n",
    "plt.style.use(\"fivethirtyeight\")\n",
    "\n",
    "from sklearn.preprocessing import MinMaxScaler\n",
    "from sklearn.model_selection import train_test_split\n",
    "from sklearn.metrics import mean_squared_error,mean_absolute_error\n",
    "\n",
    "import keras\n",
    "from keras.models import Sequential\n",
    "from keras.callbacks import EarlyStopping\n",
    "from keras.layers import Dense, LSTM, Dropout\n",
    "\n",
    "import warnings\n",
    "warnings.filterwarnings('ignore')"
   ]
  },
  {
   "cell_type": "markdown",
   "id": "f149a5f7",
   "metadata": {
    "papermill": {
     "duration": 0.011117,
     "end_time": "2024-09-19T10:02:23.042164",
     "exception": false,
     "start_time": "2024-09-19T10:02:23.031047",
     "status": "completed"
    },
    "tags": []
   },
   "source": [
    "# Explore Data"
   ]
  },
  {
   "cell_type": "code",
   "execution_count": 2,
   "id": "3ba6ff88",
   "metadata": {
    "execution": {
     "iopub.execute_input": "2024-09-19T10:02:23.067011Z",
     "iopub.status.busy": "2024-09-19T10:02:23.065990Z",
     "iopub.status.idle": "2024-09-19T10:02:23.106184Z",
     "shell.execute_reply": "2024-09-19T10:02:23.105196Z"
    },
    "papermill": {
     "duration": 0.055051,
     "end_time": "2024-09-19T10:02:23.108488",
     "exception": false,
     "start_time": "2024-09-19T10:02:23.053437",
     "status": "completed"
    },
    "tags": []
   },
   "outputs": [],
   "source": [
    "data_dir = '/kaggle/input/tesla-stock-data-updated-till-28jun2021/TSLA.csv'\n",
    "data = pd.read_csv(data_dir, parse_dates= True , index_col= \"Date\")"
   ]
  },
  {
   "cell_type": "code",
   "execution_count": 3,
   "id": "2359ef99",
   "metadata": {
    "execution": {
     "iopub.execute_input": "2024-09-19T10:02:23.132997Z",
     "iopub.status.busy": "2024-09-19T10:02:23.132299Z",
     "iopub.status.idle": "2024-09-19T10:02:23.151455Z",
     "shell.execute_reply": "2024-09-19T10:02:23.150445Z"
    },
    "papermill": {
     "duration": 0.033576,
     "end_time": "2024-09-19T10:02:23.153554",
     "exception": false,
     "start_time": "2024-09-19T10:02:23.119978",
     "status": "completed"
    },
    "tags": []
   },
   "outputs": [
    {
     "data": {
      "text/html": [
       "<div>\n",
       "<style scoped>\n",
       "    .dataframe tbody tr th:only-of-type {\n",
       "        vertical-align: middle;\n",
       "    }\n",
       "\n",
       "    .dataframe tbody tr th {\n",
       "        vertical-align: top;\n",
       "    }\n",
       "\n",
       "    .dataframe thead th {\n",
       "        text-align: right;\n",
       "    }\n",
       "</style>\n",
       "<table border=\"1\" class=\"dataframe\">\n",
       "  <thead>\n",
       "    <tr style=\"text-align: right;\">\n",
       "      <th></th>\n",
       "      <th>Open</th>\n",
       "      <th>High</th>\n",
       "      <th>Low</th>\n",
       "      <th>Close</th>\n",
       "      <th>Adj Close</th>\n",
       "      <th>Volume</th>\n",
       "    </tr>\n",
       "    <tr>\n",
       "      <th>Date</th>\n",
       "      <th></th>\n",
       "      <th></th>\n",
       "      <th></th>\n",
       "      <th></th>\n",
       "      <th></th>\n",
       "      <th></th>\n",
       "    </tr>\n",
       "  </thead>\n",
       "  <tbody>\n",
       "    <tr>\n",
       "      <th>2010-06-29</th>\n",
       "      <td>3.800</td>\n",
       "      <td>5.000</td>\n",
       "      <td>3.508</td>\n",
       "      <td>4.778</td>\n",
       "      <td>4.778</td>\n",
       "      <td>93831500</td>\n",
       "    </tr>\n",
       "    <tr>\n",
       "      <th>2010-06-30</th>\n",
       "      <td>5.158</td>\n",
       "      <td>6.084</td>\n",
       "      <td>4.660</td>\n",
       "      <td>4.766</td>\n",
       "      <td>4.766</td>\n",
       "      <td>85935500</td>\n",
       "    </tr>\n",
       "    <tr>\n",
       "      <th>2010-07-01</th>\n",
       "      <td>5.000</td>\n",
       "      <td>5.184</td>\n",
       "      <td>4.054</td>\n",
       "      <td>4.392</td>\n",
       "      <td>4.392</td>\n",
       "      <td>41094000</td>\n",
       "    </tr>\n",
       "    <tr>\n",
       "      <th>2010-07-02</th>\n",
       "      <td>4.600</td>\n",
       "      <td>4.620</td>\n",
       "      <td>3.742</td>\n",
       "      <td>3.840</td>\n",
       "      <td>3.840</td>\n",
       "      <td>25699000</td>\n",
       "    </tr>\n",
       "    <tr>\n",
       "      <th>2010-07-06</th>\n",
       "      <td>4.000</td>\n",
       "      <td>4.000</td>\n",
       "      <td>3.166</td>\n",
       "      <td>3.222</td>\n",
       "      <td>3.222</td>\n",
       "      <td>34334500</td>\n",
       "    </tr>\n",
       "  </tbody>\n",
       "</table>\n",
       "</div>"
      ],
      "text/plain": [
       "             Open   High    Low  Close  Adj Close    Volume\n",
       "Date                                                       \n",
       "2010-06-29  3.800  5.000  3.508  4.778      4.778  93831500\n",
       "2010-06-30  5.158  6.084  4.660  4.766      4.766  85935500\n",
       "2010-07-01  5.000  5.184  4.054  4.392      4.392  41094000\n",
       "2010-07-02  4.600  4.620  3.742  3.840      3.840  25699000\n",
       "2010-07-06  4.000  4.000  3.166  3.222      3.222  34334500"
      ]
     },
     "execution_count": 3,
     "metadata": {},
     "output_type": "execute_result"
    }
   ],
   "source": [
    "data.head()"
   ]
  },
  {
   "cell_type": "code",
   "execution_count": 4,
   "id": "253fe85a",
   "metadata": {
    "execution": {
     "iopub.execute_input": "2024-09-19T10:02:23.178305Z",
     "iopub.status.busy": "2024-09-19T10:02:23.177926Z",
     "iopub.status.idle": "2024-09-19T10:02:23.189837Z",
     "shell.execute_reply": "2024-09-19T10:02:23.188935Z"
    },
    "papermill": {
     "duration": 0.02624,
     "end_time": "2024-09-19T10:02:23.191831",
     "exception": false,
     "start_time": "2024-09-19T10:02:23.165591",
     "status": "completed"
    },
    "tags": []
   },
   "outputs": [
    {
     "data": {
      "text/html": [
       "<div>\n",
       "<style scoped>\n",
       "    .dataframe tbody tr th:only-of-type {\n",
       "        vertical-align: middle;\n",
       "    }\n",
       "\n",
       "    .dataframe tbody tr th {\n",
       "        vertical-align: top;\n",
       "    }\n",
       "\n",
       "    .dataframe thead th {\n",
       "        text-align: right;\n",
       "    }\n",
       "</style>\n",
       "<table border=\"1\" class=\"dataframe\">\n",
       "  <thead>\n",
       "    <tr style=\"text-align: right;\">\n",
       "      <th></th>\n",
       "      <th>Open</th>\n",
       "      <th>High</th>\n",
       "      <th>Low</th>\n",
       "      <th>Close</th>\n",
       "      <th>Adj Close</th>\n",
       "      <th>Volume</th>\n",
       "    </tr>\n",
       "    <tr>\n",
       "      <th>Date</th>\n",
       "      <th></th>\n",
       "      <th></th>\n",
       "      <th></th>\n",
       "      <th></th>\n",
       "      <th></th>\n",
       "      <th></th>\n",
       "    </tr>\n",
       "  </thead>\n",
       "  <tbody>\n",
       "    <tr>\n",
       "      <th>2022-03-18</th>\n",
       "      <td>874.489990</td>\n",
       "      <td>907.849976</td>\n",
       "      <td>867.390015</td>\n",
       "      <td>905.390015</td>\n",
       "      <td>905.390015</td>\n",
       "      <td>33408500</td>\n",
       "    </tr>\n",
       "    <tr>\n",
       "      <th>2022-03-21</th>\n",
       "      <td>914.979980</td>\n",
       "      <td>942.849976</td>\n",
       "      <td>907.090027</td>\n",
       "      <td>921.159973</td>\n",
       "      <td>921.159973</td>\n",
       "      <td>27327200</td>\n",
       "    </tr>\n",
       "    <tr>\n",
       "      <th>2022-03-22</th>\n",
       "      <td>930.000000</td>\n",
       "      <td>997.859985</td>\n",
       "      <td>921.750000</td>\n",
       "      <td>993.979980</td>\n",
       "      <td>993.979980</td>\n",
       "      <td>35289500</td>\n",
       "    </tr>\n",
       "    <tr>\n",
       "      <th>2022-03-23</th>\n",
       "      <td>979.940002</td>\n",
       "      <td>1040.699951</td>\n",
       "      <td>976.400024</td>\n",
       "      <td>999.109985</td>\n",
       "      <td>999.109985</td>\n",
       "      <td>40225400</td>\n",
       "    </tr>\n",
       "    <tr>\n",
       "      <th>2022-03-24</th>\n",
       "      <td>1009.729980</td>\n",
       "      <td>1024.489990</td>\n",
       "      <td>988.799988</td>\n",
       "      <td>1013.919983</td>\n",
       "      <td>1013.919983</td>\n",
       "      <td>22901900</td>\n",
       "    </tr>\n",
       "  </tbody>\n",
       "</table>\n",
       "</div>"
      ],
      "text/plain": [
       "                   Open         High         Low        Close    Adj Close  \\\n",
       "Date                                                                         \n",
       "2022-03-18   874.489990   907.849976  867.390015   905.390015   905.390015   \n",
       "2022-03-21   914.979980   942.849976  907.090027   921.159973   921.159973   \n",
       "2022-03-22   930.000000   997.859985  921.750000   993.979980   993.979980   \n",
       "2022-03-23   979.940002  1040.699951  976.400024   999.109985   999.109985   \n",
       "2022-03-24  1009.729980  1024.489990  988.799988  1013.919983  1013.919983   \n",
       "\n",
       "              Volume  \n",
       "Date                  \n",
       "2022-03-18  33408500  \n",
       "2022-03-21  27327200  \n",
       "2022-03-22  35289500  \n",
       "2022-03-23  40225400  \n",
       "2022-03-24  22901900  "
      ]
     },
     "execution_count": 4,
     "metadata": {},
     "output_type": "execute_result"
    }
   ],
   "source": [
    "data.tail()"
   ]
  },
  {
   "cell_type": "code",
   "execution_count": 5,
   "id": "25490db2",
   "metadata": {
    "execution": {
     "iopub.execute_input": "2024-09-19T10:02:23.216521Z",
     "iopub.status.busy": "2024-09-19T10:02:23.215908Z",
     "iopub.status.idle": "2024-09-19T10:02:23.242547Z",
     "shell.execute_reply": "2024-09-19T10:02:23.241615Z"
    },
    "papermill": {
     "duration": 0.041018,
     "end_time": "2024-09-19T10:02:23.244620",
     "exception": false,
     "start_time": "2024-09-19T10:02:23.203602",
     "status": "completed"
    },
    "tags": []
   },
   "outputs": [
    {
     "data": {
      "text/html": [
       "<div>\n",
       "<style scoped>\n",
       "    .dataframe tbody tr th:only-of-type {\n",
       "        vertical-align: middle;\n",
       "    }\n",
       "\n",
       "    .dataframe tbody tr th {\n",
       "        vertical-align: top;\n",
       "    }\n",
       "\n",
       "    .dataframe thead th {\n",
       "        text-align: right;\n",
       "    }\n",
       "</style>\n",
       "<table border=\"1\" class=\"dataframe\">\n",
       "  <thead>\n",
       "    <tr style=\"text-align: right;\">\n",
       "      <th></th>\n",
       "      <th>Open</th>\n",
       "      <th>High</th>\n",
       "      <th>Low</th>\n",
       "      <th>Close</th>\n",
       "      <th>Adj Close</th>\n",
       "      <th>Volume</th>\n",
       "    </tr>\n",
       "  </thead>\n",
       "  <tbody>\n",
       "    <tr>\n",
       "      <th>count</th>\n",
       "      <td>2956.000000</td>\n",
       "      <td>2956.000000</td>\n",
       "      <td>2956.000000</td>\n",
       "      <td>2956.000000</td>\n",
       "      <td>2956.000000</td>\n",
       "      <td>2.956000e+03</td>\n",
       "    </tr>\n",
       "    <tr>\n",
       "      <th>mean</th>\n",
       "      <td>138.691296</td>\n",
       "      <td>141.771603</td>\n",
       "      <td>135.425953</td>\n",
       "      <td>138.762183</td>\n",
       "      <td>138.762183</td>\n",
       "      <td>3.131449e+07</td>\n",
       "    </tr>\n",
       "    <tr>\n",
       "      <th>std</th>\n",
       "      <td>250.044839</td>\n",
       "      <td>255.863239</td>\n",
       "      <td>243.774157</td>\n",
       "      <td>250.123115</td>\n",
       "      <td>250.123115</td>\n",
       "      <td>2.798383e+07</td>\n",
       "    </tr>\n",
       "    <tr>\n",
       "      <th>min</th>\n",
       "      <td>3.228000</td>\n",
       "      <td>3.326000</td>\n",
       "      <td>2.996000</td>\n",
       "      <td>3.160000</td>\n",
       "      <td>3.160000</td>\n",
       "      <td>5.925000e+05</td>\n",
       "    </tr>\n",
       "    <tr>\n",
       "      <th>25%</th>\n",
       "      <td>19.627000</td>\n",
       "      <td>20.402000</td>\n",
       "      <td>19.127500</td>\n",
       "      <td>19.615000</td>\n",
       "      <td>19.615000</td>\n",
       "      <td>1.310288e+07</td>\n",
       "    </tr>\n",
       "    <tr>\n",
       "      <th>50%</th>\n",
       "      <td>46.656999</td>\n",
       "      <td>47.487001</td>\n",
       "      <td>45.820002</td>\n",
       "      <td>46.545000</td>\n",
       "      <td>46.545000</td>\n",
       "      <td>2.488680e+07</td>\n",
       "    </tr>\n",
       "    <tr>\n",
       "      <th>75%</th>\n",
       "      <td>68.057001</td>\n",
       "      <td>69.357500</td>\n",
       "      <td>66.911501</td>\n",
       "      <td>68.103998</td>\n",
       "      <td>68.103998</td>\n",
       "      <td>3.973875e+07</td>\n",
       "    </tr>\n",
       "    <tr>\n",
       "      <th>max</th>\n",
       "      <td>1234.410034</td>\n",
       "      <td>1243.489990</td>\n",
       "      <td>1217.000000</td>\n",
       "      <td>1229.910034</td>\n",
       "      <td>1229.910034</td>\n",
       "      <td>3.046940e+08</td>\n",
       "    </tr>\n",
       "  </tbody>\n",
       "</table>\n",
       "</div>"
      ],
      "text/plain": [
       "              Open         High          Low        Close    Adj Close  \\\n",
       "count  2956.000000  2956.000000  2956.000000  2956.000000  2956.000000   \n",
       "mean    138.691296   141.771603   135.425953   138.762183   138.762183   \n",
       "std     250.044839   255.863239   243.774157   250.123115   250.123115   \n",
       "min       3.228000     3.326000     2.996000     3.160000     3.160000   \n",
       "25%      19.627000    20.402000    19.127500    19.615000    19.615000   \n",
       "50%      46.656999    47.487001    45.820002    46.545000    46.545000   \n",
       "75%      68.057001    69.357500    66.911501    68.103998    68.103998   \n",
       "max    1234.410034  1243.489990  1217.000000  1229.910034  1229.910034   \n",
       "\n",
       "             Volume  \n",
       "count  2.956000e+03  \n",
       "mean   3.131449e+07  \n",
       "std    2.798383e+07  \n",
       "min    5.925000e+05  \n",
       "25%    1.310288e+07  \n",
       "50%    2.488680e+07  \n",
       "75%    3.973875e+07  \n",
       "max    3.046940e+08  "
      ]
     },
     "execution_count": 5,
     "metadata": {},
     "output_type": "execute_result"
    }
   ],
   "source": [
    "data.describe()"
   ]
  },
  {
   "cell_type": "code",
   "execution_count": 6,
   "id": "ea4a7f48",
   "metadata": {
    "execution": {
     "iopub.execute_input": "2024-09-19T10:02:23.269193Z",
     "iopub.status.busy": "2024-09-19T10:02:23.268861Z",
     "iopub.status.idle": "2024-09-19T10:02:23.274636Z",
     "shell.execute_reply": "2024-09-19T10:02:23.273753Z"
    },
    "papermill": {
     "duration": 0.020309,
     "end_time": "2024-09-19T10:02:23.276701",
     "exception": false,
     "start_time": "2024-09-19T10:02:23.256392",
     "status": "completed"
    },
    "tags": []
   },
   "outputs": [
    {
     "data": {
      "text/plain": [
       "(2956, 6)"
      ]
     },
     "execution_count": 6,
     "metadata": {},
     "output_type": "execute_result"
    }
   ],
   "source": [
    "data.shape"
   ]
  },
  {
   "cell_type": "code",
   "execution_count": 7,
   "id": "5cc45019",
   "metadata": {
    "execution": {
     "iopub.execute_input": "2024-09-19T10:02:23.301665Z",
     "iopub.status.busy": "2024-09-19T10:02:23.301078Z",
     "iopub.status.idle": "2024-09-19T10:02:23.318250Z",
     "shell.execute_reply": "2024-09-19T10:02:23.317310Z"
    },
    "papermill": {
     "duration": 0.03196,
     "end_time": "2024-09-19T10:02:23.320451",
     "exception": false,
     "start_time": "2024-09-19T10:02:23.288491",
     "status": "completed"
    },
    "tags": []
   },
   "outputs": [
    {
     "name": "stdout",
     "output_type": "stream",
     "text": [
      "<class 'pandas.core.frame.DataFrame'>\n",
      "DatetimeIndex: 2956 entries, 2010-06-29 to 2022-03-24\n",
      "Data columns (total 6 columns):\n",
      " #   Column     Non-Null Count  Dtype  \n",
      "---  ------     --------------  -----  \n",
      " 0   Open       2956 non-null   float64\n",
      " 1   High       2956 non-null   float64\n",
      " 2   Low        2956 non-null   float64\n",
      " 3   Close      2956 non-null   float64\n",
      " 4   Adj Close  2956 non-null   float64\n",
      " 5   Volume     2956 non-null   int64  \n",
      "dtypes: float64(5), int64(1)\n",
      "memory usage: 161.7 KB\n"
     ]
    }
   ],
   "source": [
    "data.info()"
   ]
  },
  {
   "cell_type": "markdown",
   "id": "0185e3d7",
   "metadata": {
    "papermill": {
     "duration": 0.011987,
     "end_time": "2024-09-19T10:02:23.344426",
     "exception": false,
     "start_time": "2024-09-19T10:02:23.332439",
     "status": "completed"
    },
    "tags": []
   },
   "source": [
    "# Data Analysis"
   ]
  },
  {
   "cell_type": "code",
   "execution_count": 8,
   "id": "f4256f33",
   "metadata": {
    "execution": {
     "iopub.execute_input": "2024-09-19T10:02:23.369875Z",
     "iopub.status.busy": "2024-09-19T10:02:23.369487Z",
     "iopub.status.idle": "2024-09-19T10:02:24.200040Z",
     "shell.execute_reply": "2024-09-19T10:02:24.199046Z"
    },
    "papermill": {
     "duration": 0.846791,
     "end_time": "2024-09-19T10:02:24.203216",
     "exception": false,
     "start_time": "2024-09-19T10:02:23.356425",
     "status": "completed"
    },
    "tags": []
   },
   "outputs": [
    {
     "data": {
      "image/png": "[encoded data removed]",
      "text/plain": [
       "<Figure size 1800x800 with 1 Axes>"
      ]
     },
     "metadata": {},
     "output_type": "display_data"
    }
   ],
   "source": [
    "plt.figure(figsize=(18, 8))\n",
    "data['Open'].plot()\n",
    "data['Close'].plot()\n",
    "plt.ylabel(None)\n",
    "plt.xlabel(None)\n",
    "plt.title(\"Opening & Closing Price of Tesla\")\n",
    "plt.legend(['Open Price', 'Close Price'])\n",
    "plt.tight_layout()\n",
    "plt.show()"
   ]
  },
  {
   "cell_type": "code",
   "execution_count": 9,
   "id": "15cb0cc7",
   "metadata": {
    "execution": {
     "iopub.execute_input": "2024-09-19T10:02:24.230831Z",
     "iopub.status.busy": "2024-09-19T10:02:24.230498Z",
     "iopub.status.idle": "2024-09-19T10:02:24.996043Z",
     "shell.execute_reply": "2024-09-19T10:02:24.994978Z"
    },
    "papermill": {
     "duration": 0.783349,
     "end_time": "2024-09-19T10:02:24.999876",
     "exception": false,
     "start_time": "2024-09-19T10:02:24.216527",
     "status": "completed"
    },
    "tags": []
   },
   "outputs": [
    {
     "data": {
      "image/png": "[encoded data removed]",
      "text/plain": [
       "<Figure size 1800x800 with 1 Axes>"
      ]
     },
     "metadata": {},
     "output_type": "display_data"
    }
   ],
   "source": [
    "plt.figure(figsize=(18, 8))\n",
    "data['Volume'].plot()\n",
    "plt.ylabel('Volume')\n",
    "plt.xlabel(None)\n",
    "plt.title(\"Sales Volume of Tesla\")\n",
    "plt.tight_layout()\n",
    "plt.show()"
   ]
  },
  {
   "cell_type": "code",
   "execution_count": 10,
   "id": "64b48780",
   "metadata": {
    "execution": {
     "iopub.execute_input": "2024-09-19T10:02:25.031877Z",
     "iopub.status.busy": "2024-09-19T10:02:25.030884Z",
     "iopub.status.idle": "2024-09-19T10:02:25.464286Z",
     "shell.execute_reply": "2024-09-19T10:02:25.463223Z"
    },
    "papermill": {
     "duration": 0.451689,
     "end_time": "2024-09-19T10:02:25.466683",
     "exception": false,
     "start_time": "2024-09-19T10:02:25.014994",
     "status": "completed"
    },
    "tags": []
   },
   "outputs": [
    {
     "data": {
      "image/png": "[encoded data removed]",
      "text/plain": [
       "<Figure size 1800x800 with 1 Axes>"
      ]
     },
     "metadata": {},
     "output_type": "display_data"
    }
   ],
   "source": [
    "plt.figure(figsize=(18, 8))\n",
    "data['Adj Close'].pct_change().hist(bins=50)\n",
    "plt.ylabel('Daily Return')\n",
    "plt.title(f'Tesla Dialy Return')\n",
    "plt.tight_layout()\n",
    "plt.show()"
   ]
  },
  {
   "cell_type": "markdown",
   "id": "cb5a4952",
   "metadata": {
    "papermill": {
     "duration": 0.015014,
     "end_time": "2024-09-19T10:02:25.497277",
     "exception": false,
     "start_time": "2024-09-19T10:02:25.482263",
     "status": "completed"
    },
    "tags": []
   },
   "source": [
    "# Data Preprocessing"
   ]
  },
  {
   "cell_type": "markdown",
   "id": "b999b3ff",
   "metadata": {
    "papermill": {
     "duration": 0.014972,
     "end_time": "2024-09-19T10:02:25.527395",
     "exception": false,
     "start_time": "2024-09-19T10:02:25.512423",
     "status": "completed"
    },
    "tags": []
   },
   "source": [
    "### Choosing Prediction Column"
   ]
  },
  {
   "cell_type": "code",
   "execution_count": 11,
   "id": "cefd8b0d",
   "metadata": {
    "execution": {
     "iopub.execute_input": "2024-09-19T10:02:25.559847Z",
     "iopub.status.busy": "2024-09-19T10:02:25.558800Z",
     "iopub.status.idle": "2024-09-19T10:02:25.566348Z",
     "shell.execute_reply": "2024-09-19T10:02:25.565191Z"
    },
    "papermill": {
     "duration": 0.02593,
     "end_time": "2024-09-19T10:02:25.568391",
     "exception": false,
     "start_time": "2024-09-19T10:02:25.542461",
     "status": "completed"
    },
    "tags": []
   },
   "outputs": [
    {
     "data": {
      "text/plain": [
       "(2956, 1)"
      ]
     },
     "execution_count": 11,
     "metadata": {},
     "output_type": "execute_result"
    }
   ],
   "source": [
    "df=data['Close']\n",
    "df=pd.DataFrame(df)\n",
    "\n",
    "dataset=df.values\n",
    "dataset.shape"
   ]
  },
  {
   "cell_type": "code",
   "execution_count": 12,
   "id": "76fc37db",
   "metadata": {
    "execution": {
     "iopub.execute_input": "2024-09-19T10:02:25.600890Z",
     "iopub.status.busy": "2024-09-19T10:02:25.599997Z",
     "iopub.status.idle": "2024-09-19T10:02:25.607019Z",
     "shell.execute_reply": "2024-09-19T10:02:25.606035Z"
    },
    "papermill": {
     "duration": 0.025335,
     "end_time": "2024-09-19T10:02:25.608982",
     "exception": false,
     "start_time": "2024-09-19T10:02:25.583647",
     "status": "completed"
    },
    "tags": []
   },
   "outputs": [
    {
     "data": {
      "text/plain": [
       "array([[   4.778   ],\n",
       "       [   4.766   ],\n",
       "       [   4.392   ],\n",
       "       ...,\n",
       "       [ 993.97998 ],\n",
       "       [ 999.109985],\n",
       "       [1013.919983]])"
      ]
     },
     "execution_count": 12,
     "metadata": {},
     "output_type": "execute_result"
    }
   ],
   "source": [
    "dataset"
   ]
  },
  {
   "cell_type": "markdown",
   "id": "2448ccf0",
   "metadata": {
    "papermill": {
     "duration": 0.015109,
     "end_time": "2024-09-19T10:02:25.639757",
     "exception": false,
     "start_time": "2024-09-19T10:02:25.624648",
     "status": "completed"
    },
    "tags": []
   },
   "source": [
    "### Normalizing Data"
   ]
  },
  {
   "cell_type": "code",
   "execution_count": 13,
   "id": "14dc2fb2",
   "metadata": {
    "execution": {
     "iopub.execute_input": "2024-09-19T10:02:25.672312Z",
     "iopub.status.busy": "2024-09-19T10:02:25.671412Z",
     "iopub.status.idle": "2024-09-19T10:02:25.676832Z",
     "shell.execute_reply": "2024-09-19T10:02:25.675861Z"
    },
    "papermill": {
     "duration": 0.023953,
     "end_time": "2024-09-19T10:02:25.678913",
     "exception": false,
     "start_time": "2024-09-19T10:02:25.654960",
     "status": "completed"
    },
    "tags": []
   },
   "outputs": [],
   "source": [
    "scaler = MinMaxScaler()\n",
    "scaled_data = scaler.fit_transform(dataset)"
   ]
  },
  {
   "cell_type": "code",
   "execution_count": 14,
   "id": "d1006232",
   "metadata": {
    "execution": {
     "iopub.execute_input": "2024-09-19T10:02:25.711564Z",
     "iopub.status.busy": "2024-09-19T10:02:25.710807Z",
     "iopub.status.idle": "2024-09-19T10:02:25.717181Z",
     "shell.execute_reply": "2024-09-19T10:02:25.716260Z"
    },
    "papermill": {
     "duration": 0.02487,
     "end_time": "2024-09-19T10:02:25.719180",
     "exception": false,
     "start_time": "2024-09-19T10:02:25.694310",
     "status": "completed"
    },
    "tags": []
   },
   "outputs": [
    {
     "data": {
      "text/plain": [
       "array([[0.00131893],\n",
       "       [0.00130915],\n",
       "       [0.00100428],\n",
       "       ...,\n",
       "       [0.80767879],\n",
       "       [0.81186057],\n",
       "       [0.82393312]])"
      ]
     },
     "execution_count": 14,
     "metadata": {},
     "output_type": "execute_result"
    }
   ],
   "source": [
    "scaled_data"
   ]
  },
  {
   "cell_type": "markdown",
   "id": "a0619bfa",
   "metadata": {
    "papermill": {
     "duration": 0.015211,
     "end_time": "2024-09-19T10:02:25.749802",
     "exception": false,
     "start_time": "2024-09-19T10:02:25.734591",
     "status": "completed"
    },
    "tags": []
   },
   "source": [
    "### Splitting the Data"
   ]
  },
  {
   "cell_type": "code",
   "execution_count": 15,
   "id": "0a71bd7f",
   "metadata": {
    "execution": {
     "iopub.execute_input": "2024-09-19T10:02:25.782515Z",
     "iopub.status.busy": "2024-09-19T10:02:25.781800Z",
     "iopub.status.idle": "2024-09-19T10:02:25.787311Z",
     "shell.execute_reply": "2024-09-19T10:02:25.786389Z"
    },
    "papermill": {
     "duration": 0.02427,
     "end_time": "2024-09-19T10:02:25.789454",
     "exception": false,
     "start_time": "2024-09-19T10:02:25.765184",
     "status": "completed"
    },
    "tags": []
   },
   "outputs": [
    {
     "name": "stdout",
     "output_type": "stream",
     "text": [
      "Train Size : 2217 Test Size : 739\n"
     ]
    }
   ],
   "source": [
    "# 75% to Train , 25% to Test\n",
    "train_size = int(len(dataset)*.75)\n",
    "test_size = len(dataset) - train_size\n",
    "\n",
    "print(\"Train Size :\",train_size,\"Test Size :\",test_size)\n"
   ]
  },
  {
   "cell_type": "code",
   "execution_count": 16,
   "id": "a3df9304",
   "metadata": {
    "execution": {
     "iopub.execute_input": "2024-09-19T10:02:25.822158Z",
     "iopub.status.busy": "2024-09-19T10:02:25.821531Z",
     "iopub.status.idle": "2024-09-19T10:02:25.826188Z",
     "shell.execute_reply": "2024-09-19T10:02:25.825186Z"
    },
    "papermill": {
     "duration": 0.023106,
     "end_time": "2024-09-19T10:02:25.828120",
     "exception": false,
     "start_time": "2024-09-19T10:02:25.805014",
     "status": "completed"
    },
    "tags": []
   },
   "outputs": [],
   "source": [
    "# time step= 60\n",
    "train_data = scaled_data[ :train_size , 0:1 ]\n",
    "test_data = scaled_data[ train_size-60: , 0:1 ]"
   ]
  },
  {
   "cell_type": "code",
   "execution_count": 17,
   "id": "e464dd35",
   "metadata": {
    "execution": {
     "iopub.execute_input": "2024-09-19T10:02:25.861224Z",
     "iopub.status.busy": "2024-09-19T10:02:25.860403Z",
     "iopub.status.idle": "2024-09-19T10:02:25.866555Z",
     "shell.execute_reply": "2024-09-19T10:02:25.865642Z"
    },
    "papermill": {
     "duration": 0.024858,
     "end_time": "2024-09-19T10:02:25.868574",
     "exception": false,
     "start_time": "2024-09-19T10:02:25.843716",
     "status": "completed"
    },
    "tags": []
   },
   "outputs": [
    {
     "data": {
      "text/plain": [
       "((2217, 1), (799, 1))"
      ]
     },
     "execution_count": 17,
     "metadata": {},
     "output_type": "execute_result"
    }
   ],
   "source": [
    "train_data.shape, test_data.shape"
   ]
  },
  {
   "cell_type": "markdown",
   "id": "01bbc415",
   "metadata": {
    "papermill": {
     "duration": 0.015667,
     "end_time": "2024-09-19T10:02:25.899865",
     "exception": false,
     "start_time": "2024-09-19T10:02:25.884198",
     "status": "completed"
    },
    "tags": []
   },
   "source": [
    "### Creating training set"
   ]
  },
  {
   "cell_type": "code",
   "execution_count": 18,
   "id": "4fa5dd6b",
   "metadata": {
    "execution": {
     "iopub.execute_input": "2024-09-19T10:02:25.934546Z",
     "iopub.status.busy": "2024-09-19T10:02:25.933675Z",
     "iopub.status.idle": "2024-09-19T10:02:25.941114Z",
     "shell.execute_reply": "2024-09-19T10:02:25.940127Z"
    },
    "papermill": {
     "duration": 0.027656,
     "end_time": "2024-09-19T10:02:25.943241",
     "exception": false,
     "start_time": "2024-09-19T10:02:25.915585",
     "status": "completed"
    },
    "tags": []
   },
   "outputs": [],
   "source": [
    "x_train = []\n",
    "y_train = []\n",
    "\n",
    "for i in range(60, len(train_data)):\n",
    "    x_train.append(train_data[i-60:i, 0])\n",
    "    y_train.append(train_data[i, 0])"
   ]
  },
  {
   "cell_type": "code",
   "execution_count": 19,
   "id": "20463769",
   "metadata": {
    "execution": {
     "iopub.execute_input": "2024-09-19T10:02:25.976877Z",
     "iopub.status.busy": "2024-09-19T10:02:25.975981Z",
     "iopub.status.idle": "2024-09-19T10:02:25.982241Z",
     "shell.execute_reply": "2024-09-19T10:02:25.981424Z"
    },
    "papermill": {
     "duration": 0.025077,
     "end_time": "2024-09-19T10:02:25.984314",
     "exception": false,
     "start_time": "2024-09-19T10:02:25.959237",
     "status": "completed"
    },
    "tags": []
   },
   "outputs": [],
   "source": [
    "x_train, y_train = np.array(x_train), np.array(y_train)"
   ]
  },
  {
   "cell_type": "code",
   "execution_count": 20,
   "id": "a1f7b0cb",
   "metadata": {
    "execution": {
     "iopub.execute_input": "2024-09-19T10:02:26.017626Z",
     "iopub.status.busy": "2024-09-19T10:02:26.016860Z",
     "iopub.status.idle": "2024-09-19T10:02:26.023004Z",
     "shell.execute_reply": "2024-09-19T10:02:26.022064Z"
    },
    "papermill": {
     "duration": 0.02504,
     "end_time": "2024-09-19T10:02:26.024998",
     "exception": false,
     "start_time": "2024-09-19T10:02:25.999958",
     "status": "completed"
    },
    "tags": []
   },
   "outputs": [
    {
     "data": {
      "text/plain": [
       "(2157, 60)"
      ]
     },
     "execution_count": 20,
     "metadata": {},
     "output_type": "execute_result"
    }
   ],
   "source": [
    "x_train.shape"
   ]
  },
  {
   "cell_type": "code",
   "execution_count": 21,
   "id": "207a039f",
   "metadata": {
    "execution": {
     "iopub.execute_input": "2024-09-19T10:02:26.058967Z",
     "iopub.status.busy": "2024-09-19T10:02:26.058259Z",
     "iopub.status.idle": "2024-09-19T10:02:26.062914Z",
     "shell.execute_reply": "2024-09-19T10:02:26.062007Z"
    },
    "papermill": {
     "duration": 0.023938,
     "end_time": "2024-09-19T10:02:26.064864",
     "exception": false,
     "start_time": "2024-09-19T10:02:26.040926",
     "status": "completed"
    },
    "tags": []
   },
   "outputs": [],
   "source": [
    "x_train = np.reshape(x_train, (x_train.shape[0], x_train.shape[1], 1))"
   ]
  },
  {
   "cell_type": "code",
   "execution_count": 22,
   "id": "4568bfb9",
   "metadata": {
    "execution": {
     "iopub.execute_input": "2024-09-19T10:02:26.097913Z",
     "iopub.status.busy": "2024-09-19T10:02:26.096987Z",
     "iopub.status.idle": "2024-09-19T10:02:26.103242Z",
     "shell.execute_reply": "2024-09-19T10:02:26.102311Z"
    },
    "papermill": {
     "duration": 0.024898,
     "end_time": "2024-09-19T10:02:26.105347",
     "exception": false,
     "start_time": "2024-09-19T10:02:26.080449",
     "status": "completed"
    },
    "tags": []
   },
   "outputs": [
    {
     "data": {
      "text/plain": [
       "((2157, 60, 1), (2157,))"
      ]
     },
     "execution_count": 22,
     "metadata": {},
     "output_type": "execute_result"
    }
   ],
   "source": [
    "x_train.shape , y_train.shape"
   ]
  },
  {
   "cell_type": "markdown",
   "id": "62211b19",
   "metadata": {
    "papermill": {
     "duration": 0.017531,
     "end_time": "2024-09-19T10:02:26.143804",
     "exception": false,
     "start_time": "2024-09-19T10:02:26.126273",
     "status": "completed"
    },
    "tags": []
   },
   "source": [
    "# LSTM Model"
   ]
  },
  {
   "cell_type": "markdown",
   "id": "e6773783",
   "metadata": {
    "papermill": {
     "duration": 0.015685,
     "end_time": "2024-09-19T10:02:26.175346",
     "exception": false,
     "start_time": "2024-09-19T10:02:26.159661",
     "status": "completed"
    },
    "tags": []
   },
   "source": [
    "### Model Structure"
   ]
  },
  {
   "cell_type": "code",
   "execution_count": 23,
   "id": "d976ff85",
   "metadata": {
    "execution": {
     "iopub.execute_input": "2024-09-19T10:02:26.208501Z",
     "iopub.status.busy": "2024-09-19T10:02:26.208085Z",
     "iopub.status.idle": "2024-09-19T10:02:26.344547Z",
     "shell.execute_reply": "2024-09-19T10:02:26.343688Z"
    },
    "papermill": {
     "duration": 0.155869,
     "end_time": "2024-09-19T10:02:26.346915",
     "exception": false,
     "start_time": "2024-09-19T10:02:26.191046",
     "status": "completed"
    },
    "tags": []
   },
   "outputs": [],
   "source": [
    "model_LSTM = Sequential([\n",
    "    LSTM(50, return_sequences= True, input_shape= (x_train.shape[1], 1)),\n",
    "    LSTM(64, return_sequences= False),\n",
    "    Dense(32),\n",
    "    Dense(16),\n",
    "    Dense(1)\n",
    "])\n",
    "\n",
    "model_LSTM.compile(optimizer= 'adam', loss= 'mean_squared_error' )"
   ]
  },
  {
   "cell_type": "code",
   "execution_count": 24,
   "id": "2df42329",
   "metadata": {
    "execution": {
     "iopub.execute_input": "2024-09-19T10:02:26.380934Z",
     "iopub.status.busy": "2024-09-19T10:02:26.380566Z",
     "iopub.status.idle": "2024-09-19T10:02:26.402001Z",
     "shell.execute_reply": "2024-09-19T10:02:26.401081Z"
    },
    "papermill": {
     "duration": 0.041281,
     "end_time": "2024-09-19T10:02:26.404184",
     "exception": false,
     "start_time": "2024-09-19T10:02:26.362903",
     "status": "completed"
    },
    "tags": []
   },
   "outputs": [
    {
     "data": {
      "text/html": [
       "<pre style=\"white-space:pre;overflow-x:auto;line-height:normal;font-family:Menlo,'DejaVu Sans Mono',consolas,'Courier New',monospace\"><span style=\"font-weight: bold\">Model: \"sequential\"</span>\n",
       "</pre>\n"
      ],
      "text/plain": [
       "\u001b[1mModel: \"sequential\"\u001b[0m\n"
      ]
     },
     "metadata": {},
     "output_type": "display_data"
    },
    {
     "data": {
      "text/html": [
       "<pre style=\"white-space:pre;overflow-x:auto;line-height:normal;font-family:Menlo,'DejaVu Sans Mono',consolas,'Courier New',monospace\">┏━━━━━━━━━━━━━━━━━━━━━━━━━━━━━━━━━┳━━━━━━━━━━━━━━━━━━━━━━━━┳━━━━━━━━━━━━━━━┓\n",
       "┃<span style=\"font-weight: bold\"> Layer (type)                    </span>┃<span style=\"font-weight: bold\"> Output Shape           </span>┃<span style=\"font-weight: bold\">       Param # </span>┃\n",
       "┡━━━━━━━━━━━━━━━━━━━━━━━━━━━━━━━━━╇━━━━━━━━━━━━━━━━━━━━━━━━╇━━━━━━━━━━━━━━━┩\n",
       "│ lstm (<span style=\"color: #0087ff; text-decoration-color: #0087ff\">LSTM</span>)                     │ (<span style=\"color: #00d7ff; text-decoration-color: #00d7ff\">None</span>, <span style=\"color: #00af00; text-decoration-color: #00af00\">60</span>, <span style=\"color: #00af00; text-decoration-color: #00af00\">50</span>)         │        <span style=\"color: #00af00; text-decoration-color: #00af00\">10,400</span> │\n",
       "├─────────────────────────────────┼────────────────────────┼───────────────┤\n",
       "│ lstm_1 (<span style=\"color: #0087ff; text-decoration-color: #0087ff\">LSTM</span>)                   │ (<span style=\"color: #00d7ff; text-decoration-color: #00d7ff\">None</span>, <span style=\"color: #00af00; text-decoration-color: #00af00\">64</span>)             │        <span style=\"color: #00af00; text-decoration-color: #00af00\">29,440</span> │\n",
       "├─────────────────────────────────┼────────────────────────┼───────────────┤\n",
       "│ dense (<span style=\"color: #0087ff; text-decoration-color: #0087ff\">Dense</span>)                   │ (<span style=\"color: #00d7ff; text-decoration-color: #00d7ff\">None</span>, <span style=\"color: #00af00; text-decoration-color: #00af00\">32</span>)             │         <span style=\"color: #00af00; text-decoration-color: #00af00\">2,080</span> │\n",
       "├─────────────────────────────────┼────────────────────────┼───────────────┤\n",
       "│ dense_1 (<span style=\"color: #0087ff; text-decoration-color: #0087ff\">Dense</span>)                 │ (<span style=\"color: #00d7ff; text-decoration-color: #00d7ff\">None</span>, <span style=\"color: #00af00; text-decoration-color: #00af00\">16</span>)             │           <span style=\"color: #00af00; text-decoration-color: #00af00\">528</span> │\n",
       "├─────────────────────────────────┼────────────────────────┼───────────────┤\n",
       "│ dense_2 (<span style=\"color: #0087ff; text-decoration-color: #0087ff\">Dense</span>)                 │ (<span style=\"color: #00d7ff; text-decoration-color: #00d7ff\">None</span>, <span style=\"color: #00af00; text-decoration-color: #00af00\">1</span>)              │            <span style=\"color: #00af00; text-decoration-color: #00af00\">17</span> │\n",
       "└─────────────────────────────────┴────────────────────────┴───────────────┘\n",
       "</pre>\n"
      ],
      "text/plain": [
       "┏━━━━━━━━━━━━━━━━━━━━━━━━━━━━━━━━━┳━━━━━━━━━━━━━━━━━━━━━━━━┳━━━━━━━━━━━━━━━┓\n",
       "┃\u001b[1m \u001b[0m\u001b[1mLayer (type)                   \u001b[0m\u001b[1m \u001b[0m┃\u001b[1m \u001b[0m\u001b[1mOutput Shape          \u001b[0m\u001b[1m \u001b[0m┃\u001b[1m \u001b[0m\u001b[1m      Param #\u001b[0m\u001b[1m \u001b[0m┃\n",
       "┡━━━━━━━━━━━━━━━━━━━━━━━━━━━━━━━━━╇━━━━━━━━━━━━━━━━━━━━━━━━╇━━━━━━━━━━━━━━━┩\n",
       "│ lstm (\u001b[38;5;33mLSTM\u001b[0m)                     │ (\u001b[38;5;45mNone\u001b[0m, \u001b[38;5;34m60\u001b[0m, \u001b[38;5;34m50\u001b[0m)         │        \u001b[38;5;34m10,400\u001b[0m │\n",
       "├─────────────────────────────────┼────────────────────────┼───────────────┤\n",
       "│ lstm_1 (\u001b[38;5;33mLSTM\u001b[0m)                   │ (\u001b[38;5;45mNone\u001b[0m, \u001b[38;5;34m64\u001b[0m)             │        \u001b[38;5;34m29,440\u001b[0m │\n",
       "├─────────────────────────────────┼────────────────────────┼───────────────┤\n",
       "│ dense (\u001b[38;5;33mDense\u001b[0m)                   │ (\u001b[38;5;45mNone\u001b[0m, \u001b[38;5;34m32\u001b[0m)             │         \u001b[38;5;34m2,080\u001b[0m │\n",
       "├─────────────────────────────────┼────────────────────────┼───────────────┤\n",
       "│ dense_1 (\u001b[38;5;33mDense\u001b[0m)                 │ (\u001b[38;5;45mNone\u001b[0m, \u001b[38;5;34m16\u001b[0m)             │           \u001b[38;5;34m528\u001b[0m │\n",
       "├─────────────────────────────────┼────────────────────────┼───────────────┤\n",
       "│ dense_2 (\u001b[38;5;33mDense\u001b[0m)                 │ (\u001b[38;5;45mNone\u001b[0m, \u001b[38;5;34m1\u001b[0m)              │            \u001b[38;5;34m17\u001b[0m │\n",
       "└─────────────────────────────────┴────────────────────────┴───────────────┘\n"
      ]
     },
     "metadata": {},
     "output_type": "display_data"
    },
    {
     "data": {
      "text/html": [
       "<pre style=\"white-space:pre;overflow-x:auto;line-height:normal;font-family:Menlo,'DejaVu Sans Mono',consolas,'Courier New',monospace\"><span style=\"font-weight: bold\"> Total params: </span><span style=\"color: #00af00; text-decoration-color: #00af00\">42,465</span> (165.88 KB)\n",
       "</pre>\n"
      ],
      "text/plain": [
       "\u001b[1m Total params: \u001b[0m\u001b[38;5;34m42,465\u001b[0m (165.88 KB)\n"
      ]
     },
     "metadata": {},
     "output_type": "display_data"
    },
    {
     "data": {
      "text/html": [
       "<pre style=\"white-space:pre;overflow-x:auto;line-height:normal;font-family:Menlo,'DejaVu Sans Mono',consolas,'Courier New',monospace\"><span style=\"font-weight: bold\"> Trainable params: </span><span style=\"color: #00af00; text-decoration-color: #00af00\">42,465</span> (165.88 KB)\n",
       "</pre>\n"
      ],
      "text/plain": [
       "\u001b[1m Trainable params: \u001b[0m\u001b[38;5;34m42,465\u001b[0m (165.88 KB)\n"
      ]
     },
     "metadata": {},
     "output_type": "display_data"
    },
    {
     "data": {
      "text/html": [
       "<pre style=\"white-space:pre;overflow-x:auto;line-height:normal;font-family:Menlo,'DejaVu Sans Mono',consolas,'Courier New',monospace\"><span style=\"font-weight: bold\"> Non-trainable params: </span><span style=\"color: #00af00; text-decoration-color: #00af00\">0</span> (0.00 B)\n",
       "</pre>\n"
      ],
      "text/plain": [
       "\u001b[1m Non-trainable params: \u001b[0m\u001b[38;5;34m0\u001b[0m (0.00 B)\n"
      ]
     },
     "metadata": {},
     "output_type": "display_data"
    }
   ],
   "source": [
    "model_LSTM.summary()"
   ]
  },
  {
   "cell_type": "markdown",
   "id": "93f03080",
   "metadata": {
    "papermill": {
     "duration": 0.017032,
     "end_time": "2024-09-19T10:02:26.438866",
     "exception": false,
     "start_time": "2024-09-19T10:02:26.421834",
     "status": "completed"
    },
    "tags": []
   },
   "source": [
    "### Model Training"
   ]
  },
  {
   "cell_type": "code",
   "execution_count": 25,
   "id": "319d1b0e",
   "metadata": {
    "execution": {
     "iopub.execute_input": "2024-09-19T10:02:26.520929Z",
     "iopub.status.busy": "2024-09-19T10:02:26.520257Z",
     "iopub.status.idle": "2024-09-19T10:05:46.428714Z",
     "shell.execute_reply": "2024-09-19T10:05:46.427635Z"
    },
    "papermill": {
     "duration": 199.975042,
     "end_time": "2024-09-19T10:05:46.431128",
     "exception": false,
     "start_time": "2024-09-19T10:02:26.456086",
     "status": "completed"
    },
    "tags": []
   },
   "outputs": [
    {
     "name": "stdout",
     "output_type": "stream",
     "text": [
      "Epoch 1/100\n",
      "\u001b[1m68/68\u001b[0m \u001b[32m━━━━━━━━━━━━━━━━━━━━\u001b[0m\u001b[37m\u001b[0m \u001b[1m6s\u001b[0m 38ms/step - loss: 2.2244e-04\n",
      "Epoch 2/100\n",
      "\u001b[1m68/68\u001b[0m \u001b[32m━━━━━━━━━━━━━━━━━━━━\u001b[0m\u001b[37m\u001b[0m \u001b[1m3s\u001b[0m 38ms/step - loss: 6.4612e-06\n",
      "Epoch 3/100\n",
      "\u001b[1m68/68\u001b[0m \u001b[32m━━━━━━━━━━━━━━━━━━━━\u001b[0m\u001b[37m\u001b[0m \u001b[1m3s\u001b[0m 39ms/step - loss: 6.2325e-06\n",
      "Epoch 4/100\n",
      "\u001b[1m68/68\u001b[0m \u001b[32m━━━━━━━━━━━━━━━━━━━━\u001b[0m\u001b[37m\u001b[0m \u001b[1m3s\u001b[0m 41ms/step - loss: 6.0566e-06\n",
      "Epoch 5/100\n",
      "\u001b[1m68/68\u001b[0m \u001b[32m━━━━━━━━━━━━━━━━━━━━\u001b[0m\u001b[37m\u001b[0m \u001b[1m5s\u001b[0m 38ms/step - loss: 5.3453e-06\n",
      "Epoch 6/100\n",
      "\u001b[1m68/68\u001b[0m \u001b[32m━━━━━━━━━━━━━━━━━━━━\u001b[0m\u001b[37m\u001b[0m \u001b[1m3s\u001b[0m 38ms/step - loss: 4.9764e-06\n",
      "Epoch 7/100\n",
      "\u001b[1m68/68\u001b[0m \u001b[32m━━━━━━━━━━━━━━━━━━━━\u001b[0m\u001b[37m\u001b[0m \u001b[1m3s\u001b[0m 38ms/step - loss: 5.6280e-06\n",
      "Epoch 8/100\n",
      "\u001b[1m68/68\u001b[0m \u001b[32m━━━━━━━━━━━━━━━━━━━━\u001b[0m\u001b[37m\u001b[0m \u001b[1m3s\u001b[0m 38ms/step - loss: 4.4320e-06\n",
      "Epoch 9/100\n",
      "\u001b[1m68/68\u001b[0m \u001b[32m━━━━━━━━━━━━━━━━━━━━\u001b[0m\u001b[37m\u001b[0m \u001b[1m3s\u001b[0m 38ms/step - loss: 5.6239e-06\n",
      "Epoch 10/100\n",
      "\u001b[1m68/68\u001b[0m \u001b[32m━━━━━━━━━━━━━━━━━━━━\u001b[0m\u001b[37m\u001b[0m \u001b[1m3s\u001b[0m 39ms/step - loss: 4.8538e-06\n",
      "Epoch 11/100\n",
      "\u001b[1m68/68\u001b[0m \u001b[32m━━━━━━━━━━━━━━━━━━━━\u001b[0m\u001b[37m\u001b[0m \u001b[1m3s\u001b[0m 38ms/step - loss: 3.8591e-06\n",
      "Epoch 12/100\n",
      "\u001b[1m68/68\u001b[0m \u001b[32m━━━━━━━━━━━━━━━━━━━━\u001b[0m\u001b[37m\u001b[0m \u001b[1m5s\u001b[0m 38ms/step - loss: 4.0027e-06\n",
      "Epoch 13/100\n",
      "\u001b[1m68/68\u001b[0m \u001b[32m━━━━━━━━━━━━━━━━━━━━\u001b[0m\u001b[37m\u001b[0m \u001b[1m3s\u001b[0m 38ms/step - loss: 8.5058e-06\n",
      "Epoch 14/100\n",
      "\u001b[1m68/68\u001b[0m \u001b[32m━━━━━━━━━━━━━━━━━━━━\u001b[0m\u001b[37m\u001b[0m \u001b[1m3s\u001b[0m 40ms/step - loss: 3.8316e-06\n",
      "Epoch 15/100\n",
      "\u001b[1m68/68\u001b[0m \u001b[32m━━━━━━━━━━━━━━━━━━━━\u001b[0m\u001b[37m\u001b[0m \u001b[1m3s\u001b[0m 39ms/step - loss: 4.1477e-06\n",
      "Epoch 16/100\n",
      "\u001b[1m68/68\u001b[0m \u001b[32m━━━━━━━━━━━━━━━━━━━━\u001b[0m\u001b[37m\u001b[0m \u001b[1m3s\u001b[0m 38ms/step - loss: 3.9000e-06\n",
      "Epoch 17/100\n",
      "\u001b[1m68/68\u001b[0m \u001b[32m━━━━━━━━━━━━━━━━━━━━\u001b[0m\u001b[37m\u001b[0m \u001b[1m5s\u001b[0m 38ms/step - loss: 4.4607e-06\n",
      "Epoch 18/100\n",
      "\u001b[1m68/68\u001b[0m \u001b[32m━━━━━━━━━━━━━━━━━━━━\u001b[0m\u001b[37m\u001b[0m \u001b[1m3s\u001b[0m 38ms/step - loss: 3.5286e-06\n",
      "Epoch 19/100\n",
      "\u001b[1m68/68\u001b[0m \u001b[32m━━━━━━━━━━━━━━━━━━━━\u001b[0m\u001b[37m\u001b[0m \u001b[1m3s\u001b[0m 38ms/step - loss: 3.2655e-06\n",
      "Epoch 20/100\n",
      "\u001b[1m68/68\u001b[0m \u001b[32m━━━━━━━━━━━━━━━━━━━━\u001b[0m\u001b[37m\u001b[0m \u001b[1m3s\u001b[0m 38ms/step - loss: 3.6788e-06\n",
      "Epoch 21/100\n",
      "\u001b[1m68/68\u001b[0m \u001b[32m━━━━━━━━━━━━━━━━━━━━\u001b[0m\u001b[37m\u001b[0m \u001b[1m3s\u001b[0m 38ms/step - loss: 4.3433e-06\n",
      "Epoch 22/100\n",
      "\u001b[1m68/68\u001b[0m \u001b[32m━━━━━━━━━━━━━━━━━━━━\u001b[0m\u001b[37m\u001b[0m \u001b[1m3s\u001b[0m 38ms/step - loss: 3.2944e-06\n",
      "Epoch 23/100\n",
      "\u001b[1m68/68\u001b[0m \u001b[32m━━━━━━━━━━━━━━━━━━━━\u001b[0m\u001b[37m\u001b[0m \u001b[1m5s\u001b[0m 38ms/step - loss: 4.1840e-06\n",
      "Epoch 24/100\n",
      "\u001b[1m68/68\u001b[0m \u001b[32m━━━━━━━━━━━━━━━━━━━━\u001b[0m\u001b[37m\u001b[0m \u001b[1m3s\u001b[0m 39ms/step - loss: 2.9263e-06\n",
      "Epoch 25/100\n",
      "\u001b[1m68/68\u001b[0m \u001b[32m━━━━━━━━━━━━━━━━━━━━\u001b[0m\u001b[37m\u001b[0m \u001b[1m3s\u001b[0m 40ms/step - loss: 3.0779e-06\n",
      "Epoch 26/100\n",
      "\u001b[1m68/68\u001b[0m \u001b[32m━━━━━━━━━━━━━━━━━━━━\u001b[0m\u001b[37m\u001b[0m \u001b[1m3s\u001b[0m 38ms/step - loss: 3.7199e-06\n",
      "Epoch 27/100\n",
      "\u001b[1m68/68\u001b[0m \u001b[32m━━━━━━━━━━━━━━━━━━━━\u001b[0m\u001b[37m\u001b[0m \u001b[1m3s\u001b[0m 37ms/step - loss: 3.4682e-06\n",
      "Epoch 28/100\n",
      "\u001b[1m68/68\u001b[0m \u001b[32m━━━━━━━━━━━━━━━━━━━━\u001b[0m\u001b[37m\u001b[0m \u001b[1m3s\u001b[0m 39ms/step - loss: 2.4441e-06\n",
      "Epoch 29/100\n",
      "\u001b[1m68/68\u001b[0m \u001b[32m━━━━━━━━━━━━━━━━━━━━\u001b[0m\u001b[37m\u001b[0m \u001b[1m3s\u001b[0m 39ms/step - loss: 3.1404e-06\n",
      "Epoch 30/100\n",
      "\u001b[1m68/68\u001b[0m \u001b[32m━━━━━━━━━━━━━━━━━━━━\u001b[0m\u001b[37m\u001b[0m \u001b[1m3s\u001b[0m 39ms/step - loss: 2.9358e-06\n",
      "Epoch 31/100\n",
      "\u001b[1m68/68\u001b[0m \u001b[32m━━━━━━━━━━━━━━━━━━━━\u001b[0m\u001b[37m\u001b[0m \u001b[1m3s\u001b[0m 38ms/step - loss: 2.3160e-06\n",
      "Epoch 32/100\n",
      "\u001b[1m68/68\u001b[0m \u001b[32m━━━━━━━━━━━━━━━━━━━━\u001b[0m\u001b[37m\u001b[0m \u001b[1m3s\u001b[0m 38ms/step - loss: 2.4873e-06\n",
      "Epoch 33/100\n",
      "\u001b[1m68/68\u001b[0m \u001b[32m━━━━━━━━━━━━━━━━━━━━\u001b[0m\u001b[37m\u001b[0m \u001b[1m3s\u001b[0m 38ms/step - loss: 3.3137e-06\n",
      "Epoch 34/100\n",
      "\u001b[1m68/68\u001b[0m \u001b[32m━━━━━━━━━━━━━━━━━━━━\u001b[0m\u001b[37m\u001b[0m \u001b[1m3s\u001b[0m 38ms/step - loss: 2.1982e-06\n",
      "Epoch 35/100\n",
      "\u001b[1m68/68\u001b[0m \u001b[32m━━━━━━━━━━━━━━━━━━━━\u001b[0m\u001b[37m\u001b[0m \u001b[1m3s\u001b[0m 38ms/step - loss: 2.3365e-06\n",
      "Epoch 36/100\n",
      "\u001b[1m68/68\u001b[0m \u001b[32m━━━━━━━━━━━━━━━━━━━━\u001b[0m\u001b[37m\u001b[0m \u001b[1m3s\u001b[0m 38ms/step - loss: 2.1998e-06\n",
      "Epoch 37/100\n",
      "\u001b[1m68/68\u001b[0m \u001b[32m━━━━━━━━━━━━━━━━━━━━\u001b[0m\u001b[37m\u001b[0m \u001b[1m3s\u001b[0m 41ms/step - loss: 2.6639e-06\n",
      "Epoch 38/100\n",
      "\u001b[1m68/68\u001b[0m \u001b[32m━━━━━━━━━━━━━━━━━━━━\u001b[0m\u001b[37m\u001b[0m \u001b[1m3s\u001b[0m 39ms/step - loss: 1.9283e-06\n",
      "Epoch 39/100\n",
      "\u001b[1m68/68\u001b[0m \u001b[32m━━━━━━━━━━━━━━━━━━━━\u001b[0m\u001b[37m\u001b[0m \u001b[1m5s\u001b[0m 38ms/step - loss: 2.1465e-06\n",
      "Epoch 40/100\n",
      "\u001b[1m68/68\u001b[0m \u001b[32m━━━━━━━━━━━━━━━━━━━━\u001b[0m\u001b[37m\u001b[0m \u001b[1m3s\u001b[0m 39ms/step - loss: 4.7291e-06\n",
      "Epoch 41/100\n",
      "\u001b[1m68/68\u001b[0m \u001b[32m━━━━━━━━━━━━━━━━━━━━\u001b[0m\u001b[37m\u001b[0m \u001b[1m3s\u001b[0m 38ms/step - loss: 1.8390e-06\n",
      "Epoch 42/100\n",
      "\u001b[1m68/68\u001b[0m \u001b[32m━━━━━━━━━━━━━━━━━━━━\u001b[0m\u001b[37m\u001b[0m \u001b[1m3s\u001b[0m 38ms/step - loss: 2.5259e-06\n",
      "Epoch 43/100\n",
      "\u001b[1m68/68\u001b[0m \u001b[32m━━━━━━━━━━━━━━━━━━━━\u001b[0m\u001b[37m\u001b[0m \u001b[1m3s\u001b[0m 39ms/step - loss: 2.5209e-06\n",
      "Epoch 44/100\n",
      "\u001b[1m68/68\u001b[0m \u001b[32m━━━━━━━━━━━━━━━━━━━━\u001b[0m\u001b[37m\u001b[0m \u001b[1m3s\u001b[0m 40ms/step - loss: 2.0828e-06\n",
      "Epoch 45/100\n",
      "\u001b[1m68/68\u001b[0m \u001b[32m━━━━━━━━━━━━━━━━━━━━\u001b[0m\u001b[37m\u001b[0m \u001b[1m3s\u001b[0m 38ms/step - loss: 2.1317e-06\n",
      "Epoch 46/100\n",
      "\u001b[1m68/68\u001b[0m \u001b[32m━━━━━━━━━━━━━━━━━━━━\u001b[0m\u001b[37m\u001b[0m \u001b[1m3s\u001b[0m 38ms/step - loss: 2.2020e-06\n",
      "Epoch 47/100\n",
      "\u001b[1m68/68\u001b[0m \u001b[32m━━━━━━━━━━━━━━━━━━━━\u001b[0m\u001b[37m\u001b[0m \u001b[1m5s\u001b[0m 40ms/step - loss: 2.0092e-06\n",
      "Epoch 48/100\n",
      "\u001b[1m68/68\u001b[0m \u001b[32m━━━━━━━━━━━━━━━━━━━━\u001b[0m\u001b[37m\u001b[0m \u001b[1m3s\u001b[0m 38ms/step - loss: 1.7668e-06\n",
      "Epoch 49/100\n",
      "\u001b[1m68/68\u001b[0m \u001b[32m━━━━━━━━━━━━━━━━━━━━\u001b[0m\u001b[37m\u001b[0m \u001b[1m3s\u001b[0m 38ms/step - loss: 1.7793e-06\n",
      "Epoch 50/100\n",
      "\u001b[1m68/68\u001b[0m \u001b[32m━━━━━━━━━━━━━━━━━━━━\u001b[0m\u001b[37m\u001b[0m \u001b[1m3s\u001b[0m 38ms/step - loss: 1.8168e-06\n",
      "Epoch 51/100\n",
      "\u001b[1m68/68\u001b[0m \u001b[32m━━━━━━━━━━━━━━━━━━━━\u001b[0m\u001b[37m\u001b[0m \u001b[1m3s\u001b[0m 38ms/step - loss: 2.2528e-06\n",
      "Epoch 52/100\n",
      "\u001b[1m68/68\u001b[0m \u001b[32m━━━━━━━━━━━━━━━━━━━━\u001b[0m\u001b[37m\u001b[0m \u001b[1m3s\u001b[0m 38ms/step - loss: 1.9124e-06\n",
      "Epoch 53/100\n",
      "\u001b[1m68/68\u001b[0m \u001b[32m━━━━━━━━━━━━━━━━━━━━\u001b[0m\u001b[37m\u001b[0m \u001b[1m3s\u001b[0m 38ms/step - loss: 1.5750e-06\n",
      "Epoch 54/100\n",
      "\u001b[1m68/68\u001b[0m \u001b[32m━━━━━━━━━━━━━━━━━━━━\u001b[0m\u001b[37m\u001b[0m \u001b[1m3s\u001b[0m 38ms/step - loss: 2.9180e-06\n",
      "Epoch 55/100\n",
      "\u001b[1m68/68\u001b[0m \u001b[32m━━━━━━━━━━━━━━━━━━━━\u001b[0m\u001b[37m\u001b[0m \u001b[1m3s\u001b[0m 38ms/step - loss: 2.0605e-06\n",
      "Epoch 56/100\n",
      "\u001b[1m68/68\u001b[0m \u001b[32m━━━━━━━━━━━━━━━━━━━━\u001b[0m\u001b[37m\u001b[0m \u001b[1m3s\u001b[0m 38ms/step - loss: 1.7573e-06\n",
      "Epoch 57/100\n",
      "\u001b[1m68/68\u001b[0m \u001b[32m━━━━━━━━━━━━━━━━━━━━\u001b[0m\u001b[37m\u001b[0m \u001b[1m3s\u001b[0m 38ms/step - loss: 1.5086e-06\n",
      "Epoch 58/100\n",
      "\u001b[1m68/68\u001b[0m \u001b[32m━━━━━━━━━━━━━━━━━━━━\u001b[0m\u001b[37m\u001b[0m \u001b[1m3s\u001b[0m 39ms/step - loss: 2.4925e-06\n",
      "Epoch 59/100\n",
      "\u001b[1m68/68\u001b[0m \u001b[32m━━━━━━━━━━━━━━━━━━━━\u001b[0m\u001b[37m\u001b[0m \u001b[1m3s\u001b[0m 39ms/step - loss: 1.8558e-06\n",
      "Epoch 60/100\n",
      "\u001b[1m68/68\u001b[0m \u001b[32m━━━━━━━━━━━━━━━━━━━━\u001b[0m\u001b[37m\u001b[0m \u001b[1m5s\u001b[0m 38ms/step - loss: 1.8196e-06\n",
      "Epoch 61/100\n",
      "\u001b[1m68/68\u001b[0m \u001b[32m━━━━━━━━━━━━━━━━━━━━\u001b[0m\u001b[37m\u001b[0m \u001b[1m3s\u001b[0m 39ms/step - loss: 2.3439e-06\n",
      "Epoch 62/100\n",
      "\u001b[1m68/68\u001b[0m \u001b[32m━━━━━━━━━━━━━━━━━━━━\u001b[0m\u001b[37m\u001b[0m \u001b[1m3s\u001b[0m 38ms/step - loss: 2.0082e-06\n",
      "Epoch 63/100\n",
      "\u001b[1m68/68\u001b[0m \u001b[32m━━━━━━━━━━━━━━━━━━━━\u001b[0m\u001b[37m\u001b[0m \u001b[1m3s\u001b[0m 38ms/step - loss: 1.7155e-06\n",
      "Epoch 64/100\n",
      "\u001b[1m68/68\u001b[0m \u001b[32m━━━━━━━━━━━━━━━━━━━━\u001b[0m\u001b[37m\u001b[0m \u001b[1m5s\u001b[0m 38ms/step - loss: 1.8981e-06\n",
      "Epoch 65/100\n",
      "\u001b[1m68/68\u001b[0m \u001b[32m━━━━━━━━━━━━━━━━━━━━\u001b[0m\u001b[37m\u001b[0m \u001b[1m3s\u001b[0m 38ms/step - loss: 2.4351e-06\n",
      "Epoch 66/100\n",
      "\u001b[1m68/68\u001b[0m \u001b[32m━━━━━━━━━━━━━━━━━━━━\u001b[0m\u001b[37m\u001b[0m \u001b[1m3s\u001b[0m 38ms/step - loss: 2.1032e-06\n",
      "Epoch 67/100\n",
      "\u001b[1m68/68\u001b[0m \u001b[32m━━━━━━━━━━━━━━━━━━━━\u001b[0m\u001b[37m\u001b[0m \u001b[1m3s\u001b[0m 38ms/step - loss: 2.3679e-06\n"
     ]
    }
   ],
   "source": [
    "callbacks = [EarlyStopping(monitor= 'loss', patience= 10 , restore_best_weights= True)]\n",
    "history = model_LSTM.fit(x_train, y_train, epochs= 100, batch_size= 32 , callbacks= callbacks )"
   ]
  },
  {
   "cell_type": "markdown",
   "id": "30d915af",
   "metadata": {
    "papermill": {
     "duration": 0.173383,
     "end_time": "2024-09-19T10:05:46.776983",
     "exception": false,
     "start_time": "2024-09-19T10:05:46.603600",
     "status": "completed"
    },
    "tags": []
   },
   "source": [
    "### Model Evaluation"
   ]
  },
  {
   "cell_type": "code",
   "execution_count": 26,
   "id": "e8174244",
   "metadata": {
    "execution": {
     "iopub.execute_input": "2024-09-19T10:05:47.142817Z",
     "iopub.status.busy": "2024-09-19T10:05:47.141653Z",
     "iopub.status.idle": "2024-09-19T10:05:47.519866Z",
     "shell.execute_reply": "2024-09-19T10:05:47.518870Z"
    },
    "papermill": {
     "duration": 0.571153,
     "end_time": "2024-09-19T10:05:47.522255",
     "exception": false,
     "start_time": "2024-09-19T10:05:46.951102",
     "status": "completed"
    },
    "tags": []
   },
   "outputs": [
    {
     "data": {
      "image/png": "[encoded data removed]",
      "text/plain": [
       "<Figure size 640x480 with 1 Axes>"
      ]
     },
     "metadata": {},
     "output_type": "display_data"
    }
   ],
   "source": [
    "plt.plot(history.history[\"loss\"])\n",
    "plt.legend(['Mean Squared Error'])\n",
    "plt.title(\"Losses\")\n",
    "plt.xlabel(\"epochs\")\n",
    "plt.ylabel(\"loss\")\n",
    "plt.show()"
   ]
  },
  {
   "cell_type": "markdown",
   "id": "cdb6373b",
   "metadata": {
    "papermill": {
     "duration": 0.173933,
     "end_time": "2024-09-19T10:05:47.869274",
     "exception": false,
     "start_time": "2024-09-19T10:05:47.695341",
     "status": "completed"
    },
    "tags": []
   },
   "source": [
    "# Predection"
   ]
  },
  {
   "cell_type": "code",
   "execution_count": 27,
   "id": "faa59274",
   "metadata": {
    "execution": {
     "iopub.execute_input": "2024-09-19T10:05:48.214546Z",
     "iopub.status.busy": "2024-09-19T10:05:48.213780Z",
     "iopub.status.idle": "2024-09-19T10:05:48.220993Z",
     "shell.execute_reply": "2024-09-19T10:05:48.220192Z"
    },
    "papermill": {
     "duration": 0.181679,
     "end_time": "2024-09-19T10:05:48.222908",
     "exception": false,
     "start_time": "2024-09-19T10:05:48.041229",
     "status": "completed"
    },
    "tags": []
   },
   "outputs": [],
   "source": [
    "x_test = []\n",
    "y_test = []\n",
    "\n",
    "for i in range(60, len(test_data)):\n",
    "    x_test.append(test_data[i-60:i, 0])\n",
    "    y_test.append(test_data[i, 0])\n",
    "x_test, y_test = np.array(x_test), np.array(y_test)\n",
    "x_test = np.reshape(x_test, (x_test.shape[0], x_test.shape[1], 1))"
   ]
  },
  {
   "cell_type": "code",
   "execution_count": 28,
   "id": "5c10dbf1",
   "metadata": {
    "execution": {
     "iopub.execute_input": "2024-09-19T10:05:48.621338Z",
     "iopub.status.busy": "2024-09-19T10:05:48.620905Z",
     "iopub.status.idle": "2024-09-19T10:05:48.627666Z",
     "shell.execute_reply": "2024-09-19T10:05:48.626641Z"
    },
    "papermill": {
     "duration": 0.182056,
     "end_time": "2024-09-19T10:05:48.629651",
     "exception": false,
     "start_time": "2024-09-19T10:05:48.447595",
     "status": "completed"
    },
    "tags": []
   },
   "outputs": [
    {
     "data": {
      "text/plain": [
       "((739, 60, 1), (739,))"
      ]
     },
     "execution_count": 28,
     "metadata": {},
     "output_type": "execute_result"
    }
   ],
   "source": [
    "x_test.shape , y_test.shape"
   ]
  },
  {
   "cell_type": "code",
   "execution_count": 29,
   "id": "428ce194",
   "metadata": {
    "execution": {
     "iopub.execute_input": "2024-09-19T10:05:48.979627Z",
     "iopub.status.busy": "2024-09-19T10:05:48.978698Z",
     "iopub.status.idle": "2024-09-19T10:05:49.956569Z",
     "shell.execute_reply": "2024-09-19T10:05:49.955652Z"
    },
    "papermill": {
     "duration": 1.154182,
     "end_time": "2024-09-19T10:05:49.959032",
     "exception": false,
     "start_time": "2024-09-19T10:05:48.804850",
     "status": "completed"
    },
    "tags": []
   },
   "outputs": [
    {
     "name": "stdout",
     "output_type": "stream",
     "text": [
      "\u001b[1m24/24\u001b[0m \u001b[32m━━━━━━━━━━━━━━━━━━━━\u001b[0m\u001b[37m\u001b[0m \u001b[1m1s\u001b[0m 27ms/step\n"
     ]
    }
   ],
   "source": [
    "predictions = model_LSTM.predict(x_test)"
   ]
  },
  {
   "cell_type": "code",
   "execution_count": 30,
   "id": "38f08e03",
   "metadata": {
    "collapsed": true,
    "execution": {
     "iopub.execute_input": "2024-09-19T10:05:50.304107Z",
     "iopub.status.busy": "2024-09-19T10:05:50.303582Z",
     "iopub.status.idle": "2024-09-19T10:05:50.322105Z",
     "shell.execute_reply": "2024-09-19T10:05:50.321006Z"
    },
    "jupyter": {
     "outputs_hidden": true
    },
    "papermill": {
     "duration": 0.193966,
     "end_time": "2024-09-19T10:05:50.324246",
     "exception": false,
     "start_time": "2024-09-19T10:05:50.130280",
     "status": "completed"
    },
    "tags": []
   },
   "outputs": [
    {
     "data": {
      "text/plain": [
       "array([[0.04055684],\n",
       "       [0.03973215],\n",
       "       [0.03919295],\n",
       "       [0.03853499],\n",
       "       [0.03723935],\n",
       "       [0.03540665],\n",
       "       [0.03500852],\n",
       "       [0.03494591],\n",
       "       [0.03463339],\n",
       "       [0.03534805],\n",
       "       [0.0368882 ],\n",
       "       [0.03782156],\n",
       "       [0.0373619 ],\n",
       "       [0.03657872],\n",
       "       [0.03583512],\n",
       "       [0.03525781],\n",
       "       [0.03392928],\n",
       "       [0.03362093],\n",
       "       [0.03370394],\n",
       "       [0.03355145],\n",
       "       [0.03192988],\n",
       "       [0.03034756],\n",
       "       [0.02960118],\n",
       "       [0.02838941],\n",
       "       [0.02800122],\n",
       "       [0.02761363],\n",
       "       [0.02729361],\n",
       "       [0.02727557],\n",
       "       [0.02719478],\n",
       "       [0.02686765],\n",
       "       [0.0260988 ],\n",
       "       [0.02690788],\n",
       "       [0.02789753],\n",
       "       [0.02921901],\n",
       "       [0.02975675],\n",
       "       [0.03052167],\n",
       "       [0.03124759],\n",
       "       [0.03084315],\n",
       "       [0.0307652 ],\n",
       "       [0.03086272],\n",
       "       [0.03183362],\n",
       "       [0.03246707],\n",
       "       [0.03283964],\n",
       "       [0.03234575],\n",
       "       [0.03210231],\n",
       "       [0.03219691],\n",
       "       [0.03198927],\n",
       "       [0.03179703],\n",
       "       [0.03203862],\n",
       "       [0.03232091],\n",
       "       [0.03280233],\n",
       "       [0.03284682],\n",
       "       [0.03367466],\n",
       "       [0.03407223],\n",
       "       [0.03390818],\n",
       "       [0.03365976],\n",
       "       [0.03428848],\n",
       "       [0.0347522 ],\n",
       "       [0.03550505],\n",
       "       [0.03665667],\n",
       "       [0.03717585],\n",
       "       [0.03747189],\n",
       "       [0.03741445],\n",
       "       [0.03769357],\n",
       "       [0.0376706 ],\n",
       "       [0.03798703],\n",
       "       [0.03863023],\n",
       "       [0.03584415],\n",
       "       [0.03369609],\n",
       "       [0.03352676],\n",
       "       [0.0345346 ],\n",
       "       [0.03529489],\n",
       "       [0.03495524],\n",
       "       [0.03458972],\n",
       "       [0.03386642],\n",
       "       [0.03365136],\n",
       "       [0.03390059],\n",
       "       [0.03456038],\n",
       "       [0.03467683],\n",
       "       [0.03407131],\n",
       "       [0.03413032],\n",
       "       [0.03294317],\n",
       "       [0.03175437],\n",
       "       [0.03157984],\n",
       "       [0.03236099],\n",
       "       [0.03289271],\n",
       "       [0.03265867],\n",
       "       [0.03248069],\n",
       "       [0.03144619],\n",
       "       [0.03107337],\n",
       "       [0.03096733],\n",
       "       [0.03112676],\n",
       "       [0.03181339],\n",
       "       [0.03260333],\n",
       "       [0.0329375 ],\n",
       "       [0.03258724],\n",
       "       [0.03301993],\n",
       "       [0.0331902 ],\n",
       "       [0.03358234],\n",
       "       [0.03413428],\n",
       "       [0.03543576],\n",
       "       [0.03609487],\n",
       "       [0.03617892],\n",
       "       [0.03584548],\n",
       "       [0.03574358],\n",
       "       [0.03562605],\n",
       "       [0.03584919],\n",
       "       [0.0355195 ],\n",
       "       [0.03530844],\n",
       "       [0.03366435],\n",
       "       [0.033069  ],\n",
       "       [0.03427151],\n",
       "       [0.03525005],\n",
       "       [0.03557611],\n",
       "       [0.03590688],\n",
       "       [0.03589884],\n",
       "       [0.03490472],\n",
       "       [0.03405371],\n",
       "       [0.03423436],\n",
       "       [0.0347762 ],\n",
       "       [0.03553082],\n",
       "       [0.03596047],\n",
       "       [0.03635689],\n",
       "       [0.03731215],\n",
       "       [0.03794661],\n",
       "       [0.03831115],\n",
       "       [0.03858561],\n",
       "       [0.03822612],\n",
       "       [0.03759303],\n",
       "       [0.03741078],\n",
       "       [0.03736052],\n",
       "       [0.04134659],\n",
       "       [0.0466507 ],\n",
       "       [0.0493902 ],\n",
       "       [0.04898814],\n",
       "       [0.04783123],\n",
       "       [0.04699085],\n",
       "       [0.04648751],\n",
       "       [0.04671576],\n",
       "       [0.04701872],\n",
       "       [0.04805699],\n",
       "       [0.0495406 ],\n",
       "       [0.05050291],\n",
       "       [0.05153244],\n",
       "       [0.05243182],\n",
       "       [0.05246004],\n",
       "       [0.05253062],\n",
       "       [0.05279838],\n",
       "       [0.05277329],\n",
       "       [0.05353821],\n",
       "       [0.05344465],\n",
       "       [0.05344728],\n",
       "       [0.05156175],\n",
       "       [0.05055301],\n",
       "       [0.04965299],\n",
       "       [0.04952002],\n",
       "       [0.04957068],\n",
       "       [0.05011806],\n",
       "       [0.0506315 ],\n",
       "       [0.05059299],\n",
       "       [0.05020287],\n",
       "       [0.05040373],\n",
       "       [0.05093674],\n",
       "       [0.05207222],\n",
       "       [0.05306687],\n",
       "       [0.05408969],\n",
       "       [0.05442359],\n",
       "       [0.05640958],\n",
       "       [0.05745254],\n",
       "       [0.05893439],\n",
       "       [0.06063225],\n",
       "       [0.0615654 ],\n",
       "       [0.06297556],\n",
       "       [0.06422447],\n",
       "       [0.06523513],\n",
       "       [0.06557111],\n",
       "       [0.06417322],\n",
       "       [0.06343049],\n",
       "       [0.06429134],\n",
       "       [0.06622718],\n",
       "       [0.06817684],\n",
       "       [0.07064576],\n",
       "       [0.07391749],\n",
       "       [0.07463054],\n",
       "       [0.07402492],\n",
       "       [0.07744447],\n",
       "       [0.08105081],\n",
       "       [0.08105782],\n",
       "       [0.0797424 ],\n",
       "       [0.07849393],\n",
       "       [0.08112665],\n",
       "       [0.08523808],\n",
       "       [0.08777819],\n",
       "       [0.08794979],\n",
       "       [0.08682809],\n",
       "       [0.08672236],\n",
       "       [0.08812018],\n",
       "       [0.0943733 ],\n",
       "       [0.09927528],\n",
       "       [0.11252651],\n",
       "       [0.1297847 ],\n",
       "       [0.12526976],\n",
       "       [0.11903981],\n",
       "       [0.11521862],\n",
       "       [0.11589839],\n",
       "       [0.11764095],\n",
       "       [0.11828854],\n",
       "       [0.12170449],\n",
       "       [0.12369315],\n",
       "       [0.12943938],\n",
       "       [0.13809447],\n",
       "       [0.14117566],\n",
       "       [0.141332  ],\n",
       "       [0.1346884 ],\n",
       "       [0.12694937],\n",
       "       [0.12124951],\n",
       "       [0.11056124],\n",
       "       [0.10379737],\n",
       "       [0.10850037],\n",
       "       [0.11388928],\n",
       "       [0.11722236],\n",
       "       [0.11618631],\n",
       "       [0.11275288],\n",
       "       [0.10211615],\n",
       "       [0.09868158],\n",
       "       [0.09778608],\n",
       "       [0.09170046],\n",
       "       [0.08662271],\n",
       "       [0.07571769],\n",
       "       [0.06815997],\n",
       "       [0.05954577],\n",
       "       [0.06138361],\n",
       "       [0.06488392],\n",
       "       [0.06770987],\n",
       "       [0.07507721],\n",
       "       [0.08239093],\n",
       "       [0.08456133],\n",
       "       [0.08282315],\n",
       "       [0.07966025],\n",
       "       [0.07949887],\n",
       "       [0.07627339],\n",
       "       [0.07169966],\n",
       "       [0.07153886],\n",
       "       [0.0757575 ],\n",
       "       [0.08143222],\n",
       "       [0.08478122],\n",
       "       [0.08786961],\n",
       "       [0.09591344],\n",
       "       [0.10576727],\n",
       "       [0.11231864],\n",
       "       [0.1156804 ],\n",
       "       [0.1169425 ],\n",
       "       [0.11611357],\n",
       "       [0.10988154],\n",
       "       [0.10965437],\n",
       "       [0.10869637],\n",
       "       [0.11000363],\n",
       "       [0.11773627],\n",
       "       [0.12037947],\n",
       "       [0.12324245],\n",
       "       [0.12291986],\n",
       "       [0.11493414],\n",
       "       [0.11460306],\n",
       "       [0.11682714],\n",
       "       [0.11985928],\n",
       "       [0.12134869],\n",
       "       [0.12514493],\n",
       "       [0.12669407],\n",
       "       [0.12667665],\n",
       "       [0.12460821],\n",
       "       [0.12418048],\n",
       "       [0.12397662],\n",
       "       [0.12523314],\n",
       "       [0.12571354],\n",
       "       [0.1264577 ],\n",
       "       [0.12792324],\n",
       "       [0.12784015],\n",
       "       [0.12760985],\n",
       "       [0.1275645 ],\n",
       "       [0.12632716],\n",
       "       [0.12802659],\n",
       "       [0.13498786],\n",
       "       [0.13801444],\n",
       "       [0.13860324],\n",
       "       [0.13656089],\n",
       "       [0.13672294],\n",
       "       [0.14281043],\n",
       "       [0.14620131],\n",
       "       [0.15446195],\n",
       "       [0.15479964],\n",
       "       [0.1497563 ],\n",
       "       [0.15080512],\n",
       "       [0.15186095],\n",
       "       [0.15326065],\n",
       "       [0.1551044 ],\n",
       "       [0.15584123],\n",
       "       [0.15538034],\n",
       "       [0.15553662],\n",
       "       [0.15221909],\n",
       "       [0.15208669],\n",
       "       [0.15053326],\n",
       "       [0.15387484],\n",
       "       [0.16271278],\n",
       "       [0.1715614 ],\n",
       "       [0.18327002],\n",
       "       [0.2030961 ],\n",
       "       [0.21537966],\n",
       "       [0.21685606],\n",
       "       [0.21684834],\n",
       "       [0.22875163],\n",
       "       [0.23273847],\n",
       "       [0.23433396],\n",
       "       [0.23684183],\n",
       "       [0.23431313],\n",
       "       [0.23201013],\n",
       "       [0.24311438],\n",
       "       [0.24526215],\n",
       "       [0.24639082],\n",
       "       [0.23996887],\n",
       "       [0.22706282],\n",
       "       [0.23002079],\n",
       "       [0.22994766],\n",
       "       [0.23150197],\n",
       "       [0.23182553],\n",
       "       [0.22698873],\n",
       "       [0.22819206],\n",
       "       [0.23034127],\n",
       "       [0.23146008],\n",
       "       [0.23213476],\n",
       "       [0.22916436],\n",
       "       [0.22397137],\n",
       "       [0.21723709],\n",
       "       [0.22914413],\n",
       "       [0.2447023 ],\n",
       "       [0.25540608],\n",
       "       [0.27461362],\n",
       "       [0.2893831 ],\n",
       "       [0.29403305],\n",
       "       [0.3034165 ],\n",
       "       [0.31227088],\n",
       "       [0.3129369 ],\n",
       "       [0.31174213],\n",
       "       [0.32118723],\n",
       "       [0.3350705 ],\n",
       "       [0.34064165],\n",
       "       [0.36382428],\n",
       "       [0.36934122],\n",
       "       [0.3563934 ],\n",
       "       [0.32892197],\n",
       "       [0.3168731 ],\n",
       "       [0.27861366],\n",
       "       [0.27035075],\n",
       "       [0.27666986],\n",
       "       [0.28480667],\n",
       "       [0.3093834 ],\n",
       "       [0.3372953 ],\n",
       "       [0.3476947 ],\n",
       "       [0.34033936],\n",
       "       [0.3393177 ],\n",
       "       [0.34245983],\n",
       "       [0.33427048],\n",
       "       [0.3094981 ],\n",
       "       [0.29693535],\n",
       "       [0.3023572 ],\n",
       "       [0.31549352],\n",
       "       [0.32318705],\n",
       "       [0.3298707 ],\n",
       "       [0.3404966 ],\n",
       "       [0.33261728],\n",
       "       [0.32853585],\n",
       "       [0.3223503 ],\n",
       "       [0.3235204 ],\n",
       "       [0.32612965],\n",
       "       [0.33117223],\n",
       "       [0.3376056 ],\n",
       "       [0.34273458],\n",
       "       [0.35070512],\n",
       "       [0.349896  ],\n",
       "       [0.34346563],\n",
       "       [0.3352452 ],\n",
       "       [0.3272129 ],\n",
       "       [0.3238895 ],\n",
       "       [0.32501593],\n",
       "       [0.324809  ],\n",
       "       [0.32452637],\n",
       "       [0.32632947],\n",
       "       [0.32005048],\n",
       "       [0.3171984 ],\n",
       "       [0.30722964],\n",
       "       [0.30612612],\n",
       "       [0.317477  ],\n",
       "       [0.324685  ],\n",
       "       [0.3341966 ],\n",
       "       [0.33568072],\n",
       "       [0.33062077],\n",
       "       [0.32184666],\n",
       "       [0.31939662],\n",
       "       [0.31751278],\n",
       "       [0.3155883 ],\n",
       "       [0.31469387],\n",
       "       [0.3284797 ],\n",
       "       [0.35681757],\n",
       "       [0.37858897],\n",
       "       [0.38319024],\n",
       "       [0.39348367],\n",
       "       [0.4121679 ],\n",
       "       [0.42975846],\n",
       "       [0.44201702],\n",
       "       [0.43907753],\n",
       "       [0.44008613],\n",
       "       [0.43491632],\n",
       "       [0.4403754 ],\n",
       "       [0.44784912],\n",
       "       [0.4685878 ],\n",
       "       [0.48498946],\n",
       "       [0.4746645 ],\n",
       "       [0.47143292],\n",
       "       [0.464697  ],\n",
       "       [0.4719857 ],\n",
       "       [0.47654918],\n",
       "       [0.47433197],\n",
       "       [0.4843501 ],\n",
       "       [0.5069028 ],\n",
       "       [0.50401413],\n",
       "       [0.49261773],\n",
       "       [0.4866923 ],\n",
       "       [0.49095196],\n",
       "       [0.49633795],\n",
       "       [0.50030804],\n",
       "       [0.51280284],\n",
       "       [0.5249957 ],\n",
       "       [0.53968245],\n",
       "       [0.5492229 ],\n",
       "       [0.55990195],\n",
       "       [0.5865214 ],\n",
       "       [0.62546897],\n",
       "       [0.62416846],\n",
       "       [0.62597054],\n",
       "       [0.628541  ],\n",
       "       [0.62625587],\n",
       "       [0.6170604 ],\n",
       "       [0.61693573],\n",
       "       [0.62136585],\n",
       "       [0.6231647 ],\n",
       "       [0.62427086],\n",
       "       [0.6366356 ],\n",
       "       [0.64662004],\n",
       "       [0.64470285],\n",
       "       [0.630664  ],\n",
       "       [0.60543215],\n",
       "       [0.6060055 ],\n",
       "       [0.6245692 ],\n",
       "       [0.63259685],\n",
       "       [0.63275594],\n",
       "       [0.63159794],\n",
       "       [0.6343424 ],\n",
       "       [0.63174367],\n",
       "       [0.61339366],\n",
       "       [0.60233086],\n",
       "       [0.6002481 ],\n",
       "       [0.5947038 ],\n",
       "       [0.592125  ],\n",
       "       [0.5880506 ],\n",
       "       [0.5837094 ],\n",
       "       [0.55744654],\n",
       "       [0.53310585],\n",
       "       [0.53789186],\n",
       "       [0.52576417],\n",
       "       [0.51373255],\n",
       "       [0.5243911 ],\n",
       "       [0.5234964 ],\n",
       "       [0.50800854],\n",
       "       [0.48470712],\n",
       "       [0.46230885],\n",
       "       [0.438277  ],\n",
       "       [0.4699198 ],\n",
       "       [0.49664253],\n",
       "       [0.5207472 ],\n",
       "       [0.52948993],\n",
       "       [0.53460276],\n",
       "       [0.5238092 ],\n",
       "       [0.5229681 ],\n",
       "       [0.5063138 ],\n",
       "       [0.49463463],\n",
       "       [0.49596506],\n",
       "       [0.49720412],\n",
       "       [0.4861464 ],\n",
       "       [0.4819256 ],\n",
       "       [0.47347295],\n",
       "       [0.4657667 ],\n",
       "       [0.4718704 ],\n",
       "       [0.4907261 ],\n",
       "       [0.5007535 ],\n",
       "       [0.5144632 ],\n",
       "       [0.52187926],\n",
       "       [0.5158111 ],\n",
       "       [0.5137433 ],\n",
       "       [0.51073116],\n",
       "       [0.5181619 ],\n",
       "       [0.54654247],\n",
       "       [0.5546622 ],\n",
       "       [0.55605626],\n",
       "       [0.5549965 ],\n",
       "       [0.5442502 ],\n",
       "       [0.53782177],\n",
       "       [0.54490757],\n",
       "       [0.54298943],\n",
       "       [0.5436397 ],\n",
       "       [0.547964  ],\n",
       "       [0.5388291 ],\n",
       "       [0.5271814 ],\n",
       "       [0.51434314],\n",
       "       [0.520071  ],\n",
       "       [0.5185932 ],\n",
       "       [0.51223505],\n",
       "       [0.50710607],\n",
       "       [0.5022182 ],\n",
       "       [0.5033636 ],\n",
       "       [0.4891298 ],\n",
       "       [0.4739957 ],\n",
       "       [0.45599025],\n",
       "       [0.43977755],\n",
       "       [0.43997937],\n",
       "       [0.4395565 ],\n",
       "       [0.4401583 ],\n",
       "       [0.43533373],\n",
       "       [0.44093686],\n",
       "       [0.44375783],\n",
       "       [0.45430142],\n",
       "       [0.46032244],\n",
       "       [0.4674212 ],\n",
       "       [0.47520608],\n",
       "       [0.4765966 ],\n",
       "       [0.47483253],\n",
       "       [0.46565542],\n",
       "       [0.44667047],\n",
       "       [0.4452607 ],\n",
       "       [0.45144325],\n",
       "       [0.45610422],\n",
       "       [0.45646548],\n",
       "       [0.4600946 ],\n",
       "       [0.46250635],\n",
       "       [0.4663065 ],\n",
       "       [0.46130148],\n",
       "       [0.458733  ],\n",
       "       [0.4624831 ],\n",
       "       [0.46838716],\n",
       "       [0.47084242],\n",
       "       [0.47226402],\n",
       "       [0.48511866],\n",
       "       [0.50273144],\n",
       "       [0.5093409 ],\n",
       "       [0.51590896],\n",
       "       [0.51571286],\n",
       "       [0.5131596 ],\n",
       "       [0.51035815],\n",
       "       [0.5091594 ],\n",
       "       [0.5017424 ],\n",
       "       [0.49105582],\n",
       "       [0.48832798],\n",
       "       [0.49082685],\n",
       "       [0.50454414],\n",
       "       [0.50776315],\n",
       "       [0.5011679 ],\n",
       "       [0.49432525],\n",
       "       [0.48833376],\n",
       "       [0.4863797 ],\n",
       "       [0.4919666 ],\n",
       "       [0.49471128],\n",
       "       [0.49319535],\n",
       "       [0.48917103],\n",
       "       [0.49193567],\n",
       "       [0.49003154],\n",
       "       [0.4888225 ],\n",
       "       [0.49988675],\n",
       "       [0.5119206 ],\n",
       "       [0.5263613 ],\n",
       "       [0.5338547 ],\n",
       "       [0.5359409 ],\n",
       "       [0.5365587 ],\n",
       "       [0.5303775 ],\n",
       "       [0.53079903],\n",
       "       [0.5311543 ],\n",
       "       [0.530585  ],\n",
       "       [0.5355172 ],\n",
       "       [0.5375334 ],\n",
       "       [0.52642614],\n",
       "       [0.5100246 ],\n",
       "       [0.5094396 ],\n",
       "       [0.5074525 ],\n",
       "       [0.50908816],\n",
       "       [0.5208148 ],\n",
       "       [0.5299717 ],\n",
       "       [0.5348662 ],\n",
       "       [0.5323257 ],\n",
       "       [0.53290296],\n",
       "       [0.54065835],\n",
       "       [0.5478389 ],\n",
       "       [0.55054694],\n",
       "       [0.549998  ],\n",
       "       [0.5491452 ],\n",
       "       [0.55554926],\n",
       "       [0.5607971 ],\n",
       "       [0.5634665 ],\n",
       "       [0.5573442 ],\n",
       "       [0.5544425 ],\n",
       "       [0.5542835 ],\n",
       "       [0.5590769 ],\n",
       "       [0.5632207 ],\n",
       "       [0.5661136 ],\n",
       "       [0.556597  ],\n",
       "       [0.55204487],\n",
       "       [0.5555621 ],\n",
       "       [0.5600158 ],\n",
       "       [0.5701058 ],\n",
       "       [0.58262974],\n",
       "       [0.58448476],\n",
       "       [0.5838847 ],\n",
       "       [0.5805629 ],\n",
       "       [0.5778704 ],\n",
       "       [0.5788269 ],\n",
       "       [0.5798908 ],\n",
       "       [0.5813006 ],\n",
       "       [0.58604074],\n",
       "       [0.5863864 ],\n",
       "       [0.5877656 ],\n",
       "       [0.5935659 ],\n",
       "       [0.59942394],\n",
       "       [0.60488164],\n",
       "       [0.6160704 ],\n",
       "       [0.6323468 ],\n",
       "       [0.6396792 ],\n",
       "       [0.6414248 ],\n",
       "       [0.65012395],\n",
       "       [0.6612786 ],\n",
       "       [0.70527726],\n",
       "       [0.7337885 ],\n",
       "       [0.7507874 ],\n",
       "       [0.76838934],\n",
       "       [0.78839654],\n",
       "       [0.82689816],\n",
       "       [0.84168357],\n",
       "       [0.8549981 ],\n",
       "       [0.86593115],\n",
       "       [0.86864215],\n",
       "       [0.85069907],\n",
       "       [0.79290104],\n",
       "       [0.76256996],\n",
       "       [0.75308913],\n",
       "       [0.7451956 ],\n",
       "       [0.73630846],\n",
       "       [0.74567163],\n",
       "       [0.76678425],\n",
       "       [0.783627  ],\n",
       "       [0.8039582 ],\n",
       "       [0.82142425],\n",
       "       [0.8156172 ],\n",
       "       [0.8076381 ],\n",
       "       [0.791775  ],\n",
       "       [0.79723257],\n",
       "       [0.8081033 ],\n",
       "       [0.80068517],\n",
       "       [0.7886457 ],\n",
       "       [0.75926906],\n",
       "       [0.73676354],\n",
       "       [0.74068457],\n",
       "       [0.75566036],\n",
       "       [0.7465482 ],\n",
       "       [0.7399801 ],\n",
       "       [0.72098184],\n",
       "       [0.7050748 ],\n",
       "       [0.70348626],\n",
       "       [0.6904819 ],\n",
       "       [0.6830078 ],\n",
       "       [0.6699383 ],\n",
       "       [0.675086  ],\n",
       "       [0.70586336],\n",
       "       [0.7467053 ],\n",
       "       [0.7788048 ],\n",
       "       [0.7917274 ],\n",
       "       [0.7922982 ],\n",
       "       [0.7835207 ],\n",
       "       [0.77115   ],\n",
       "       [0.8061341 ],\n",
       "       [0.82234985],\n",
       "       [0.8081809 ],\n",
       "       [0.784747  ],\n",
       "       [0.7573062 ],\n",
       "       [0.7511879 ],\n",
       "       [0.7560477 ],\n",
       "       [0.77511644],\n",
       "       [0.76647484],\n",
       "       [0.76041603],\n",
       "       [0.7518843 ],\n",
       "       [0.7355497 ],\n",
       "       [0.7250705 ],\n",
       "       [0.7042129 ],\n",
       "       [0.6861976 ],\n",
       "       [0.67414373],\n",
       "       [0.67644787],\n",
       "       [0.6450382 ],\n",
       "       [0.6265602 ],\n",
       "       [0.6522453 ],\n",
       "       [0.6746671 ],\n",
       "       [0.67719495],\n",
       "       [0.66853106],\n",
       "       [0.67155445],\n",
       "       [0.6702678 ],\n",
       "       [0.67315745],\n",
       "       [0.6788816 ],\n",
       "       [0.6732838 ],\n",
       "       [0.6522434 ],\n",
       "       [0.64260757],\n",
       "       [0.6566068 ],\n",
       "       [0.67030203],\n",
       "       [0.6617558 ],\n",
       "       [0.64503825],\n",
       "       [0.6218446 ],\n",
       "       [0.5878724 ],\n",
       "       [0.5814848 ],\n",
       "       [0.58921   ],\n",
       "       [0.6187477 ],\n",
       "       [0.6372617 ],\n",
       "       [0.64939725],\n",
       "       [0.6397286 ],\n",
       "       [0.62818754],\n",
       "       [0.6093789 ],\n",
       "       [0.6046262 ],\n",
       "       [0.61798084],\n",
       "       [0.62234825],\n",
       "       [0.60754395],\n",
       "       [0.584822  ],\n",
       "       [0.58409244],\n",
       "       [0.603063  ],\n",
       "       [0.62868404],\n",
       "       [0.6549752 ],\n",
       "       [0.6736672 ],\n",
       "       [0.70477927],\n",
       "       [0.7249309 ]], dtype=float32)"
      ]
     },
     "execution_count": 30,
     "metadata": {},
     "output_type": "execute_result"
    }
   ],
   "source": [
    "predictions"
   ]
  },
  {
   "cell_type": "code",
   "execution_count": 31,
   "id": "237dd89c",
   "metadata": {
    "execution": {
     "iopub.execute_input": "2024-09-19T10:05:50.672224Z",
     "iopub.status.busy": "2024-09-19T10:05:50.671511Z",
     "iopub.status.idle": "2024-09-19T10:05:50.678315Z",
     "shell.execute_reply": "2024-09-19T10:05:50.677406Z"
    },
    "papermill": {
     "duration": 0.183127,
     "end_time": "2024-09-19T10:05:50.680375",
     "exception": false,
     "start_time": "2024-09-19T10:05:50.497248",
     "status": "completed"
    },
    "tags": []
   },
   "outputs": [
    {
     "data": {
      "text/plain": [
       "(739, 1)"
      ]
     },
     "execution_count": 31,
     "metadata": {},
     "output_type": "execute_result"
    }
   ],
   "source": [
    "predictions = scaler.inverse_transform(predictions)\n",
    "predictions.shape"
   ]
  },
  {
   "cell_type": "code",
   "execution_count": 32,
   "id": "9dd105fb",
   "metadata": {
    "collapsed": true,
    "execution": {
     "iopub.execute_input": "2024-09-19T10:05:51.029470Z",
     "iopub.status.busy": "2024-09-19T10:05:51.028779Z",
     "iopub.status.idle": "2024-09-19T10:05:51.044302Z",
     "shell.execute_reply": "2024-09-19T10:05:51.043377Z"
    },
    "jupyter": {
     "outputs_hidden": true
    },
    "papermill": {
     "duration": 0.191558,
     "end_time": "2024-09-19T10:05:51.046491",
     "exception": false,
     "start_time": "2024-09-19T10:05:50.854933",
     "status": "completed"
    },
    "tags": []
   },
   "outputs": [
    {
     "data": {
      "text/plain": [
       "array([[  52.91311 ],\n",
       "       [  51.901417],\n",
       "       [  51.239952],\n",
       "       [  50.432796],\n",
       "       [  48.84337 ],\n",
       "       [  46.595108],\n",
       "       [  46.106697],\n",
       "       [  46.029896],\n",
       "       [  45.64651 ],\n",
       "       [  46.523216],\n",
       "       [  48.4126  ],\n",
       "       [  49.557606],\n",
       "       [  48.993717],\n",
       "       [  48.032944],\n",
       "       [  47.120735],\n",
       "       [  46.41252 ],\n",
       "       [  44.782745],\n",
       "       [  44.404472],\n",
       "       [  44.506306],\n",
       "       [  44.319237],\n",
       "       [  42.329983],\n",
       "       [  40.388874],\n",
       "       [  39.473248],\n",
       "       [  37.98671 ],\n",
       "       [  37.510494],\n",
       "       [  37.035023],\n",
       "       [  36.642437],\n",
       "       [  36.6203  ],\n",
       "       [  36.521202],\n",
       "       [  36.119892],\n",
       "       [  35.17671 ],\n",
       "       [  36.16924 ],\n",
       "       [  37.3833  ],\n",
       "       [  39.004425],\n",
       "       [  39.664093],\n",
       "       [  40.602463],\n",
       "       [  41.49298 ],\n",
       "       [  40.996838],\n",
       "       [  40.90122 ],\n",
       "       [  41.020836],\n",
       "       [  42.21189 ],\n",
       "       [  42.98898 ],\n",
       "       [  43.446026],\n",
       "       [  42.84015 ],\n",
       "       [  42.541508],\n",
       "       [  42.657555],\n",
       "       [  42.402832],\n",
       "       [  42.16701 ],\n",
       "       [  42.463375],\n",
       "       [  42.809673],\n",
       "       [  43.40026 ],\n",
       "       [  43.454838],\n",
       "       [  44.470394],\n",
       "       [  44.95811 ],\n",
       "       [  44.756866],\n",
       "       [  44.452114],\n",
       "       [  45.223396],\n",
       "       [  45.79226 ],\n",
       "       [  46.715816],\n",
       "       [  48.128574],\n",
       "       [  48.765472],\n",
       "       [  49.12864 ],\n",
       "       [  49.058174],\n",
       "       [  49.40059 ],\n",
       "       [  49.372414],\n",
       "       [  49.760586],\n",
       "       [  50.549633],\n",
       "       [  47.13181 ],\n",
       "       [  44.49668 ],\n",
       "       [  44.288948],\n",
       "       [  45.525326],\n",
       "       [  46.45801 ],\n",
       "       [  46.041348],\n",
       "       [  45.592937],\n",
       "       [  44.70563 ],\n",
       "       [  44.44181 ],\n",
       "       [  44.747547],\n",
       "       [  45.556946],\n",
       "       [  45.699806],\n",
       "       [  44.95698 ],\n",
       "       [  45.029377],\n",
       "       [  43.57304 ],\n",
       "       [  42.11468 ],\n",
       "       [  41.900574],\n",
       "       [  42.858845],\n",
       "       [  43.51113 ],\n",
       "       [  43.224026],\n",
       "       [  43.00569 ],\n",
       "       [  41.736614],\n",
       "       [  41.279263],\n",
       "       [  41.149178],\n",
       "       [  41.344753],\n",
       "       [  42.18708 ],\n",
       "       [  43.15613 ],\n",
       "       [  43.566086],\n",
       "       [  43.1364  ],\n",
       "       [  43.667206],\n",
       "       [  43.87608 ],\n",
       "       [  44.357143],\n",
       "       [  45.034233],\n",
       "       [  46.63082 ],\n",
       "       [  47.439384],\n",
       "       [  47.542492],\n",
       "       [  47.13345 ],\n",
       "       [  47.008442],\n",
       "       [  46.86426 ],\n",
       "       [  47.137997],\n",
       "       [  46.73355 ],\n",
       "       [  46.47463 ],\n",
       "       [  44.457745],\n",
       "       [  43.7274  ],\n",
       "       [  45.202576],\n",
       "       [  46.402992],\n",
       "       [  46.802986],\n",
       "       [  47.20877 ],\n",
       "       [  47.198906],\n",
       "       [  45.97937 ],\n",
       "       [  44.935383],\n",
       "       [  45.157   ],\n",
       "       [  45.821697],\n",
       "       [  46.74744 ],\n",
       "       [  47.274506],\n",
       "       [  47.76082 ],\n",
       "       [  48.932686],\n",
       "       [  49.711002],\n",
       "       [  50.1582  ],\n",
       "       [  50.494904],\n",
       "       [  50.05389 ],\n",
       "       [  49.277245],\n",
       "       [  49.053673],\n",
       "       [  48.992023],\n",
       "       [  53.881935],\n",
       "       [  60.388752],\n",
       "       [  63.74943 ],\n",
       "       [  63.256207],\n",
       "       [  61.836967],\n",
       "       [  60.80603 ],\n",
       "       [  60.18855 ],\n",
       "       [  60.468563],\n",
       "       [  60.840218],\n",
       "       [  62.11392 ],\n",
       "       [  63.933933],\n",
       "       [  65.11445 ],\n",
       "       [  66.377426],\n",
       "       [  67.480736],\n",
       "       [  67.51535 ],\n",
       "       [  67.60194 ],\n",
       "       [  67.93041 ],\n",
       "       [  67.89963 ],\n",
       "       [  68.838   ],\n",
       "       [  68.72323 ],\n",
       "       [  68.726456],\n",
       "       [  66.41338 ],\n",
       "       [  65.1759  ],\n",
       "       [  64.07181 ],\n",
       "       [  63.908684],\n",
       "       [  63.970837],\n",
       "       [  64.642334],\n",
       "       [  65.272194],\n",
       "       [  65.224945],\n",
       "       [  64.746376],\n",
       "       [  64.99278 ],\n",
       "       [  65.646645],\n",
       "       [  67.03959 ],\n",
       "       [  68.25978 ],\n",
       "       [  69.514534],\n",
       "       [  69.92414 ],\n",
       "       [  72.36045 ],\n",
       "       [  73.63991 ],\n",
       "       [  75.45777 ],\n",
       "       [  77.54062 ],\n",
       "       [  78.68536 ],\n",
       "       [  80.415276],\n",
       "       [  81.94737 ],\n",
       "       [  83.187195],\n",
       "       [  83.599365],\n",
       "       [  81.8845  ],\n",
       "       [  80.97335 ],\n",
       "       [  82.0294  ],\n",
       "       [  84.40419 ],\n",
       "       [  86.795944],\n",
       "       [  89.824684],\n",
       "       [  93.83829 ],\n",
       "       [  94.71301 ],\n",
       "       [  93.97008 ],\n",
       "       [  98.16501 ],\n",
       "       [ 102.58909 ],\n",
       "       [ 102.59769 ],\n",
       "       [ 100.98399 ],\n",
       "       [  99.45243 ],\n",
       "       [ 102.68212 ],\n",
       "       [ 107.725815],\n",
       "       [ 110.841896],\n",
       "       [ 111.05241 ],\n",
       "       [ 109.67636 ],\n",
       "       [ 109.54665 ],\n",
       "       [ 111.26144 ],\n",
       "       [ 118.93245 ],\n",
       "       [ 124.94595 ],\n",
       "       [ 141.2019  ],\n",
       "       [ 162.3734  ],\n",
       "       [ 156.83469 ],\n",
       "       [ 149.1921  ],\n",
       "       [ 144.50446 ],\n",
       "       [ 145.33836 ],\n",
       "       [ 147.47604 ],\n",
       "       [ 148.27046 ],\n",
       "       [ 152.46098 ],\n",
       "       [ 154.90059 ],\n",
       "       [ 161.94978 ],\n",
       "       [ 172.5674  ],\n",
       "       [ 176.34724 ],\n",
       "       [ 176.53905 ],\n",
       "       [ 168.38902 ],\n",
       "       [ 158.89516 ],\n",
       "       [ 151.90285 ],\n",
       "       [ 138.791   ],\n",
       "       [ 130.49342 ],\n",
       "       [ 136.26283 ],\n",
       "       [ 142.87369 ],\n",
       "       [ 146.96254 ],\n",
       "       [ 145.69156 ],\n",
       "       [ 141.4796  ],\n",
       "       [ 128.43098 ],\n",
       "       [ 124.21763 ],\n",
       "       [ 123.11908 ],\n",
       "       [ 115.65354 ],\n",
       "       [ 109.424416],\n",
       "       [  96.04668 ],\n",
       "       [  86.775246],\n",
       "       [  76.20778 ],\n",
       "       [  78.46234 ],\n",
       "       [  82.75635 ],\n",
       "       [  86.22308 ],\n",
       "       [  95.26097 ],\n",
       "       [ 104.23307 ],\n",
       "       [ 106.89561 ],\n",
       "       [ 104.7633  ],\n",
       "       [ 100.88322 ],\n",
       "       [ 100.68524 ],\n",
       "       [  96.728386],\n",
       "       [  91.11755 ],\n",
       "       [  90.920296],\n",
       "       [  96.09551 ],\n",
       "       [ 103.05698 ],\n",
       "       [ 107.16537 ],\n",
       "       [ 110.95404 ],\n",
       "       [ 120.821815],\n",
       "       [ 132.91    ],\n",
       "       [ 140.9469  ],\n",
       "       [ 145.07092 ],\n",
       "       [ 146.61922 ],\n",
       "       [ 145.60233 ],\n",
       "       [ 137.95718 ],\n",
       "       [ 137.67851 ],\n",
       "       [ 136.50328 ],\n",
       "       [ 138.10695 ],\n",
       "       [ 147.59297 ],\n",
       "       [ 150.83553 ],\n",
       "       [ 154.34769 ],\n",
       "       [ 153.95195 ],\n",
       "       [ 144.15546 ],\n",
       "       [ 143.7493  ],\n",
       "       [ 146.47769 ],\n",
       "       [ 150.19737 ],\n",
       "       [ 152.02452 ],\n",
       "       [ 156.68155 ],\n",
       "       [ 158.58195 ],\n",
       "       [ 158.5606  ],\n",
       "       [ 156.02313 ],\n",
       "       [ 155.49841 ],\n",
       "       [ 155.24834 ],\n",
       "       [ 156.78976 ],\n",
       "       [ 157.3791  ],\n",
       "       [ 158.292   ],\n",
       "       [ 160.08984 ],\n",
       "       [ 159.98792 ],\n",
       "       [ 159.7054  ],\n",
       "       [ 159.64977 ],\n",
       "       [ 158.13185 ],\n",
       "       [ 160.21663 ],\n",
       "       [ 168.75638 ],\n",
       "       [ 172.46922 ],\n",
       "       [ 173.19154 ],\n",
       "       [ 170.68608 ],\n",
       "       [ 170.88487 ],\n",
       "       [ 178.3527  ],\n",
       "       [ 182.51247 ],\n",
       "       [ 192.64621 ],\n",
       "       [ 193.06047 ],\n",
       "       [ 186.87355 ],\n",
       "       [ 188.16019 ],\n",
       "       [ 189.45544 ],\n",
       "       [ 191.17252 ],\n",
       "       [ 193.43434 ],\n",
       "       [ 194.33824 ],\n",
       "       [ 193.77284 ],\n",
       "       [ 193.96457 ],\n",
       "       [ 189.89478 ],\n",
       "       [ 189.73236 ],\n",
       "       [ 187.82669 ],\n",
       "       [ 191.92598 ],\n",
       "       [ 202.76791 ],\n",
       "       [ 213.62297 ],\n",
       "       [ 227.98651 ],\n",
       "       [ 252.30817 ],\n",
       "       [ 267.377   ],\n",
       "       [ 269.1882  ],\n",
       "       [ 269.1787  ],\n",
       "       [ 283.78107 ],\n",
       "       [ 288.67194 ],\n",
       "       [ 290.6292  ],\n",
       "       [ 293.70572 ],\n",
       "       [ 290.60364 ],\n",
       "       [ 287.77844 ],\n",
       "       [ 301.40057 ],\n",
       "       [ 304.03537 ],\n",
       "       [ 305.41995 ],\n",
       "       [ 297.5418  ],\n",
       "       [ 281.70932 ],\n",
       "       [ 285.338   ],\n",
       "       [ 285.2483  ],\n",
       "       [ 287.15506 ],\n",
       "       [ 287.55197 ],\n",
       "       [ 281.61844 ],\n",
       "       [ 283.09464 ],\n",
       "       [ 285.73117 ],\n",
       "       [ 287.10367 ],\n",
       "       [ 287.93134 ],\n",
       "       [ 284.28738 ],\n",
       "       [ 277.9169  ],\n",
       "       [ 269.6556  ],\n",
       "       [ 284.26257 ],\n",
       "       [ 303.34857 ],\n",
       "       [ 316.4794  ],\n",
       "       [ 340.04227 ],\n",
       "       [ 358.16074 ],\n",
       "       [ 363.86505 ],\n",
       "       [ 375.3762  ],\n",
       "       [ 386.2383  ],\n",
       "       [ 387.05536 ],\n",
       "       [ 385.58966 ],\n",
       "       [ 397.17642 ],\n",
       "       [ 414.20773 ],\n",
       "       [ 421.04214 ],\n",
       "       [ 449.48145 ],\n",
       "       [ 456.24936 ],\n",
       "       [ 440.3656  ],\n",
       "       [ 406.66504 ],\n",
       "       [ 391.8841  ],\n",
       "       [ 344.9493  ],\n",
       "       [ 334.81277 ],\n",
       "       [ 342.56476 ],\n",
       "       [ 352.54657 ],\n",
       "       [ 382.69608 ],\n",
       "       [ 416.937   ],\n",
       "       [ 429.69446 ],\n",
       "       [ 420.67133 ],\n",
       "       [ 419.418   ],\n",
       "       [ 423.27258 ],\n",
       "       [ 413.22632 ],\n",
       "       [ 382.8368  ],\n",
       "       [ 367.42545 ],\n",
       "       [ 374.0767  ],\n",
       "       [ 390.19168 ],\n",
       "       [ 399.62973 ],\n",
       "       [ 407.8289  ],\n",
       "       [ 420.8642  ],\n",
       "       [ 411.19824 ],\n",
       "       [ 406.19138 ],\n",
       "       [ 398.6032  ],\n",
       "       [ 400.03864 ],\n",
       "       [ 403.23953 ],\n",
       "       [ 409.42554 ],\n",
       "       [ 417.31766 ],\n",
       "       [ 423.60965 ],\n",
       "       [ 433.3875  ],\n",
       "       [ 432.39493 ],\n",
       "       [ 424.50647 ],\n",
       "       [ 414.42203 ],\n",
       "       [ 404.56842 ],\n",
       "       [ 400.49142 ],\n",
       "       [ 401.8733  ],\n",
       "       [ 401.61945 ],\n",
       "       [ 401.27274 ],\n",
       "       [ 403.48468 ],\n",
       "       [ 395.78192 ],\n",
       "       [ 392.28314 ],\n",
       "       [ 380.05396 ],\n",
       "       [ 378.70023 ],\n",
       "       [ 392.6249  ],\n",
       "       [ 401.46735 ],\n",
       "       [ 413.13568 ],\n",
       "       [ 414.95633 ],\n",
       "       [ 408.74902 ],\n",
       "       [ 397.98538 ],\n",
       "       [ 394.9798  ],\n",
       "       [ 392.6688  ],\n",
       "       [ 390.30795 ],\n",
       "       [ 389.2107  ],\n",
       "       [ 406.1225  ],\n",
       "       [ 440.88596 ],\n",
       "       [ 467.59402 ],\n",
       "       [ 473.23865 ],\n",
       "       [ 485.8661  ],\n",
       "       [ 508.787   ],\n",
       "       [ 530.3662  ],\n",
       "       [ 545.40436 ],\n",
       "       [ 541.79834 ],\n",
       "       [ 543.03564 ],\n",
       "       [ 536.6936  ],\n",
       "       [ 543.3905  ],\n",
       "       [ 552.5589  ],\n",
       "       [ 578.00006 ],\n",
       "       [ 598.12085 ],\n",
       "       [ 585.4547  ],\n",
       "       [ 581.49036 ],\n",
       "       [ 573.22705 ],\n",
       "       [ 582.16846 ],\n",
       "       [ 587.7667  ],\n",
       "       [ 585.04675 ],\n",
       "       [ 597.3365  ],\n",
       "       [ 625.00305 ],\n",
       "       [ 621.4594  ],\n",
       "       [ 607.4788  ],\n",
       "       [ 600.2098  ],\n",
       "       [ 605.4353  ],\n",
       "       [ 612.0426  ],\n",
       "       [ 616.9129  ],\n",
       "       [ 632.2409  ],\n",
       "       [ 647.1985  ],\n",
       "       [ 665.2155  ],\n",
       "       [ 676.91925 ],\n",
       "       [ 690.0198  ],\n",
       "       [ 722.6752  ],\n",
       "       [ 770.4541  ],\n",
       "       [ 768.8587  ],\n",
       "       [ 771.0694  ],\n",
       "       [ 774.2227  ],\n",
       "       [ 771.41943 ],\n",
       "       [ 760.1389  ],\n",
       "       [ 759.98596 ],\n",
       "       [ 765.4206  ],\n",
       "       [ 767.6274  ],\n",
       "       [ 768.9843  ],\n",
       "       [ 784.1528  ],\n",
       "       [ 796.4012  ],\n",
       "       [ 794.04926 ],\n",
       "       [ 776.8271  ],\n",
       "       [ 745.87396 ],\n",
       "       [ 746.5773  ],\n",
       "       [ 769.3503  ],\n",
       "       [ 779.19824 ],\n",
       "       [ 779.3934  ],\n",
       "       [ 777.97284 ],\n",
       "       [ 781.33954 ],\n",
       "       [ 778.1516  ],\n",
       "       [ 755.64075 ],\n",
       "       [ 742.06946 ],\n",
       "       [ 739.5144  ],\n",
       "       [ 732.71295 ],\n",
       "       [ 729.5494  ],\n",
       "       [ 724.55115 ],\n",
       "       [ 719.2256  ],\n",
       "       [ 687.00757 ],\n",
       "       [ 657.14764 ],\n",
       "       [ 663.0189  ],\n",
       "       [ 648.14124 ],\n",
       "       [ 633.3815  ],\n",
       "       [ 646.45685 ],\n",
       "       [ 645.35925 ],\n",
       "       [ 626.3595  ],\n",
       "       [ 597.7745  ],\n",
       "       [ 570.29736 ],\n",
       "       [ 540.81635 ],\n",
       "       [ 579.6341  ],\n",
       "       [ 612.41626 ],\n",
       "       [ 641.98663 ],\n",
       "       [ 652.7118  ],\n",
       "       [ 658.984   ],\n",
       "       [ 645.743   ],\n",
       "       [ 644.7112  ],\n",
       "       [ 624.2805  ],\n",
       "       [ 609.95306 ],\n",
       "       [ 611.58514 ],\n",
       "       [ 613.10516 ],\n",
       "       [ 599.5401  ],\n",
       "       [ 594.36224 ],\n",
       "       [ 583.993   ],\n",
       "       [ 574.5393  ],\n",
       "       [ 582.02704 ],\n",
       "       [ 605.15826 ],\n",
       "       [ 617.4594  ],\n",
       "       [ 634.2778  ],\n",
       "       [ 643.3754  ],\n",
       "       [ 635.9313  ],\n",
       "       [ 633.3946  ],\n",
       "       [ 629.6995  ],\n",
       "       [ 638.8151  ],\n",
       "       [ 673.63104 ],\n",
       "       [ 683.5919  ],\n",
       "       [ 685.30206 ],\n",
       "       [ 684.002   ],\n",
       "       [ 670.819   ],\n",
       "       [ 662.9329  ],\n",
       "       [ 671.6254  ],\n",
       "       [ 669.27234 ],\n",
       "       [ 670.07007 ],\n",
       "       [ 675.3749  ],\n",
       "       [ 664.16864 ],\n",
       "       [ 649.8798  ],\n",
       "       [ 634.1305  ],\n",
       "       [ 641.15717 ],\n",
       "       [ 639.34424 ],\n",
       "       [ 631.5444  ],\n",
       "       [ 625.2524  ],\n",
       "       [ 619.2562  ],\n",
       "       [ 620.6614  ],\n",
       "       [ 603.2     ],\n",
       "       [ 584.6342  ],\n",
       "       [ 562.5461  ],\n",
       "       [ 542.6571  ],\n",
       "       [ 542.9047  ],\n",
       "       [ 542.3859  ],\n",
       "       [ 543.1242  ],\n",
       "       [ 537.2056  ],\n",
       "       [ 544.0793  ],\n",
       "       [ 547.5399  ],\n",
       "       [ 560.47424 ],\n",
       "       [ 567.86053 ],\n",
       "       [ 576.569   ],\n",
       "       [ 586.1191  ],\n",
       "       [ 587.8249  ],\n",
       "       [ 585.6608  ],\n",
       "       [ 574.4028  ],\n",
       "       [ 551.11304 ],\n",
       "       [ 549.38354 ],\n",
       "       [ 556.968   ],\n",
       "       [ 562.68585 ],\n",
       "       [ 563.129   ],\n",
       "       [ 567.58105 ],\n",
       "       [ 570.5397  ],\n",
       "       [ 575.20154 ],\n",
       "       [ 569.0616  ],\n",
       "       [ 565.9107  ],\n",
       "       [ 570.51117 ],\n",
       "       [ 577.75397 ],\n",
       "       [ 580.7659  ],\n",
       "       [ 582.5099  ],\n",
       "       [ 598.2793  ],\n",
       "       [ 619.88586 ],\n",
       "       [ 627.99396 ],\n",
       "       [ 636.05133 ],\n",
       "       [ 635.8108  ],\n",
       "       [ 632.6785  ],\n",
       "       [ 629.2419  ],\n",
       "       [ 627.7713  ],\n",
       "       [ 618.67255 ],\n",
       "       [ 605.56274 ],\n",
       "       [ 602.2164  ],\n",
       "       [ 605.28186 ],\n",
       "       [ 622.10956 ],\n",
       "       [ 626.0585  ],\n",
       "       [ 617.9678  ],\n",
       "       [ 609.5735  ],\n",
       "       [ 602.22345 ],\n",
       "       [ 599.8263  ],\n",
       "       [ 606.68005 ],\n",
       "       [ 610.04706 ],\n",
       "       [ 608.18744 ],\n",
       "       [ 603.25055 ],\n",
       "       [ 606.6421  ],\n",
       "       [ 604.3062  ],\n",
       "       [ 602.823   ],\n",
       "       [ 616.3961  ],\n",
       "       [ 631.1586  ],\n",
       "       [ 648.8738  ],\n",
       "       [ 658.06635 ],\n",
       "       [ 660.62555 ],\n",
       "       [ 661.3834  ],\n",
       "       [ 653.80066 ],\n",
       "       [ 654.31775 ],\n",
       "       [ 654.75354 ],\n",
       "       [ 654.0552  ],\n",
       "       [ 660.1058  ],\n",
       "       [ 662.57916 ],\n",
       "       [ 648.9533  ],\n",
       "       [ 628.8327  ],\n",
       "       [ 628.11505 ],\n",
       "       [ 625.67737 ],\n",
       "       [ 627.68396 ],\n",
       "       [ 642.0696  ],\n",
       "       [ 653.30286 ],\n",
       "       [ 659.3072  ],\n",
       "       [ 656.19055 ],\n",
       "       [ 656.89874 ],\n",
       "       [ 666.41266 ],\n",
       "       [ 675.22144 ],\n",
       "       [ 678.5435  ],\n",
       "       [ 677.87006 ],\n",
       "       [ 676.824   ],\n",
       "       [ 684.6801  ],\n",
       "       [ 691.11786 ],\n",
       "       [ 694.3926  ],\n",
       "       [ 686.882   ],\n",
       "       [ 683.3224  ],\n",
       "       [ 683.1273  ],\n",
       "       [ 689.0076  ],\n",
       "       [ 694.091   ],\n",
       "       [ 697.6399  ],\n",
       "       [ 685.9654  ],\n",
       "       [ 680.3811  ],\n",
       "       [ 684.6958  ],\n",
       "       [ 690.1594  ],\n",
       "       [ 702.53735 ],\n",
       "       [ 717.90106 ],\n",
       "       [ 720.1767  ],\n",
       "       [ 719.4406  ],\n",
       "       [ 715.3656  ],\n",
       "       [ 712.0626  ],\n",
       "       [ 713.23596 ],\n",
       "       [ 714.5411  ],\n",
       "       [ 716.27057 ],\n",
       "       [ 722.0855  ],\n",
       "       [ 722.5095  ],\n",
       "       [ 724.2015  ],\n",
       "       [ 731.317   ],\n",
       "       [ 738.50336 ],\n",
       "       [ 745.1986  ],\n",
       "       [ 758.9244  ],\n",
       "       [ 778.8915  ],\n",
       "       [ 787.8865  ],\n",
       "       [ 790.0279  ],\n",
       "       [ 800.6996  ],\n",
       "       [ 814.3836  ],\n",
       "       [ 868.35895 ],\n",
       "       [ 903.3351  ],\n",
       "       [ 924.1885  ],\n",
       "       [ 945.7817  ],\n",
       "       [ 970.3255  ],\n",
       "       [1017.5574  ],\n",
       "       [1035.6953  ],\n",
       "       [1052.0289  ],\n",
       "       [1065.441   ],\n",
       "       [1068.7668  ],\n",
       "       [1046.7551  ],\n",
       "       [ 975.8514  ],\n",
       "       [ 938.64276 ],\n",
       "       [ 927.01215 ],\n",
       "       [ 917.3288  ],\n",
       "       [ 906.42645 ],\n",
       "       [ 917.9127  ],\n",
       "       [ 943.8126  ],\n",
       "       [ 964.4744  ],\n",
       "       [ 989.4158  ],\n",
       "       [1010.8422  ],\n",
       "       [1003.71844 ],\n",
       "       [ 993.9301  ],\n",
       "       [ 974.47003 ],\n",
       "       [ 981.1651  ],\n",
       "       [ 994.5008  ],\n",
       "       [ 985.4006  ],\n",
       "       [ 970.63116 ],\n",
       "       [ 934.5934  ],\n",
       "       [ 906.98474 ],\n",
       "       [ 911.79486 ],\n",
       "       [ 930.1664  ],\n",
       "       [ 918.98804 ],\n",
       "       [ 910.93066 ],\n",
       "       [ 887.6245  ],\n",
       "       [ 868.11053 ],\n",
       "       [ 866.1618  ],\n",
       "       [ 850.20874 ],\n",
       "       [ 841.03986 ],\n",
       "       [ 825.0069  ],\n",
       "       [ 831.32184 ],\n",
       "       [ 869.07794 ],\n",
       "       [ 919.1808  ],\n",
       "       [ 958.55884 ],\n",
       "       [ 974.4117  ],\n",
       "       [ 975.1119  ],\n",
       "       [ 964.34406 ],\n",
       "       [ 949.16833 ],\n",
       "       [ 992.0851  ],\n",
       "       [1011.9777  ],\n",
       "       [ 994.596   ],\n",
       "       [ 965.84845 ],\n",
       "       [ 932.1855  ],\n",
       "       [ 924.6798  ],\n",
       "       [ 930.6416  ],\n",
       "       [ 954.0342  ],\n",
       "       [ 943.43304 ],\n",
       "       [ 936.0004  ],\n",
       "       [ 925.5341  ],\n",
       "       [ 905.4956  ],\n",
       "       [ 892.64026 ],\n",
       "       [ 867.0532  ],\n",
       "       [ 844.95294 ],\n",
       "       [ 830.1659  ],\n",
       "       [ 832.9925  ],\n",
       "       [ 794.46063 ],\n",
       "       [ 771.7928  ],\n",
       "       [ 803.30194 ],\n",
       "       [ 830.8079  ],\n",
       "       [ 833.90894 ],\n",
       "       [ 823.2805  ],\n",
       "       [ 826.98944 ],\n",
       "       [ 825.4111  ],\n",
       "       [ 828.95593 ],\n",
       "       [ 835.978   ],\n",
       "       [ 829.11096 ],\n",
       "       [ 803.2996  ],\n",
       "       [ 791.4789  ],\n",
       "       [ 808.6524  ],\n",
       "       [ 825.45306 ],\n",
       "       [ 814.969   ],\n",
       "       [ 794.4607  ],\n",
       "       [ 766.0079  ],\n",
       "       [ 724.3325  ],\n",
       "       [ 716.4965  ],\n",
       "       [ 725.9734  ],\n",
       "       [ 762.2088  ],\n",
       "       [ 784.92084 ],\n",
       "       [ 799.8081  ],\n",
       "       [ 787.94714 ],\n",
       "       [ 773.7891  ],\n",
       "       [ 750.7156  ],\n",
       "       [ 744.8852  ],\n",
       "       [ 761.26807 ],\n",
       "       [ 766.62573 ],\n",
       "       [ 748.4646  ],\n",
       "       [ 720.59045 ],\n",
       "       [ 719.69543 ],\n",
       "       [ 742.9676  ],\n",
       "       [ 774.3982  ],\n",
       "       [ 806.6508  ],\n",
       "       [ 829.5813  ],\n",
       "       [ 867.74805 ],\n",
       "       [ 892.469   ]], dtype=float32)"
      ]
     },
     "execution_count": 32,
     "metadata": {},
     "output_type": "execute_result"
    }
   ],
   "source": [
    "predictions"
   ]
  },
  {
   "cell_type": "markdown",
   "id": "9e297e95",
   "metadata": {
    "papermill": {
     "duration": 0.175863,
     "end_time": "2024-09-19T10:05:51.395201",
     "exception": false,
     "start_time": "2024-09-19T10:05:51.219338",
     "status": "completed"
    },
    "tags": []
   },
   "source": [
    "### Root mean square error"
   ]
  },
  {
   "cell_type": "code",
   "execution_count": 33,
   "id": "ea7d9e31",
   "metadata": {
    "execution": {
     "iopub.execute_input": "2024-09-19T10:05:51.806060Z",
     "iopub.status.busy": "2024-09-19T10:05:51.805047Z",
     "iopub.status.idle": "2024-09-19T10:05:51.814904Z",
     "shell.execute_reply": "2024-09-19T10:05:51.813893Z"
    },
    "papermill": {
     "duration": 0.202303,
     "end_time": "2024-09-19T10:05:51.817038",
     "exception": false,
     "start_time": "2024-09-19T10:05:51.614735",
     "status": "completed"
    },
    "tags": []
   },
   "outputs": [
    {
     "data": {
      "text/plain": [
       "36.49"
      ]
     },
     "execution_count": 33,
     "metadata": {},
     "output_type": "execute_result"
    }
   ],
   "source": [
    "y_test = scaler.inverse_transform([y_test])\n",
    "\n",
    "RMSE = np.sqrt(np.mean( y_test - predictions )**2).round(2)\n",
    "RMSE"
   ]
  },
  {
   "cell_type": "markdown",
   "id": "19b21e91",
   "metadata": {
    "papermill": {
     "duration": 0.180783,
     "end_time": "2024-09-19T10:05:52.177348",
     "exception": false,
     "start_time": "2024-09-19T10:05:51.996565",
     "status": "completed"
    },
    "tags": []
   },
   "source": [
    "### Visualize Predictions with The Data"
   ]
  },
  {
   "cell_type": "code",
   "execution_count": 34,
   "id": "4a359fb1",
   "metadata": {
    "execution": {
     "iopub.execute_input": "2024-09-19T10:05:52.536106Z",
     "iopub.status.busy": "2024-09-19T10:05:52.535270Z",
     "iopub.status.idle": "2024-09-19T10:05:53.281861Z",
     "shell.execute_reply": "2024-09-19T10:05:53.280811Z"
    },
    "papermill": {
     "duration": 0.927234,
     "end_time": "2024-09-19T10:05:53.283969",
     "exception": false,
     "start_time": "2024-09-19T10:05:52.356735",
     "status": "completed"
    },
    "tags": []
   },
   "outputs": [
    {
     "data": {
      "text/plain": [
       "<matplotlib.legend.Legend at 0x7b393ede08e0>"
      ]
     },
     "execution_count": 34,
     "metadata": {},
     "output_type": "execute_result"
    },
    {
     "data": {
      "image/png": "[encoded data removed]",
      "text/plain": [
       "<Figure size 2000x800 with 1 Axes>"
      ]
     },
     "metadata": {},
     "output_type": "display_data"
    }
   ],
   "source": [
    "train = df.iloc[:train_size , 0:1]\n",
    "test = df.iloc[train_size: , 0:1]\n",
    "test['Predictions'] = predictions\n",
    "\n",
    "plt.figure(figsize= (20, 8))\n",
    "plt.title('Tesla Close Stock Price Prediction', fontsize= 18)\n",
    "plt.xlabel('Date', fontsize= 18)\n",
    "plt.ylabel('Close Price', fontsize= 18)\n",
    "plt.plot(train['Close'], linewidth= 3)\n",
    "plt.plot(test['Close'], linewidth= 3)\n",
    "plt.plot(test[\"Predictions\"], linewidth= 3)\n",
    "plt.legend(['Train', 'Test', 'Predictions'])"
   ]
  },
  {
   "cell_type": "markdown",
   "id": "d48428f8",
   "metadata": {
    "papermill": {
     "duration": 0.174893,
     "end_time": "2024-09-19T10:05:53.636440",
     "exception": false,
     "start_time": "2024-09-19T10:05:53.461547",
     "status": "completed"
    },
    "tags": []
   },
   "source": [
    "# Forecast Next 30 Days"
   ]
  },
  {
   "cell_type": "code",
   "execution_count": 35,
   "id": "789e0b40",
   "metadata": {
    "execution": {
     "iopub.execute_input": "2024-09-19T10:05:53.990268Z",
     "iopub.status.busy": "2024-09-19T10:05:53.989835Z",
     "iopub.status.idle": "2024-09-19T10:05:53.994572Z",
     "shell.execute_reply": "2024-09-19T10:05:53.993621Z"
    },
    "papermill": {
     "duration": 0.183745,
     "end_time": "2024-09-19T10:05:53.996496",
     "exception": false,
     "start_time": "2024-09-19T10:05:53.812751",
     "status": "completed"
    },
    "tags": []
   },
   "outputs": [],
   "source": [
    "from datetime import timedelta"
   ]
  },
  {
   "cell_type": "code",
   "execution_count": 36,
   "id": "c9d46606",
   "metadata": {
    "execution": {
     "iopub.execute_input": "2024-09-19T10:05:54.350032Z",
     "iopub.status.busy": "2024-09-19T10:05:54.349061Z",
     "iopub.status.idle": "2024-09-19T10:05:54.354733Z",
     "shell.execute_reply": "2024-09-19T10:05:54.353754Z"
    },
    "papermill": {
     "duration": 0.184561,
     "end_time": "2024-09-19T10:05:54.356805",
     "exception": false,
     "start_time": "2024-09-19T10:05:54.172244",
     "status": "completed"
    },
    "tags": []
   },
   "outputs": [],
   "source": [
    "def insert_end(Xin, new_input):\n",
    "    timestep = 60\n",
    "    for i in range(timestep - 1):\n",
    "        Xin[:, i, :] = Xin[:, i+1, :]\n",
    "    Xin[:, timestep - 1, :] = new_input\n",
    "    return Xin"
   ]
  },
  {
   "cell_type": "code",
   "execution_count": 37,
   "id": "b49042d6",
   "metadata": {
    "execution": {
     "iopub.execute_input": "2024-09-19T10:05:54.710292Z",
     "iopub.status.busy": "2024-09-19T10:05:54.709860Z",
     "iopub.status.idle": "2024-09-19T10:05:56.747754Z",
     "shell.execute_reply": "2024-09-19T10:05:56.746626Z"
    },
    "papermill": {
     "duration": 2.217168,
     "end_time": "2024-09-19T10:05:56.749738",
     "exception": false,
     "start_time": "2024-09-19T10:05:54.532570",
     "status": "completed"
    },
    "tags": []
   },
   "outputs": [
    {
     "name": "stdout",
     "output_type": "stream",
     "text": [
      "\u001b[1m1/1\u001b[0m \u001b[32m━━━━━━━━━━━━━━━━━━━━\u001b[0m\u001b[37m\u001b[0m \u001b[1m0s\u001b[0m 25ms/step\n",
      "[0.7249309]\n",
      "\u001b[1m1/1\u001b[0m \u001b[32m━━━━━━━━━━━━━━━━━━━━\u001b[0m\u001b[37m\u001b[0m \u001b[1m0s\u001b[0m 22ms/step\n",
      "[0.7249309, 0.69767255]\n",
      "\u001b[1m1/1\u001b[0m \u001b[32m━━━━━━━━━━━━━━━━━━━━\u001b[0m\u001b[37m\u001b[0m \u001b[1m0s\u001b[0m 22ms/step\n",
      "[0.7249309, 0.69767255, 0.65820104]\n",
      "\u001b[1m1/1\u001b[0m \u001b[32m━━━━━━━━━━━━━━━━━━━━\u001b[0m\u001b[37m\u001b[0m \u001b[1m0s\u001b[0m 22ms/step\n",
      "[0.7249309, 0.69767255, 0.65820104, 0.61657834]\n",
      "\u001b[1m1/1\u001b[0m \u001b[32m━━━━━━━━━━━━━━━━━━━━\u001b[0m\u001b[37m\u001b[0m \u001b[1m0s\u001b[0m 23ms/step\n",
      "[0.7249309, 0.69767255, 0.65820104, 0.61657834, 0.57633024]\n",
      "\u001b[1m1/1\u001b[0m \u001b[32m━━━━━━━━━━━━━━━━━━━━\u001b[0m\u001b[37m\u001b[0m \u001b[1m0s\u001b[0m 22ms/step\n",
      "[0.7249309, 0.69767255, 0.65820104, 0.61657834, 0.57633024, 0.53918135]\n",
      "\u001b[1m1/1\u001b[0m \u001b[32m━━━━━━━━━━━━━━━━━━━━\u001b[0m\u001b[37m\u001b[0m \u001b[1m0s\u001b[0m 22ms/step\n",
      "[0.7249309, 0.69767255, 0.65820104, 0.61657834, 0.57633024, 0.53918135, 0.50601244]\n",
      "\u001b[1m1/1\u001b[0m \u001b[32m━━━━━━━━━━━━━━━━━━━━\u001b[0m\u001b[37m\u001b[0m \u001b[1m0s\u001b[0m 23ms/step\n",
      "[0.7249309, 0.69767255, 0.65820104, 0.61657834, 0.57633024, 0.53918135, 0.50601244, 0.4771224]\n",
      "\u001b[1m1/1\u001b[0m \u001b[32m━━━━━━━━━━━━━━━━━━━━\u001b[0m\u001b[37m\u001b[0m \u001b[1m0s\u001b[0m 22ms/step\n",
      "[0.7249309, 0.69767255, 0.65820104, 0.61657834, 0.57633024, 0.53918135, 0.50601244, 0.4771224, 0.45238945]\n",
      "\u001b[1m1/1\u001b[0m \u001b[32m━━━━━━━━━━━━━━━━━━━━\u001b[0m\u001b[37m\u001b[0m \u001b[1m0s\u001b[0m 23ms/step\n",
      "[0.7249309, 0.69767255, 0.65820104, 0.61657834, 0.57633024, 0.53918135, 0.50601244, 0.4771224, 0.45238945, 0.43141758]\n",
      "\u001b[1m1/1\u001b[0m \u001b[32m━━━━━━━━━━━━━━━━━━━━\u001b[0m\u001b[37m\u001b[0m \u001b[1m0s\u001b[0m 24ms/step\n",
      "[0.7249309, 0.69767255, 0.65820104, 0.61657834, 0.57633024, 0.53918135, 0.50601244, 0.4771224, 0.45238945, 0.43141758, 0.41366404]\n",
      "\u001b[1m1/1\u001b[0m \u001b[32m━━━━━━━━━━━━━━━━━━━━\u001b[0m\u001b[37m\u001b[0m \u001b[1m0s\u001b[0m 24ms/step\n",
      "[0.7249309, 0.69767255, 0.65820104, 0.61657834, 0.57633024, 0.53918135, 0.50601244, 0.4771224, 0.45238945, 0.43141758, 0.41366404, 0.39853778]\n",
      "\u001b[1m1/1\u001b[0m \u001b[32m━━━━━━━━━━━━━━━━━━━━\u001b[0m\u001b[37m\u001b[0m \u001b[1m0s\u001b[0m 24ms/step\n",
      "[0.7249309, 0.69767255, 0.65820104, 0.61657834, 0.57633024, 0.53918135, 0.50601244, 0.4771224, 0.45238945, 0.43141758, 0.41366404, 0.39853778, 0.3854689]\n",
      "\u001b[1m1/1\u001b[0m \u001b[32m━━━━━━━━━━━━━━━━━━━━\u001b[0m\u001b[37m\u001b[0m \u001b[1m0s\u001b[0m 23ms/step\n",
      "[0.7249309, 0.69767255, 0.65820104, 0.61657834, 0.57633024, 0.53918135, 0.50601244, 0.4771224, 0.45238945, 0.43141758, 0.41366404, 0.39853778, 0.3854689, 0.3739515]\n",
      "\u001b[1m1/1\u001b[0m \u001b[32m━━━━━━━━━━━━━━━━━━━━\u001b[0m\u001b[37m\u001b[0m \u001b[1m0s\u001b[0m 23ms/step\n",
      "[0.7249309, 0.69767255, 0.65820104, 0.61657834, 0.57633024, 0.53918135, 0.50601244, 0.4771224, 0.45238945, 0.43141758, 0.41366404, 0.39853778, 0.3854689, 0.3739515, 0.3635661]\n",
      "\u001b[1m1/1\u001b[0m \u001b[32m━━━━━━━━━━━━━━━━━━━━\u001b[0m\u001b[37m\u001b[0m \u001b[1m0s\u001b[0m 24ms/step\n",
      "[0.7249309, 0.69767255, 0.65820104, 0.61657834, 0.57633024, 0.53918135, 0.50601244, 0.4771224, 0.45238945, 0.43141758, 0.41366404, 0.39853778, 0.3854689, 0.3739515, 0.3635661, 0.35398582]\n",
      "\u001b[1m1/1\u001b[0m \u001b[32m━━━━━━━━━━━━━━━━━━━━\u001b[0m\u001b[37m\u001b[0m \u001b[1m0s\u001b[0m 23ms/step\n",
      "[0.7249309, 0.69767255, 0.65820104, 0.61657834, 0.57633024, 0.53918135, 0.50601244, 0.4771224, 0.45238945, 0.43141758, 0.41366404, 0.39853778, 0.3854689, 0.3739515, 0.3635661, 0.35398582, 0.34497213]\n",
      "\u001b[1m1/1\u001b[0m \u001b[32m━━━━━━━━━━━━━━━━━━━━\u001b[0m\u001b[37m\u001b[0m \u001b[1m0s\u001b[0m 23ms/step\n",
      "[0.7249309, 0.69767255, 0.65820104, 0.61657834, 0.57633024, 0.53918135, 0.50601244, 0.4771224, 0.45238945, 0.43141758, 0.41366404, 0.39853778, 0.3854689, 0.3739515, 0.3635661, 0.35398582, 0.34497213, 0.33636338]\n",
      "\u001b[1m1/1\u001b[0m \u001b[32m━━━━━━━━━━━━━━━━━━━━\u001b[0m\u001b[37m\u001b[0m \u001b[1m0s\u001b[0m 24ms/step\n",
      "[0.7249309, 0.69767255, 0.65820104, 0.61657834, 0.57633024, 0.53918135, 0.50601244, 0.4771224, 0.45238945, 0.43141758, 0.41366404, 0.39853778, 0.3854689, 0.3739515, 0.3635661, 0.35398582, 0.34497213, 0.33636338, 0.32806]\n",
      "\u001b[1m1/1\u001b[0m \u001b[32m━━━━━━━━━━━━━━━━━━━━\u001b[0m\u001b[37m\u001b[0m \u001b[1m0s\u001b[0m 25ms/step\n",
      "[0.7249309, 0.69767255, 0.65820104, 0.61657834, 0.57633024, 0.53918135, 0.50601244, 0.4771224, 0.45238945, 0.43141758, 0.41366404, 0.39853778, 0.3854689, 0.3739515, 0.3635661, 0.35398582, 0.34497213, 0.33636338, 0.32806, 0.32000968]\n",
      "\u001b[1m1/1\u001b[0m \u001b[32m━━━━━━━━━━━━━━━━━━━━\u001b[0m\u001b[37m\u001b[0m \u001b[1m0s\u001b[0m 23ms/step\n",
      "[0.7249309, 0.69767255, 0.65820104, 0.61657834, 0.57633024, 0.53918135, 0.50601244, 0.4771224, 0.45238945, 0.43141758, 0.41366404, 0.39853778, 0.3854689, 0.3739515, 0.3635661, 0.35398582, 0.34497213, 0.33636338, 0.32806, 0.32000968, 0.31219223]\n",
      "\u001b[1m1/1\u001b[0m \u001b[32m━━━━━━━━━━━━━━━━━━━━\u001b[0m\u001b[37m\u001b[0m \u001b[1m0s\u001b[0m 24ms/step\n",
      "[0.7249309, 0.69767255, 0.65820104, 0.61657834, 0.57633024, 0.53918135, 0.50601244, 0.4771224, 0.45238945, 0.43141758, 0.41366404, 0.39853778, 0.3854689, 0.3739515, 0.3635661, 0.35398582, 0.34497213, 0.33636338, 0.32806, 0.32000968, 0.31219223, 0.30460775]\n",
      "\u001b[1m1/1\u001b[0m \u001b[32m━━━━━━━━━━━━━━━━━━━━\u001b[0m\u001b[37m\u001b[0m \u001b[1m0s\u001b[0m 22ms/step\n",
      "[0.7249309, 0.69767255, 0.65820104, 0.61657834, 0.57633024, 0.53918135, 0.50601244, 0.4771224, 0.45238945, 0.43141758, 0.41366404, 0.39853778, 0.3854689, 0.3739515, 0.3635661, 0.35398582, 0.34497213, 0.33636338, 0.32806, 0.32000968, 0.31219223, 0.30460775, 0.29726633]\n",
      "\u001b[1m1/1\u001b[0m \u001b[32m━━━━━━━━━━━━━━━━━━━━\u001b[0m\u001b[37m\u001b[0m \u001b[1m0s\u001b[0m 22ms/step\n",
      "[0.7249309, 0.69767255, 0.65820104, 0.61657834, 0.57633024, 0.53918135, 0.50601244, 0.4771224, 0.45238945, 0.43141758, 0.41366404, 0.39853778, 0.3854689, 0.3739515, 0.3635661, 0.35398582, 0.34497213, 0.33636338, 0.32806, 0.32000968, 0.31219223, 0.30460775, 0.29726633, 0.29018086]\n",
      "\u001b[1m1/1\u001b[0m \u001b[32m━━━━━━━━━━━━━━━━━━━━\u001b[0m\u001b[37m\u001b[0m \u001b[1m0s\u001b[0m 23ms/step\n",
      "[0.7249309, 0.69767255, 0.65820104, 0.61657834, 0.57633024, 0.53918135, 0.50601244, 0.4771224, 0.45238945, 0.43141758, 0.41366404, 0.39853778, 0.3854689, 0.3739515, 0.3635661, 0.35398582, 0.34497213, 0.33636338, 0.32806, 0.32000968, 0.31219223, 0.30460775, 0.29726633, 0.29018086, 0.28336266]\n",
      "\u001b[1m1/1\u001b[0m \u001b[32m━━━━━━━━━━━━━━━━━━━━\u001b[0m\u001b[37m\u001b[0m \u001b[1m0s\u001b[0m 23ms/step\n",
      "[0.7249309, 0.69767255, 0.65820104, 0.61657834, 0.57633024, 0.53918135, 0.50601244, 0.4771224, 0.45238945, 0.43141758, 0.41366404, 0.39853778, 0.3854689, 0.3739515, 0.3635661, 0.35398582, 0.34497213, 0.33636338, 0.32806, 0.32000968, 0.31219223, 0.30460775, 0.29726633, 0.29018086, 0.28336266, 0.27681807]\n",
      "\u001b[1m1/1\u001b[0m \u001b[32m━━━━━━━━━━━━━━━━━━━━\u001b[0m\u001b[37m\u001b[0m \u001b[1m0s\u001b[0m 23ms/step\n",
      "[0.7249309, 0.69767255, 0.65820104, 0.61657834, 0.57633024, 0.53918135, 0.50601244, 0.4771224, 0.45238945, 0.43141758, 0.41366404, 0.39853778, 0.3854689, 0.3739515, 0.3635661, 0.35398582, 0.34497213, 0.33636338, 0.32806, 0.32000968, 0.31219223, 0.30460775, 0.29726633, 0.29018086, 0.28336266, 0.27681807, 0.27054814]\n",
      "\u001b[1m1/1\u001b[0m \u001b[32m━━━━━━━━━━━━━━━━━━━━\u001b[0m\u001b[37m\u001b[0m \u001b[1m0s\u001b[0m 22ms/step\n",
      "[0.7249309, 0.69767255, 0.65820104, 0.61657834, 0.57633024, 0.53918135, 0.50601244, 0.4771224, 0.45238945, 0.43141758, 0.41366404, 0.39853778, 0.3854689, 0.3739515, 0.3635661, 0.35398582, 0.34497213, 0.33636338, 0.32806, 0.32000968, 0.31219223, 0.30460775, 0.29726633, 0.29018086, 0.28336266, 0.27681807, 0.27054814, 0.264548]\n",
      "\u001b[1m1/1\u001b[0m \u001b[32m━━━━━━━━━━━━━━━━━━━━\u001b[0m\u001b[37m\u001b[0m \u001b[1m0s\u001b[0m 23ms/step\n",
      "[0.7249309, 0.69767255, 0.65820104, 0.61657834, 0.57633024, 0.53918135, 0.50601244, 0.4771224, 0.45238945, 0.43141758, 0.41366404, 0.39853778, 0.3854689, 0.3739515, 0.3635661, 0.35398582, 0.34497213, 0.33636338, 0.32806, 0.32000968, 0.31219223, 0.30460775, 0.29726633, 0.29018086, 0.28336266, 0.27681807, 0.27054814, 0.264548, 0.25880805]\n",
      "\u001b[1m1/1\u001b[0m \u001b[32m━━━━━━━━━━━━━━━━━━━━\u001b[0m\u001b[37m\u001b[0m \u001b[1m0s\u001b[0m 22ms/step\n",
      "[0.7249309, 0.69767255, 0.65820104, 0.61657834, 0.57633024, 0.53918135, 0.50601244, 0.4771224, 0.45238945, 0.43141758, 0.41366404, 0.39853778, 0.3854689, 0.3739515, 0.3635661, 0.35398582, 0.34497213, 0.33636338, 0.32806, 0.32000968, 0.31219223, 0.30460775, 0.29726633, 0.29018086, 0.28336266, 0.27681807, 0.27054814, 0.264548, 0.25880805, 0.2533152]\n"
     ]
    }
   ],
   "source": [
    "future = 30\n",
    "forcast = []\n",
    "Xin = x_test[-1 :, :, :]\n",
    "time = []\n",
    "for i in range(0, future):\n",
    "    out = model_LSTM.predict(Xin, batch_size=5)\n",
    "    forcast.append(out[0, 0]) \n",
    "    print(forcast)\n",
    "    Xin = insert_end(Xin, out[0, 0]) \n",
    "    time.append(pd.to_datetime(df.index[-1]) + timedelta(days=i))"
   ]
  },
  {
   "cell_type": "code",
   "execution_count": 38,
   "id": "995b59be",
   "metadata": {
    "execution": {
     "iopub.execute_input": "2024-09-19T10:05:57.183008Z",
     "iopub.status.busy": "2024-09-19T10:05:57.182598Z",
     "iopub.status.idle": "2024-09-19T10:05:57.189557Z",
     "shell.execute_reply": "2024-09-19T10:05:57.188608Z"
    },
    "papermill": {
     "duration": 0.213495,
     "end_time": "2024-09-19T10:05:57.191436",
     "exception": false,
     "start_time": "2024-09-19T10:05:56.977941",
     "status": "completed"
    },
    "tags": []
   },
   "outputs": [
    {
     "data": {
      "text/plain": [
       "[Timestamp('2022-03-24 00:00:00'),\n",
       " Timestamp('2022-03-25 00:00:00'),\n",
       " Timestamp('2022-03-26 00:00:00'),\n",
       " Timestamp('2022-03-27 00:00:00'),\n",
       " Timestamp('2022-03-28 00:00:00'),\n",
       " Timestamp('2022-03-29 00:00:00'),\n",
       " Timestamp('2022-03-30 00:00:00'),\n",
       " Timestamp('2022-03-31 00:00:00'),\n",
       " Timestamp('2022-04-01 00:00:00'),\n",
       " Timestamp('2022-04-02 00:00:00'),\n",
       " Timestamp('2022-04-03 00:00:00'),\n",
       " Timestamp('2022-04-04 00:00:00'),\n",
       " Timestamp('2022-04-05 00:00:00'),\n",
       " Timestamp('2022-04-06 00:00:00'),\n",
       " Timestamp('2022-04-07 00:00:00'),\n",
       " Timestamp('2022-04-08 00:00:00'),\n",
       " Timestamp('2022-04-09 00:00:00'),\n",
       " Timestamp('2022-04-10 00:00:00'),\n",
       " Timestamp('2022-04-11 00:00:00'),\n",
       " Timestamp('2022-04-12 00:00:00'),\n",
       " Timestamp('2022-04-13 00:00:00'),\n",
       " Timestamp('2022-04-14 00:00:00'),\n",
       " Timestamp('2022-04-15 00:00:00'),\n",
       " Timestamp('2022-04-16 00:00:00'),\n",
       " Timestamp('2022-04-17 00:00:00'),\n",
       " Timestamp('2022-04-18 00:00:00'),\n",
       " Timestamp('2022-04-19 00:00:00'),\n",
       " Timestamp('2022-04-20 00:00:00'),\n",
       " Timestamp('2022-04-21 00:00:00'),\n",
       " Timestamp('2022-04-22 00:00:00')]"
      ]
     },
     "execution_count": 38,
     "metadata": {},
     "output_type": "execute_result"
    }
   ],
   "source": [
    "time"
   ]
  },
  {
   "cell_type": "markdown",
   "id": "825f94f1",
   "metadata": {
    "papermill": {
     "duration": 0.181038,
     "end_time": "2024-09-19T10:05:57.553730",
     "exception": false,
     "start_time": "2024-09-19T10:05:57.372692",
     "status": "completed"
    },
    "tags": []
   },
   "source": [
    "### Create forecasted dataframe"
   ]
  },
  {
   "cell_type": "code",
   "execution_count": 39,
   "id": "8f8b512e",
   "metadata": {
    "execution": {
     "iopub.execute_input": "2024-09-19T10:05:57.919100Z",
     "iopub.status.busy": "2024-09-19T10:05:57.918328Z",
     "iopub.status.idle": "2024-09-19T10:05:57.923506Z",
     "shell.execute_reply": "2024-09-19T10:05:57.922636Z"
    },
    "papermill": {
     "duration": 0.191396,
     "end_time": "2024-09-19T10:05:57.925500",
     "exception": false,
     "start_time": "2024-09-19T10:05:57.734104",
     "status": "completed"
    },
    "tags": []
   },
   "outputs": [],
   "source": [
    "forcasted_output = np.asanyarray(forcast)   \n",
    "forcasted_output = forcasted_output.reshape(-1, 1) \n",
    "forcasted_output = scaler.inverse_transform(forcasted_output) "
   ]
  },
  {
   "cell_type": "code",
   "execution_count": 40,
   "id": "3023ed28",
   "metadata": {
    "execution": {
     "iopub.execute_input": "2024-09-19T10:05:58.289357Z",
     "iopub.status.busy": "2024-09-19T10:05:58.288360Z",
     "iopub.status.idle": "2024-09-19T10:05:58.295231Z",
     "shell.execute_reply": "2024-09-19T10:05:58.294225Z"
    },
    "papermill": {
     "duration": 0.191316,
     "end_time": "2024-09-19T10:05:58.297186",
     "exception": false,
     "start_time": "2024-09-19T10:05:58.105870",
     "status": "completed"
    },
    "tags": []
   },
   "outputs": [],
   "source": [
    "forcasted_output = pd.DataFrame(forcasted_output)\n",
    "date = pd.DataFrame(time)\n",
    "df_result = pd.concat([date,forcasted_output], axis=1)\n",
    "df_result.columns = \"Date\", \"Forecasted\""
   ]
  },
  {
   "cell_type": "markdown",
   "id": "ebf33519",
   "metadata": {
    "papermill": {
     "duration": 0.186447,
     "end_time": "2024-09-19T10:05:58.665937",
     "exception": false,
     "start_time": "2024-09-19T10:05:58.479490",
     "status": "completed"
    },
    "tags": []
   },
   "source": [
    "## Forecasted tesla close price"
   ]
  },
  {
   "cell_type": "code",
   "execution_count": 41,
   "id": "bc4a2865",
   "metadata": {
    "execution": {
     "iopub.execute_input": "2024-09-19T10:05:59.043581Z",
     "iopub.status.busy": "2024-09-19T10:05:59.042656Z",
     "iopub.status.idle": "2024-09-19T10:05:59.054228Z",
     "shell.execute_reply": "2024-09-19T10:05:59.053225Z"
    },
    "papermill": {
     "duration": 0.20127,
     "end_time": "2024-09-19T10:05:59.056583",
     "exception": false,
     "start_time": "2024-09-19T10:05:58.855313",
     "status": "completed"
    },
    "tags": []
   },
   "outputs": [
    {
     "data": {
      "text/html": [
       "<div>\n",
       "<style scoped>\n",
       "    .dataframe tbody tr th:only-of-type {\n",
       "        vertical-align: middle;\n",
       "    }\n",
       "\n",
       "    .dataframe tbody tr th {\n",
       "        vertical-align: top;\n",
       "    }\n",
       "\n",
       "    .dataframe thead th {\n",
       "        text-align: right;\n",
       "    }\n",
       "</style>\n",
       "<table border=\"1\" class=\"dataframe\">\n",
       "  <thead>\n",
       "    <tr style=\"text-align: right;\">\n",
       "      <th></th>\n",
       "      <th>Date</th>\n",
       "      <th>Forecasted</th>\n",
       "    </tr>\n",
       "  </thead>\n",
       "  <tbody>\n",
       "    <tr>\n",
       "      <th>0</th>\n",
       "      <td>2022-03-24</td>\n",
       "      <td>892.468994</td>\n",
       "    </tr>\n",
       "    <tr>\n",
       "      <th>1</th>\n",
       "      <td>2022-03-25</td>\n",
       "      <td>859.029846</td>\n",
       "    </tr>\n",
       "    <tr>\n",
       "      <th>2</th>\n",
       "      <td>2022-03-26</td>\n",
       "      <td>810.608154</td>\n",
       "    </tr>\n",
       "    <tr>\n",
       "      <th>3</th>\n",
       "      <td>2022-03-27</td>\n",
       "      <td>759.547546</td>\n",
       "    </tr>\n",
       "    <tr>\n",
       "      <th>4</th>\n",
       "      <td>2022-03-28</td>\n",
       "      <td>710.173157</td>\n",
       "    </tr>\n",
       "    <tr>\n",
       "      <th>5</th>\n",
       "      <td>2022-03-29</td>\n",
       "      <td>664.600769</td>\n",
       "    </tr>\n",
       "    <tr>\n",
       "      <th>6</th>\n",
       "      <td>2022-03-30</td>\n",
       "      <td>623.910828</td>\n",
       "    </tr>\n",
       "    <tr>\n",
       "      <th>7</th>\n",
       "      <td>2022-03-31</td>\n",
       "      <td>588.469910</td>\n",
       "    </tr>\n",
       "    <tr>\n",
       "      <th>8</th>\n",
       "      <td>2022-04-01</td>\n",
       "      <td>558.128784</td>\n",
       "    </tr>\n",
       "    <tr>\n",
       "      <th>9</th>\n",
       "      <td>2022-04-02</td>\n",
       "      <td>532.401550</td>\n",
       "    </tr>\n",
       "    <tr>\n",
       "      <th>10</th>\n",
       "      <td>2022-04-03</td>\n",
       "      <td>510.622375</td>\n",
       "    </tr>\n",
       "    <tr>\n",
       "      <th>11</th>\n",
       "      <td>2022-04-04</td>\n",
       "      <td>492.066223</td>\n",
       "    </tr>\n",
       "    <tr>\n",
       "      <th>12</th>\n",
       "      <td>2022-04-05</td>\n",
       "      <td>476.033966</td>\n",
       "    </tr>\n",
       "    <tr>\n",
       "      <th>13</th>\n",
       "      <td>2022-04-06</td>\n",
       "      <td>461.904999</td>\n",
       "    </tr>\n",
       "    <tr>\n",
       "      <th>14</th>\n",
       "      <td>2022-04-07</td>\n",
       "      <td>449.164703</td>\n",
       "    </tr>\n",
       "    <tr>\n",
       "      <th>15</th>\n",
       "      <td>2022-04-08</td>\n",
       "      <td>437.412109</td>\n",
       "    </tr>\n",
       "    <tr>\n",
       "      <th>16</th>\n",
       "      <td>2022-04-09</td>\n",
       "      <td>426.354553</td>\n",
       "    </tr>\n",
       "    <tr>\n",
       "      <th>17</th>\n",
       "      <td>2022-04-10</td>\n",
       "      <td>415.793762</td>\n",
       "    </tr>\n",
       "    <tr>\n",
       "      <th>18</th>\n",
       "      <td>2022-04-11</td>\n",
       "      <td>405.607605</td>\n",
       "    </tr>\n",
       "    <tr>\n",
       "      <th>19</th>\n",
       "      <td>2022-04-12</td>\n",
       "      <td>395.731873</td>\n",
       "    </tr>\n",
       "    <tr>\n",
       "      <th>20</th>\n",
       "      <td>2022-04-13</td>\n",
       "      <td>386.141815</td>\n",
       "    </tr>\n",
       "    <tr>\n",
       "      <th>21</th>\n",
       "      <td>2022-04-14</td>\n",
       "      <td>376.837555</td>\n",
       "    </tr>\n",
       "    <tr>\n",
       "      <th>22</th>\n",
       "      <td>2022-04-15</td>\n",
       "      <td>367.831482</td>\n",
       "    </tr>\n",
       "    <tr>\n",
       "      <th>23</th>\n",
       "      <td>2022-04-16</td>\n",
       "      <td>359.139374</td>\n",
       "    </tr>\n",
       "    <tr>\n",
       "      <th>24</th>\n",
       "      <td>2022-04-17</td>\n",
       "      <td>350.775146</td>\n",
       "    </tr>\n",
       "    <tr>\n",
       "      <th>25</th>\n",
       "      <td>2022-04-18</td>\n",
       "      <td>342.746552</td>\n",
       "    </tr>\n",
       "    <tr>\n",
       "      <th>26</th>\n",
       "      <td>2022-04-19</td>\n",
       "      <td>335.054932</td>\n",
       "    </tr>\n",
       "    <tr>\n",
       "      <th>27</th>\n",
       "      <td>2022-04-20</td>\n",
       "      <td>327.694275</td>\n",
       "    </tr>\n",
       "    <tr>\n",
       "      <th>28</th>\n",
       "      <td>2022-04-21</td>\n",
       "      <td>320.652771</td>\n",
       "    </tr>\n",
       "    <tr>\n",
       "      <th>29</th>\n",
       "      <td>2022-04-22</td>\n",
       "      <td>313.914429</td>\n",
       "    </tr>\n",
       "  </tbody>\n",
       "</table>\n",
       "</div>"
      ],
      "text/plain": [
       "         Date  Forecasted\n",
       "0  2022-03-24  892.468994\n",
       "1  2022-03-25  859.029846\n",
       "2  2022-03-26  810.608154\n",
       "3  2022-03-27  759.547546\n",
       "4  2022-03-28  710.173157\n",
       "5  2022-03-29  664.600769\n",
       "6  2022-03-30  623.910828\n",
       "7  2022-03-31  588.469910\n",
       "8  2022-04-01  558.128784\n",
       "9  2022-04-02  532.401550\n",
       "10 2022-04-03  510.622375\n",
       "11 2022-04-04  492.066223\n",
       "12 2022-04-05  476.033966\n",
       "13 2022-04-06  461.904999\n",
       "14 2022-04-07  449.164703\n",
       "15 2022-04-08  437.412109\n",
       "16 2022-04-09  426.354553\n",
       "17 2022-04-10  415.793762\n",
       "18 2022-04-11  405.607605\n",
       "19 2022-04-12  395.731873\n",
       "20 2022-04-13  386.141815\n",
       "21 2022-04-14  376.837555\n",
       "22 2022-04-15  367.831482\n",
       "23 2022-04-16  359.139374\n",
       "24 2022-04-17  350.775146\n",
       "25 2022-04-18  342.746552\n",
       "26 2022-04-19  335.054932\n",
       "27 2022-04-20  327.694275\n",
       "28 2022-04-21  320.652771\n",
       "29 2022-04-22  313.914429"
      ]
     },
     "execution_count": 41,
     "metadata": {},
     "output_type": "execute_result"
    }
   ],
   "source": [
    "df_result"
   ]
  },
  {
   "cell_type": "code",
   "execution_count": 42,
   "id": "ddd1d222",
   "metadata": {
    "execution": {
     "iopub.execute_input": "2024-09-19T10:05:59.469571Z",
     "iopub.status.busy": "2024-09-19T10:05:59.468715Z",
     "iopub.status.idle": "2024-09-19T10:06:00.145636Z",
     "shell.execute_reply": "2024-09-19T10:06:00.144701Z"
    },
    "papermill": {
     "duration": 0.862845,
     "end_time": "2024-09-19T10:06:00.148398",
     "exception": false,
     "start_time": "2024-09-19T10:05:59.285553",
     "status": "completed"
    },
    "tags": []
   },
   "outputs": [
    {
     "data": {
      "text/plain": [
       "[<matplotlib.lines.Line2D at 0x7b393ebf5600>]"
      ]
     },
     "execution_count": 42,
     "metadata": {},
     "output_type": "execute_result"
    },
    {
     "data": {
      "image/png": "[encoded data removed]",
      "text/plain": [
       "<Figure size 2000x800 with 1 Axes>"
      ]
     },
     "metadata": {},
     "output_type": "display_data"
    }
   ],
   "source": [
    "plt.figure(figsize=(20, 8))\n",
    "plt.title('Tesla Close Stock Price Forecasting For Next 30 Days')\n",
    "plt.xlabel('Date', fontsize=18)\n",
    "plt.ylabel('Close' ,fontsize=18)\n",
    "plt.plot(df['Close'])\n",
    "plt.plot(df_result.set_index('Date')[['Forecasted']])"
   ]
  },
  {
   "cell_type": "code",
   "execution_count": null,
   "id": "e909f100",
   "metadata": {
    "papermill": {
     "duration": 0.183328,
     "end_time": "2024-09-19T10:06:00.516361",
     "exception": false,
     "start_time": "2024-09-19T10:06:00.333033",
     "status": "completed"
    },
    "tags": []
   },
   "outputs": [],
   "source": []
  }
 ],
 "metadata": {
  "kaggle": {
   "accelerator": "none",
   "dataSources": [
    {
     "datasetId": 1436765,
     "sourceId": 3358622,
     "sourceType": "datasetVersion"
    }
   ],
   "dockerImageVersionId": 30761,
   "isGpuEnabled": false,
   "isInternetEnabled": true,
   "language": "python",
   "sourceType": "notebook"
  },
  "kernelspec": {
   "display_name": "Python 3",
   "language": "python",
   "name": "python3"
  },
  "language_info": {
   "codemirror_mode": {
    "name": "ipython",
    "version": 3
   },
   "file_extension": ".py",
   "mimetype": "text/x-python",
   "name": "python",
   "nbconvert_exporter": "python",
   "pygments_lexer": "ipython3",
   "version": "3.10.14"
  },
  "papermill": {
   "default_parameters": {},
   "duration": 235.144883,
   "end_time": "2024-09-19T10:06:02.322505",
   "environment_variables": {},
   "exception": null,
   "input_path": "__notebook__.ipynb",
   "output_path": "__notebook__.ipynb",
   "parameters": {},
   "start_time": "2024-09-19T10:02:07.177622",
   "version": "2.6.0"
  }
 },
 "nbformat": 4,
 "nbformat_minor": 5
}
