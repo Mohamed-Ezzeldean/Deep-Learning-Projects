{
 "cells": [
  {
   "cell_type": "markdown",
   "id": "942d1f22",
   "metadata": {
    "papermill": {
     "duration": 0.013052,
     "end_time": "2024-09-20T18:18:38.507647",
     "exception": false,
     "start_time": "2024-09-20T18:18:38.494595",
     "status": "completed"
    },
    "tags": []
   },
   "source": [
    "# Import Libraries"
   ]
  },
  {
   "cell_type": "code",
   "execution_count": 1,
   "id": "0b2751c0",
   "metadata": {
    "execution": {
     "iopub.execute_input": "2024-09-20T18:18:38.534526Z",
     "iopub.status.busy": "2024-09-20T18:18:38.534071Z",
     "iopub.status.idle": "2024-09-20T18:18:46.571076Z",
     "shell.execute_reply": "2024-09-20T18:18:46.569872Z"
    },
    "papermill": {
     "duration": 8.053613,
     "end_time": "2024-09-20T18:18:46.574041",
     "exception": false,
     "start_time": "2024-09-20T18:18:38.520428",
     "status": "completed"
    },
    "tags": []
   },
   "outputs": [],
   "source": [
    "import pandas as pd\n",
    "import numpy as np\n",
    "\n",
    "from sklearn.feature_extraction.text import TfidfVectorizer\n",
    "from sklearn.model_selection import train_test_split\n",
    "from sklearn.metrics import accuracy_score, classification_report\n",
    "\n",
    "\n",
    "from sklearn.ensemble import RandomForestClassifier\n",
    "from sklearn.naive_bayes import MultinomialNB\n",
    "from sklearn.preprocessing import LabelEncoder\n",
    "from sklearn.pipeline import Pipeline\n",
    "\n",
    "import spacy\n",
    "\n",
    "import warnings\n",
    "warnings.filterwarnings('ignore')"
   ]
  },
  {
   "cell_type": "markdown",
   "id": "164484b1",
   "metadata": {
    "papermill": {
     "duration": 0.011857,
     "end_time": "2024-09-20T18:18:46.598394",
     "exception": false,
     "start_time": "2024-09-20T18:18:46.586537",
     "status": "completed"
    },
    "tags": []
   },
   "source": [
    "# Explore Data"
   ]
  },
  {
   "cell_type": "code",
   "execution_count": 2,
   "id": "fa54d575",
   "metadata": {
    "execution": {
     "iopub.execute_input": "2024-09-20T18:18:46.625341Z",
     "iopub.status.busy": "2024-09-20T18:18:46.624252Z",
     "iopub.status.idle": "2024-09-20T18:18:47.047651Z",
     "shell.execute_reply": "2024-09-20T18:18:47.046346Z"
    },
    "papermill": {
     "duration": 0.440078,
     "end_time": "2024-09-20T18:18:47.050582",
     "exception": false,
     "start_time": "2024-09-20T18:18:46.610504",
     "status": "completed"
    },
    "tags": []
   },
   "outputs": [],
   "source": [
    "col = ['id','country','Label','Text']\n",
    "data = pd.read_csv(\"/kaggle/input/twitter-entity-sentiment-analysis/twitter_training.csv\", names=col)"
   ]
  },
  {
   "cell_type": "code",
   "execution_count": 3,
   "id": "4de64d08",
   "metadata": {
    "execution": {
     "iopub.execute_input": "2024-09-20T18:18:47.078319Z",
     "iopub.status.busy": "2024-09-20T18:18:47.077844Z",
     "iopub.status.idle": "2024-09-20T18:18:47.101181Z",
     "shell.execute_reply": "2024-09-20T18:18:47.100026Z"
    },
    "papermill": {
     "duration": 0.040165,
     "end_time": "2024-09-20T18:18:47.103950",
     "exception": false,
     "start_time": "2024-09-20T18:18:47.063785",
     "status": "completed"
    },
    "tags": []
   },
   "outputs": [
    {
     "data": {
      "text/html": [
       "<div>\n",
       "<style scoped>\n",
       "    .dataframe tbody tr th:only-of-type {\n",
       "        vertical-align: middle;\n",
       "    }\n",
       "\n",
       "    .dataframe tbody tr th {\n",
       "        vertical-align: top;\n",
       "    }\n",
       "\n",
       "    .dataframe thead th {\n",
       "        text-align: right;\n",
       "    }\n",
       "</style>\n",
       "<table border=\"1\" class=\"dataframe\">\n",
       "  <thead>\n",
       "    <tr style=\"text-align: right;\">\n",
       "      <th></th>\n",
       "      <th>id</th>\n",
       "      <th>country</th>\n",
       "      <th>Label</th>\n",
       "      <th>Text</th>\n",
       "    </tr>\n",
       "  </thead>\n",
       "  <tbody>\n",
       "    <tr>\n",
       "      <th>0</th>\n",
       "      <td>2401</td>\n",
       "      <td>Borderlands</td>\n",
       "      <td>Positive</td>\n",
       "      <td>im getting on borderlands and i will murder yo...</td>\n",
       "    </tr>\n",
       "    <tr>\n",
       "      <th>1</th>\n",
       "      <td>2401</td>\n",
       "      <td>Borderlands</td>\n",
       "      <td>Positive</td>\n",
       "      <td>I am coming to the borders and I will kill you...</td>\n",
       "    </tr>\n",
       "    <tr>\n",
       "      <th>2</th>\n",
       "      <td>2401</td>\n",
       "      <td>Borderlands</td>\n",
       "      <td>Positive</td>\n",
       "      <td>im getting on borderlands and i will kill you ...</td>\n",
       "    </tr>\n",
       "    <tr>\n",
       "      <th>3</th>\n",
       "      <td>2401</td>\n",
       "      <td>Borderlands</td>\n",
       "      <td>Positive</td>\n",
       "      <td>im coming on borderlands and i will murder you...</td>\n",
       "    </tr>\n",
       "    <tr>\n",
       "      <th>4</th>\n",
       "      <td>2401</td>\n",
       "      <td>Borderlands</td>\n",
       "      <td>Positive</td>\n",
       "      <td>im getting on borderlands 2 and i will murder ...</td>\n",
       "    </tr>\n",
       "  </tbody>\n",
       "</table>\n",
       "</div>"
      ],
      "text/plain": [
       "     id      country     Label  \\\n",
       "0  2401  Borderlands  Positive   \n",
       "1  2401  Borderlands  Positive   \n",
       "2  2401  Borderlands  Positive   \n",
       "3  2401  Borderlands  Positive   \n",
       "4  2401  Borderlands  Positive   \n",
       "\n",
       "                                                Text  \n",
       "0  im getting on borderlands and i will murder yo...  \n",
       "1  I am coming to the borders and I will kill you...  \n",
       "2  im getting on borderlands and i will kill you ...  \n",
       "3  im coming on borderlands and i will murder you...  \n",
       "4  im getting on borderlands 2 and i will murder ...  "
      ]
     },
     "execution_count": 3,
     "metadata": {},
     "output_type": "execute_result"
    }
   ],
   "source": [
    "data.head()"
   ]
  },
  {
   "cell_type": "code",
   "execution_count": 4,
   "id": "6f7c86b3",
   "metadata": {
    "execution": {
     "iopub.execute_input": "2024-09-20T18:18:47.132271Z",
     "iopub.status.busy": "2024-09-20T18:18:47.131788Z",
     "iopub.status.idle": "2024-09-20T18:18:47.146974Z",
     "shell.execute_reply": "2024-09-20T18:18:47.145753Z"
    },
    "papermill": {
     "duration": 0.032673,
     "end_time": "2024-09-20T18:18:47.149331",
     "exception": false,
     "start_time": "2024-09-20T18:18:47.116658",
     "status": "completed"
    },
    "tags": []
   },
   "outputs": [
    {
     "data": {
      "text/html": [
       "<div>\n",
       "<style scoped>\n",
       "    .dataframe tbody tr th:only-of-type {\n",
       "        vertical-align: middle;\n",
       "    }\n",
       "\n",
       "    .dataframe tbody tr th {\n",
       "        vertical-align: top;\n",
       "    }\n",
       "\n",
       "    .dataframe thead th {\n",
       "        text-align: right;\n",
       "    }\n",
       "</style>\n",
       "<table border=\"1\" class=\"dataframe\">\n",
       "  <thead>\n",
       "    <tr style=\"text-align: right;\">\n",
       "      <th></th>\n",
       "      <th>id</th>\n",
       "      <th>country</th>\n",
       "      <th>Label</th>\n",
       "      <th>Text</th>\n",
       "    </tr>\n",
       "  </thead>\n",
       "  <tbody>\n",
       "    <tr>\n",
       "      <th>74677</th>\n",
       "      <td>9200</td>\n",
       "      <td>Nvidia</td>\n",
       "      <td>Positive</td>\n",
       "      <td>Just realized that the Windows partition of my...</td>\n",
       "    </tr>\n",
       "    <tr>\n",
       "      <th>74678</th>\n",
       "      <td>9200</td>\n",
       "      <td>Nvidia</td>\n",
       "      <td>Positive</td>\n",
       "      <td>Just realized that my Mac window partition is ...</td>\n",
       "    </tr>\n",
       "    <tr>\n",
       "      <th>74679</th>\n",
       "      <td>9200</td>\n",
       "      <td>Nvidia</td>\n",
       "      <td>Positive</td>\n",
       "      <td>Just realized the windows partition of my Mac ...</td>\n",
       "    </tr>\n",
       "    <tr>\n",
       "      <th>74680</th>\n",
       "      <td>9200</td>\n",
       "      <td>Nvidia</td>\n",
       "      <td>Positive</td>\n",
       "      <td>Just realized between the windows partition of...</td>\n",
       "    </tr>\n",
       "    <tr>\n",
       "      <th>74681</th>\n",
       "      <td>9200</td>\n",
       "      <td>Nvidia</td>\n",
       "      <td>Positive</td>\n",
       "      <td>Just like the windows partition of my Mac is l...</td>\n",
       "    </tr>\n",
       "  </tbody>\n",
       "</table>\n",
       "</div>"
      ],
      "text/plain": [
       "         id country     Label  \\\n",
       "74677  9200  Nvidia  Positive   \n",
       "74678  9200  Nvidia  Positive   \n",
       "74679  9200  Nvidia  Positive   \n",
       "74680  9200  Nvidia  Positive   \n",
       "74681  9200  Nvidia  Positive   \n",
       "\n",
       "                                                    Text  \n",
       "74677  Just realized that the Windows partition of my...  \n",
       "74678  Just realized that my Mac window partition is ...  \n",
       "74679  Just realized the windows partition of my Mac ...  \n",
       "74680  Just realized between the windows partition of...  \n",
       "74681  Just like the windows partition of my Mac is l...  "
      ]
     },
     "execution_count": 4,
     "metadata": {},
     "output_type": "execute_result"
    }
   ],
   "source": [
    "data.tail()"
   ]
  },
  {
   "cell_type": "code",
   "execution_count": 5,
   "id": "688362eb",
   "metadata": {
    "execution": {
     "iopub.execute_input": "2024-09-20T18:18:47.176927Z",
     "iopub.status.busy": "2024-09-20T18:18:47.176468Z",
     "iopub.status.idle": "2024-09-20T18:18:47.184374Z",
     "shell.execute_reply": "2024-09-20T18:18:47.183254Z"
    },
    "papermill": {
     "duration": 0.024661,
     "end_time": "2024-09-20T18:18:47.186934",
     "exception": false,
     "start_time": "2024-09-20T18:18:47.162273",
     "status": "completed"
    },
    "tags": []
   },
   "outputs": [
    {
     "data": {
      "text/plain": [
       "(74682, 4)"
      ]
     },
     "execution_count": 5,
     "metadata": {},
     "output_type": "execute_result"
    }
   ],
   "source": [
    "data.shape"
   ]
  },
  {
   "cell_type": "code",
   "execution_count": 6,
   "id": "170b0e76",
   "metadata": {
    "execution": {
     "iopub.execute_input": "2024-09-20T18:18:47.215883Z",
     "iopub.status.busy": "2024-09-20T18:18:47.214747Z",
     "iopub.status.idle": "2024-09-20T18:18:47.268754Z",
     "shell.execute_reply": "2024-09-20T18:18:47.266950Z"
    },
    "papermill": {
     "duration": 0.071652,
     "end_time": "2024-09-20T18:18:47.271597",
     "exception": false,
     "start_time": "2024-09-20T18:18:47.199945",
     "status": "completed"
    },
    "tags": []
   },
   "outputs": [
    {
     "name": "stdout",
     "output_type": "stream",
     "text": [
      "<class 'pandas.core.frame.DataFrame'>\n",
      "RangeIndex: 74682 entries, 0 to 74681\n",
      "Data columns (total 4 columns):\n",
      " #   Column   Non-Null Count  Dtype \n",
      "---  ------   --------------  ----- \n",
      " 0   id       74682 non-null  int64 \n",
      " 1   country  74682 non-null  object\n",
      " 2   Label    74682 non-null  object\n",
      " 3   Text     73996 non-null  object\n",
      "dtypes: int64(1), object(3)\n",
      "memory usage: 2.3+ MB\n"
     ]
    }
   ],
   "source": [
    "data.info()"
   ]
  },
  {
   "cell_type": "code",
   "execution_count": 7,
   "id": "bb8b40cd",
   "metadata": {
    "execution": {
     "iopub.execute_input": "2024-09-20T18:18:47.299911Z",
     "iopub.status.busy": "2024-09-20T18:18:47.299416Z",
     "iopub.status.idle": "2024-09-20T18:18:47.319931Z",
     "shell.execute_reply": "2024-09-20T18:18:47.318751Z"
    },
    "papermill": {
     "duration": 0.037459,
     "end_time": "2024-09-20T18:18:47.322534",
     "exception": false,
     "start_time": "2024-09-20T18:18:47.285075",
     "status": "completed"
    },
    "tags": []
   },
   "outputs": [
    {
     "data": {
      "text/plain": [
       "Label\n",
       "Negative      22542\n",
       "Positive      20832\n",
       "Neutral       18318\n",
       "Irrelevant    12990\n",
       "Name: count, dtype: int64"
      ]
     },
     "execution_count": 7,
     "metadata": {},
     "output_type": "execute_result"
    }
   ],
   "source": [
    "data['Label'].value_counts()"
   ]
  },
  {
   "cell_type": "code",
   "execution_count": 8,
   "id": "9607b363",
   "metadata": {
    "execution": {
     "iopub.execute_input": "2024-09-20T18:18:47.351774Z",
     "iopub.status.busy": "2024-09-20T18:18:47.350664Z",
     "iopub.status.idle": "2024-09-20T18:18:47.357576Z",
     "shell.execute_reply": "2024-09-20T18:18:47.356369Z"
    },
    "papermill": {
     "duration": 0.024091,
     "end_time": "2024-09-20T18:18:47.360124",
     "exception": false,
     "start_time": "2024-09-20T18:18:47.336033",
     "status": "completed"
    },
    "tags": []
   },
   "outputs": [
    {
     "name": "stdout",
     "output_type": "stream",
     "text": [
      "im getting on borderlands and i will kill you all, -> Positive\n"
     ]
    }
   ],
   "source": [
    "print(f\"{data['Text'][2]} -> {data['Label'][2]}\")"
   ]
  },
  {
   "cell_type": "markdown",
   "id": "c092983f",
   "metadata": {
    "papermill": {
     "duration": 0.012961,
     "end_time": "2024-09-20T18:18:47.386982",
     "exception": false,
     "start_time": "2024-09-20T18:18:47.374021",
     "status": "completed"
    },
    "tags": []
   },
   "source": [
    "# Preprocessing"
   ]
  },
  {
   "cell_type": "code",
   "execution_count": 9,
   "id": "c0340c05",
   "metadata": {
    "execution": {
     "iopub.execute_input": "2024-09-20T18:18:47.415800Z",
     "iopub.status.busy": "2024-09-20T18:18:47.415359Z",
     "iopub.status.idle": "2024-09-20T18:18:47.455838Z",
     "shell.execute_reply": "2024-09-20T18:18:47.454590Z"
    },
    "papermill": {
     "duration": 0.057965,
     "end_time": "2024-09-20T18:18:47.458724",
     "exception": false,
     "start_time": "2024-09-20T18:18:47.400759",
     "status": "completed"
    },
    "tags": []
   },
   "outputs": [],
   "source": [
    "data.dropna(inplace=True)"
   ]
  },
  {
   "cell_type": "code",
   "execution_count": 10,
   "id": "5e9e546a",
   "metadata": {
    "execution": {
     "iopub.execute_input": "2024-09-20T18:18:47.487718Z",
     "iopub.status.busy": "2024-09-20T18:18:47.487281Z",
     "iopub.status.idle": "2024-09-20T18:18:49.135534Z",
     "shell.execute_reply": "2024-09-20T18:18:49.134337Z"
    },
    "papermill": {
     "duration": 1.666569,
     "end_time": "2024-09-20T18:18:49.138806",
     "exception": false,
     "start_time": "2024-09-20T18:18:47.472237",
     "status": "completed"
    },
    "tags": []
   },
   "outputs": [],
   "source": [
    "# Preprocess Function\n",
    "nlp = spacy.load(\"en_core_web_sm\") \n",
    "def preprocess(text):\n",
    "    doc = nlp(text)\n",
    "    filtered_tokens = []\n",
    "    for token in doc:\n",
    "        if token.is_stop or token.is_punct:\n",
    "            continue\n",
    "        filtered_tokens.append(token.lemma_)\n",
    "    \n",
    "    return \" \".join(filtered_tokens) "
   ]
  },
  {
   "cell_type": "code",
   "execution_count": 11,
   "id": "c4997025",
   "metadata": {
    "execution": {
     "iopub.execute_input": "2024-09-20T18:18:49.171211Z",
     "iopub.status.busy": "2024-09-20T18:18:49.170647Z",
     "iopub.status.idle": "2024-09-20T18:31:48.571737Z",
     "shell.execute_reply": "2024-09-20T18:31:48.570408Z"
    },
    "papermill": {
     "duration": 779.419141,
     "end_time": "2024-09-20T18:31:48.574844",
     "exception": false,
     "start_time": "2024-09-20T18:18:49.155703",
     "status": "completed"
    },
    "tags": []
   },
   "outputs": [],
   "source": [
    "data['Preprocessed Text'] = data['Text'].apply(preprocess) "
   ]
  },
  {
   "cell_type": "code",
   "execution_count": 12,
   "id": "f20a3881",
   "metadata": {
    "execution": {
     "iopub.execute_input": "2024-09-20T18:31:48.603964Z",
     "iopub.status.busy": "2024-09-20T18:31:48.603474Z",
     "iopub.status.idle": "2024-09-20T18:31:48.621755Z",
     "shell.execute_reply": "2024-09-20T18:31:48.620539Z"
    },
    "papermill": {
     "duration": 0.035638,
     "end_time": "2024-09-20T18:31:48.624343",
     "exception": false,
     "start_time": "2024-09-20T18:31:48.588705",
     "status": "completed"
    },
    "tags": []
   },
   "outputs": [
    {
     "data": {
      "text/html": [
       "<div>\n",
       "<style scoped>\n",
       "    .dataframe tbody tr th:only-of-type {\n",
       "        vertical-align: middle;\n",
       "    }\n",
       "\n",
       "    .dataframe tbody tr th {\n",
       "        vertical-align: top;\n",
       "    }\n",
       "\n",
       "    .dataframe thead th {\n",
       "        text-align: right;\n",
       "    }\n",
       "</style>\n",
       "<table border=\"1\" class=\"dataframe\">\n",
       "  <thead>\n",
       "    <tr style=\"text-align: right;\">\n",
       "      <th></th>\n",
       "      <th>id</th>\n",
       "      <th>country</th>\n",
       "      <th>Label</th>\n",
       "      <th>Text</th>\n",
       "      <th>Preprocessed Text</th>\n",
       "    </tr>\n",
       "  </thead>\n",
       "  <tbody>\n",
       "    <tr>\n",
       "      <th>0</th>\n",
       "      <td>2401</td>\n",
       "      <td>Borderlands</td>\n",
       "      <td>Positive</td>\n",
       "      <td>im getting on borderlands and i will murder yo...</td>\n",
       "      <td>m get borderland murder</td>\n",
       "    </tr>\n",
       "    <tr>\n",
       "      <th>1</th>\n",
       "      <td>2401</td>\n",
       "      <td>Borderlands</td>\n",
       "      <td>Positive</td>\n",
       "      <td>I am coming to the borders and I will kill you...</td>\n",
       "      <td>come border kill</td>\n",
       "    </tr>\n",
       "    <tr>\n",
       "      <th>2</th>\n",
       "      <td>2401</td>\n",
       "      <td>Borderlands</td>\n",
       "      <td>Positive</td>\n",
       "      <td>im getting on borderlands and i will kill you ...</td>\n",
       "      <td>m get borderland kill</td>\n",
       "    </tr>\n",
       "    <tr>\n",
       "      <th>3</th>\n",
       "      <td>2401</td>\n",
       "      <td>Borderlands</td>\n",
       "      <td>Positive</td>\n",
       "      <td>im coming on borderlands and i will murder you...</td>\n",
       "      <td>m come borderland murder</td>\n",
       "    </tr>\n",
       "    <tr>\n",
       "      <th>4</th>\n",
       "      <td>2401</td>\n",
       "      <td>Borderlands</td>\n",
       "      <td>Positive</td>\n",
       "      <td>im getting on borderlands 2 and i will murder ...</td>\n",
       "      <td>m get borderland 2 murder</td>\n",
       "    </tr>\n",
       "    <tr>\n",
       "      <th>...</th>\n",
       "      <td>...</td>\n",
       "      <td>...</td>\n",
       "      <td>...</td>\n",
       "      <td>...</td>\n",
       "      <td>...</td>\n",
       "    </tr>\n",
       "    <tr>\n",
       "      <th>74677</th>\n",
       "      <td>9200</td>\n",
       "      <td>Nvidia</td>\n",
       "      <td>Positive</td>\n",
       "      <td>Just realized that the Windows partition of my...</td>\n",
       "      <td>realize Windows partition Mac like 6 year Nvid...</td>\n",
       "    </tr>\n",
       "    <tr>\n",
       "      <th>74678</th>\n",
       "      <td>9200</td>\n",
       "      <td>Nvidia</td>\n",
       "      <td>Positive</td>\n",
       "      <td>Just realized that my Mac window partition is ...</td>\n",
       "      <td>realize Mac window partition 6 year Nvidia dri...</td>\n",
       "    </tr>\n",
       "    <tr>\n",
       "      <th>74679</th>\n",
       "      <td>9200</td>\n",
       "      <td>Nvidia</td>\n",
       "      <td>Positive</td>\n",
       "      <td>Just realized the windows partition of my Mac ...</td>\n",
       "      <td>realize window partition Mac 6 year Nvidia dri...</td>\n",
       "    </tr>\n",
       "    <tr>\n",
       "      <th>74680</th>\n",
       "      <td>9200</td>\n",
       "      <td>Nvidia</td>\n",
       "      <td>Positive</td>\n",
       "      <td>Just realized between the windows partition of...</td>\n",
       "      <td>realize window partition Mac like 6 year Nvidi...</td>\n",
       "    </tr>\n",
       "    <tr>\n",
       "      <th>74681</th>\n",
       "      <td>9200</td>\n",
       "      <td>Nvidia</td>\n",
       "      <td>Positive</td>\n",
       "      <td>Just like the windows partition of my Mac is l...</td>\n",
       "      <td>like window partition Mac like 6 year driver i...</td>\n",
       "    </tr>\n",
       "  </tbody>\n",
       "</table>\n",
       "<p>73996 rows × 5 columns</p>\n",
       "</div>"
      ],
      "text/plain": [
       "         id      country     Label  \\\n",
       "0      2401  Borderlands  Positive   \n",
       "1      2401  Borderlands  Positive   \n",
       "2      2401  Borderlands  Positive   \n",
       "3      2401  Borderlands  Positive   \n",
       "4      2401  Borderlands  Positive   \n",
       "...     ...          ...       ...   \n",
       "74677  9200       Nvidia  Positive   \n",
       "74678  9200       Nvidia  Positive   \n",
       "74679  9200       Nvidia  Positive   \n",
       "74680  9200       Nvidia  Positive   \n",
       "74681  9200       Nvidia  Positive   \n",
       "\n",
       "                                                    Text  \\\n",
       "0      im getting on borderlands and i will murder yo...   \n",
       "1      I am coming to the borders and I will kill you...   \n",
       "2      im getting on borderlands and i will kill you ...   \n",
       "3      im coming on borderlands and i will murder you...   \n",
       "4      im getting on borderlands 2 and i will murder ...   \n",
       "...                                                  ...   \n",
       "74677  Just realized that the Windows partition of my...   \n",
       "74678  Just realized that my Mac window partition is ...   \n",
       "74679  Just realized the windows partition of my Mac ...   \n",
       "74680  Just realized between the windows partition of...   \n",
       "74681  Just like the windows partition of my Mac is l...   \n",
       "\n",
       "                                       Preprocessed Text  \n",
       "0                                m get borderland murder  \n",
       "1                                       come border kill  \n",
       "2                                  m get borderland kill  \n",
       "3                               m come borderland murder  \n",
       "4                              m get borderland 2 murder  \n",
       "...                                                  ...  \n",
       "74677  realize Windows partition Mac like 6 year Nvid...  \n",
       "74678  realize Mac window partition 6 year Nvidia dri...  \n",
       "74679  realize window partition Mac 6 year Nvidia dri...  \n",
       "74680  realize window partition Mac like 6 year Nvidi...  \n",
       "74681  like window partition Mac like 6 year driver i...  \n",
       "\n",
       "[73996 rows x 5 columns]"
      ]
     },
     "execution_count": 12,
     "metadata": {},
     "output_type": "execute_result"
    }
   ],
   "source": [
    "data"
   ]
  },
  {
   "cell_type": "code",
   "execution_count": 13,
   "id": "f12133a6",
   "metadata": {
    "execution": {
     "iopub.execute_input": "2024-09-20T18:31:48.654287Z",
     "iopub.status.busy": "2024-09-20T18:31:48.653788Z",
     "iopub.status.idle": "2024-09-20T18:31:48.680416Z",
     "shell.execute_reply": "2024-09-20T18:31:48.679160Z"
    },
    "papermill": {
     "duration": 0.044614,
     "end_time": "2024-09-20T18:31:48.683229",
     "exception": false,
     "start_time": "2024-09-20T18:31:48.638615",
     "status": "completed"
    },
    "tags": []
   },
   "outputs": [],
   "source": [
    "# Encoding target column\n",
    "le = LabelEncoder()\n",
    "data['Label'] = le.fit_transform(data['Label'])"
   ]
  },
  {
   "cell_type": "code",
   "execution_count": 14,
   "id": "9c149416",
   "metadata": {
    "execution": {
     "iopub.execute_input": "2024-09-20T18:31:48.712595Z",
     "iopub.status.busy": "2024-09-20T18:31:48.712112Z",
     "iopub.status.idle": "2024-09-20T18:31:48.727419Z",
     "shell.execute_reply": "2024-09-20T18:31:48.726282Z"
    },
    "papermill": {
     "duration": 0.032753,
     "end_time": "2024-09-20T18:31:48.729909",
     "exception": false,
     "start_time": "2024-09-20T18:31:48.697156",
     "status": "completed"
    },
    "tags": []
   },
   "outputs": [
    {
     "data": {
      "text/html": [
       "<div>\n",
       "<style scoped>\n",
       "    .dataframe tbody tr th:only-of-type {\n",
       "        vertical-align: middle;\n",
       "    }\n",
       "\n",
       "    .dataframe tbody tr th {\n",
       "        vertical-align: top;\n",
       "    }\n",
       "\n",
       "    .dataframe thead th {\n",
       "        text-align: right;\n",
       "    }\n",
       "</style>\n",
       "<table border=\"1\" class=\"dataframe\">\n",
       "  <thead>\n",
       "    <tr style=\"text-align: right;\">\n",
       "      <th></th>\n",
       "      <th>id</th>\n",
       "      <th>country</th>\n",
       "      <th>Label</th>\n",
       "      <th>Text</th>\n",
       "      <th>Preprocessed Text</th>\n",
       "    </tr>\n",
       "  </thead>\n",
       "  <tbody>\n",
       "    <tr>\n",
       "      <th>0</th>\n",
       "      <td>2401</td>\n",
       "      <td>Borderlands</td>\n",
       "      <td>3</td>\n",
       "      <td>im getting on borderlands and i will murder yo...</td>\n",
       "      <td>m get borderland murder</td>\n",
       "    </tr>\n",
       "    <tr>\n",
       "      <th>1</th>\n",
       "      <td>2401</td>\n",
       "      <td>Borderlands</td>\n",
       "      <td>3</td>\n",
       "      <td>I am coming to the borders and I will kill you...</td>\n",
       "      <td>come border kill</td>\n",
       "    </tr>\n",
       "    <tr>\n",
       "      <th>2</th>\n",
       "      <td>2401</td>\n",
       "      <td>Borderlands</td>\n",
       "      <td>3</td>\n",
       "      <td>im getting on borderlands and i will kill you ...</td>\n",
       "      <td>m get borderland kill</td>\n",
       "    </tr>\n",
       "    <tr>\n",
       "      <th>3</th>\n",
       "      <td>2401</td>\n",
       "      <td>Borderlands</td>\n",
       "      <td>3</td>\n",
       "      <td>im coming on borderlands and i will murder you...</td>\n",
       "      <td>m come borderland murder</td>\n",
       "    </tr>\n",
       "    <tr>\n",
       "      <th>4</th>\n",
       "      <td>2401</td>\n",
       "      <td>Borderlands</td>\n",
       "      <td>3</td>\n",
       "      <td>im getting on borderlands 2 and i will murder ...</td>\n",
       "      <td>m get borderland 2 murder</td>\n",
       "    </tr>\n",
       "    <tr>\n",
       "      <th>...</th>\n",
       "      <td>...</td>\n",
       "      <td>...</td>\n",
       "      <td>...</td>\n",
       "      <td>...</td>\n",
       "      <td>...</td>\n",
       "    </tr>\n",
       "    <tr>\n",
       "      <th>74677</th>\n",
       "      <td>9200</td>\n",
       "      <td>Nvidia</td>\n",
       "      <td>3</td>\n",
       "      <td>Just realized that the Windows partition of my...</td>\n",
       "      <td>realize Windows partition Mac like 6 year Nvid...</td>\n",
       "    </tr>\n",
       "    <tr>\n",
       "      <th>74678</th>\n",
       "      <td>9200</td>\n",
       "      <td>Nvidia</td>\n",
       "      <td>3</td>\n",
       "      <td>Just realized that my Mac window partition is ...</td>\n",
       "      <td>realize Mac window partition 6 year Nvidia dri...</td>\n",
       "    </tr>\n",
       "    <tr>\n",
       "      <th>74679</th>\n",
       "      <td>9200</td>\n",
       "      <td>Nvidia</td>\n",
       "      <td>3</td>\n",
       "      <td>Just realized the windows partition of my Mac ...</td>\n",
       "      <td>realize window partition Mac 6 year Nvidia dri...</td>\n",
       "    </tr>\n",
       "    <tr>\n",
       "      <th>74680</th>\n",
       "      <td>9200</td>\n",
       "      <td>Nvidia</td>\n",
       "      <td>3</td>\n",
       "      <td>Just realized between the windows partition of...</td>\n",
       "      <td>realize window partition Mac like 6 year Nvidi...</td>\n",
       "    </tr>\n",
       "    <tr>\n",
       "      <th>74681</th>\n",
       "      <td>9200</td>\n",
       "      <td>Nvidia</td>\n",
       "      <td>3</td>\n",
       "      <td>Just like the windows partition of my Mac is l...</td>\n",
       "      <td>like window partition Mac like 6 year driver i...</td>\n",
       "    </tr>\n",
       "  </tbody>\n",
       "</table>\n",
       "<p>73996 rows × 5 columns</p>\n",
       "</div>"
      ],
      "text/plain": [
       "         id      country  Label  \\\n",
       "0      2401  Borderlands      3   \n",
       "1      2401  Borderlands      3   \n",
       "2      2401  Borderlands      3   \n",
       "3      2401  Borderlands      3   \n",
       "4      2401  Borderlands      3   \n",
       "...     ...          ...    ...   \n",
       "74677  9200       Nvidia      3   \n",
       "74678  9200       Nvidia      3   \n",
       "74679  9200       Nvidia      3   \n",
       "74680  9200       Nvidia      3   \n",
       "74681  9200       Nvidia      3   \n",
       "\n",
       "                                                    Text  \\\n",
       "0      im getting on borderlands and i will murder yo...   \n",
       "1      I am coming to the borders and I will kill you...   \n",
       "2      im getting on borderlands and i will kill you ...   \n",
       "3      im coming on borderlands and i will murder you...   \n",
       "4      im getting on borderlands 2 and i will murder ...   \n",
       "...                                                  ...   \n",
       "74677  Just realized that the Windows partition of my...   \n",
       "74678  Just realized that my Mac window partition is ...   \n",
       "74679  Just realized the windows partition of my Mac ...   \n",
       "74680  Just realized between the windows partition of...   \n",
       "74681  Just like the windows partition of my Mac is l...   \n",
       "\n",
       "                                       Preprocessed Text  \n",
       "0                                m get borderland murder  \n",
       "1                                       come border kill  \n",
       "2                                  m get borderland kill  \n",
       "3                               m come borderland murder  \n",
       "4                              m get borderland 2 murder  \n",
       "...                                                  ...  \n",
       "74677  realize Windows partition Mac like 6 year Nvid...  \n",
       "74678  realize Mac window partition 6 year Nvidia dri...  \n",
       "74679  realize window partition Mac 6 year Nvidia dri...  \n",
       "74680  realize window partition Mac like 6 year Nvidi...  \n",
       "74681  like window partition Mac like 6 year driver i...  \n",
       "\n",
       "[73996 rows x 5 columns]"
      ]
     },
     "execution_count": 14,
     "metadata": {},
     "output_type": "execute_result"
    }
   ],
   "source": [
    "data"
   ]
  },
  {
   "cell_type": "code",
   "execution_count": 15,
   "id": "4345d768",
   "metadata": {
    "execution": {
     "iopub.execute_input": "2024-09-20T18:31:48.760114Z",
     "iopub.status.busy": "2024-09-20T18:31:48.759186Z",
     "iopub.status.idle": "2024-09-20T18:31:48.811545Z",
     "shell.execute_reply": "2024-09-20T18:31:48.810248Z"
    },
    "papermill": {
     "duration": 0.070413,
     "end_time": "2024-09-20T18:31:48.814447",
     "exception": false,
     "start_time": "2024-09-20T18:31:48.744034",
     "status": "completed"
    },
    "tags": []
   },
   "outputs": [],
   "source": [
    "# Split data into train and test\n",
    "\n",
    "x_train, x_test, y_train, y_test = train_test_split(data['Preprocessed Text'], data['Label'], \n",
    "                                                    test_size=0.2, random_state=42, stratify=data['Label'])"
   ]
  },
  {
   "cell_type": "code",
   "execution_count": 16,
   "id": "b25f0898",
   "metadata": {
    "execution": {
     "iopub.execute_input": "2024-09-20T18:31:48.844460Z",
     "iopub.status.busy": "2024-09-20T18:31:48.843986Z",
     "iopub.status.idle": "2024-09-20T18:31:48.851240Z",
     "shell.execute_reply": "2024-09-20T18:31:48.849915Z"
    },
    "papermill": {
     "duration": 0.025112,
     "end_time": "2024-09-20T18:31:48.853735",
     "exception": false,
     "start_time": "2024-09-20T18:31:48.828623",
     "status": "completed"
    },
    "tags": []
   },
   "outputs": [
    {
     "data": {
      "text/plain": [
       "(14800,)"
      ]
     },
     "execution_count": 16,
     "metadata": {},
     "output_type": "execute_result"
    }
   ],
   "source": [
    "x_test.shape"
   ]
  },
  {
   "cell_type": "code",
   "execution_count": 17,
   "id": "a687817d",
   "metadata": {
    "execution": {
     "iopub.execute_input": "2024-09-20T18:31:48.885008Z",
     "iopub.status.busy": "2024-09-20T18:31:48.883856Z",
     "iopub.status.idle": "2024-09-20T18:31:48.891444Z",
     "shell.execute_reply": "2024-09-20T18:31:48.890164Z"
    },
    "papermill": {
     "duration": 0.025863,
     "end_time": "2024-09-20T18:31:48.893877",
     "exception": false,
     "start_time": "2024-09-20T18:31:48.868014",
     "status": "completed"
    },
    "tags": []
   },
   "outputs": [
    {
     "data": {
      "text/plain": [
       "(59196,)"
      ]
     },
     "execution_count": 17,
     "metadata": {},
     "output_type": "execute_result"
    }
   ],
   "source": [
    "x_train.shape"
   ]
  },
  {
   "cell_type": "markdown",
   "id": "281f0eda",
   "metadata": {
    "papermill": {
     "duration": 0.014001,
     "end_time": "2024-09-20T18:31:48.922151",
     "exception": false,
     "start_time": "2024-09-20T18:31:48.908150",
     "status": "completed"
    },
    "tags": []
   },
   "source": [
    "# ML Model"
   ]
  },
  {
   "cell_type": "markdown",
   "id": "630c55bb",
   "metadata": {
    "papermill": {
     "duration": 0.013929,
     "end_time": "2024-09-20T18:31:48.950362",
     "exception": false,
     "start_time": "2024-09-20T18:31:48.936433",
     "status": "completed"
    },
    "tags": []
   },
   "source": [
    "#### Naive Bayes "
   ]
  },
  {
   "cell_type": "code",
   "execution_count": 18,
   "id": "8ffefe00",
   "metadata": {
    "execution": {
     "iopub.execute_input": "2024-09-20T18:31:48.982257Z",
     "iopub.status.busy": "2024-09-20T18:31:48.981818Z",
     "iopub.status.idle": "2024-09-20T18:31:48.987941Z",
     "shell.execute_reply": "2024-09-20T18:31:48.986644Z"
    },
    "papermill": {
     "duration": 0.024198,
     "end_time": "2024-09-20T18:31:48.990373",
     "exception": false,
     "start_time": "2024-09-20T18:31:48.966175",
     "status": "completed"
    },
    "tags": []
   },
   "outputs": [],
   "source": [
    "# classifier\n",
    "clf = Pipeline([\n",
    "    ('vectorizer_tri_grams', TfidfVectorizer()),\n",
    "    ('naive_bayes', (MultinomialNB()))         \n",
    "])"
   ]
  },
  {
   "cell_type": "code",
   "execution_count": 19,
   "id": "faf11b36",
   "metadata": {
    "execution": {
     "iopub.execute_input": "2024-09-20T18:31:49.021798Z",
     "iopub.status.busy": "2024-09-20T18:31:49.021349Z",
     "iopub.status.idle": "2024-09-20T18:31:50.272947Z",
     "shell.execute_reply": "2024-09-20T18:31:50.271857Z"
    },
    "papermill": {
     "duration": 1.269937,
     "end_time": "2024-09-20T18:31:50.275203",
     "exception": false,
     "start_time": "2024-09-20T18:31:49.005266",
     "status": "completed"
    },
    "tags": []
   },
   "outputs": [
    {
     "data": {
      "text/html": [
       "<style>#sk-container-id-1 {color: black;background-color: white;}#sk-container-id-1 pre{padding: 0;}#sk-container-id-1 div.sk-toggleable {background-color: white;}#sk-container-id-1 label.sk-toggleable__label {cursor: pointer;display: block;width: 100%;margin-bottom: 0;padding: 0.3em;box-sizing: border-box;text-align: center;}#sk-container-id-1 label.sk-toggleable__label-arrow:before {content: \"▸\";float: left;margin-right: 0.25em;color: #696969;}#sk-container-id-1 label.sk-toggleable__label-arrow:hover:before {color: black;}#sk-container-id-1 div.sk-estimator:hover label.sk-toggleable__label-arrow:before {color: black;}#sk-container-id-1 div.sk-toggleable__content {max-height: 0;max-width: 0;overflow: hidden;text-align: left;background-color: #f0f8ff;}#sk-container-id-1 div.sk-toggleable__content pre {margin: 0.2em;color: black;border-radius: 0.25em;background-color: #f0f8ff;}#sk-container-id-1 input.sk-toggleable__control:checked~div.sk-toggleable__content {max-height: 200px;max-width: 100%;overflow: auto;}#sk-container-id-1 input.sk-toggleable__control:checked~label.sk-toggleable__label-arrow:before {content: \"▾\";}#sk-container-id-1 div.sk-estimator input.sk-toggleable__control:checked~label.sk-toggleable__label {background-color: #d4ebff;}#sk-container-id-1 div.sk-label input.sk-toggleable__control:checked~label.sk-toggleable__label {background-color: #d4ebff;}#sk-container-id-1 input.sk-hidden--visually {border: 0;clip: rect(1px 1px 1px 1px);clip: rect(1px, 1px, 1px, 1px);height: 1px;margin: -1px;overflow: hidden;padding: 0;position: absolute;width: 1px;}#sk-container-id-1 div.sk-estimator {font-family: monospace;background-color: #f0f8ff;border: 1px dotted black;border-radius: 0.25em;box-sizing: border-box;margin-bottom: 0.5em;}#sk-container-id-1 div.sk-estimator:hover {background-color: #d4ebff;}#sk-container-id-1 div.sk-parallel-item::after {content: \"\";width: 100%;border-bottom: 1px solid gray;flex-grow: 1;}#sk-container-id-1 div.sk-label:hover label.sk-toggleable__label {background-color: #d4ebff;}#sk-container-id-1 div.sk-serial::before {content: \"\";position: absolute;border-left: 1px solid gray;box-sizing: border-box;top: 0;bottom: 0;left: 50%;z-index: 0;}#sk-container-id-1 div.sk-serial {display: flex;flex-direction: column;align-items: center;background-color: white;padding-right: 0.2em;padding-left: 0.2em;position: relative;}#sk-container-id-1 div.sk-item {position: relative;z-index: 1;}#sk-container-id-1 div.sk-parallel {display: flex;align-items: stretch;justify-content: center;background-color: white;position: relative;}#sk-container-id-1 div.sk-item::before, #sk-container-id-1 div.sk-parallel-item::before {content: \"\";position: absolute;border-left: 1px solid gray;box-sizing: border-box;top: 0;bottom: 0;left: 50%;z-index: -1;}#sk-container-id-1 div.sk-parallel-item {display: flex;flex-direction: column;z-index: 1;position: relative;background-color: white;}#sk-container-id-1 div.sk-parallel-item:first-child::after {align-self: flex-end;width: 50%;}#sk-container-id-1 div.sk-parallel-item:last-child::after {align-self: flex-start;width: 50%;}#sk-container-id-1 div.sk-parallel-item:only-child::after {width: 0;}#sk-container-id-1 div.sk-dashed-wrapped {border: 1px dashed gray;margin: 0 0.4em 0.5em 0.4em;box-sizing: border-box;padding-bottom: 0.4em;background-color: white;}#sk-container-id-1 div.sk-label label {font-family: monospace;font-weight: bold;display: inline-block;line-height: 1.2em;}#sk-container-id-1 div.sk-label-container {text-align: center;}#sk-container-id-1 div.sk-container {/* jupyter's `normalize.less` sets `[hidden] { display: none; }` but bootstrap.min.css set `[hidden] { display: none !important; }` so we also need the `!important` here to be able to override the default hidden behavior on the sphinx rendered scikit-learn.org. See: https://github.com/scikit-learn/scikit-learn/issues/21755 */display: inline-block !important;position: relative;}#sk-container-id-1 div.sk-text-repr-fallback {display: none;}</style><div id=\"sk-container-id-1\" class=\"sk-top-container\"><div class=\"sk-text-repr-fallback\"><pre>Pipeline(steps=[(&#x27;vectorizer_tri_grams&#x27;, TfidfVectorizer()),\n",
       "                (&#x27;naive_bayes&#x27;, MultinomialNB())])</pre><b>In a Jupyter environment, please rerun this cell to show the HTML representation or trust the notebook. <br />On GitHub, the HTML representation is unable to render, please try loading this page with nbviewer.org.</b></div><div class=\"sk-container\" hidden><div class=\"sk-item sk-dashed-wrapped\"><div class=\"sk-label-container\"><div class=\"sk-label sk-toggleable\"><input class=\"sk-toggleable__control sk-hidden--visually\" id=\"sk-estimator-id-1\" type=\"checkbox\" ><label for=\"sk-estimator-id-1\" class=\"sk-toggleable__label sk-toggleable__label-arrow\">Pipeline</label><div class=\"sk-toggleable__content\"><pre>Pipeline(steps=[(&#x27;vectorizer_tri_grams&#x27;, TfidfVectorizer()),\n",
       "                (&#x27;naive_bayes&#x27;, MultinomialNB())])</pre></div></div></div><div class=\"sk-serial\"><div class=\"sk-item\"><div class=\"sk-estimator sk-toggleable\"><input class=\"sk-toggleable__control sk-hidden--visually\" id=\"sk-estimator-id-2\" type=\"checkbox\" ><label for=\"sk-estimator-id-2\" class=\"sk-toggleable__label sk-toggleable__label-arrow\">TfidfVectorizer</label><div class=\"sk-toggleable__content\"><pre>TfidfVectorizer()</pre></div></div></div><div class=\"sk-item\"><div class=\"sk-estimator sk-toggleable\"><input class=\"sk-toggleable__control sk-hidden--visually\" id=\"sk-estimator-id-3\" type=\"checkbox\" ><label for=\"sk-estimator-id-3\" class=\"sk-toggleable__label sk-toggleable__label-arrow\">MultinomialNB</label><div class=\"sk-toggleable__content\"><pre>MultinomialNB()</pre></div></div></div></div></div></div></div>"
      ],
      "text/plain": [
       "Pipeline(steps=[('vectorizer_tri_grams', TfidfVectorizer()),\n",
       "                ('naive_bayes', MultinomialNB())])"
      ]
     },
     "execution_count": 19,
     "metadata": {},
     "output_type": "execute_result"
    }
   ],
   "source": [
    "clf.fit(x_train, y_train)"
   ]
  },
  {
   "cell_type": "code",
   "execution_count": 20,
   "id": "de8fa661",
   "metadata": {
    "execution": {
     "iopub.execute_input": "2024-09-20T18:31:50.306665Z",
     "iopub.status.busy": "2024-09-20T18:31:50.305633Z",
     "iopub.status.idle": "2024-09-20T18:31:50.594344Z",
     "shell.execute_reply": "2024-09-20T18:31:50.593214Z"
    },
    "papermill": {
     "duration": 0.307384,
     "end_time": "2024-09-20T18:31:50.597173",
     "exception": false,
     "start_time": "2024-09-20T18:31:50.289789",
     "status": "completed"
    },
    "tags": []
   },
   "outputs": [],
   "source": [
    "y_pred = clf.predict(x_test)"
   ]
  },
  {
   "cell_type": "code",
   "execution_count": 21,
   "id": "c2787336",
   "metadata": {
    "execution": {
     "iopub.execute_input": "2024-09-20T18:31:50.629400Z",
     "iopub.status.busy": "2024-09-20T18:31:50.628196Z",
     "iopub.status.idle": "2024-09-20T18:31:50.637109Z",
     "shell.execute_reply": "2024-09-20T18:31:50.635893Z"
    },
    "papermill": {
     "duration": 0.027392,
     "end_time": "2024-09-20T18:31:50.639526",
     "exception": false,
     "start_time": "2024-09-20T18:31:50.612134",
     "status": "completed"
    },
    "tags": []
   },
   "outputs": [
    {
     "name": "stdout",
     "output_type": "stream",
     "text": [
      "0.7312837837837838\n"
     ]
    }
   ],
   "source": [
    "print(accuracy_score(y_test, y_pred))"
   ]
  },
  {
   "cell_type": "code",
   "execution_count": 22,
   "id": "da906ef4",
   "metadata": {
    "execution": {
     "iopub.execute_input": "2024-09-20T18:31:50.671117Z",
     "iopub.status.busy": "2024-09-20T18:31:50.670660Z",
     "iopub.status.idle": "2024-09-20T18:31:50.711541Z",
     "shell.execute_reply": "2024-09-20T18:31:50.709978Z"
    },
    "papermill": {
     "duration": 0.059825,
     "end_time": "2024-09-20T18:31:50.714165",
     "exception": false,
     "start_time": "2024-09-20T18:31:50.654340",
     "status": "completed"
    },
    "tags": []
   },
   "outputs": [
    {
     "name": "stdout",
     "output_type": "stream",
     "text": [
      "              precision    recall  f1-score   support\n",
      "\n",
      "           0       0.95      0.46      0.62      2575\n",
      "           1       0.65      0.90      0.76      4472\n",
      "           2       0.84      0.63      0.72      3622\n",
      "           3       0.71      0.81      0.76      4131\n",
      "\n",
      "    accuracy                           0.73     14800\n",
      "   macro avg       0.79      0.70      0.71     14800\n",
      "weighted avg       0.77      0.73      0.72     14800\n",
      "\n"
     ]
    }
   ],
   "source": [
    "print(classification_report(y_test, y_pred))"
   ]
  },
  {
   "cell_type": "markdown",
   "id": "59ac8e8a",
   "metadata": {
    "papermill": {
     "duration": 0.014551,
     "end_time": "2024-09-20T18:31:50.743679",
     "exception": false,
     "start_time": "2024-09-20T18:31:50.729128",
     "status": "completed"
    },
    "tags": []
   },
   "source": [
    "#### Random Forest"
   ]
  },
  {
   "cell_type": "code",
   "execution_count": 23,
   "id": "678b818e",
   "metadata": {
    "execution": {
     "iopub.execute_input": "2024-09-20T18:31:50.775552Z",
     "iopub.status.busy": "2024-09-20T18:31:50.775033Z",
     "iopub.status.idle": "2024-09-20T18:31:50.781040Z",
     "shell.execute_reply": "2024-09-20T18:31:50.779903Z"
    },
    "papermill": {
     "duration": 0.024709,
     "end_time": "2024-09-20T18:31:50.783337",
     "exception": false,
     "start_time": "2024-09-20T18:31:50.758628",
     "status": "completed"
    },
    "tags": []
   },
   "outputs": [],
   "source": [
    "clf = Pipeline([\n",
    "    ('vectorizer_tri_grams', TfidfVectorizer()),\n",
    "    ('naive_bayes', (RandomForestClassifier()))         \n",
    "])"
   ]
  },
  {
   "cell_type": "code",
   "execution_count": 24,
   "id": "a97797b3",
   "metadata": {
    "execution": {
     "iopub.execute_input": "2024-09-20T18:31:50.814765Z",
     "iopub.status.busy": "2024-09-20T18:31:50.814297Z",
     "iopub.status.idle": "2024-09-20T18:35:50.371355Z",
     "shell.execute_reply": "2024-09-20T18:35:50.370034Z"
    },
    "papermill": {
     "duration": 239.590039,
     "end_time": "2024-09-20T18:35:50.388293",
     "exception": false,
     "start_time": "2024-09-20T18:31:50.798254",
     "status": "completed"
    },
    "tags": []
   },
   "outputs": [
    {
     "data": {
      "text/html": [
       "<style>#sk-container-id-2 {color: black;background-color: white;}#sk-container-id-2 pre{padding: 0;}#sk-container-id-2 div.sk-toggleable {background-color: white;}#sk-container-id-2 label.sk-toggleable__label {cursor: pointer;display: block;width: 100%;margin-bottom: 0;padding: 0.3em;box-sizing: border-box;text-align: center;}#sk-container-id-2 label.sk-toggleable__label-arrow:before {content: \"▸\";float: left;margin-right: 0.25em;color: #696969;}#sk-container-id-2 label.sk-toggleable__label-arrow:hover:before {color: black;}#sk-container-id-2 div.sk-estimator:hover label.sk-toggleable__label-arrow:before {color: black;}#sk-container-id-2 div.sk-toggleable__content {max-height: 0;max-width: 0;overflow: hidden;text-align: left;background-color: #f0f8ff;}#sk-container-id-2 div.sk-toggleable__content pre {margin: 0.2em;color: black;border-radius: 0.25em;background-color: #f0f8ff;}#sk-container-id-2 input.sk-toggleable__control:checked~div.sk-toggleable__content {max-height: 200px;max-width: 100%;overflow: auto;}#sk-container-id-2 input.sk-toggleable__control:checked~label.sk-toggleable__label-arrow:before {content: \"▾\";}#sk-container-id-2 div.sk-estimator input.sk-toggleable__control:checked~label.sk-toggleable__label {background-color: #d4ebff;}#sk-container-id-2 div.sk-label input.sk-toggleable__control:checked~label.sk-toggleable__label {background-color: #d4ebff;}#sk-container-id-2 input.sk-hidden--visually {border: 0;clip: rect(1px 1px 1px 1px);clip: rect(1px, 1px, 1px, 1px);height: 1px;margin: -1px;overflow: hidden;padding: 0;position: absolute;width: 1px;}#sk-container-id-2 div.sk-estimator {font-family: monospace;background-color: #f0f8ff;border: 1px dotted black;border-radius: 0.25em;box-sizing: border-box;margin-bottom: 0.5em;}#sk-container-id-2 div.sk-estimator:hover {background-color: #d4ebff;}#sk-container-id-2 div.sk-parallel-item::after {content: \"\";width: 100%;border-bottom: 1px solid gray;flex-grow: 1;}#sk-container-id-2 div.sk-label:hover label.sk-toggleable__label {background-color: #d4ebff;}#sk-container-id-2 div.sk-serial::before {content: \"\";position: absolute;border-left: 1px solid gray;box-sizing: border-box;top: 0;bottom: 0;left: 50%;z-index: 0;}#sk-container-id-2 div.sk-serial {display: flex;flex-direction: column;align-items: center;background-color: white;padding-right: 0.2em;padding-left: 0.2em;position: relative;}#sk-container-id-2 div.sk-item {position: relative;z-index: 1;}#sk-container-id-2 div.sk-parallel {display: flex;align-items: stretch;justify-content: center;background-color: white;position: relative;}#sk-container-id-2 div.sk-item::before, #sk-container-id-2 div.sk-parallel-item::before {content: \"\";position: absolute;border-left: 1px solid gray;box-sizing: border-box;top: 0;bottom: 0;left: 50%;z-index: -1;}#sk-container-id-2 div.sk-parallel-item {display: flex;flex-direction: column;z-index: 1;position: relative;background-color: white;}#sk-container-id-2 div.sk-parallel-item:first-child::after {align-self: flex-end;width: 50%;}#sk-container-id-2 div.sk-parallel-item:last-child::after {align-self: flex-start;width: 50%;}#sk-container-id-2 div.sk-parallel-item:only-child::after {width: 0;}#sk-container-id-2 div.sk-dashed-wrapped {border: 1px dashed gray;margin: 0 0.4em 0.5em 0.4em;box-sizing: border-box;padding-bottom: 0.4em;background-color: white;}#sk-container-id-2 div.sk-label label {font-family: monospace;font-weight: bold;display: inline-block;line-height: 1.2em;}#sk-container-id-2 div.sk-label-container {text-align: center;}#sk-container-id-2 div.sk-container {/* jupyter's `normalize.less` sets `[hidden] { display: none; }` but bootstrap.min.css set `[hidden] { display: none !important; }` so we also need the `!important` here to be able to override the default hidden behavior on the sphinx rendered scikit-learn.org. See: https://github.com/scikit-learn/scikit-learn/issues/21755 */display: inline-block !important;position: relative;}#sk-container-id-2 div.sk-text-repr-fallback {display: none;}</style><div id=\"sk-container-id-2\" class=\"sk-top-container\"><div class=\"sk-text-repr-fallback\"><pre>Pipeline(steps=[(&#x27;vectorizer_tri_grams&#x27;, TfidfVectorizer()),\n",
       "                (&#x27;naive_bayes&#x27;, RandomForestClassifier())])</pre><b>In a Jupyter environment, please rerun this cell to show the HTML representation or trust the notebook. <br />On GitHub, the HTML representation is unable to render, please try loading this page with nbviewer.org.</b></div><div class=\"sk-container\" hidden><div class=\"sk-item sk-dashed-wrapped\"><div class=\"sk-label-container\"><div class=\"sk-label sk-toggleable\"><input class=\"sk-toggleable__control sk-hidden--visually\" id=\"sk-estimator-id-4\" type=\"checkbox\" ><label for=\"sk-estimator-id-4\" class=\"sk-toggleable__label sk-toggleable__label-arrow\">Pipeline</label><div class=\"sk-toggleable__content\"><pre>Pipeline(steps=[(&#x27;vectorizer_tri_grams&#x27;, TfidfVectorizer()),\n",
       "                (&#x27;naive_bayes&#x27;, RandomForestClassifier())])</pre></div></div></div><div class=\"sk-serial\"><div class=\"sk-item\"><div class=\"sk-estimator sk-toggleable\"><input class=\"sk-toggleable__control sk-hidden--visually\" id=\"sk-estimator-id-5\" type=\"checkbox\" ><label for=\"sk-estimator-id-5\" class=\"sk-toggleable__label sk-toggleable__label-arrow\">TfidfVectorizer</label><div class=\"sk-toggleable__content\"><pre>TfidfVectorizer()</pre></div></div></div><div class=\"sk-item\"><div class=\"sk-estimator sk-toggleable\"><input class=\"sk-toggleable__control sk-hidden--visually\" id=\"sk-estimator-id-6\" type=\"checkbox\" ><label for=\"sk-estimator-id-6\" class=\"sk-toggleable__label sk-toggleable__label-arrow\">RandomForestClassifier</label><div class=\"sk-toggleable__content\"><pre>RandomForestClassifier()</pre></div></div></div></div></div></div></div>"
      ],
      "text/plain": [
       "Pipeline(steps=[('vectorizer_tri_grams', TfidfVectorizer()),\n",
       "                ('naive_bayes', RandomForestClassifier())])"
      ]
     },
     "execution_count": 24,
     "metadata": {},
     "output_type": "execute_result"
    }
   ],
   "source": [
    "clf.fit(x_train, y_train)"
   ]
  },
  {
   "cell_type": "code",
   "execution_count": 25,
   "id": "75330f3a",
   "metadata": {
    "execution": {
     "iopub.execute_input": "2024-09-20T18:35:50.421009Z",
     "iopub.status.busy": "2024-09-20T18:35:50.419893Z",
     "iopub.status.idle": "2024-09-20T18:35:52.652341Z",
     "shell.execute_reply": "2024-09-20T18:35:52.651028Z"
    },
    "papermill": {
     "duration": 2.252236,
     "end_time": "2024-09-20T18:35:52.655325",
     "exception": false,
     "start_time": "2024-09-20T18:35:50.403089",
     "status": "completed"
    },
    "tags": []
   },
   "outputs": [],
   "source": [
    "y_pred = clf.predict(x_test)"
   ]
  },
  {
   "cell_type": "code",
   "execution_count": 26,
   "id": "804fdaed",
   "metadata": {
    "execution": {
     "iopub.execute_input": "2024-09-20T18:35:52.687927Z",
     "iopub.status.busy": "2024-09-20T18:35:52.687447Z",
     "iopub.status.idle": "2024-09-20T18:35:52.696056Z",
     "shell.execute_reply": "2024-09-20T18:35:52.694599Z"
    },
    "papermill": {
     "duration": 0.027773,
     "end_time": "2024-09-20T18:35:52.698557",
     "exception": false,
     "start_time": "2024-09-20T18:35:52.670784",
     "status": "completed"
    },
    "tags": []
   },
   "outputs": [
    {
     "name": "stdout",
     "output_type": "stream",
     "text": [
      "0.9117567567567567\n"
     ]
    }
   ],
   "source": [
    "print(accuracy_score(y_test, y_pred))"
   ]
  },
  {
   "cell_type": "code",
   "execution_count": 27,
   "id": "22bfc9dc",
   "metadata": {
    "execution": {
     "iopub.execute_input": "2024-09-20T18:35:52.731034Z",
     "iopub.status.busy": "2024-09-20T18:35:52.730551Z",
     "iopub.status.idle": "2024-09-20T18:35:52.773159Z",
     "shell.execute_reply": "2024-09-20T18:35:52.771758Z"
    },
    "papermill": {
     "duration": 0.062159,
     "end_time": "2024-09-20T18:35:52.775929",
     "exception": false,
     "start_time": "2024-09-20T18:35:52.713770",
     "status": "completed"
    },
    "tags": []
   },
   "outputs": [
    {
     "name": "stdout",
     "output_type": "stream",
     "text": [
      "              precision    recall  f1-score   support\n",
      "\n",
      "           0       0.97      0.86      0.91      2575\n",
      "           1       0.92      0.93      0.93      4472\n",
      "           2       0.93      0.89      0.91      3622\n",
      "           3       0.85      0.94      0.90      4131\n",
      "\n",
      "    accuracy                           0.91     14800\n",
      "   macro avg       0.92      0.91      0.91     14800\n",
      "weighted avg       0.91      0.91      0.91     14800\n",
      "\n"
     ]
    }
   ],
   "source": [
    "print(classification_report(y_test, y_pred))"
   ]
  },
  {
   "cell_type": "markdown",
   "id": "c9b18282",
   "metadata": {
    "papermill": {
     "duration": 0.014964,
     "end_time": "2024-09-20T18:35:52.806167",
     "exception": false,
     "start_time": "2024-09-20T18:35:52.791203",
     "status": "completed"
    },
    "tags": []
   },
   "source": [
    "# Testing"
   ]
  },
  {
   "cell_type": "code",
   "execution_count": 28,
   "id": "3c9d5d12",
   "metadata": {
    "execution": {
     "iopub.execute_input": "2024-09-20T18:35:52.839660Z",
     "iopub.status.busy": "2024-09-20T18:35:52.838679Z",
     "iopub.status.idle": "2024-09-20T18:35:52.870217Z",
     "shell.execute_reply": "2024-09-20T18:35:52.869184Z"
    },
    "papermill": {
     "duration": 0.051003,
     "end_time": "2024-09-20T18:35:52.872915",
     "exception": false,
     "start_time": "2024-09-20T18:35:52.821912",
     "status": "completed"
    },
    "tags": []
   },
   "outputs": [],
   "source": [
    "test_data = pd.read_csv('/kaggle/input/twitter-entity-sentiment-analysis/twitter_validation.csv', names=col)"
   ]
  },
  {
   "cell_type": "code",
   "execution_count": 29,
   "id": "1fd03eca",
   "metadata": {
    "execution": {
     "iopub.execute_input": "2024-09-20T18:35:52.905859Z",
     "iopub.status.busy": "2024-09-20T18:35:52.904928Z",
     "iopub.status.idle": "2024-09-20T18:35:52.919276Z",
     "shell.execute_reply": "2024-09-20T18:35:52.918080Z"
    },
    "papermill": {
     "duration": 0.033596,
     "end_time": "2024-09-20T18:35:52.921735",
     "exception": false,
     "start_time": "2024-09-20T18:35:52.888139",
     "status": "completed"
    },
    "tags": []
   },
   "outputs": [
    {
     "data": {
      "text/html": [
       "<div>\n",
       "<style scoped>\n",
       "    .dataframe tbody tr th:only-of-type {\n",
       "        vertical-align: middle;\n",
       "    }\n",
       "\n",
       "    .dataframe tbody tr th {\n",
       "        vertical-align: top;\n",
       "    }\n",
       "\n",
       "    .dataframe thead th {\n",
       "        text-align: right;\n",
       "    }\n",
       "</style>\n",
       "<table border=\"1\" class=\"dataframe\">\n",
       "  <thead>\n",
       "    <tr style=\"text-align: right;\">\n",
       "      <th></th>\n",
       "      <th>id</th>\n",
       "      <th>country</th>\n",
       "      <th>Label</th>\n",
       "      <th>Text</th>\n",
       "    </tr>\n",
       "  </thead>\n",
       "  <tbody>\n",
       "    <tr>\n",
       "      <th>0</th>\n",
       "      <td>3364</td>\n",
       "      <td>Facebook</td>\n",
       "      <td>Irrelevant</td>\n",
       "      <td>I mentioned on Facebook that I was struggling ...</td>\n",
       "    </tr>\n",
       "    <tr>\n",
       "      <th>1</th>\n",
       "      <td>352</td>\n",
       "      <td>Amazon</td>\n",
       "      <td>Neutral</td>\n",
       "      <td>BBC News - Amazon boss Jeff Bezos rejects clai...</td>\n",
       "    </tr>\n",
       "    <tr>\n",
       "      <th>2</th>\n",
       "      <td>8312</td>\n",
       "      <td>Microsoft</td>\n",
       "      <td>Negative</td>\n",
       "      <td>@Microsoft Why do I pay for WORD when it funct...</td>\n",
       "    </tr>\n",
       "    <tr>\n",
       "      <th>3</th>\n",
       "      <td>4371</td>\n",
       "      <td>CS-GO</td>\n",
       "      <td>Negative</td>\n",
       "      <td>CSGO matchmaking is so full of closet hacking,...</td>\n",
       "    </tr>\n",
       "    <tr>\n",
       "      <th>4</th>\n",
       "      <td>4433</td>\n",
       "      <td>Google</td>\n",
       "      <td>Neutral</td>\n",
       "      <td>Now the President is slapping Americans in the...</td>\n",
       "    </tr>\n",
       "  </tbody>\n",
       "</table>\n",
       "</div>"
      ],
      "text/plain": [
       "     id    country       Label  \\\n",
       "0  3364   Facebook  Irrelevant   \n",
       "1   352     Amazon     Neutral   \n",
       "2  8312  Microsoft    Negative   \n",
       "3  4371      CS-GO    Negative   \n",
       "4  4433     Google     Neutral   \n",
       "\n",
       "                                                Text  \n",
       "0  I mentioned on Facebook that I was struggling ...  \n",
       "1  BBC News - Amazon boss Jeff Bezos rejects clai...  \n",
       "2  @Microsoft Why do I pay for WORD when it funct...  \n",
       "3  CSGO matchmaking is so full of closet hacking,...  \n",
       "4  Now the President is slapping Americans in the...  "
      ]
     },
     "execution_count": 29,
     "metadata": {},
     "output_type": "execute_result"
    }
   ],
   "source": [
    "test_data.head()"
   ]
  },
  {
   "cell_type": "code",
   "execution_count": 30,
   "id": "dcd45e39",
   "metadata": {
    "execution": {
     "iopub.execute_input": "2024-09-20T18:35:52.955662Z",
     "iopub.status.busy": "2024-09-20T18:35:52.954729Z",
     "iopub.status.idle": "2024-09-20T18:35:52.961232Z",
     "shell.execute_reply": "2024-09-20T18:35:52.960138Z"
    },
    "papermill": {
     "duration": 0.025947,
     "end_time": "2024-09-20T18:35:52.963702",
     "exception": false,
     "start_time": "2024-09-20T18:35:52.937755",
     "status": "completed"
    },
    "tags": []
   },
   "outputs": [
    {
     "name": "stdout",
     "output_type": "stream",
     "text": [
      "#gtc20 -  nice, motivational, and very accessible Nvidia/AI product fair + related tech talks\n",
      "nvidia.com/en-us/gtc/keyn…\n",
      "interesting interaction/social activities: braindates, dinner with strangers, ...  and free attendance for universities: reg.rainfocus.com/flow/nvidia/gt… ===> Neutral\n"
     ]
    }
   ],
   "source": [
    "test_txt = test_data['Text'][25]\n",
    "print(f\"{test_txt} ===> {test_data['Label'][25]}\")"
   ]
  },
  {
   "cell_type": "code",
   "execution_count": 31,
   "id": "40e81d8a",
   "metadata": {
    "execution": {
     "iopub.execute_input": "2024-09-20T18:35:52.997352Z",
     "iopub.status.busy": "2024-09-20T18:35:52.996910Z",
     "iopub.status.idle": "2024-09-20T18:35:53.023621Z",
     "shell.execute_reply": "2024-09-20T18:35:53.022382Z"
    },
    "papermill": {
     "duration": 0.046566,
     "end_time": "2024-09-20T18:35:53.026304",
     "exception": false,
     "start_time": "2024-09-20T18:35:52.979738",
     "status": "completed"
    },
    "tags": []
   },
   "outputs": [
    {
     "data": {
      "text/plain": [
       "['gtc20   nice motivational accessible Nvidia AI product fair + related tech talk \\n nvidia.com/en-us/gtc/keyn \\n interesting interaction social activity braindate dinner stranger   free attendance university reg.rainfocus.com/flow/nvidia/gt']"
      ]
     },
     "execution_count": 31,
     "metadata": {},
     "output_type": "execute_result"
    }
   ],
   "source": [
    "# Apply preprocess\n",
    "\n",
    "test_txt_processed = [preprocess(test_txt)]\n",
    "test_txt_processed"
   ]
  },
  {
   "cell_type": "code",
   "execution_count": 32,
   "id": "ddb6a601",
   "metadata": {
    "execution": {
     "iopub.execute_input": "2024-09-20T18:35:53.060859Z",
     "iopub.status.busy": "2024-09-20T18:35:53.060356Z",
     "iopub.status.idle": "2024-09-20T18:35:53.076740Z",
     "shell.execute_reply": "2024-09-20T18:35:53.075072Z"
    },
    "papermill": {
     "duration": 0.037261,
     "end_time": "2024-09-20T18:35:53.079765",
     "exception": false,
     "start_time": "2024-09-20T18:35:53.042504",
     "status": "completed"
    },
    "tags": []
   },
   "outputs": [],
   "source": [
    "# Get Prediction\n",
    "\n",
    "test_txt = clf.predict(test_txt_processed)"
   ]
  },
  {
   "cell_type": "code",
   "execution_count": 33,
   "id": "82fe6904",
   "metadata": {
    "execution": {
     "iopub.execute_input": "2024-09-20T18:35:53.116630Z",
     "iopub.status.busy": "2024-09-20T18:35:53.115457Z",
     "iopub.status.idle": "2024-09-20T18:35:53.122485Z",
     "shell.execute_reply": "2024-09-20T18:35:53.121218Z"
    },
    "papermill": {
     "duration": 0.027979,
     "end_time": "2024-09-20T18:35:53.125029",
     "exception": false,
     "start_time": "2024-09-20T18:35:53.097050",
     "status": "completed"
    },
    "tags": []
   },
   "outputs": [
    {
     "name": "stdout",
     "output_type": "stream",
     "text": [
      "True Label: Neutral\n",
      "Predict Label: Negative\n"
     ]
    }
   ],
   "source": [
    "classes = ['Irrelevant', 'Natural', 'Negative', 'Positive']\n",
    "\n",
    "print(f\"True Label: {test_data['Label'][25]}\")\n",
    "print(f'Predict Label: {classes[test_txt[0]]}')"
   ]
  },
  {
   "cell_type": "code",
   "execution_count": null,
   "id": "a22f4b20",
   "metadata": {
    "papermill": {
     "duration": 0.016021,
     "end_time": "2024-09-20T18:35:53.157120",
     "exception": false,
     "start_time": "2024-09-20T18:35:53.141099",
     "status": "completed"
    },
    "tags": []
   },
   "outputs": [],
   "source": []
  }
 ],
 "metadata": {
  "kaggle": {
   "accelerator": "none",
   "dataSources": [
    {
     "datasetId": 1520310,
     "sourceId": 2510329,
     "sourceType": "datasetVersion"
    }
   ],
   "dockerImageVersionId": 30761,
   "isGpuEnabled": false,
   "isInternetEnabled": true,
   "language": "python",
   "sourceType": "notebook"
  },
  "kernelspec": {
   "display_name": "Python 3",
   "language": "python",
   "name": "python3"
  },
  "language_info": {
   "codemirror_mode": {
    "name": "ipython",
    "version": 3
   },
   "file_extension": ".py",
   "mimetype": "text/x-python",
   "name": "python",
   "nbconvert_exporter": "python",
   "pygments_lexer": "ipython3",
   "version": "3.10.14"
  },
  "papermill": {
   "default_parameters": {},
   "duration": 1039.315727,
   "end_time": "2024-09-20T18:35:54.698584",
   "environment_variables": {},
   "exception": null,
   "input_path": "__notebook__.ipynb",
   "output_path": "__notebook__.ipynb",
   "parameters": {},
   "start_time": "2024-09-20T18:18:35.382857",
   "version": "2.6.0"
  }
 },
 "nbformat": 4,
 "nbformat_minor": 5
}
